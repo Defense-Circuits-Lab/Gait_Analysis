{
 "cells": [
  {
   "cell_type": "markdown",
   "id": "ab4289a2-b6d4-4678-ab35-3a49e7c2788b",
   "metadata": {},
   "source": [
    "### Next Steps:\n",
    "## Dimensionenübergreifend:\n",
    "#### - besseres Thresholding für immobility, freezing\n",
    "#### - step detection von elisa, alt.: end_index detection\n",
    "#### - Winkel und Parameter berechnen (hierfür class parameter?)\n",
    "#### - how to add angles/parameters to steps\n",
    "\n",
    "## 2D:\n",
    "#### - Docstrings\n",
    "#### - full gait analysis\n",
    "\n",
    "## 3D:"
   ]
  },
  {
   "cell_type": "code",
   "execution_count": 1,
   "id": "edfa3482-1bdd-40ab-924e-44576efa663d",
   "metadata": {},
   "outputs": [],
   "source": [
    "import matplotlib.pyplot as plt\n",
    "from mpl_toolkits.mplot3d import Axes3D\n",
    "%matplotlib widget"
   ]
  },
  {
   "cell_type": "markdown",
   "id": "cc490b7c-524d-480b-a6b4-35b1860881a1",
   "metadata": {},
   "source": [
    "# Walkthrough 2D"
   ]
  },
  {
   "cell_type": "code",
   "execution_count": 2,
   "id": "2e215176-cf67-4d2f-b104-9c6eaaea9936",
   "metadata": {},
   "outputs": [],
   "source": [
    "from gait3d.gaitanalysis import Recording2D"
   ]
  },
  {
   "cell_type": "code",
   "execution_count": 3,
   "id": "f577fe68-46c5-4818-adae-e53d0bee1fa7",
   "metadata": {},
   "outputs": [
    {
     "data": {
      "text/plain": [
       "{'recording_date': '220826',\n",
       " 'animal': '196_F7-27',\n",
       " 'paradigm': 'OTT',\n",
       " 'cam': 'Bottom'}"
      ]
     },
     "execution_count": 3,
     "metadata": {},
     "output_type": "execute_result"
    }
   ],
   "source": [
    "bot = Recording2D(filepath=\"196_F7-27_220826_OTT_Bottom_synchronizedDLC_resnet152_OT_BottomCam_finalSep20shuffle1_550000filtered.h5\", recorded_framerate=30)\n",
    "bot.metadata"
   ]
  },
  {
   "cell_type": "code",
   "execution_count": 4,
   "id": "004fc546-165f-430c-89bb-70ad4c0a11ac",
   "metadata": {},
   "outputs": [
    {
     "data": {
      "text/html": [
       "<div>\n",
       "<style scoped>\n",
       "    .dataframe tbody tr th:only-of-type {\n",
       "        vertical-align: middle;\n",
       "    }\n",
       "\n",
       "    .dataframe tbody tr th {\n",
       "        vertical-align: top;\n",
       "    }\n",
       "\n",
       "    .dataframe thead th {\n",
       "        text-align: right;\n",
       "    }\n",
       "</style>\n",
       "<table border=\"1\" class=\"dataframe\">\n",
       "  <thead>\n",
       "    <tr style=\"text-align: right;\">\n",
       "      <th></th>\n",
       "      <th>x</th>\n",
       "      <th>y</th>\n",
       "      <th>likelihood</th>\n",
       "      <th>speed_cm_per_s</th>\n",
       "      <th>rolling_speed_cm_per_s</th>\n",
       "      <th>immobility</th>\n",
       "    </tr>\n",
       "  </thead>\n",
       "  <tbody>\n",
       "    <tr>\n",
       "      <th>0</th>\n",
       "      <td>5.771091</td>\n",
       "      <td>-4.078676</td>\n",
       "      <td>0.016219</td>\n",
       "      <td>NaN</td>\n",
       "      <td>NaN</td>\n",
       "      <td>False</td>\n",
       "    </tr>\n",
       "    <tr>\n",
       "      <th>1</th>\n",
       "      <td>5.423512</td>\n",
       "      <td>-1.292100</td>\n",
       "      <td>0.016667</td>\n",
       "      <td>84.245070</td>\n",
       "      <td>28.606562</td>\n",
       "      <td>False</td>\n",
       "    </tr>\n",
       "    <tr>\n",
       "      <th>2</th>\n",
       "      <td>5.397316</td>\n",
       "      <td>-1.290512</td>\n",
       "      <td>0.009618</td>\n",
       "      <td>0.787308</td>\n",
       "      <td>21.526548</td>\n",
       "      <td>False</td>\n",
       "    </tr>\n",
       "    <tr>\n",
       "      <th>3</th>\n",
       "      <td>5.423512</td>\n",
       "      <td>-1.292100</td>\n",
       "      <td>0.010461</td>\n",
       "      <td>0.787308</td>\n",
       "      <td>17.242986</td>\n",
       "      <td>False</td>\n",
       "    </tr>\n",
       "    <tr>\n",
       "      <th>4</th>\n",
       "      <td>5.432986</td>\n",
       "      <td>-1.290902</td>\n",
       "      <td>0.007757</td>\n",
       "      <td>0.286507</td>\n",
       "      <td>0.795317</td>\n",
       "      <td>True</td>\n",
       "    </tr>\n",
       "  </tbody>\n",
       "</table>\n",
       "</div>"
      ],
      "text/plain": [
       "          x         y  likelihood  speed_cm_per_s  rolling_speed_cm_per_s  \\\n",
       "0  5.771091 -4.078676    0.016219             NaN                     NaN   \n",
       "1  5.423512 -1.292100    0.016667       84.245070               28.606562   \n",
       "2  5.397316 -1.290512    0.009618        0.787308               21.526548   \n",
       "3  5.423512 -1.292100    0.010461        0.787308               17.242986   \n",
       "4  5.432986 -1.290902    0.007757        0.286507                0.795317   \n",
       "\n",
       "   immobility  \n",
       "0       False  \n",
       "1       False  \n",
       "2       False  \n",
       "3       False  \n",
       "4        True  "
      ]
     },
     "execution_count": 4,
     "metadata": {},
     "output_type": "execute_result"
    }
   ],
   "source": [
    "bot.run(intrinsic_camera_calibration_filepath=\"/Users/kobel/Downloads/OneDrive_3_30/Bottom_checkerboard_intrinsic_calibration_results.p\", \n",
    "        xy_offset=(136, 452), \n",
    "        video_filepath='/Users/kobel/Downloads/196_F7-27_220826_OTT_Bottom_synchronizedDLC_resnet152_OT_BottomCam_finalSep20shuffle1_550000_filtered_labeled.mp4')\n",
    "bot.bodyparts['Snout'].df.head()"
   ]
  },
  {
   "cell_type": "code",
   "execution_count": 5,
   "id": "3ff73f48-779c-48b4-9314-26c954fdd006",
   "metadata": {},
   "outputs": [
    {
     "data": {
      "text/html": [
       "<div>\n",
       "<style scoped>\n",
       "    .dataframe tbody tr th:only-of-type {\n",
       "        vertical-align: middle;\n",
       "    }\n",
       "\n",
       "    .dataframe tbody tr th {\n",
       "        vertical-align: top;\n",
       "    }\n",
       "\n",
       "    .dataframe thead th {\n",
       "        text-align: right;\n",
       "    }\n",
       "</style>\n",
       "<table border=\"1\" class=\"dataframe\">\n",
       "  <thead>\n",
       "    <tr style=\"text-align: right;\">\n",
       "      <th></th>\n",
       "      <th>facing_towards_open_end</th>\n",
       "      <th>freezing_threshold_reached</th>\n",
       "      <th>x_position</th>\n",
       "    </tr>\n",
       "  </thead>\n",
       "  <tbody>\n",
       "    <tr>\n",
       "      <th>0</th>\n",
       "      <td>False</td>\n",
       "      <td>True</td>\n",
       "      <td>3.237733</td>\n",
       "    </tr>\n",
       "    <tr>\n",
       "      <th>1</th>\n",
       "      <td>False</td>\n",
       "      <td>True</td>\n",
       "      <td>2.938261</td>\n",
       "    </tr>\n",
       "    <tr>\n",
       "      <th>2</th>\n",
       "      <td>False</td>\n",
       "      <td>True</td>\n",
       "      <td>3.233969</td>\n",
       "    </tr>\n",
       "    <tr>\n",
       "      <th>3</th>\n",
       "      <td>False</td>\n",
       "      <td>True</td>\n",
       "      <td>3.304640</td>\n",
       "    </tr>\n",
       "    <tr>\n",
       "      <th>4</th>\n",
       "      <td>False</td>\n",
       "      <td>True</td>\n",
       "      <td>3.422526</td>\n",
       "    </tr>\n",
       "  </tbody>\n",
       "</table>\n",
       "</div>"
      ],
      "text/plain": [
       "   facing_towards_open_end  freezing_threshold_reached  x_position\n",
       "0                    False                        True    3.237733\n",
       "1                    False                        True    2.938261\n",
       "2                    False                        True    3.233969\n",
       "3                    False                        True    3.304640\n",
       "4                    False                        True    3.422526"
      ]
     },
     "execution_count": 5,
     "metadata": {},
     "output_type": "execute_result"
    }
   ],
   "source": [
    "bot.get_freezing_bouts()\n",
    "bot.freezing_bout_df.head()"
   ]
  },
  {
   "cell_type": "code",
   "execution_count": 9,
   "id": "9d5de186-f94f-4c85-96d5-d0cd0f5a24b1",
   "metadata": {
    "tags": []
   },
   "outputs": [
    {
     "data": {
      "application/vnd.jupyter.widget-view+json": {
       "model_id": "d8ba1ff7ba534e79a206324434e61470",
       "version_major": 2,
       "version_minor": 0
      },
      "image/png": "[encoded data removed]",
      "text/html": [
       "\n",
       "            <div style=\"display: inline-block;\">\n",
       "                <div class=\"jupyter-widgets widget-label\" style=\"text-align: center;\">\n",
       "                    Figure\n",
       "                </div>\n",
       "                <img src='data:image/png;base64,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' width=640.0/>\n",
       "            </div>\n",
       "        "
      ],
      "text/plain": [
       "Canvas(toolbar=Toolbar(toolitems=[('Home', 'Reset original view', 'home', 'home'), ('Back', 'Back to previous …"
      ]
     },
     "metadata": {},
     "output_type": "display_data"
    }
   ],
   "source": [
    "bot.run_gait_analysis()\n",
    "plt.close()\n",
    "fig, ax = plt.subplots()\n",
    "ax.set_aspect('equal')\n",
    "plt.plot([0, 50, 50, 0, 0], [5, 5, 0, 0, 5], alpha=0)\n",
    "\n",
    "\n",
    "for event in bot.gait_disruption_bouts:\n",
    "    if event.facing_towards_open_end:\n",
    "        plt.vlines(event.x_position, 0, 5, alpha=0.5)\n",
    "plt.show()"
   ]
  },
  {
   "cell_type": "code",
   "execution_count": 7,
   "id": "0f0bdb92-5889-4173-b438-8700051c1626",
   "metadata": {},
   "outputs": [
    {
     "data": {
      "application/vnd.jupyter.widget-view+json": {
       "model_id": "0e27d379a82b4dd4b3f565bf96b95912",
       "version_major": 2,
       "version_minor": 0
      },
      "image/png": "[encoded data removed]",
      "text/html": [
       "\n",
       "            <div style=\"display: inline-block;\">\n",
       "                <div class=\"jupyter-widgets widget-label\" style=\"text-align: center;\">\n",
       "                    Figure\n",
       "                </div>\n",
       "                <img src='data:image/png;base64,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' width=640.0/>\n",
       "            </div>\n",
       "        "
      ],
      "text/plain": [
       "Canvas(toolbar=Toolbar(toolitems=[('Home', 'Reset original view', 'home', 'home'), ('Back', 'Back to previous …"
      ]
     },
     "metadata": {},
     "output_type": "display_data"
    }
   ],
   "source": [
    "\n",
    "plt.close()\n",
    "fig, ax = plt.subplots()\n",
    "ax.set_aspect('equal')\n",
    "plt.plot([0, 50, 50, 0, 0], [5, 5, 0, 0, 5], alpha=0)\n",
    "for bout in bot.immobility_bouts:\n",
    "    plt.vlines(bout.dict['x_position'], 0, 5, alpha=0.2)\n",
    "plt.show()\n",
    "    "
   ]
  },
  {
   "cell_type": "code",
   "execution_count": 8,
   "id": "0493228f-0931-402c-8339-1a31b9d37aca",
   "metadata": {},
   "outputs": [
    {
     "data": {
      "text/html": [
       "<div>\n",
       "<style scoped>\n",
       "    .dataframe tbody tr th:only-of-type {\n",
       "        vertical-align: middle;\n",
       "    }\n",
       "\n",
       "    .dataframe tbody tr th {\n",
       "        vertical-align: top;\n",
       "    }\n",
       "\n",
       "    .dataframe thead th {\n",
       "        text-align: right;\n",
       "    }\n",
       "</style>\n",
       "<table border=\"1\" class=\"dataframe\">\n",
       "  <thead>\n",
       "    <tr style=\"text-align: right;\">\n",
       "      <th></th>\n",
       "      <th>LED5</th>\n",
       "      <th>TailBase</th>\n",
       "      <th>TailEnd</th>\n",
       "      <th>TaiMiddle</th>\n",
       "      <th>TailQuarterPost</th>\n",
       "      <th>TailQuarterAnt</th>\n",
       "      <th>Snout</th>\n",
       "      <th>EarLeft</th>\n",
       "      <th>EarRight</th>\n",
       "      <th>Genitals</th>\n",
       "      <th>...</th>\n",
       "      <th>ShoulderRight</th>\n",
       "      <th>ElbowLeft</th>\n",
       "      <th>ElbowRight</th>\n",
       "      <th>WristLeft</th>\n",
       "      <th>WristRight</th>\n",
       "      <th>MazeCornerOpenLeft</th>\n",
       "      <th>MazeCornerClosedLeft</th>\n",
       "      <th>MazeCornerOpenRight</th>\n",
       "      <th>MazeCornerClosedRight</th>\n",
       "      <th>centerofgravity</th>\n",
       "    </tr>\n",
       "  </thead>\n",
       "  <tbody>\n",
       "    <tr>\n",
       "      <th>over_total_session</th>\n",
       "      <td>1.0</td>\n",
       "      <td>0.965277</td>\n",
       "      <td>0.953107</td>\n",
       "      <td>0.810082</td>\n",
       "      <td>0.706582</td>\n",
       "      <td>0.922682</td>\n",
       "      <td>0.667672</td>\n",
       "      <td>0.108469</td>\n",
       "      <td>0.012337</td>\n",
       "      <td>0.924915</td>\n",
       "      <td>...</td>\n",
       "      <td>0.003015</td>\n",
       "      <td>0.000335</td>\n",
       "      <td>0.001954</td>\n",
       "      <td>0.092838</td>\n",
       "      <td>0.107799</td>\n",
       "      <td>1.0</td>\n",
       "      <td>1.0</td>\n",
       "      <td>1.0</td>\n",
       "      <td>1.0</td>\n",
       "      <td>0.650477</td>\n",
       "    </tr>\n",
       "    <tr>\n",
       "      <th>over_gait_events</th>\n",
       "      <td>1.0</td>\n",
       "      <td>0.924818</td>\n",
       "      <td>0.946456</td>\n",
       "      <td>0.792348</td>\n",
       "      <td>0.738594</td>\n",
       "      <td>0.898933</td>\n",
       "      <td>0.658087</td>\n",
       "      <td>0.167885</td>\n",
       "      <td>0.023344</td>\n",
       "      <td>0.846427</td>\n",
       "      <td>...</td>\n",
       "      <td>0.003479</td>\n",
       "      <td>0.000488</td>\n",
       "      <td>0.002367</td>\n",
       "      <td>0.113840</td>\n",
       "      <td>0.107075</td>\n",
       "      <td>1.0</td>\n",
       "      <td>1.0</td>\n",
       "      <td>1.0</td>\n",
       "      <td>1.0</td>\n",
       "      <td>0.627005</td>\n",
       "    </tr>\n",
       "  </tbody>\n",
       "</table>\n",
       "<p>2 rows × 33 columns</p>\n",
       "</div>"
      ],
      "text/plain": [
       "                    LED5  TailBase   TailEnd  TaiMiddle  TailQuarterPost  \\\n",
       "over_total_session   1.0  0.965277  0.953107   0.810082         0.706582   \n",
       "over_gait_events     1.0  0.924818  0.946456   0.792348         0.738594   \n",
       "\n",
       "                    TailQuarterAnt     Snout   EarLeft  EarRight  Genitals  \\\n",
       "over_total_session        0.922682  0.667672  0.108469  0.012337  0.924915   \n",
       "over_gait_events          0.898933  0.658087  0.167885  0.023344  0.846427   \n",
       "\n",
       "                    ...  ShoulderRight  ElbowLeft  ElbowRight  WristLeft  \\\n",
       "over_total_session  ...       0.003015   0.000335    0.001954   0.092838   \n",
       "over_gait_events    ...       0.003479   0.000488    0.002367   0.113840   \n",
       "\n",
       "                    WristRight  MazeCornerOpenLeft  MazeCornerClosedLeft  \\\n",
       "over_total_session    0.107799                 1.0                   1.0   \n",
       "over_gait_events      0.107075                 1.0                   1.0   \n",
       "\n",
       "                    MazeCornerOpenRight  MazeCornerClosedRight  \\\n",
       "over_total_session                  1.0                    1.0   \n",
       "over_gait_events                    1.0                    1.0   \n",
       "\n",
       "                    centerofgravity  \n",
       "over_total_session         0.650477  \n",
       "over_gait_events           0.627005  \n",
       "\n",
       "[2 rows x 33 columns]"
      ]
     },
     "execution_count": 8,
     "metadata": {},
     "output_type": "execute_result"
    }
   ],
   "source": [
    "bot.tracking_performance"
   ]
  },
  {
   "cell_type": "markdown",
   "id": "3bdfe485-e1a7-4cab-8dca-a237f4865518",
   "metadata": {},
   "source": [
    "### Walkthrough 3D"
   ]
  },
  {
   "cell_type": "code",
   "execution_count": null,
   "id": "e8030052-ab98-4b39-9bb6-c80d62898e62",
   "metadata": {},
   "outputs": [],
   "source": [
    "from gait3d.gaitanalysis import Recording3D"
   ]
  },
  {
   "cell_type": "code",
   "execution_count": null,
   "id": "ebf0cfbd-9641-4b3c-9c21-1c9690713903",
   "metadata": {},
   "outputs": [],
   "source": [
    "rec = Recording3D(filepath = \"196_F7-27_220826_OTT.csv\", recorded_framerate = 30)\n",
    "rec.metadata"
   ]
  },
  {
   "cell_type": "code",
   "execution_count": null,
   "id": "2026e0d0-c5a1-4b40-a878-2c9d18f9b8d0",
   "metadata": {},
   "outputs": [],
   "source": [
    "rec.run()\n",
    "rec.bodyparts[\"TailBase\"].df.head()"
   ]
  },
  {
   "cell_type": "code",
   "execution_count": null,
   "id": "5311c9a2-918c-43ef-bfa4-d1e976258a2e",
   "metadata": {},
   "outputs": [],
   "source": [
    "rec.get_freezing_bouts()\n",
    "rec.freezing_bouts"
   ]
  },
  {
   "cell_type": "code",
   "execution_count": null,
   "id": "7783ec44-6cd3-4c7f-933e-f8a24c17d73f",
   "metadata": {},
   "outputs": [],
   "source": [
    "rec.run_gait_analysis()\n",
    "plt.close()\n",
    "fig, ax = plt.subplots()\n",
    "ax.set_aspect('equal')\n",
    "plt.plot([0, 50, 50, 0, 0], [5, 5, 0, 0, 5], alpha=0)\n",
    "\n",
    "\n",
    "for event in rec.turns_to_closed_after_gait:\n",
    "    #if event.facing_towards_open_end:\n",
    "    plt.vlines(event.x_position, 0, 5, alpha=0.5)\n",
    "plt.show()"
   ]
  },
  {
   "cell_type": "code",
   "execution_count": null,
   "id": "9577beb4-86d8-48ae-b621-8f0795d6e686",
   "metadata": {},
   "outputs": [],
   "source": [
    "rec.tracking_stability[['IliacCrestRight', 'HipRight', 'HindKneeRight', 'BackAngleRight', 'HindPawRight']]"
   ]
  },
  {
   "cell_type": "code",
   "execution_count": null,
   "id": "1af9cab8-6808-4b2d-bbcc-a61bcd7d396c",
   "metadata": {},
   "outputs": [],
   "source": [
    "rec.tracking_stability[['IliacCrestLeft', 'HipLeft', 'HindKneeLeft', 'BackAnkleLeft', 'HindPawLeft']]"
   ]
  },
  {
   "cell_type": "code",
   "execution_count": null,
   "id": "e48b6da2-373e-40b6-9314-ba3fba00db87",
   "metadata": {},
   "outputs": [],
   "source": [
    "rec.tracking_stability[['ShoulderRight', 'ElbowRight', 'WristRight', 'ForePawRight']]"
   ]
  },
  {
   "cell_type": "code",
   "execution_count": null,
   "id": "a82f1795-453c-45a4-83ef-1065f676b00e",
   "metadata": {},
   "outputs": [],
   "source": [
    "rec.tracking_stability[['ShoulderLeft', 'ElbowLeft', 'WristLeft', 'ForePawLeft']]"
   ]
  },
  {
   "cell_type": "code",
   "execution_count": null,
   "id": "579fab79-16c1-47fd-a95d-e7aff1d41bd8",
   "metadata": {},
   "outputs": [],
   "source": []
  },
  {
   "cell_type": "code",
   "execution_count": null,
   "id": "3a1eea27-a0ac-49bf-b1d6-4e73b3e0dd86",
   "metadata": {},
   "outputs": [],
   "source": []
  },
  {
   "cell_type": "code",
   "execution_count": null,
   "id": "d91dadde-3b6d-4d4e-b381-6d61a3237c00",
   "metadata": {},
   "outputs": [],
   "source": []
  },
  {
   "cell_type": "code",
   "execution_count": null,
   "id": "c025ac77-2b3b-4053-9b42-4060c76c0c6a",
   "metadata": {},
   "outputs": [],
   "source": []
  },
  {
   "cell_type": "markdown",
   "id": "2c0ec291-e5c7-4aa6-8928-4005ae7ebe9b",
   "metadata": {},
   "source": [
    "# To be implemented"
   ]
  },
  {
   "cell_type": "code",
   "execution_count": null,
   "id": "19154cd2-21cc-4dd4-abff-98490120e39a",
   "metadata": {},
   "outputs": [],
   "source": [
    "# plane angles and distances\n",
    "    def _get_coordinates_plane_equation_from_three_points(self, PointA: np.array, PointB: np.array, PointC: np.array) -> np.array:\n",
    "        R1 = self._get_Richtungsvektor_from_two_points(PointA, PointB)\n",
    "        R2 = self._get_Richtungsvektor_from_two_points(PointA, PointC)\n",
    "        #check for linear independency\n",
    "        #np.solve: R2 * x != R1\n",
    "        plane_equation_coordinates = np.asarray([PointA, R1, R2])\n",
    "        return plane_equation_coordinates\n",
    "     \n",
    "        \n",
    "    def _get_vector_product(self, A: np.array, B: np.array) -> np.array:\n",
    "        #Kreuzprodukt\n",
    "        N = np.asarray([A[1]*B[2] - A[2]*B[1], A[2]*B[0]-A[0]*B[2], A[0]*B[1]-A[1]*B[0]])\n",
    "        return N\n",
    "\n",
    "    def _get_Richtungsvektor_from_two_points(self, PointA: np.array, PointB: np.array) -> np.array:\n",
    "        R = np.asarray([PointA[0] - PointB[0], PointA[1] - PointB[1], PointA[2] - PointB[2]])\n",
    "        return R\n",
    "\n",
    "    def _get_vector_length(self, vector: np.array) -> float:\n",
    "        length = math.sqrt(vector[0]**2 + vector[1]**2 + vector[2]**2)\n",
    "        return length\n",
    "\n",
    "    def _get_angle_between_plane_and_line(self, N: np.array, R: np.array) -> float:\n",
    "        cosphi = self._get_vector_length(vector = self._get_vector_product(A = N, B = R)) / (self._get_vector_length(N) * self._get_vector_length(R))\n",
    "        phi = math.degrees(math.acos(cosphi))\n",
    "        angle = 90 - phi\n",
    "        return angle\n",
    "\n",
    "    def _get_angle_between_two_points_and_plane(self, PointA: np.array, PointB: np.array, N: np.array)->float:\n",
    "        R = self._get_Richtungsvektor_from_two_points(PointA, PointB)\n",
    "        return self._get_angle_between_plane_and_line(N = N, R = R)"
   ]
  },
  {
   "cell_type": "code",
   "execution_count": null,
   "id": "18a2742f-af83-4a6f-82d7-08d5f0fe7b16",
   "metadata": {},
   "outputs": [],
   "source": []
  },
  {
   "cell_type": "code",
   "execution_count": null,
   "id": "fb9db844-c5ac-476c-b72b-321dc4b07877",
   "metadata": {},
   "outputs": [],
   "source": [
    "# 3D visualization\n",
    "from mpl_toolkits.mplot3d import Axes3D\n",
    "from matplotlib.patches import Rectangle, Polygon, PathPatch\n",
    "import mpl_toolkits.mplot3d.art3d as art3d\n",
    "import matplotlib.path as mpath\n",
    "import matplotlib.patches as mpatches\n",
    "\n",
    "def plot_frames_3d(index, bodyparts, paradigm=None):\n",
    "    plt.close()\n",
    "    scheme = [[\"TailBase\", \"TailQuarterAnt\", \"TaiMiddle\", \"TailQuarterPost\", \"TailEnd\"]]\n",
    "    fig = plt.figure(figsize=(8, 6))\n",
    "    ax = fig.add_subplot(111, projection='3d')\n",
    "    \n",
    "    for bodypart in bodyparts.values():\n",
    "        if bodypart.id not in set(['LED5', 'MazeCornerOpenRight', 'MazeCornerOpenLeft', 'MazeCornerClosedRight', 'MazeCornerClosedLeft']):\n",
    "            if not math.isnan(bodypart.df.loc[index, 'x']):\n",
    "                ax.text(bodypart.df.loc[index, 'x'], bodypart.df.loc[index, 'y'], bodypart.df.loc[index, 'z'], bodypart.id, size = 7)\n",
    "                ax.scatter(bodypart.df.loc[index, 'x'], bodypart.df.loc[index, 'y'], bodypart.df.loc[index, 'z'], s=100, alpha = 1)\n",
    "    connect_skeleton(scheme)\n",
    "    ax.scatter([-25, -25, 55, 55, -25, -25, 55, 55], [-25, 55, 55, -25, -25, 55, 55, -25], [-25, -25, -25, -25, 55, 55, 55, 55], s=100, c='white', alpha=0)\n",
    "    # the line above fixes axes\n",
    "    \n",
    "    if paradigm == 'OTR':\n",
    "        sideright = Rectangle((0, 0), 35, 30, color='red', alpha=0.4)\n",
    "        sideleft = Rectangle((0, 0), 35, 30, color='red', alpha=0.4)\n",
    "        \n",
    "    if paradigm == 'OTT':\n",
    "        sideright = Polygon(np.array([[0, 0], [0, 30], [30, 0]]), closed=True, color='red', alpha=0.4)\n",
    "        sideleft = Polygon(np.array([[0, 0], [0, 30], [30, 0]]), closed=True, color='red', alpha=0.4)\n",
    "    \n",
    "    if paradigm == 'OTE':\n",
    "        Path = mpath.Path\n",
    "        path_data = [\n",
    "        (Path.MOVETO, (0, 0)),\n",
    "        (Path.LINETO, (0, 30)),\n",
    "        #(Path.CURVE3, (1.3, 27)),\n",
    "        (Path.CURVE4, (13, 11.0)),\n",
    "        (Path.CURVE4, (33.8, 2.1)), \n",
    "        (Path.CURVE4, (35, 1)),\n",
    "        (Path.LINETO, (35, 0)),\n",
    "        (Path.LINETO, (0, 0))]\n",
    "        codes, verts = zip(*path_data)\n",
    "        path = mpath.Path(verts, codes)\n",
    "        sideright = mpatches.PathPatch(path, color='red', fill=True, alpha=0.4)\n",
    "        sideleft = mpatches.PathPatch(path, color='red', fill=True, alpha=0.4)\n",
    "    \n",
    "    if paradigm != None:\n",
    "        ax.add_patch(sideright)\n",
    "        art3d.pathpatch_2d_to_3d(sideright, z=0, zdir='y')\n",
    "        ax.add_patch(sideleft)\n",
    "        art3d.pathpatch_2d_to_3d(sideleft, z=5, zdir='y')\n",
    "        \n",
    "        base = Rectangle((0, 0), 50, 5, color='gray', alpha=0.1)\n",
    "        ax.add_patch(base)\n",
    "        art3d.pathpatch_2d_to_3d(base, z=0, zdir='z')\n",
    "        sideback = Rectangle((0, 0), 5, 30, color='gray', alpha=1)\n",
    "        ax.add_patch(sideback)\n",
    "        art3d.pathpatch_2d_to_3d(sideback, z=0, zdir='x')\n",
    "\n",
    "\n",
    "    #https://stackoverflow.com/questions/35355930/matplotlib-figure-to-image-as-a-numpy-array\n",
    "    ax.axis('off')\n",
    "    fig.tight_layout(pad=0)\n",
    "    ax.margins(0)\n",
    "    fig.canvas.draw()\n",
    "    frame = np.frombuffer(fig.canvas.tostring_rgb(), dtype=np.uint8)\n",
    "    frame = frame.reshape(fig.canvas.get_width_height()[::-1] + (3,))\n",
    "\n",
    "    return frame\n",
    "    \n",
    "    \n",
    "def connect_skeleton(scheme):\n",
    "    pass\n",
    "\n",
    "def maze_shape(paradigm: str):\n",
    "    pass"
   ]
  },
  {
   "cell_type": "code",
   "execution_count": null,
   "id": "aae44206-a1be-4a9f-bc96-a6a474fcd33a",
   "metadata": {},
   "outputs": [],
   "source": [
    "a = plot_frames_3d(1, rec.bodyparts, 'OTT')"
   ]
  },
  {
   "cell_type": "code",
   "execution_count": null,
   "id": "cc1086c5-b886-4609-9555-b1ba5aab64e7",
   "metadata": {},
   "outputs": [],
   "source": [
    "video = iio.get_writer('196_F7-27_220826_OTT.mp4', fps = 30)\n",
    "\n",
    "for i in range(5700, 6700):\n",
    "    frame = plot_frames_3d(i, rec.bodyparts, 'OTT')\n",
    "    video.append_data(frame)\n",
    "video.close()"
   ]
  },
  {
   "cell_type": "markdown",
   "id": "e30bfbe4-8979-486e-8909-6c7e1258b423",
   "metadata": {},
   "source": [
    "## Proof undistort points"
   ]
  },
  {
   "cell_type": "code",
   "execution_count": null,
   "id": "5d1b02ca-5e8c-4ca4-86ff-f514a0219a64",
   "metadata": {},
   "outputs": [],
   "source": [
    "import imageio.v3 as iio\n",
    "import cv2\n",
    "import pickle\n"
   ]
  },
  {
   "cell_type": "code",
   "execution_count": null,
   "id": "0db9e092-ad75-4439-aded-6848d514efd8",
   "metadata": {},
   "outputs": [],
   "source": [
    "df = pd.read_hdf(\"196_F7-27_220826_OTT_Bottom_synchronizedDLC_resnet152_OT_BottomCam_finalSep20shuffle1_550000filtered.h5\")\n",
    "df = df.drop('scorer', axis=1)\n",
    "df.columns = df.iloc[0, :]+ '_' + df.iloc[1, :]\n",
    "df = df.drop([0, 1], axis=0)\n",
    "df = df.reset_index()\n",
    "df = df.drop('index', axis=1)\n",
    "df = df.astype(float)"
   ]
  },
  {
   "cell_type": "code",
   "execution_count": null,
   "id": "47fd2b8e-76b6-428c-afaf-1b99b0194c58",
   "metadata": {},
   "outputs": [],
   "source": [
    "def load_intrinsic_camera_calibration(filepath_intrinsic_calibration: Path, xy_offset: Tuple[int, int]) -> None:\n",
    "    with open(filepath_intrinsic_calibration, 'rb') as io:\n",
    "        intrinsic_calibration = pickle.load(io)\n",
    "    adjusted_intrinsic_calibration = intrinsic_calibration.copy()\n",
    "    intrinsic_calibration_video_size = intrinsic_calibration['size']\n",
    "    x_offset, y_offset = xy_offset[0], xy_offset[1]\n",
    "    adjusted_K = intrinsic_calibration['K'].copy()\n",
    "    adjusted_K[0][2] = adjusted_K[0][2] - x_offset\n",
    "    adjusted_K[1][2] = adjusted_K[1][2] - y_offset\n",
    "    return adjusted_K, intrinsic_calibration['D']"
   ]
  },
  {
   "cell_type": "code",
   "execution_count": null,
   "id": "1c743143-eed9-4688-ac17-22b4591c6185",
   "metadata": {},
   "outputs": [],
   "source": [
    "image=iio.imread('/Users/kobel/Downloads/196_F7-27_220826_OTT_Bottom_synchronizedDLC_resnet152_OT_BottomCam_finalSep20shuffle1_550000_filtered_labeled.mp4', index=5700)"
   ]
  },
  {
   "cell_type": "code",
   "execution_count": null,
   "id": "9b95f4f2-33ee-4d61-8a62-5b67eb43ce5f",
   "metadata": {},
   "outputs": [],
   "source": [
    "size = (image.shape[1], image.shape[0])"
   ]
  },
  {
   "cell_type": "code",
   "execution_count": null,
   "id": "2cbe9a4d-cc39-4071-8caa-e16318458a7e",
   "metadata": {
    "tags": []
   },
   "outputs": [],
   "source": [
    "K, D = load_intrinsic_camera_calibration('/Users/kobel/Downloads/OneDrive_3_30/Bottom_checkerboard_intrinsic_calibration_results.p', xy_offset=(136, 452))"
   ]
  },
  {
   "cell_type": "code",
   "execution_count": null,
   "id": "7c4ace37-0c53-4600-bbe9-af671e1db883",
   "metadata": {},
   "outputs": [],
   "source": [
    "dst_list = []\n",
    "for bp in ['Snout', 'TailBase', 'HindPawLeft', 'HindPawRight', 'ForePawLeft', 'ForePawRight', 'WristLeft', 'WristRight', 'TailQuarterAnt', 'TaiMiddle', 'TailQuarterPost', 'TailEnd']:\n",
    "    pt = df[[bp + '_x', bp + '_y']].copy().values\n",
    "    newcameramtx, _ = cv2.getOptimalNewCameraMatrix(K, D, size, 1, size)\n",
    "    dst = cv2.undistortPoints(pt, K, D, None, newcameramtx)\n",
    "    dst = np.squeeze(dst)\n",
    "    dst_list.append(dst)"
   ]
  },
  {
   "cell_type": "code",
   "execution_count": null,
   "id": "62006c2d-040c-4d82-9624-5de34996212d",
   "metadata": {},
   "outputs": [],
   "source": [
    "plt.close()\n",
    "fig, ax = plt.subplots()\n",
    "ax.set_aspect('equal')\n",
    "#plt.imshow(undistort_fisheye_image_for_inspection(image=image, K=K, D=D, size=size))\n",
    "# issue: image is rectified, points are not -> plotting points over image makes no sense\n",
    "for dst in dst_list:\n",
    "    plt.scatter(dst[5700][0], dst[5700][1])\n",
    "plt.show()"
   ]
  },
  {
   "cell_type": "code",
   "execution_count": null,
   "id": "4e5b2453-8b9a-4bb3-addf-74420c1b7f17",
   "metadata": {},
   "outputs": [],
   "source": []
  }
 ],
 "metadata": {
  "kernelspec": {
   "display_name": "Python 3 (ipykernel)",
   "language": "python",
   "name": "python3"
  },
  "language_info": {
   "codemirror_mode": {
    "name": "ipython",
    "version": 3
   },
   "file_extension": ".py",
   "mimetype": "text/x-python",
   "name": "python",
   "nbconvert_exporter": "python",
   "pygments_lexer": "ipython3",
   "version": "3.9.12"
  }
 },
 "nbformat": 4,
 "nbformat_minor": 5
}
