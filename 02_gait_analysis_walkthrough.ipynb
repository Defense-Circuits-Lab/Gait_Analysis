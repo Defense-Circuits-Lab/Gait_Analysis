{
 "cells": [
  {
   "cell_type": "markdown",
   "id": "ab4289a2-b6d4-4678-ab35-3a49e7c2788b",
   "metadata": {},
   "source": [
    "### Next Steps:\n",
    "## All Dimensions:\n",
    "#### - better thresholding for immobility, freezing\n",
    "#### - step detection von elisa, alt.: end_index detection\n",
    "#### - additional parameter (create class parameter?)\n",
    "#### - how to add angles/parameters to steps\n",
    "#### - export single bodyparts as one dataframe for neurokin\n",
    "\n",
    "## 2D:\n",
    "#### - \n",
    "\n",
    "## 3D:\n",
    "#### -"
   ]
  },
  {
   "cell_type": "code",
   "execution_count": null,
   "id": "edfa3482-1bdd-40ab-924e-44576efa663d",
   "metadata": {},
   "outputs": [],
   "source": [
    "import matplotlib.pyplot as plt\n",
    "from mpl_toolkits.mplot3d import Axes3D\n",
    "%matplotlib widget"
   ]
  },
  {
   "cell_type": "markdown",
   "id": "cc490b7c-524d-480b-a6b4-35b1860881a1",
   "metadata": {},
   "source": [
    "# Walkthrough 2D"
   ]
  },
  {
   "cell_type": "code",
   "execution_count": null,
   "id": "2e215176-cf67-4d2f-b104-9c6eaaea9936",
   "metadata": {},
   "outputs": [],
   "source": [
    "from gait3d.gaitanalysis import Recording2D"
   ]
  },
  {
   "cell_type": "code",
   "execution_count": null,
   "id": "f577fe68-46c5-4818-adae-e53d0bee1fa7",
   "metadata": {},
   "outputs": [],
   "source": [
    "bot = Recording2D(filepath=\"196_F7-27_220826_OTT_Bottom_synchronizedDLC_resnet152_OT_BottomCam_finalSep20shuffle1_550000filtered.h5\", recorded_framerate=30)\n",
    "bot.metadata"
   ]
  },
  {
   "cell_type": "code",
   "execution_count": null,
   "id": "004fc546-165f-430c-89bb-70ad4c0a11ac",
   "metadata": {},
   "outputs": [],
   "source": [
    "bot.run(intrinsic_camera_calibration_filepath=\"/Users/kobel/Downloads/Intrinsic Calibrations/Bottom_checkerboard_intrinsic_calibration_results.p\", \n",
    "        xy_offset=(136, 452), \n",
    "        video_filepath='/Users/kobel/Downloads/220826 Recording/196_F7-27_220826_OTT_Bottom_synchronizedDLC_resnet152_OT_BottomCam_finalSep20shuffle1_550000_filtered_labeled.mp4')\n",
    "bot.bodyparts['Snout'].df.head()"
   ]
  },
  {
   "cell_type": "code",
   "execution_count": null,
   "id": "3ff73f48-779c-48b4-9314-26c954fdd006",
   "metadata": {},
   "outputs": [],
   "source": [
    "bot.get_freezing_bouts()\n",
    "bot.freezing_bout_df.head()"
   ]
  },
  {
   "cell_type": "code",
   "execution_count": null,
   "id": "9d5de186-f94f-4c85-96d5-d0cd0f5a24b1",
   "metadata": {
    "tags": []
   },
   "outputs": [],
   "source": [
    "bot.run_gait_analysis()\n",
    "\n",
    "plt.close()\n",
    "fig, ax = plt.subplots()\n",
    "ax.set_aspect('equal')\n",
    "plt.plot([0, 50, 50, 0, 0], [5, 5, 0, 0, 5], alpha=0)\n",
    "\n",
    "\n",
    "for event in bot.gait_disruption_bouts:\n",
    "    if event.facing_towards_open_end:\n",
    "        plt.vlines(event.x_position, 0, 5, alpha=0.5)\n",
    "plt.show()"
   ]
  },
  {
   "cell_type": "code",
   "execution_count": null,
   "id": "0f0bdb92-5889-4173-b438-8700051c1626",
   "metadata": {},
   "outputs": [],
   "source": [
    "\n",
    "plt.close()\n",
    "fig, ax = plt.subplots()\n",
    "ax.set_aspect('equal')\n",
    "plt.plot([0, 50, 50, 0, 0], [5, 5, 0, 0, 5], alpha=0)\n",
    "for bout in bot.immobility_bouts:\n",
    "    plt.vlines(bout.dict['x_position'], 0, 5, alpha=0.2)\n",
    "plt.show()\n",
    "    "
   ]
  },
  {
   "cell_type": "code",
   "execution_count": null,
   "id": "0493228f-0931-402c-8339-1a31b9d37aca",
   "metadata": {},
   "outputs": [],
   "source": []
  },
  {
   "cell_type": "markdown",
   "id": "3bdfe485-e1a7-4cab-8dca-a237f4865518",
   "metadata": {},
   "source": [
    "### Walkthrough 3D"
   ]
  },
  {
   "cell_type": "code",
   "execution_count": null,
   "id": "e8030052-ab98-4b39-9bb6-c80d62898e62",
   "metadata": {},
   "outputs": [],
   "source": [
    "from gait3d.gaitanalysis import Recording3D"
   ]
  },
  {
   "cell_type": "code",
   "execution_count": null,
   "id": "ebf0cfbd-9641-4b3c-9c21-1c9690713903",
   "metadata": {},
   "outputs": [],
   "source": [
    "rec = Recording3D(filepath = \"196_F7-27_220826_OTT.csv\", recorded_framerate = 30)\n",
    "rec.metadata"
   ]
  },
  {
   "cell_type": "code",
   "execution_count": null,
   "id": "2026e0d0-c5a1-4b40-a878-2c9d18f9b8d0",
   "metadata": {},
   "outputs": [],
   "source": [
    "rec.run()\n",
    "rec.bodyparts[\"TailBase\"].df.head()"
   ]
  },
  {
   "cell_type": "code",
   "execution_count": null,
   "id": "5311c9a2-918c-43ef-bfa4-d1e976258a2e",
   "metadata": {},
   "outputs": [],
   "source": [
    "rec.get_freezing_bouts()\n",
    "rec.freezing_bouts"
   ]
  },
  {
   "cell_type": "code",
   "execution_count": null,
   "id": "7783ec44-6cd3-4c7f-933e-f8a24c17d73f",
   "metadata": {},
   "outputs": [],
   "source": [
    "rec.run_gait_analysis()"
   ]
  },
  {
   "cell_type": "code",
   "execution_count": null,
   "id": "04e9aded-49ea-4865-95fa-6706f2ee770f",
   "metadata": {},
   "outputs": [],
   "source": [
    "plt.close()\n",
    "fig, ax = plt.subplots()\n",
    "ax.set_aspect('equal')\n",
    "plt.plot([0, 50, 50, 0, 0], [5, 5, 0, 0, 5], alpha=0)\n",
    "\n",
    "\n",
    "for event in rec.turns_to_closed_after_gait:\n",
    "    #if event.facing_towards_open_end:\n",
    "    plt.vlines(event.x_position, 0, 5, alpha=0.5)\n",
    "plt.show()"
   ]
  },
  {
   "cell_type": "code",
   "execution_count": null,
   "id": "9577beb4-86d8-48ae-b621-8f0795d6e686",
   "metadata": {},
   "outputs": [],
   "source": [
    "rec.tracking_stability[['IliacCrestRight', 'HipRight', 'HindKneeRight', 'BackAngleRight', 'HindPawRight']]"
   ]
  },
  {
   "cell_type": "code",
   "execution_count": null,
   "id": "1af9cab8-6808-4b2d-bbcc-a61bcd7d396c",
   "metadata": {},
   "outputs": [],
   "source": [
    "rec.tracking_stability[['IliacCrestLeft', 'HipLeft', 'HindKneeLeft', 'BackAnkleLeft', 'HindPawLeft']]"
   ]
  },
  {
   "cell_type": "code",
   "execution_count": null,
   "id": "e48b6da2-373e-40b6-9314-ba3fba00db87",
   "metadata": {},
   "outputs": [],
   "source": [
    "rec.tracking_stability[['ShoulderRight', 'ElbowRight', 'WristRight', 'ForePawRight']]"
   ]
  },
  {
   "cell_type": "code",
   "execution_count": null,
   "id": "a82f1795-453c-45a4-83ef-1065f676b00e",
   "metadata": {},
   "outputs": [],
   "source": [
    "rec.tracking_stability[['ShoulderLeft', 'ElbowLeft', 'WristLeft', 'ForePawLeft']]"
   ]
  },
  {
   "cell_type": "code",
   "execution_count": null,
   "id": "c025ac77-2b3b-4053-9b42-4060c76c0c6a",
   "metadata": {},
   "outputs": [],
   "source": []
  },
  {
   "cell_type": "markdown",
   "id": "2c0ec291-e5c7-4aa6-8928-4005ae7ebe9b",
   "metadata": {},
   "source": [
    "# To be implemented"
   ]
  },
  {
   "cell_type": "code",
   "execution_count": null,
   "id": "18a2742f-af83-4a6f-82d7-08d5f0fe7b16",
   "metadata": {},
   "outputs": [],
   "source": []
  },
  {
   "cell_type": "code",
   "execution_count": null,
   "id": "fb9db844-c5ac-476c-b72b-321dc4b07877",
   "metadata": {},
   "outputs": [],
   "source": [
    "# 3D visualization\n",
    "from mpl_toolkits.mplot3d import Axes3D\n",
    "from matplotlib.patches import Rectangle, Polygon, PathPatch\n",
    "import mpl_toolkits.mplot3d.art3d as art3d\n",
    "import matplotlib.path as mpath\n",
    "import matplotlib.patches as mpatches\n",
    "\n",
    "def plot_frames_3d(index, bodyparts, paradigm=None):\n",
    "    plt.close()\n",
    "    scheme = [[\"TailBase\", \"TailQuarterAnt\", \"TaiMiddle\", \"TailQuarterPost\", \"TailEnd\"]]\n",
    "    fig = plt.figure(figsize=(8, 6))\n",
    "    ax = fig.add_subplot(111, projection='3d')\n",
    "    \n",
    "    for bodypart in bodyparts.values():\n",
    "        if bodypart.id not in set(['LED5', 'MazeCornerOpenRight', 'MazeCornerOpenLeft', 'MazeCornerClosedRight', 'MazeCornerClosedLeft']):\n",
    "            if not math.isnan(bodypart.df.loc[index, 'x']):\n",
    "                ax.text(bodypart.df.loc[index, 'x'], bodypart.df.loc[index, 'y'], bodypart.df.loc[index, 'z'], bodypart.id, size = 7)\n",
    "                ax.scatter(bodypart.df.loc[index, 'x'], bodypart.df.loc[index, 'y'], bodypart.df.loc[index, 'z'], s=100, alpha = 1)\n",
    "    connect_skeleton(scheme)\n",
    "    ax.scatter([-25, -25, 55, 55, -25, -25, 55, 55], [-25, 55, 55, -25, -25, 55, 55, -25], [-25, -25, -25, -25, 55, 55, 55, 55], s=100, c='white', alpha=0)\n",
    "    # the line above fixes axes\n",
    "    \n",
    "    if paradigm == 'OTR':\n",
    "        sideright = Rectangle((0, 0), 35, 30, color='red', alpha=0.4)\n",
    "        sideleft = Rectangle((0, 0), 35, 30, color='red', alpha=0.4)\n",
    "        \n",
    "    if paradigm == 'OTT':\n",
    "        sideright = Polygon(np.array([[0, 0], [0, 30], [30, 0]]), closed=True, color='red', alpha=0.4)\n",
    "        sideleft = Polygon(np.array([[0, 0], [0, 30], [30, 0]]), closed=True, color='red', alpha=0.4)\n",
    "    \n",
    "    if paradigm == 'OTE':\n",
    "        Path = mpath.Path\n",
    "        path_data = [\n",
    "        (Path.MOVETO, (0, 0)),\n",
    "        (Path.LINETO, (0, 30)),\n",
    "        #(Path.CURVE3, (1.3, 27)),\n",
    "        (Path.CURVE4, (13, 11.0)),\n",
    "        (Path.CURVE4, (33.8, 2.1)), \n",
    "        (Path.CURVE4, (35, 1)),\n",
    "        (Path.LINETO, (35, 0)),\n",
    "        (Path.LINETO, (0, 0))]\n",
    "        codes, verts = zip(*path_data)\n",
    "        path = mpath.Path(verts, codes)\n",
    "        sideright = mpatches.PathPatch(path, color='red', fill=True, alpha=0.4)\n",
    "        sideleft = mpatches.PathPatch(path, color='red', fill=True, alpha=0.4)\n",
    "    \n",
    "    if paradigm != None:\n",
    "        ax.add_patch(sideright)\n",
    "        art3d.pathpatch_2d_to_3d(sideright, z=0, zdir='y')\n",
    "        ax.add_patch(sideleft)\n",
    "        art3d.pathpatch_2d_to_3d(sideleft, z=5, zdir='y')\n",
    "        \n",
    "        base = Rectangle((0, 0), 50, 5, color='gray', alpha=0.1)\n",
    "        ax.add_patch(base)\n",
    "        art3d.pathpatch_2d_to_3d(base, z=0, zdir='z')\n",
    "        sideback = Rectangle((0, 0), 5, 30, color='gray', alpha=1)\n",
    "        ax.add_patch(sideback)\n",
    "        art3d.pathpatch_2d_to_3d(sideback, z=0, zdir='x')\n",
    "\n",
    "\n",
    "    #https://stackoverflow.com/questions/35355930/matplotlib-figure-to-image-as-a-numpy-array\n",
    "    ax.axis('off')\n",
    "    fig.tight_layout(pad=0)\n",
    "    ax.margins(0)\n",
    "    fig.canvas.draw()\n",
    "    frame = np.frombuffer(fig.canvas.tostring_rgb(), dtype=np.uint8)\n",
    "    frame = frame.reshape(fig.canvas.get_width_height()[::-1] + (3,))\n",
    "\n",
    "    return frame\n",
    "    \n",
    "    \n",
    "def connect_skeleton(scheme):\n",
    "    pass\n",
    "\n",
    "def maze_shape(paradigm: str):\n",
    "    pass"
   ]
  },
  {
   "cell_type": "code",
   "execution_count": null,
   "id": "aae44206-a1be-4a9f-bc96-a6a474fcd33a",
   "metadata": {},
   "outputs": [],
   "source": [
    "a = plot_frames_3d(1, rec.bodyparts, 'OTT')"
   ]
  },
  {
   "cell_type": "code",
   "execution_count": null,
   "id": "cc1086c5-b886-4609-9555-b1ba5aab64e7",
   "metadata": {},
   "outputs": [],
   "source": [
    "video = iio.get_writer('196_F7-27_220826_OTT.mp4', fps = 30)\n",
    "\n",
    "for i in range(5700, 6700):\n",
    "    frame = plot_frames_3d(i, rec.bodyparts, 'OTT')\n",
    "    video.append_data(frame)\n",
    "video.close()"
   ]
  },
  {
   "cell_type": "markdown",
   "id": "e30bfbe4-8979-486e-8909-6c7e1258b423",
   "metadata": {},
   "source": [
    "## Proof undistort points"
   ]
  },
  {
   "cell_type": "code",
   "execution_count": null,
   "id": "5d1b02ca-5e8c-4ca4-86ff-f514a0219a64",
   "metadata": {},
   "outputs": [],
   "source": [
    "import imageio.v3 as iio\n",
    "import cv2\n",
    "import pickle\n"
   ]
  },
  {
   "cell_type": "code",
   "execution_count": null,
   "id": "0db9e092-ad75-4439-aded-6848d514efd8",
   "metadata": {},
   "outputs": [],
   "source": [
    "df = pd.read_hdf(\"196_F7-27_220826_OTT_Bottom_synchronizedDLC_resnet152_OT_BottomCam_finalSep20shuffle1_550000filtered.h5\")\n",
    "df = df.drop('scorer', axis=1)\n",
    "df.columns = df.iloc[0, :]+ '_' + df.iloc[1, :]\n",
    "df = df.drop([0, 1], axis=0)\n",
    "df = df.reset_index()\n",
    "df = df.drop('index', axis=1)\n",
    "df = df.astype(float)"
   ]
  },
  {
   "cell_type": "code",
   "execution_count": null,
   "id": "47fd2b8e-76b6-428c-afaf-1b99b0194c58",
   "metadata": {},
   "outputs": [],
   "source": [
    "def load_intrinsic_camera_calibration(filepath_intrinsic_calibration: Path, xy_offset: Tuple[int, int]) -> None:\n",
    "    with open(filepath_intrinsic_calibration, 'rb') as io:\n",
    "        intrinsic_calibration = pickle.load(io)\n",
    "    adjusted_intrinsic_calibration = intrinsic_calibration.copy()\n",
    "    intrinsic_calibration_video_size = intrinsic_calibration['size']\n",
    "    x_offset, y_offset = xy_offset[0], xy_offset[1]\n",
    "    adjusted_K = intrinsic_calibration['K'].copy()\n",
    "    adjusted_K[0][2] = adjusted_K[0][2] - x_offset\n",
    "    adjusted_K[1][2] = adjusted_K[1][2] - y_offset\n",
    "    return adjusted_K, intrinsic_calibration['D']"
   ]
  },
  {
   "cell_type": "code",
   "execution_count": null,
   "id": "1c743143-eed9-4688-ac17-22b4591c6185",
   "metadata": {},
   "outputs": [],
   "source": [
    "image=iio.imread('/Users/kobel/Downloads/196_F7-27_220826_OTT_Bottom_synchronizedDLC_resnet152_OT_BottomCam_finalSep20shuffle1_550000_filtered_labeled.mp4', index=5700)"
   ]
  },
  {
   "cell_type": "code",
   "execution_count": null,
   "id": "9b95f4f2-33ee-4d61-8a62-5b67eb43ce5f",
   "metadata": {},
   "outputs": [],
   "source": [
    "size = (image.shape[1], image.shape[0])"
   ]
  },
  {
   "cell_type": "code",
   "execution_count": null,
   "id": "2cbe9a4d-cc39-4071-8caa-e16318458a7e",
   "metadata": {
    "tags": []
   },
   "outputs": [],
   "source": [
    "K, D = load_intrinsic_camera_calibration('/Users/kobel/Downloads/OneDrive_3_30/Bottom_checkerboard_intrinsic_calibration_results.p', xy_offset=(136, 452))"
   ]
  },
  {
   "cell_type": "code",
   "execution_count": null,
   "id": "7c4ace37-0c53-4600-bbe9-af671e1db883",
   "metadata": {},
   "outputs": [],
   "source": [
    "dst_list = []\n",
    "for bp in ['Snout', 'TailBase', 'HindPawLeft', 'HindPawRight', 'ForePawLeft', 'ForePawRight', 'WristLeft', 'WristRight', 'TailQuarterAnt', 'TaiMiddle', 'TailQuarterPost', 'TailEnd']:\n",
    "    pt = df[[bp + '_x', bp + '_y']].copy().values\n",
    "    newcameramtx, _ = cv2.getOptimalNewCameraMatrix(K, D, size, 1, size)\n",
    "    dst = cv2.undistortPoints(pt, K, D, None, newcameramtx)\n",
    "    dst = np.squeeze(dst)\n",
    "    dst_list.append(dst)"
   ]
  },
  {
   "cell_type": "code",
   "execution_count": null,
   "id": "62006c2d-040c-4d82-9624-5de34996212d",
   "metadata": {},
   "outputs": [],
   "source": [
    "plt.close()\n",
    "fig, ax = plt.subplots()\n",
    "ax.set_aspect('equal')\n",
    "#plt.imshow(undistort_fisheye_image_for_inspection(image=image, K=K, D=D, size=size))\n",
    "# issue: image is rectified, points are not -> plotting points over image makes no sense\n",
    "for dst in dst_list:\n",
    "    plt.scatter(dst[5700][0], dst[5700][1])\n",
    "plt.show()"
   ]
  },
  {
   "cell_type": "code",
   "execution_count": null,
   "id": "4e5b2453-8b9a-4bb3-addf-74420c1b7f17",
   "metadata": {},
   "outputs": [],
   "source": []
  }
 ],
 "metadata": {
  "kernelspec": {
   "display_name": "Python 3 (ipykernel)",
   "language": "python",
   "name": "python3"
  },
  "language_info": {
   "codemirror_mode": {
    "name": "ipython",
    "version": 3
   },
   "file_extension": ".py",
   "mimetype": "text/x-python",
   "name": "python",
   "nbconvert_exporter": "python",
   "pygments_lexer": "ipython3",
   "version": "3.9.12"
  }
 },
 "nbformat": 4,
 "nbformat_minor": 5
}
