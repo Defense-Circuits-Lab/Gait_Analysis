{
 "cells": [
  {
   "cell_type": "code",
   "execution_count": null,
   "id": "f543bb2d-ee48-4181-9bdd-9b6ce29df217",
   "metadata": {},
   "outputs": [],
   "source": [
    "from pathlib import Path\n",
    "from gait_analysis.twoD.utils import process_all_dlc_tracking_h5s_with_default_settings"
   ]
  },
  {
   "cell_type": "code",
   "execution_count": null,
   "id": "df0d8ede-43f2-4c61-bc7c-3b2a830f8e71",
   "metadata": {},
   "outputs": [],
   "source": [
    "week_id = 14"
   ]
  },
  {
   "cell_type": "code",
   "execution_count": null,
   "id": "4fa7ebaa-a7a9-407f-a19e-d4eb54e4c180",
   "metadata": {},
   "outputs": [],
   "source": [
    "input_dir = Path(f'/mnt/c/Users/dsege/Downloads/DLC_data/22_11_14/week_{week_id}/')"
   ]
  },
  {
   "cell_type": "code",
   "execution_count": null,
   "id": "86f8c906-cef8-4022-8e92-35bb17ad93b6",
   "metadata": {},
   "outputs": [],
   "source": [
    "out_dir_path = Path('/mnt/c/Users/dsege/Downloads/DLC_data/22_11_14/test_pacakge/')"
   ]
  },
  {
   "cell_type": "code",
   "execution_count": null,
   "id": "9232cb95-2efc-4136-8f46-47e7ca3a9252",
   "metadata": {},
   "outputs": [],
   "source": [
    "process_all_dlc_tracking_h5s_with_default_settings(in_dir_path = input_dir,\n",
    "                                                   out_dir_path = out_dir_path, \n",
    "                                                   week_id = week_id)"
   ]
  }
 ],
 "metadata": {
  "kernelspec": {
   "display_name": "Python 3 (ipykernel)",
   "language": "python",
   "name": "python3"
  }
 },
 "nbformat": 4,
 "nbformat_minor": 5
}
