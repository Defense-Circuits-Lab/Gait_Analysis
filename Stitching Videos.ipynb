{
 "cells": [
  {
   "cell_type": "code",
   "execution_count": 1,
   "id": "1acba75a",
   "metadata": {},
   "outputs": [],
   "source": [
    "import cv2\n",
    "import numpy as np"
   ]
  },
  {
   "cell_type": "code",
   "execution_count": 12,
   "id": "e9caa65d",
   "metadata": {},
   "outputs": [],
   "source": [
    "#Insert file names\n",
    "PATH = \"C:\\\\Users\\\\kobel\\\\Pictures\\\\Camera Roll\\\\\"\n",
    "input1 = cv2.VideoCapture(PATH + '2.mp4')\n",
    "input2 = cv2.VideoCapture(PATH + '1.mp4')\n",
    "output = PATH + \"Stitched.mp4\""
   ]
  },
  {
   "cell_type": "code",
   "execution_count": 13,
   "id": "e0fba0f3",
   "metadata": {},
   "outputs": [
    {
     "name": "stdout",
     "output_type": "stream",
     "text": [
      "640 640\n"
     ]
    }
   ],
   "source": [
    "width1  = int(input1.get(cv2.CAP_PROP_FRAME_WIDTH))\n",
    "width2 = int(input2.get(cv2.CAP_PROP_FRAME_WIDTH))\n",
    "height1 = int(input1.get(cv2.CAP_PROP_FRAME_HEIGHT))\n",
    "height2 = int(input2.get(cv2.CAP_PROP_FRAME_HEIGHT))\n",
    "fps = input1.get(cv2.CAP_PROP_FPS) \n",
    "print(width1, width2)"
   ]
  },
  {
   "cell_type": "code",
   "execution_count": 14,
   "id": "f36d616f",
   "metadata": {},
   "outputs": [],
   "source": [
    "## Insert cropping variables for the width\n",
    "\n",
    "width1_start = 0 #0 for default\n",
    "width1_end = 330 #width1 for default\n",
    "\n",
    "width2_start = 0 #0 for default\n",
    "width2_end = width2 #width2 for default\n",
    "\n",
    "width = width1_end - width1_start + width2_end - width2_start\n",
    "\n",
    "height_a = 0 #0 for default\n",
    "height_b = 15 #0 for default\n",
    "height = height1 - height_a - height_b\n",
    "\n",
    "size = (width, height)"
   ]
  },
  {
   "cell_type": "code",
   "execution_count": 15,
   "id": "aea736f5",
   "metadata": {},
   "outputs": [],
   "source": [
    "stitched_frame_array = []\n",
    "    \n",
    "while True:\n",
    "    ret1, frame1 = input1.read()\n",
    "    ret2, frame2 = input2.read()    \n",
    "    if ret1 & ret2:\n",
    "        frame1 = frame1[height_a : height1 - height_b, width1_start:width1_end]\n",
    "        frame2 = frame2[height_b : height2 - height_a, width2_start:width2_end]\n",
    "        stitched_frame = np.hstack([frame1, frame2])\n",
    "        stitched_frame_array.append(stitched_frame)\n",
    "    else:\n",
    "        break\n",
    "        \n",
    "output_clip = cv2.VideoWriter(output, cv2.VideoWriter_fourcc(*\"MP4V\") , fps, size)\n",
    "for i in range(len(stitched_frame_array)):\n",
    "    output_clip.write(stitched_frame_array[i])\n",
    "    \n",
    "input1.release()\n",
    "input2.release()\n",
    "output_clip.release()"
   ]
  }
 ],
 "metadata": {
  "kernelspec": {
   "display_name": "Python 3 (ipykernel)",
   "language": "python",
   "name": "python3"
  },
  "language_info": {
   "codemirror_mode": {
    "name": "ipython",
    "version": 3
   },
   "file_extension": ".py",
   "mimetype": "text/x-python",
   "name": "python",
   "nbconvert_exporter": "python",
   "pygments_lexer": "ipython3",
   "version": "3.8.13"
  }
 },
 "nbformat": 4,
 "nbformat_minor": 5
}
