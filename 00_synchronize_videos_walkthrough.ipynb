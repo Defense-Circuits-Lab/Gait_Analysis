{
 "cells": [
  {
   "cell_type": "markdown",
   "id": "57de216d-c798-4751-9a58-fb19a0dc7697",
   "metadata": {},
   "source": [
    "# **Synchronize video files**"
   ]
  },
  {
   "cell_type": "markdown",
   "id": "4c58dc1c-d8d1-4d88-a249-9be654f13255",
   "metadata": {},
   "source": [
    "First we create the motif that we want to use for the synchronization process, in our case, the blink pattern of the LED.\n",
    "The motif is generated as a kind of ground truth with a resolution of 1 ms (could be made adaptable, though). Upon loading\n",
    "the motif template into a single cam data object, it will create all possible timeseries that could be observed, given the\n",
    "framerate of the respective camera & the resolution of the template."
   ]
  },
  {
   "cell_type": "code",
   "execution_count": null,
   "id": "ce50c7cc-ed5e-421e-9cf7-9044b96c2ed6",
   "metadata": {},
   "outputs": [],
   "source": [
    "%matplotlib widget"
   ]
  },
  {
   "cell_type": "code",
   "execution_count": null,
   "id": "35b2fed6-2782-4aee-ba78-d9b47bedc9d1",
   "metadata": {},
   "outputs": [],
   "source": [
    "from gait3d.sync_videos import MotifTemplate, MultiMotifTemplate\n",
    "\n",
    "#no_blinking_template = MotifTemplate(led_on_time_in_ms=0, on_off_period_length_in_ms=100, motif_duration_in_ms=200)\n",
    "regular_blinking_template = MotifTemplate(led_on_time_in_ms=50, on_off_period_length_in_ms=1_000, motif_duration_in_ms=4_000)\n",
    "fast_blinking_template = MotifTemplate(led_on_time_in_ms=50, on_off_period_length_in_ms=100, motif_duration_in_ms=3_000)"
   ]
  },
  {
   "cell_type": "code",
   "execution_count": null,
   "id": "1af91f37-b477-49cc-bbcb-1d50a0016d86",
   "metadata": {},
   "outputs": [],
   "source": [
    "combined_template = MultiMotifTemplate()"
   ]
  },
  {
   "cell_type": "code",
   "execution_count": null,
   "id": "2fd6e6e0-d964-4735-87d7-4176f24dd64a",
   "metadata": {},
   "outputs": [],
   "source": [
    "combined_template.add_motif_template(fast_blinking_template)\n",
    "combined_template.add_motif_template(regular_blinking_template)"
   ]
  },
  {
   "cell_type": "code",
   "execution_count": null,
   "id": "04adf231-3339-429f-846e-872b5a4b7d7b",
   "metadata": {},
   "outputs": [],
   "source": [
    "import matplotlib.pyplot as plt\n",
    "\n",
    "plt.plot(combined_template.multi_motif_template)\n",
    "plt.show()"
   ]
  },
  {
   "cell_type": "markdown",
   "id": "93c4d986-5c2c-4235-aaab-ebdf0e93e4e9",
   "metadata": {},
   "source": [
    "Now that we have our template ready, let´s load the actual video file & construct our single cam data object!\n",
    "Please note, since there is no DLC tracking data of the LED available as of yet, LED positions are hardcoded\n",
    "and can be specified using the \"led_marker_id\" argument. Initializing the `cam_raw_calib_data` object might\n",
    "take quite some time, as the LED pixel intensities have to be extracted from each & every frame of the video!"
   ]
  },
  {
   "cell_type": "code",
   "execution_count": null,
   "id": "0df6c271-a47e-478a-a9d1-1f9a9aa329c4",
   "metadata": {},
   "outputs": [],
   "source": [
    "from gait3d.sync_videos import SingleCamRawCalibrationData\n",
    "from pathlib import Path\n",
    "\n",
    "filepath_video = Path('/mnt/c/Users/dsege/Downloads/220825/220825/220825_Bottom_Charuco.mp4')\n",
    "cam = SingleCamRawCalibrationData(filepath_video = filepath_video, cam_id = 'Bottom')"
   ]
  },
  {
   "cell_type": "markdown",
   "id": "65cfc608-08e9-40e4-ad60-de21f81ff070",
   "metadata": {},
   "source": [
    "### Manual detection of the LED coordinates:\n",
    "\n",
    "Until the DLC networks are trained & validated, the coordinates of the LED have to be determined manually & then passed as a tuple as (row index, column index), like:\n",
    "\n",
    "> `cam.extract_led_pixel_intensities_as_timeseries(led_center_row_col_idxs = (row_idx, column_idx))`\n",
    "\n",
    "As soon as the DLC predictions are available (and the corresponding code has been implemented), these can be used instead in the same method:\n",
    "\n",
    "> `cam.extract_led_pixel_intensities_as_timeseries(filepath_tracking = filepath_dlc_output, led_marker_id = 'LED5')`"
   ]
  },
  {
   "cell_type": "code",
   "execution_count": null,
   "id": "15a6caca-c115-43ea-b759-c469240ba490",
   "metadata": {},
   "outputs": [],
   "source": [
    "from gait3d.utils import plot_single_frame_of_video"
   ]
  },
  {
   "cell_type": "code",
   "execution_count": null,
   "id": "8f4d32fd-4359-47ab-8be0-99a66acb4a42",
   "metadata": {},
   "outputs": [],
   "source": [
    "plt.close()\n",
    "plot_single_frame_of_video(filepath=filepath_video)"
   ]
  },
  {
   "cell_type": "code",
   "execution_count": null,
   "id": "a291b72e-b94e-4046-a028-abcfefe52aab",
   "metadata": {},
   "outputs": [],
   "source": [
    "cam.extract_led_pixel_intensities_as_timeseries(led_center_row_col_idxs=(446, 629))"
   ]
  },
  {
   "cell_type": "code",
   "execution_count": null,
   "id": "8c61af29-9a72-4546-a868-7b7737097635",
   "metadata": {},
   "outputs": [],
   "source": [
    "plt.close()\n",
    "plt.plot(cam.led_timeseries)\n",
    "plt.xlim(0, 400)\n",
    "plt.show()"
   ]
  },
  {
   "cell_type": "markdown",
   "id": "a03b1218-5e94-44b9-94c5-1347ec724182",
   "metadata": {},
   "source": [
    "Another to-be-properly-implemented-step:\n",
    "\n",
    "The fps are saved as 160 in the metadata of the video files. However, frame capturing was deliberately triggered only at 125 fps.\n",
    "This either has to be updated alread in the video files (ideally?), or become an argument of the method / or become hardcoded.\n",
    "For now, we simply do it here:"
   ]
  },
  {
   "cell_type": "code",
   "execution_count": null,
   "id": "05d0e5fa-95ad-4fa7-996d-dbf2151de660",
   "metadata": {},
   "outputs": [],
   "source": [
    "cam.fps"
   ]
  },
  {
   "cell_type": "code",
   "execution_count": null,
   "id": "a3df77ea-6708-463b-9266-848c2b4e5c22",
   "metadata": {},
   "outputs": [],
   "source": [
    "if cam.fps == 160:\n",
    "    cam.fps = 125"
   ]
  },
  {
   "cell_type": "markdown",
   "id": "81cb8c62-2c62-46a3-a785-40e921a6c060",
   "metadata": {},
   "source": [
    "Time to see whether we can find a match of our template! You can use the `start_time` and `end_time` arguments to specify \n",
    "the interval (in ms) in which the alignment should be checked. This might be usefull, as a pattern could occur multiple times\n",
    "in a single session but maybe you want to align to a specific occurance of the motif, rather than to the best match, i.e. \n",
    "for synchronization maybe only in a 20 s window right of the start?\n",
    "\n",
    "In the created plot, blue represents the LED pixel intensity timeseries & orange the fps adjusted template motif with the offset\n",
    "that results in the best alignment score. The top graph shows the raw data values (i.e. pixel intensities or binary 0 / 1, \n",
    "respectively). The lower graph shows the z-score normalized data, which is also used for calculating the alignment score."
   ]
  },
  {
   "cell_type": "code",
   "execution_count": null,
   "id": "cdd13679-238b-4264-a225-9492b9606d54",
   "metadata": {},
   "outputs": [],
   "source": [
    "cam.cam_id"
   ]
  },
  {
   "cell_type": "code",
   "execution_count": null,
   "id": "514521cd-9c32-434f-87ad-64dfbae87838",
   "metadata": {},
   "outputs": [],
   "source": [
    "plt.close()\n",
    "best_match_offset, best_match_start_idx = cam.find_best_match_of_template(template=combined_template, end_time = 20_000)"
   ]
  },
  {
   "cell_type": "markdown",
   "id": "8afef839-6130-468f-a3f1-f9bb87f607f7",
   "metadata": {},
   "source": [
    "If the alignment looks good (crisp & near perfect alignment of vertical lines - amplitude is not relevant), you can proceed and adjust your video to this synchronization. Using `target_fps`, \n",
    "you also have the option to downsample the video accordingly"
   ]
  },
  {
   "cell_type": "code",
   "execution_count": null,
   "id": "f074274a-abc6-4683-99a6-7a3eff9e992f",
   "metadata": {},
   "outputs": [],
   "source": [
    "cam.write_synchronized_and_fps_adjusted_calibration_video(start_frame_idx = best_match_start_idx, offset = best_match_offset, target_fps = 30, max_frame_count = 1_000)"
   ]
  },
  {
   "cell_type": "code",
   "execution_count": null,
   "id": "60c75824-c2e8-4552-8188-777ed9ade9e6",
   "metadata": {},
   "outputs": [],
   "source": []
  }
 ],
 "metadata": {
  "kernelspec": {
   "display_name": "Python 3 (ipykernel)",
   "language": "python",
   "name": "python3"
  },
  "language_info": {
   "codemirror_mode": {
    "name": "ipython",
    "version": 3
   },
   "file_extension": ".py",
   "mimetype": "text/x-python",
   "name": "python",
   "nbconvert_exporter": "python",
   "pygments_lexer": "ipython3",
   "version": "3.7.13"
  }
 },
 "nbformat": 4,
 "nbformat_minor": 5
}
