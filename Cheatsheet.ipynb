{
 "cells": [
  {
   "cell_type": "markdown",
   "id": "05fbc4c0-57a1-4ddb-9958-9f157cebf6a7",
   "metadata": {},
   "source": [
    "# **Cheatsheet for working on the _findmycells_ project**"
   ]
  },
  {
   "cell_type": "markdown",
   "id": "66c13b18-dcbc-4544-b3b5-92f682f3db08",
   "metadata": {},
   "source": [
    "## A - GitHub workflows & terminal commands"
   ]
  },
  {
   "cell_type": "markdown",
   "id": "eedaf3a7-5e6f-4c94-bff6-d329247650ea",
   "metadata": {},
   "source": [
    "### 1) Initial cloning of the repository"
   ]
  },
  {
   "cell_type": "markdown",
   "id": "ce12218d-60e5-4271-b619-19b65b85d6c4",
   "metadata": {},
   "source": [
    "Make sure you can use _git_ from your systems command line. For this, you can for instance open your command line tool (i.e. 'terminal' on MacOS or 'PowerShell' on Windows) and type `git --version` (and confirm by hitting return). If git is installed, this command will return the version of git. If not, please follow [the respective instructions for your system](https://git-scm.com/book/en/v2/Getting-Started-Installing-Git) to install git on your local mashine.\n",
    "\n",
    "Once git is set up, use the command line to navigate to the directory in which the repository should be cloned. You can do this by using the `cd` command. For instance, if you are currently inside the _Desktop_ directory and want to enter the _GitHub_Repos_ folder that is inside the _Desktop_ directory, you enter `cd GitHub_Repos`. The directory you are currently in is indicated at the beginning of each line in your command line tool. If you want to see a list of all files and folders inside your current directory, you can enter `ls`. You can also use the tab key for auto completion when typing in the directory paths. Finally, if you need to navigate backwards or out of a directory, let´s say back out from the _GitHub_Repos_ folder to the _Desktop_, you can do this by entering `cd ..` \n",
    "\n",
    "Once you reached the directory in which the GitHub repository should be cloned, you can clone it from GitHub by copying the repository URL (e.g. https://github.com/DSegebarth/DCLmeetsRETUNE.git for the repository in which the _findmycells_ codebase is currently stored in) and entering the following command to your command line tool:\n",
    "\n",
    "> `git clone https://github.com/DSegebarth/DCLmeetsRETUNE.git`\n",
    "\n",
    "This will now create a new folder inside the directory you previously navigated to, with the name of the repository (_DCLmeetsRetune_ in this case). Now simply navigate into this folder by: \n",
    "\n",
    "> `cd DCLmeetsRetune`\n",
    "\n",
    "and check for the current status of your local git repository to confirm again that everything is working properly:\n",
    "\n",
    "> `git status`\n",
    "\n",
    "The output of this command will indicate the current branch you are working on, as well as changes that are staged or unstaged for commiting, and also potential differences between your local copy of the repository and the remote origin.\n",
    "\n",
    "To conclude this initial setup of your local repository clone, make sure to also create a copy of the _development_ branch on your system. You can do this by typing:\n",
    "\n",
    "> `git checkout -b development origin/development`\n",
    "\n",
    "\n",
    "\n",
    "**Additional git commands:**\n",
    "\n",
    "To see all local branches (an asterisk will indicate the branch you are currently in): `git branch`\n",
    "\n",
    "To see all branches, both local and remote: `git branch --all`\n",
    "\n",
    "To create a new branch (branching from the branch you are currently located in): `git branch <new_branch_name>`, for instance: `git branch feature/add_csv_export_of_results`\n",
    "\n",
    "To swith to a certain branch: `git checkout <branch_name>`, for instance: `git checkout development`\n",
    "\n",
    "To update your local repository from the remote origin (will affect only the branch you are currently in): `git pull`\n",
    "\n",
    "To see the current status of your branch: `git status`\n",
    "\n",
    "To add files with recognized changes to the _staged_ level (_staged_ files will be included when a commit is performed, while _unstaged_ files will be ignored): `git add <filename>`, for instance `git add README.txt` - or `git add -A` to all add files with changes to the _staged_ level\n",
    "\n",
    "To make a commit: `git commit -m '<your short description here'` \n",
    "\n",
    "To push the commit to the remote origin: `git push` - this will ask you for your username & password (where password is actually a GitHube Token you have to create, see [here](https://docs.github.com/en/authentication/keeping-your-account-and-data-secure/creating-a-personal-access-token)"
   ]
  },
  {
   "cell_type": "markdown",
   "id": "76e87957-2cb7-469d-8a66-e73e914fb7d5",
   "metadata": {},
   "source": [
    "### 2) Working on the code"
   ]
  },
  {
   "cell_type": "markdown",
   "id": "54dd3f56-b2cb-4349-96ae-68dbcfa61643",
   "metadata": {},
   "source": [
    "To keep the repository as structured as possible (with the limited knowledge and experience in git we/I have so far), let´s try to stick to certain workflows until we find better alternatives :)\n",
    "\n",
    "The 'main' branch should remain untouched to always have a clean version. From 'main', the 'development' branch was created and serves as the actual test environment in which all lower-level branches converge. The 'development' branch can thus be used to test, whether all changes work fine together or if any errors occur. If not, this version can be merged into the main. In order to make this possible, there should also no changes be made directly on the 'development' branch. Instead, you should always create a branch from the 'development' branch to add a new piece of code (or also to clean up / edit / refactor any existing part). Once these changes are completed (and commited), you can create a pull request from your 'feature' branch back into the 'development' branch. \n",
    "\n",
    "How this could look like:\n",
    "\n",
    "1) Upon starting your coding session, you navigate to the corresponding directory: \n",
    "> `cd GitHub_Repos/DCLmeetsRetune`\n",
    "\n",
    "2) First of all, check in which branch you currently are and what it´s status is:\n",
    "> `git status`\n",
    "\n",
    "3) If you are not already in a feature branch that you created previously, please do so before working on the files. If you are already in your feature branch, you can skip the following to steps 3a) and 3b) <br>\n",
    "    3a) Make sure to branch from the 'development' branch by first entering the 'development' branch: \n",
    "> `git checkout development` <br>\n",
    "\n",
    "    3b) Now create a new branch for the feature you want to work on (ideally, please follow the naming scheme - 'feature/<short_description_of_the_feature_you_work_on'):\n",
    "> `git checkout -b feature/add_new_max_projection_to_preprocessing` <br>\n",
    "\n",
    "    The `-b` flag allows you to create the branch while directly switching to it as usually done with the `checkout` command\n",
    "    \n",
    "4) Now you´re good to go! Have fun coding! :)\n",
    "\n",
    "5) Done with coding? Check which files you changed, which are already staged for commit and which are still unstaged: \n",
    "> `git status`\n",
    "\n",
    "6) Add all files you´d like to stage for commit by specifying them individually (see section A - 1) above) or simply all together: \n",
    "> `git add -A`\n",
    "\n",
    "7) Ready to commit your changes? Great! Please add a short (max 10 words) message to describe the content of your commit:\n",
    "> `git commit -m 'your short description goes here`\n",
    "\n",
    "8) You can now also upload them to GitHub: \n",
    "> ´git push´\n",
    "\n",
    "9) I this is your first time pushing your newly created branch, you might have to run:\n",
    "> 'git push --set-upstream origin feature/*name of your branch*'.\n",
    "\n",
    "**You´re done here now - well done! :-D"
   ]
  },
  {
   "cell_type": "markdown",
   "id": "f30793b0-7fab-49eb-99bc-86150f7c1d13",
   "metadata": {},
   "source": [
    "### 3) Pull requests "
   ]
  },
  {
   "cell_type": "markdown",
   "id": "e0c4cb26-4402-47ce-ab98-6179ee6a76cb",
   "metadata": {},
   "source": [
    "For now, we keep requesting pull requests via the GitHub website. Again, no worries about overwriting anything, there should be automatic rules in place that only allow admin users to accept pull requests into both the 'development' and the 'main' branch :)"
   ]
  },
  {
   "cell_type": "markdown",
   "id": "d38d118e-628b-4d0b-b9c2-13ff8d302273",
   "metadata": {},
   "source": [
    "# B - pandas and pingouin (and seaborn)"
   ]
  },
  {
   "cell_type": "markdown",
   "id": "19ff14f1-984c-44ba-8d7f-6c061af54205",
   "metadata": {},
   "source": [
    "## 1) pandas"
   ]
  },
  {
   "cell_type": "markdown",
   "id": "7bdd415d-9570-4ce6-83d9-33397f16661e",
   "metadata": {},
   "source": [
    "pandas is a very popular python library to work with tabular data sheets, or `DataFrames` and `Series`, as they are called in pandas. Reading, selecting, and processing of data is quite straightforward and comes with a lot of helpful shortcuts. First, let´s create some dummy data:"
   ]
  },
  {
   "cell_type": "code",
   "execution_count": 91,
   "id": "d2aff92c-62cc-4340-b4fa-d689cd542762",
   "metadata": {},
   "outputs": [
    {
     "data": {
      "text/html": [
       "<div>\n",
       "<style scoped>\n",
       "    .dataframe tbody tr th:only-of-type {\n",
       "        vertical-align: middle;\n",
       "    }\n",
       "\n",
       "    .dataframe tbody tr th {\n",
       "        vertical-align: top;\n",
       "    }\n",
       "\n",
       "    .dataframe thead th {\n",
       "        text-align: right;\n",
       "    }\n",
       "</style>\n",
       "<table border=\"1\" class=\"dataframe\">\n",
       "  <thead>\n",
       "    <tr style=\"text-align: right;\">\n",
       "      <th></th>\n",
       "      <th>file_id</th>\n",
       "      <th>group_id</th>\n",
       "      <th>subject_id</th>\n",
       "      <th>hemisphere</th>\n",
       "      <th>counted_cells</th>\n",
       "    </tr>\n",
       "  </thead>\n",
       "  <tbody>\n",
       "    <tr>\n",
       "      <th>0</th>\n",
       "      <td>0000</td>\n",
       "      <td>wt</td>\n",
       "      <td>#1</td>\n",
       "      <td>left</td>\n",
       "      <td>18</td>\n",
       "    </tr>\n",
       "    <tr>\n",
       "      <th>1</th>\n",
       "      <td>0001</td>\n",
       "      <td>wt</td>\n",
       "      <td>#2</td>\n",
       "      <td>left</td>\n",
       "      <td>21</td>\n",
       "    </tr>\n",
       "    <tr>\n",
       "      <th>2</th>\n",
       "      <td>0002</td>\n",
       "      <td>tg</td>\n",
       "      <td>#3</td>\n",
       "      <td>left</td>\n",
       "      <td>10</td>\n",
       "    </tr>\n",
       "    <tr>\n",
       "      <th>3</th>\n",
       "      <td>0003</td>\n",
       "      <td>tg</td>\n",
       "      <td>#4</td>\n",
       "      <td>left</td>\n",
       "      <td>7</td>\n",
       "    </tr>\n",
       "    <tr>\n",
       "      <th>4</th>\n",
       "      <td>0004</td>\n",
       "      <td>wt</td>\n",
       "      <td>#5</td>\n",
       "      <td>right</td>\n",
       "      <td>22</td>\n",
       "    </tr>\n",
       "    <tr>\n",
       "      <th>5</th>\n",
       "      <td>0005</td>\n",
       "      <td>tg</td>\n",
       "      <td>#6</td>\n",
       "      <td>right</td>\n",
       "      <td>9</td>\n",
       "    </tr>\n",
       "    <tr>\n",
       "      <th>6</th>\n",
       "      <td>0006</td>\n",
       "      <td>tg</td>\n",
       "      <td>#7</td>\n",
       "      <td>right</td>\n",
       "      <td>10</td>\n",
       "    </tr>\n",
       "    <tr>\n",
       "      <th>7</th>\n",
       "      <td>0007</td>\n",
       "      <td>wt</td>\n",
       "      <td>#8</td>\n",
       "      <td>left</td>\n",
       "      <td>19</td>\n",
       "    </tr>\n",
       "  </tbody>\n",
       "</table>\n",
       "</div>"
      ],
      "text/plain": [
       "  file_id group_id subject_id hemisphere  counted_cells\n",
       "0    0000       wt         #1       left             18\n",
       "1    0001       wt         #2       left             21\n",
       "2    0002       tg         #3       left             10\n",
       "3    0003       tg         #4       left              7\n",
       "4    0004       wt         #5      right             22\n",
       "5    0005       tg         #6      right              9\n",
       "6    0006       tg         #7      right             10\n",
       "7    0007       wt         #8       left             19"
      ]
     },
     "execution_count": 91,
     "metadata": {},
     "output_type": "execute_result"
    }
   ],
   "source": [
    "import pandas as pd\n",
    "\n",
    "data = {'file_id': ['0000', '0001', '0002', '0003', '0004', '0005', '0006', '0007'],\n",
    "        'group_id': ['wt', 'wt', 'tg', 'tg', 'wt', 'tg', 'tg', 'wt'],\n",
    "        'subject_id': ['#1', '#2', '#3', '#4', '#5', '#6', '#7', '#8'],\n",
    "        'hemisphere': ['left', 'left', 'left', 'left', 'right', 'right', 'right', 'left'],\n",
    "        'counted_cells': [18, 21, 10, 7, 22, 9, 10, 19]}\n",
    "\n",
    "df = pd.DataFrame(data=data)\n",
    "df"
   ]
  },
  {
   "cell_type": "markdown",
   "id": "b9197008-afc2-4636-829b-f68e1d2c5bba",
   "metadata": {},
   "source": [
    "#### Selecting specific junks of the DataFrame:\n",
    "\n",
    "There are multiple options to slice a pandas DataFrame. Let´s have a look at some of them:"
   ]
  },
  {
   "cell_type": "code",
   "execution_count": 92,
   "id": "64b16ead-a01e-4970-96c6-4cc952efed6b",
   "metadata": {},
   "outputs": [
    {
     "data": {
      "text/plain": [
       "0    0000\n",
       "1    0001\n",
       "2    0002\n",
       "3    0003\n",
       "4    0004\n",
       "5    0005\n",
       "6    0006\n",
       "7    0007\n",
       "Name: file_id, dtype: object"
      ]
     },
     "execution_count": 92,
     "metadata": {},
     "output_type": "execute_result"
    }
   ],
   "source": [
    "# We can select entire columns. If only a single column is selected, this will return a pandas Series:\n",
    "df['file_id']"
   ]
  },
  {
   "cell_type": "code",
   "execution_count": 93,
   "id": "892f4186-f171-44d9-ac05-5c83ca8d2861",
   "metadata": {},
   "outputs": [
    {
     "data": {
      "text/html": [
       "<div>\n",
       "<style scoped>\n",
       "    .dataframe tbody tr th:only-of-type {\n",
       "        vertical-align: middle;\n",
       "    }\n",
       "\n",
       "    .dataframe tbody tr th {\n",
       "        vertical-align: top;\n",
       "    }\n",
       "\n",
       "    .dataframe thead th {\n",
       "        text-align: right;\n",
       "    }\n",
       "</style>\n",
       "<table border=\"1\" class=\"dataframe\">\n",
       "  <thead>\n",
       "    <tr style=\"text-align: right;\">\n",
       "      <th></th>\n",
       "      <th>file_id</th>\n",
       "      <th>group_id</th>\n",
       "    </tr>\n",
       "  </thead>\n",
       "  <tbody>\n",
       "    <tr>\n",
       "      <th>0</th>\n",
       "      <td>0000</td>\n",
       "      <td>wt</td>\n",
       "    </tr>\n",
       "    <tr>\n",
       "      <th>1</th>\n",
       "      <td>0001</td>\n",
       "      <td>wt</td>\n",
       "    </tr>\n",
       "    <tr>\n",
       "      <th>2</th>\n",
       "      <td>0002</td>\n",
       "      <td>tg</td>\n",
       "    </tr>\n",
       "    <tr>\n",
       "      <th>3</th>\n",
       "      <td>0003</td>\n",
       "      <td>tg</td>\n",
       "    </tr>\n",
       "    <tr>\n",
       "      <th>4</th>\n",
       "      <td>0004</td>\n",
       "      <td>wt</td>\n",
       "    </tr>\n",
       "    <tr>\n",
       "      <th>5</th>\n",
       "      <td>0005</td>\n",
       "      <td>tg</td>\n",
       "    </tr>\n",
       "    <tr>\n",
       "      <th>6</th>\n",
       "      <td>0006</td>\n",
       "      <td>tg</td>\n",
       "    </tr>\n",
       "    <tr>\n",
       "      <th>7</th>\n",
       "      <td>0007</td>\n",
       "      <td>wt</td>\n",
       "    </tr>\n",
       "  </tbody>\n",
       "</table>\n",
       "</div>"
      ],
      "text/plain": [
       "  file_id group_id\n",
       "0    0000       wt\n",
       "1    0001       wt\n",
       "2    0002       tg\n",
       "3    0003       tg\n",
       "4    0004       wt\n",
       "5    0005       tg\n",
       "6    0006       tg\n",
       "7    0007       wt"
      ]
     },
     "execution_count": 93,
     "metadata": {},
     "output_type": "execute_result"
    }
   ],
   "source": [
    "# Selecting multiple columns (by using a list of columns) returns a DataFrame:\n",
    "df[['file_id', 'group_id']]"
   ]
  },
  {
   "cell_type": "code",
   "execution_count": 94,
   "id": "c673123c-a42a-4874-9697-84a6d053ca77",
   "metadata": {},
   "outputs": [
    {
     "data": {
      "text/html": [
       "<div>\n",
       "<style scoped>\n",
       "    .dataframe tbody tr th:only-of-type {\n",
       "        vertical-align: middle;\n",
       "    }\n",
       "\n",
       "    .dataframe tbody tr th {\n",
       "        vertical-align: top;\n",
       "    }\n",
       "\n",
       "    .dataframe thead th {\n",
       "        text-align: right;\n",
       "    }\n",
       "</style>\n",
       "<table border=\"1\" class=\"dataframe\">\n",
       "  <thead>\n",
       "    <tr style=\"text-align: right;\">\n",
       "      <th></th>\n",
       "      <th>file_id</th>\n",
       "    </tr>\n",
       "  </thead>\n",
       "  <tbody>\n",
       "    <tr>\n",
       "      <th>0</th>\n",
       "      <td>0000</td>\n",
       "    </tr>\n",
       "    <tr>\n",
       "      <th>1</th>\n",
       "      <td>0001</td>\n",
       "    </tr>\n",
       "    <tr>\n",
       "      <th>2</th>\n",
       "      <td>0002</td>\n",
       "    </tr>\n",
       "    <tr>\n",
       "      <th>3</th>\n",
       "      <td>0003</td>\n",
       "    </tr>\n",
       "    <tr>\n",
       "      <th>4</th>\n",
       "      <td>0004</td>\n",
       "    </tr>\n",
       "    <tr>\n",
       "      <th>5</th>\n",
       "      <td>0005</td>\n",
       "    </tr>\n",
       "    <tr>\n",
       "      <th>6</th>\n",
       "      <td>0006</td>\n",
       "    </tr>\n",
       "    <tr>\n",
       "      <th>7</th>\n",
       "      <td>0007</td>\n",
       "    </tr>\n",
       "  </tbody>\n",
       "</table>\n",
       "</div>"
      ],
      "text/plain": [
       "  file_id\n",
       "0    0000\n",
       "1    0001\n",
       "2    0002\n",
       "3    0003\n",
       "4    0004\n",
       "5    0005\n",
       "6    0006\n",
       "7    0007"
      ]
     },
     "execution_count": 94,
     "metadata": {},
     "output_type": "execute_result"
    }
   ],
   "source": [
    "# Of course, this actually works also with a single column:\n",
    "df[['file_id']]"
   ]
  },
  {
   "cell_type": "markdown",
   "id": "455c03c6-976f-4180-a2e5-6fb5949773d2",
   "metadata": {},
   "source": [
    "Much more often, however, we need to select only slices of the DataFrame that fullfill certain criteria.\n",
    "One way to do this is by using .loc on a DataFrame, which is described in great detail [here](https://www.shanelynn.ie/pandas-iloc-loc-select-rows-and-columns-dataframe/). Let´s have a look at some basic examples in which we only filter the data based on the content of a single column and return all columns for the corresponding rows:"
   ]
  },
  {
   "cell_type": "code",
   "execution_count": 95,
   "id": "42d5e438-c716-46f6-bb1b-0f953c8c8cb6",
   "metadata": {},
   "outputs": [
    {
     "data": {
      "text/html": [
       "<div>\n",
       "<style scoped>\n",
       "    .dataframe tbody tr th:only-of-type {\n",
       "        vertical-align: middle;\n",
       "    }\n",
       "\n",
       "    .dataframe tbody tr th {\n",
       "        vertical-align: top;\n",
       "    }\n",
       "\n",
       "    .dataframe thead th {\n",
       "        text-align: right;\n",
       "    }\n",
       "</style>\n",
       "<table border=\"1\" class=\"dataframe\">\n",
       "  <thead>\n",
       "    <tr style=\"text-align: right;\">\n",
       "      <th></th>\n",
       "      <th>file_id</th>\n",
       "      <th>group_id</th>\n",
       "      <th>subject_id</th>\n",
       "      <th>hemisphere</th>\n",
       "      <th>counted_cells</th>\n",
       "    </tr>\n",
       "  </thead>\n",
       "  <tbody>\n",
       "    <tr>\n",
       "      <th>0</th>\n",
       "      <td>0000</td>\n",
       "      <td>wt</td>\n",
       "      <td>#1</td>\n",
       "      <td>left</td>\n",
       "      <td>18</td>\n",
       "    </tr>\n",
       "    <tr>\n",
       "      <th>1</th>\n",
       "      <td>0001</td>\n",
       "      <td>wt</td>\n",
       "      <td>#2</td>\n",
       "      <td>left</td>\n",
       "      <td>21</td>\n",
       "    </tr>\n",
       "    <tr>\n",
       "      <th>4</th>\n",
       "      <td>0004</td>\n",
       "      <td>wt</td>\n",
       "      <td>#5</td>\n",
       "      <td>right</td>\n",
       "      <td>22</td>\n",
       "    </tr>\n",
       "    <tr>\n",
       "      <th>7</th>\n",
       "      <td>0007</td>\n",
       "      <td>wt</td>\n",
       "      <td>#8</td>\n",
       "      <td>left</td>\n",
       "      <td>19</td>\n",
       "    </tr>\n",
       "  </tbody>\n",
       "</table>\n",
       "</div>"
      ],
      "text/plain": [
       "  file_id group_id subject_id hemisphere  counted_cells\n",
       "0    0000       wt         #1       left             18\n",
       "1    0001       wt         #2       left             21\n",
       "4    0004       wt         #5      right             22\n",
       "7    0007       wt         #8       left             19"
      ]
     },
     "execution_count": 95,
     "metadata": {},
     "output_type": "execute_result"
    }
   ],
   "source": [
    "df.loc[df['group_id'] == 'wt']"
   ]
  },
  {
   "cell_type": "code",
   "execution_count": 96,
   "id": "d1eeb57c-b180-441e-b12c-7ad2966953b4",
   "metadata": {},
   "outputs": [
    {
     "data": {
      "text/html": [
       "<div>\n",
       "<style scoped>\n",
       "    .dataframe tbody tr th:only-of-type {\n",
       "        vertical-align: middle;\n",
       "    }\n",
       "\n",
       "    .dataframe tbody tr th {\n",
       "        vertical-align: top;\n",
       "    }\n",
       "\n",
       "    .dataframe thead th {\n",
       "        text-align: right;\n",
       "    }\n",
       "</style>\n",
       "<table border=\"1\" class=\"dataframe\">\n",
       "  <thead>\n",
       "    <tr style=\"text-align: right;\">\n",
       "      <th></th>\n",
       "      <th>file_id</th>\n",
       "      <th>group_id</th>\n",
       "      <th>subject_id</th>\n",
       "      <th>hemisphere</th>\n",
       "      <th>counted_cells</th>\n",
       "    </tr>\n",
       "  </thead>\n",
       "  <tbody>\n",
       "    <tr>\n",
       "      <th>0</th>\n",
       "      <td>0000</td>\n",
       "      <td>wt</td>\n",
       "      <td>#1</td>\n",
       "      <td>left</td>\n",
       "      <td>18</td>\n",
       "    </tr>\n",
       "    <tr>\n",
       "      <th>1</th>\n",
       "      <td>0001</td>\n",
       "      <td>wt</td>\n",
       "      <td>#2</td>\n",
       "      <td>left</td>\n",
       "      <td>21</td>\n",
       "    </tr>\n",
       "    <tr>\n",
       "      <th>2</th>\n",
       "      <td>0002</td>\n",
       "      <td>tg</td>\n",
       "      <td>#3</td>\n",
       "      <td>left</td>\n",
       "      <td>10</td>\n",
       "    </tr>\n",
       "  </tbody>\n",
       "</table>\n",
       "</div>"
      ],
      "text/plain": [
       "  file_id group_id subject_id hemisphere  counted_cells\n",
       "0    0000       wt         #1       left             18\n",
       "1    0001       wt         #2       left             21\n",
       "2    0002       tg         #3       left             10"
      ]
     },
     "execution_count": 96,
     "metadata": {},
     "output_type": "execute_result"
    }
   ],
   "source": [
    "df.loc[df['subject_id'].isin(['#1', '#2', '#3'])]"
   ]
  },
  {
   "cell_type": "code",
   "execution_count": 97,
   "id": "d29ff4f1-e97e-4679-a19b-f2671f00d83f",
   "metadata": {},
   "outputs": [
    {
     "data": {
      "text/html": [
       "<div>\n",
       "<style scoped>\n",
       "    .dataframe tbody tr th:only-of-type {\n",
       "        vertical-align: middle;\n",
       "    }\n",
       "\n",
       "    .dataframe tbody tr th {\n",
       "        vertical-align: top;\n",
       "    }\n",
       "\n",
       "    .dataframe thead th {\n",
       "        text-align: right;\n",
       "    }\n",
       "</style>\n",
       "<table border=\"1\" class=\"dataframe\">\n",
       "  <thead>\n",
       "    <tr style=\"text-align: right;\">\n",
       "      <th></th>\n",
       "      <th>file_id</th>\n",
       "      <th>group_id</th>\n",
       "      <th>subject_id</th>\n",
       "      <th>hemisphere</th>\n",
       "      <th>counted_cells</th>\n",
       "    </tr>\n",
       "  </thead>\n",
       "  <tbody>\n",
       "    <tr>\n",
       "      <th>0</th>\n",
       "      <td>0000</td>\n",
       "      <td>wt</td>\n",
       "      <td>#1</td>\n",
       "      <td>left</td>\n",
       "      <td>18</td>\n",
       "    </tr>\n",
       "    <tr>\n",
       "      <th>1</th>\n",
       "      <td>0001</td>\n",
       "      <td>wt</td>\n",
       "      <td>#2</td>\n",
       "      <td>left</td>\n",
       "      <td>21</td>\n",
       "    </tr>\n",
       "    <tr>\n",
       "      <th>4</th>\n",
       "      <td>0004</td>\n",
       "      <td>wt</td>\n",
       "      <td>#5</td>\n",
       "      <td>right</td>\n",
       "      <td>22</td>\n",
       "    </tr>\n",
       "    <tr>\n",
       "      <th>7</th>\n",
       "      <td>0007</td>\n",
       "      <td>wt</td>\n",
       "      <td>#8</td>\n",
       "      <td>left</td>\n",
       "      <td>19</td>\n",
       "    </tr>\n",
       "  </tbody>\n",
       "</table>\n",
       "</div>"
      ],
      "text/plain": [
       "  file_id group_id subject_id hemisphere  counted_cells\n",
       "0    0000       wt         #1       left             18\n",
       "1    0001       wt         #2       left             21\n",
       "4    0004       wt         #5      right             22\n",
       "7    0007       wt         #8       left             19"
      ]
     },
     "execution_count": 97,
     "metadata": {},
     "output_type": "execute_result"
    }
   ],
   "source": [
    "df.loc[df['counted_cells'] > 10]"
   ]
  },
  {
   "cell_type": "code",
   "execution_count": 98,
   "id": "792899ee-7ba4-408d-8ad6-64aed74f4a6a",
   "metadata": {},
   "outputs": [
    {
     "data": {
      "text/html": [
       "<div>\n",
       "<style scoped>\n",
       "    .dataframe tbody tr th:only-of-type {\n",
       "        vertical-align: middle;\n",
       "    }\n",
       "\n",
       "    .dataframe tbody tr th {\n",
       "        vertical-align: top;\n",
       "    }\n",
       "\n",
       "    .dataframe thead th {\n",
       "        text-align: right;\n",
       "    }\n",
       "</style>\n",
       "<table border=\"1\" class=\"dataframe\">\n",
       "  <thead>\n",
       "    <tr style=\"text-align: right;\">\n",
       "      <th></th>\n",
       "      <th>file_id</th>\n",
       "      <th>group_id</th>\n",
       "      <th>subject_id</th>\n",
       "      <th>hemisphere</th>\n",
       "      <th>counted_cells</th>\n",
       "    </tr>\n",
       "  </thead>\n",
       "  <tbody>\n",
       "    <tr>\n",
       "      <th>0</th>\n",
       "      <td>0000</td>\n",
       "      <td>wt</td>\n",
       "      <td>#1</td>\n",
       "      <td>left</td>\n",
       "      <td>18</td>\n",
       "    </tr>\n",
       "    <tr>\n",
       "      <th>1</th>\n",
       "      <td>0001</td>\n",
       "      <td>wt</td>\n",
       "      <td>#2</td>\n",
       "      <td>left</td>\n",
       "      <td>21</td>\n",
       "    </tr>\n",
       "    <tr>\n",
       "      <th>4</th>\n",
       "      <td>0004</td>\n",
       "      <td>wt</td>\n",
       "      <td>#5</td>\n",
       "      <td>right</td>\n",
       "      <td>22</td>\n",
       "    </tr>\n",
       "    <tr>\n",
       "      <th>7</th>\n",
       "      <td>0007</td>\n",
       "      <td>wt</td>\n",
       "      <td>#8</td>\n",
       "      <td>left</td>\n",
       "      <td>19</td>\n",
       "    </tr>\n",
       "  </tbody>\n",
       "</table>\n",
       "</div>"
      ],
      "text/plain": [
       "  file_id group_id subject_id hemisphere  counted_cells\n",
       "0    0000       wt         #1       left             18\n",
       "1    0001       wt         #2       left             21\n",
       "4    0004       wt         #5      right             22\n",
       "7    0007       wt         #8       left             19"
      ]
     },
     "execution_count": 98,
     "metadata": {},
     "output_type": "execute_result"
    }
   ],
   "source": [
    "df.loc[df['group_id'].str.startswith('w')]"
   ]
  },
  {
   "cell_type": "code",
   "execution_count": 99,
   "id": "62d8a063-bfbd-4fde-9815-99b7c8ed577e",
   "metadata": {},
   "outputs": [
    {
     "data": {
      "text/html": [
       "<div>\n",
       "<style scoped>\n",
       "    .dataframe tbody tr th:only-of-type {\n",
       "        vertical-align: middle;\n",
       "    }\n",
       "\n",
       "    .dataframe tbody tr th {\n",
       "        vertical-align: top;\n",
       "    }\n",
       "\n",
       "    .dataframe thead th {\n",
       "        text-align: right;\n",
       "    }\n",
       "</style>\n",
       "<table border=\"1\" class=\"dataframe\">\n",
       "  <thead>\n",
       "    <tr style=\"text-align: right;\">\n",
       "      <th></th>\n",
       "      <th>file_id</th>\n",
       "      <th>group_id</th>\n",
       "      <th>subject_id</th>\n",
       "      <th>hemisphere</th>\n",
       "      <th>counted_cells</th>\n",
       "    </tr>\n",
       "  </thead>\n",
       "  <tbody>\n",
       "    <tr>\n",
       "      <th>0</th>\n",
       "      <td>0000</td>\n",
       "      <td>wt</td>\n",
       "      <td>#1</td>\n",
       "      <td>left</td>\n",
       "      <td>18</td>\n",
       "    </tr>\n",
       "    <tr>\n",
       "      <th>1</th>\n",
       "      <td>0001</td>\n",
       "      <td>wt</td>\n",
       "      <td>#2</td>\n",
       "      <td>left</td>\n",
       "      <td>21</td>\n",
       "    </tr>\n",
       "    <tr>\n",
       "      <th>2</th>\n",
       "      <td>0002</td>\n",
       "      <td>tg</td>\n",
       "      <td>#3</td>\n",
       "      <td>left</td>\n",
       "      <td>10</td>\n",
       "    </tr>\n",
       "    <tr>\n",
       "      <th>3</th>\n",
       "      <td>0003</td>\n",
       "      <td>tg</td>\n",
       "      <td>#4</td>\n",
       "      <td>left</td>\n",
       "      <td>7</td>\n",
       "    </tr>\n",
       "  </tbody>\n",
       "</table>\n",
       "</div>"
      ],
      "text/plain": [
       "  file_id group_id subject_id hemisphere  counted_cells\n",
       "0    0000       wt         #1       left             18\n",
       "1    0001       wt         #2       left             21\n",
       "2    0002       tg         #3       left             10\n",
       "3    0003       tg         #4       left              7"
      ]
     },
     "execution_count": 99,
     "metadata": {},
     "output_type": "execute_result"
    }
   ],
   "source": [
    "# We can also use the indices (\"row names\") to select slices:\n",
    "df.loc[0:3]"
   ]
  },
  {
   "cell_type": "markdown",
   "id": "96cea7c1-2ea1-42b7-8964-abd4f55d21b2",
   "metadata": {},
   "source": [
    "We can also select the data using multiple criteria:"
   ]
  },
  {
   "cell_type": "code",
   "execution_count": 100,
   "id": "9009413d-e907-45c7-90a0-c77ad81745ec",
   "metadata": {},
   "outputs": [
    {
     "data": {
      "text/html": [
       "<div>\n",
       "<style scoped>\n",
       "    .dataframe tbody tr th:only-of-type {\n",
       "        vertical-align: middle;\n",
       "    }\n",
       "\n",
       "    .dataframe tbody tr th {\n",
       "        vertical-align: top;\n",
       "    }\n",
       "\n",
       "    .dataframe thead th {\n",
       "        text-align: right;\n",
       "    }\n",
       "</style>\n",
       "<table border=\"1\" class=\"dataframe\">\n",
       "  <thead>\n",
       "    <tr style=\"text-align: right;\">\n",
       "      <th></th>\n",
       "      <th>file_id</th>\n",
       "      <th>group_id</th>\n",
       "      <th>subject_id</th>\n",
       "      <th>hemisphere</th>\n",
       "      <th>counted_cells</th>\n",
       "    </tr>\n",
       "  </thead>\n",
       "  <tbody>\n",
       "    <tr>\n",
       "      <th>0</th>\n",
       "      <td>0000</td>\n",
       "      <td>wt</td>\n",
       "      <td>#1</td>\n",
       "      <td>left</td>\n",
       "      <td>18</td>\n",
       "    </tr>\n",
       "    <tr>\n",
       "      <th>7</th>\n",
       "      <td>0007</td>\n",
       "      <td>wt</td>\n",
       "      <td>#8</td>\n",
       "      <td>left</td>\n",
       "      <td>19</td>\n",
       "    </tr>\n",
       "  </tbody>\n",
       "</table>\n",
       "</div>"
      ],
      "text/plain": [
       "  file_id group_id subject_id hemisphere  counted_cells\n",
       "0    0000       wt         #1       left             18\n",
       "7    0007       wt         #8       left             19"
      ]
     },
     "execution_count": 100,
     "metadata": {},
     "output_type": "execute_result"
    }
   ],
   "source": [
    "df.loc[(df['counted_cells'] < 20) & (df['group_id'] == 'wt')]"
   ]
  },
  {
   "cell_type": "markdown",
   "id": "849d02db-cfcf-4fea-9d43-d0a5048fa4ca",
   "metadata": {},
   "source": [
    "And also select only certain columns that are specified following the comma:"
   ]
  },
  {
   "cell_type": "code",
   "execution_count": 101,
   "id": "ec49602c-7ece-4da8-97f8-a07ad535ade9",
   "metadata": {},
   "outputs": [
    {
     "data": {
      "text/plain": [
       "0    #1\n",
       "1    #2\n",
       "4    #5\n",
       "7    #8\n",
       "Name: subject_id, dtype: object"
      ]
     },
     "execution_count": 101,
     "metadata": {},
     "output_type": "execute_result"
    }
   ],
   "source": [
    "# A single column name will return a pandas Series\n",
    "df.loc[df['group_id'] == 'wt', 'subject_id']"
   ]
  },
  {
   "cell_type": "code",
   "execution_count": 102,
   "id": "b6dd879e-fd30-4be9-9e6d-ba27771e83c2",
   "metadata": {},
   "outputs": [
    {
     "data": {
      "text/html": [
       "<div>\n",
       "<style scoped>\n",
       "    .dataframe tbody tr th:only-of-type {\n",
       "        vertical-align: middle;\n",
       "    }\n",
       "\n",
       "    .dataframe tbody tr th {\n",
       "        vertical-align: top;\n",
       "    }\n",
       "\n",
       "    .dataframe thead th {\n",
       "        text-align: right;\n",
       "    }\n",
       "</style>\n",
       "<table border=\"1\" class=\"dataframe\">\n",
       "  <thead>\n",
       "    <tr style=\"text-align: right;\">\n",
       "      <th></th>\n",
       "      <th>subject_id</th>\n",
       "      <th>counted_cells</th>\n",
       "    </tr>\n",
       "  </thead>\n",
       "  <tbody>\n",
       "    <tr>\n",
       "      <th>0</th>\n",
       "      <td>#1</td>\n",
       "      <td>18</td>\n",
       "    </tr>\n",
       "    <tr>\n",
       "      <th>1</th>\n",
       "      <td>#2</td>\n",
       "      <td>21</td>\n",
       "    </tr>\n",
       "    <tr>\n",
       "      <th>4</th>\n",
       "      <td>#5</td>\n",
       "      <td>22</td>\n",
       "    </tr>\n",
       "    <tr>\n",
       "      <th>7</th>\n",
       "      <td>#8</td>\n",
       "      <td>19</td>\n",
       "    </tr>\n",
       "  </tbody>\n",
       "</table>\n",
       "</div>"
      ],
      "text/plain": [
       "  subject_id  counted_cells\n",
       "0         #1             18\n",
       "1         #2             21\n",
       "4         #5             22\n",
       "7         #8             19"
      ]
     },
     "execution_count": 102,
     "metadata": {},
     "output_type": "execute_result"
    }
   ],
   "source": [
    "# Passing a list (of one ore more column names) will return a pandas DataFrame instead:\n",
    "df.loc[df['group_id'] == 'wt', ['subject_id', 'counted_cells']]"
   ]
  },
  {
   "cell_type": "markdown",
   "id": "e568d02e-dc58-494d-8777-c86d0d8faf14",
   "metadata": {},
   "source": [
    "Finally, we can access and return all values of the selected slice as numpy array using `.values`:"
   ]
  },
  {
   "cell_type": "code",
   "execution_count": 103,
   "id": "2584f602-79c1-4fa0-aa33-068d5bc04a23",
   "metadata": {},
   "outputs": [
    {
     "data": {
      "text/plain": [
       "array([18, 21, 22, 19])"
      ]
     },
     "execution_count": 103,
     "metadata": {},
     "output_type": "execute_result"
    }
   ],
   "source": [
    "df.loc[df['group_id'] == 'wt', 'counted_cells'].values"
   ]
  },
  {
   "cell_type": "markdown",
   "id": "90a225f9-b114-4bf6-b058-f10c82f3f173",
   "metadata": {},
   "source": [
    "Another useful function, for instance when we need to filter through all the data of a pandas DataFrame based on the different group_ids is `.unique`:"
   ]
  },
  {
   "cell_type": "code",
   "execution_count": 104,
   "id": "9c919a80-a626-45ff-a935-ce3d8ef6c1f7",
   "metadata": {},
   "outputs": [
    {
     "data": {
      "text/plain": [
       "array(['wt', 'tg'], dtype=object)"
      ]
     },
     "execution_count": 104,
     "metadata": {},
     "output_type": "execute_result"
    }
   ],
   "source": [
    "df['group_id'].unique()"
   ]
  },
  {
   "cell_type": "code",
   "execution_count": 105,
   "id": "6983617f-9f17-47b0-a33e-53e00636e892",
   "metadata": {},
   "outputs": [
    {
     "data": {
      "text/plain": [
       "{'wt': array([18, 21, 22, 19]), 'tg': array([10,  7,  9, 10])}"
      ]
     },
     "execution_count": 105,
     "metadata": {},
     "output_type": "execute_result"
    }
   ],
   "source": [
    "counted_cells_per_group = dict()\n",
    "\n",
    "for group_id in df['group_id'].unique():\n",
    "    counted_cells_per_group[group_id] = df.loc[df['group_id'] == group_id, 'counted_cells'].values\n",
    "    \n",
    "counted_cells_per_group    "
   ]
  },
  {
   "cell_type": "markdown",
   "id": "a10e8a4d-561d-4421-8df3-930177cffd79",
   "metadata": {},
   "source": [
    "## 2) pingouin"
   ]
  },
  {
   "cell_type": "markdown",
   "id": "32ef9687-bb2d-45a3-bf82-5aeb6e547431",
   "metadata": {},
   "source": [
    "Pingouin and scipy.stats are very convenient and commonly used statistic libraries for python and should cover a large proportion of tests that we typically need. A simple example of how to feed the data we just selected from our pandas DataFrame to pingouin:"
   ]
  },
  {
   "cell_type": "code",
   "execution_count": 106,
   "id": "2b8ed162-8595-4a2a-a33d-55932a9dec64",
   "metadata": {},
   "outputs": [
    {
     "data": {
      "text/html": [
       "<div>\n",
       "<style scoped>\n",
       "    .dataframe tbody tr th:only-of-type {\n",
       "        vertical-align: middle;\n",
       "    }\n",
       "\n",
       "    .dataframe tbody tr th {\n",
       "        vertical-align: top;\n",
       "    }\n",
       "\n",
       "    .dataframe thead th {\n",
       "        text-align: right;\n",
       "    }\n",
       "</style>\n",
       "<table border=\"1\" class=\"dataframe\">\n",
       "  <thead>\n",
       "    <tr style=\"text-align: right;\">\n",
       "      <th></th>\n",
       "      <th>W</th>\n",
       "      <th>pval</th>\n",
       "      <th>normal</th>\n",
       "    </tr>\n",
       "  </thead>\n",
       "  <tbody>\n",
       "    <tr>\n",
       "      <th>0</th>\n",
       "      <td>0.949706</td>\n",
       "      <td>0.714281</td>\n",
       "      <td>True</td>\n",
       "    </tr>\n",
       "  </tbody>\n",
       "</table>\n",
       "</div>"
      ],
      "text/plain": [
       "          W      pval  normal\n",
       "0  0.949706  0.714281    True"
      ]
     },
     "execution_count": 106,
     "metadata": {},
     "output_type": "execute_result"
    }
   ],
   "source": [
    "import pingouin as pg\n",
    "\n",
    "pg.normality(counted_cells_per_group['wt'])"
   ]
  },
  {
   "cell_type": "code",
   "execution_count": 107,
   "id": "b8961bf5-56d3-4dfe-8778-905e87855e5d",
   "metadata": {},
   "outputs": [
    {
     "data": {
      "text/plain": [
       "0.7142806649208069"
      ]
     },
     "execution_count": 107,
     "metadata": {},
     "output_type": "execute_result"
    }
   ],
   "source": [
    "# Most tests by pingouin will return the results as pandas.DataFrame and we can thus use the selection techniques we just learned to access the data:\n",
    "df_stats = pg.normality(counted_cells_per_group['wt'])\n",
    "df_stats.loc[0, 'pval']"
   ]
  },
  {
   "cell_type": "code",
   "execution_count": 108,
   "id": "7db63369-339a-4516-9353-9b1e3995c912",
   "metadata": {},
   "outputs": [
    {
     "data": {
      "text/html": [
       "<div>\n",
       "<style scoped>\n",
       "    .dataframe tbody tr th:only-of-type {\n",
       "        vertical-align: middle;\n",
       "    }\n",
       "\n",
       "    .dataframe tbody tr th {\n",
       "        vertical-align: top;\n",
       "    }\n",
       "\n",
       "    .dataframe thead th {\n",
       "        text-align: right;\n",
       "    }\n",
       "</style>\n",
       "<table border=\"1\" class=\"dataframe\">\n",
       "  <thead>\n",
       "    <tr style=\"text-align: right;\">\n",
       "      <th></th>\n",
       "      <th>W</th>\n",
       "      <th>pval</th>\n",
       "      <th>normal</th>\n",
       "    </tr>\n",
       "  </thead>\n",
       "  <tbody>\n",
       "    <tr>\n",
       "      <th>wt</th>\n",
       "      <td>0.949706</td>\n",
       "      <td>0.714281</td>\n",
       "      <td>True</td>\n",
       "    </tr>\n",
       "    <tr>\n",
       "      <th>tg</th>\n",
       "      <td>0.827427</td>\n",
       "      <td>0.161190</td>\n",
       "      <td>True</td>\n",
       "    </tr>\n",
       "  </tbody>\n",
       "</table>\n",
       "</div>"
      ],
      "text/plain": [
       "           W      pval  normal\n",
       "wt  0.949706  0.714281    True\n",
       "tg  0.827427  0.161190    True"
      ]
     },
     "execution_count": 108,
     "metadata": {},
     "output_type": "execute_result"
    }
   ],
   "source": [
    "# What makes pingouin so convenient to use, however, is that a lot of its function can be directly fed with a pandas.DataFrame\n",
    "# As data we simply pass our DataFrame\n",
    "# The dependent variable (dv) can be found in the 'counted_cells' column\n",
    "# And the different groups are indicated in the 'group_id' column:\n",
    "pg.normality(data=df, dv='counted_cells', group='group_id')"
   ]
  },
  {
   "cell_type": "code",
   "execution_count": 109,
   "id": "07330e87-6350-461a-ad5b-e109cd4e00ee",
   "metadata": {},
   "outputs": [
    {
     "data": {
      "text/html": [
       "<div>\n",
       "<style scoped>\n",
       "    .dataframe tbody tr th:only-of-type {\n",
       "        vertical-align: middle;\n",
       "    }\n",
       "\n",
       "    .dataframe tbody tr th {\n",
       "        vertical-align: top;\n",
       "    }\n",
       "\n",
       "    .dataframe thead th {\n",
       "        text-align: right;\n",
       "    }\n",
       "</style>\n",
       "<table border=\"1\" class=\"dataframe\">\n",
       "  <thead>\n",
       "    <tr style=\"text-align: right;\">\n",
       "      <th></th>\n",
       "      <th>T</th>\n",
       "      <th>dof</th>\n",
       "      <th>alternative</th>\n",
       "      <th>p-val</th>\n",
       "      <th>CI95%</th>\n",
       "      <th>cohen-d</th>\n",
       "      <th>BF10</th>\n",
       "      <th>power</th>\n",
       "    </tr>\n",
       "  </thead>\n",
       "  <tbody>\n",
       "    <tr>\n",
       "      <th>T-test</th>\n",
       "      <td>9.526279</td>\n",
       "      <td>6</td>\n",
       "      <td>two-sided</td>\n",
       "      <td>0.000076</td>\n",
       "      <td>[8.17, 13.83]</td>\n",
       "      <td>6.736097</td>\n",
       "      <td>185.641</td>\n",
       "      <td>1.0</td>\n",
       "    </tr>\n",
       "  </tbody>\n",
       "</table>\n",
       "</div>"
      ],
      "text/plain": [
       "               T  dof alternative     p-val          CI95%   cohen-d     BF10  \\\n",
       "T-test  9.526279    6   two-sided  0.000076  [8.17, 13.83]  6.736097  185.641   \n",
       "\n",
       "        power  \n",
       "T-test    1.0  "
      ]
     },
     "execution_count": 109,
     "metadata": {},
     "output_type": "execute_result"
    }
   ],
   "source": [
    "# Unfortunately, this is not true for all implemented tests (yet):\n",
    "pg.ttest(x=counted_cells_per_group['wt'], y=counted_cells_per_group['tg'])"
   ]
  },
  {
   "cell_type": "markdown",
   "id": "becf2a5d-7f85-4096-8233-d7540d5eb244",
   "metadata": {},
   "source": [
    "## 3) Seaborn\n",
    "\n",
    "While matplotlib.pyplot is certainly a much richer plotting library for python (and seaborn actually relies on matplotlib) - seaborn is, just like pingouin, simply extremely convenient to use for plotting of data stored in pandas DataFrames. Some examples:"
   ]
  },
  {
   "cell_type": "code",
   "execution_count": 110,
   "id": "e74eff20-143f-4831-8503-c90a39db1c81",
   "metadata": {},
   "outputs": [
    {
     "data": {
      "image/png": "[encoded data removed]",
      "text/plain": [
       "<Figure size 432x288 with 1 Axes>"
      ]
     },
     "metadata": {
      "needs_background": "light"
     },
     "output_type": "display_data"
    }
   ],
   "source": [
    "import matplotlib.pyplot as plt\n",
    "import seaborn as sns\n",
    "\n",
    "sns.stripplot(data=df, x='group_id', y='counted_cells')\n",
    "plt.show()"
   ]
  },
  {
   "cell_type": "code",
   "execution_count": 114,
   "id": "a2d9e0e5-ec20-49e4-bcee-2ef4c5b77564",
   "metadata": {},
   "outputs": [
    {
     "data": {
      "image/png": "[encoded data removed]",
      "text/plain": [
       "<Figure size 432x288 with 1 Axes>"
      ]
     },
     "metadata": {
      "needs_background": "light"
     },
     "output_type": "display_data"
    }
   ],
   "source": [
    "sns.stripplot(data=df, x='group_id', y='counted_cells', hue='hemisphere', size=7)\n",
    "plt.show()"
   ]
  },
  {
   "cell_type": "markdown",
   "id": "f5189c73-e987-4bc3-b823-853d0878df68",
   "metadata": {},
   "source": [
    "## X - classes 101"
   ]
  },
  {
   "cell_type": "markdown",
   "id": "2ed77bf1-2e53-4593-87db-78ce8b43f79f",
   "metadata": {},
   "source": [
    "#### Regular classes:"
   ]
  },
  {
   "cell_type": "code",
   "execution_count": 1,
   "id": "1af0e7dc-3b3d-4c31-97e2-973ad75c50c6",
   "metadata": {},
   "outputs": [],
   "source": [
    "class Animal:\n",
    "    \n",
    "    # The __init__ method is called when the object is constructed\n",
    "    def __init__(self, species: str, age_in_years: int, name: str):\n",
    "        # The constructor method is usually used to set certain attributes (self.whatever) based on the input\n",
    "        self.species = species\n",
    "        self.age = age_in_years\n",
    "        self.name = name\n",
    "    \n",
    "    # functions that are defined in a class are called methods and always have to have 'self' as first argument\n",
    "    def get_older(self):\n",
    "        self.age = self.age + 1\n",
    "        \n",
    "        # This print function is using a formatted string, which can be quite useful to integrate variables in strings\n",
    "        # You simply add an f in front of the string and can then use {} to insert your variables\n",
    "        print(f'{self.name} is now {self.age} years old!')\n",
    "                \n",
    "        \n",
    "    # methods can also do stuff that is not related to any attributes of the respectively created object\n",
    "    def add_one(self, a: int) -> int:\n",
    "        a = a + 1\n",
    "        return a"
   ]
  },
  {
   "cell_type": "code",
   "execution_count": 2,
   "id": "7b1c1823-44af-4c95-95ca-9d4766cf930c",
   "metadata": {},
   "outputs": [
    {
     "data": {
      "text/plain": [
       "9"
      ]
     },
     "execution_count": 2,
     "metadata": {},
     "output_type": "execute_result"
    }
   ],
   "source": [
    "# create an object of a defined class:\n",
    "snoopy = Animal(species = 'dog', age_in_years = 9, name = 'Snoopy')\n",
    "\n",
    "# access an objects attributes:\n",
    "snoopy.age"
   ]
  },
  {
   "cell_type": "code",
   "execution_count": 7,
   "id": "81717717-2277-4d05-b0d8-c7c78b7663eb",
   "metadata": {},
   "outputs": [
    {
     "name": "stdout",
     "output_type": "stream",
     "text": [
      "Snoopy is now 14 years old!\n",
      "54\n"
     ]
    }
   ],
   "source": [
    "# call the methods of the object:\n",
    "snoopy.get_older()\n",
    "\n",
    "b = snoopy.add_one(a = 53)\n",
    "print(b)"
   ]
  },
  {
   "cell_type": "code",
   "execution_count": 8,
   "id": "de5b6b89-5e49-4e0b-866e-d74672fcffce",
   "metadata": {},
   "outputs": [
    {
     "name": "stdout",
     "output_type": "stream",
     "text": [
      "Kitty is now 6 years old!\n",
      "Tweety is now 3 years old!\n",
      "Snoopy is now 15 years old!\n"
     ]
    }
   ],
   "source": [
    "# we can create multiple objects of a certain class, just like we can create as many variables as we like to:\n",
    "kitty = Animal(species = 'cat', age_in_years = 5, name = 'Kitty')\n",
    "tweety = Animal(species = 'bird', age_in_years = 2, name = 'Tweety')\n",
    "\n",
    "kitty.get_older()\n",
    "tweety.get_older()\n",
    "snoopy.get_older()"
   ]
  },
  {
   "cell_type": "markdown",
   "id": "cdea05cf-2473-4035-be66-1b25c6778399",
   "metadata": {
    "tags": []
   },
   "source": [
    "#### Inheritance:\n",
    "\n",
    "Classes can inherit from other classes. In general, this is quite usefull if you want to create subtypes of a certain class"
   ]
  },
  {
   "cell_type": "code",
   "execution_count": 12,
   "id": "49a4a9e1-eb7a-4495-9506-04905ba09806",
   "metadata": {},
   "outputs": [],
   "source": [
    "# let´s rearrange what we had above\n",
    "# NewAnimal will now serve as our class for which we create some subclasses\n",
    "class NewAnimal():\n",
    "    # this time we don´t want to add species here\n",
    "    def __init__(self, age_in_years: int, name: str):\n",
    "        self.age = age_in_years\n",
    "        self.name = name\n",
    "    \n",
    "    def get_older(self):\n",
    "        self.age = self.age + 1\n",
    "        print(f'{self.name} is now {self.age} years old!')\n",
    "        \n",
    "# For instance a Cat subclass - which we still want to be an Animal, so it inherits stuff from the Animal class\n",
    "class Cat(NewAnimal):\n",
    "    # we can now add additional stuff, like for instance another attribute that definces the species\n",
    "    # Since species for the Cat class will always be 'cat', we don´t need any input for that and hence no __init__ method:\n",
    "    species = 'cat'\n",
    "    \n",
    "    # in addition, we want all animals to make their sound:\n",
    "    def make_your_sound(self):\n",
    "        print('Meow')\n",
    "        \n",
    "\n",
    "# Now copy paste that more or less for another subclass:\n",
    "class Dog(NewAnimal):\n",
    "    species = 'dog'\n",
    "    \n",
    "    # in addition, we want all animals to make their sound:\n",
    "    def make_your_sound(self):\n",
    "        print('Wuff')"
   ]
  },
  {
   "cell_type": "code",
   "execution_count": 14,
   "id": "77e9e471-160c-4dfc-a0e5-943496634473",
   "metadata": {},
   "outputs": [
    {
     "name": "stdout",
     "output_type": "stream",
     "text": [
      "Kitty2 is now 4 years old!\n",
      "Snoopy2 is now 8 years old!\n"
     ]
    }
   ],
   "source": [
    "kitty2 = Cat(age_in_years = 3, name = 'Kitty2')\n",
    "snoopy2 = Dog(age_in_years = 7, name = 'Snoopy2')\n",
    "\n",
    "# We can still call the methods that are defined in the NewAnimal class:\n",
    "kitty2.get_older()\n",
    "snoopy2.get_older()"
   ]
  },
  {
   "cell_type": "code",
   "execution_count": 15,
   "id": "3b32ee20-dcfa-4fa6-b01f-2f0654f0877a",
   "metadata": {},
   "outputs": [
    {
     "data": {
      "text/plain": [
       "'cat'"
      ]
     },
     "execution_count": 15,
     "metadata": {},
     "output_type": "execute_result"
    }
   ],
   "source": [
    "# And of course also the additional stuff that was added within the subclasses:\n",
    "kitty2.species"
   ]
  },
  {
   "cell_type": "code",
   "execution_count": 16,
   "id": "840c9983-5d19-403a-b524-e5c9952e749d",
   "metadata": {},
   "outputs": [
    {
     "name": "stdout",
     "output_type": "stream",
     "text": [
      "Wuff\n"
     ]
    }
   ],
   "source": [
    "snoopy2.make_your_sound()"
   ]
  },
  {
   "cell_type": "markdown",
   "id": "85e93598-607e-4d65-ab05-c52253b46f02",
   "metadata": {},
   "source": [
    "#### Some more special classes - the use of AbstractBaseClasses:"
   ]
  },
  {
   "cell_type": "code",
   "execution_count": 17,
   "id": "7644ffb8-e524-4e5c-bbc9-c6f874c165a7",
   "metadata": {},
   "outputs": [],
   "source": [
    "from abc import ABC, abstractmethod\n",
    "\n",
    "# In a very similar way, we can use inheritance from the AbstractBaseClass to create abstractmethods\n",
    "# There are several advantages of doing this, one very simple is:\n",
    "# It is mandatory for every class that inherits now from this class to actually implement the method\n",
    "# If this is not done, your code will throw an error once it tries to create the respective object.\n",
    "# So it basically forces you as developer to make sure that this function will always be implemented\n",
    "# Again, there are a lot more advantages of it, but this is the most straightforward one\n",
    "class AbstractAnimal(ABC):\n",
    "    \n",
    "    @abstractmethod\n",
    "    def make_your_sound(self):\n",
    "        # do something\n",
    "        pass\n",
    "    \n",
    "class AbstractCat(AbstractAnimal):\n",
    "    \n",
    "    def make_your_sound(self):\n",
    "        print('Meow')\n",
    "        \n",
    "        \n",
    "class AbstractFox(AbstractAnimal):\n",
    "    \n",
    "    def i_dont_care(self):\n",
    "        print('not important what I write here - this function will actually never be called')"
   ]
  },
  {
   "cell_type": "code",
   "execution_count": 18,
   "id": "6fed03b2-35f8-4b15-b20b-8d9518d8c01b",
   "metadata": {},
   "outputs": [
    {
     "name": "stdout",
     "output_type": "stream",
     "text": [
      "Meow\n"
     ]
    }
   ],
   "source": [
    "# This object can be created, since AbstractCat does implement the make_your_sound method\n",
    "abstract_kitty = AbstractCat()\n",
    "abstract_kitty.make_your_sound()"
   ]
  },
  {
   "cell_type": "code",
   "execution_count": 19,
   "id": "c189a8be-b9d4-4da3-a711-1edee01417f4",
   "metadata": {},
   "outputs": [
    {
     "ename": "TypeError",
     "evalue": "Can't instantiate abstract class AbstractFox with abstract methods make_your_sound",
     "output_type": "error",
     "traceback": [
      "\u001b[0;31m---------------------------------------------------------------------------\u001b[0m",
      "\u001b[0;31mTypeError\u001b[0m                                 Traceback (most recent call last)",
      "\u001b[0;32m/tmp/ipykernel_450/2248761369.py\u001b[0m in \u001b[0;36m<module>\u001b[0;34m\u001b[0m\n\u001b[1;32m      1\u001b[0m \u001b[0;31m# This however will throw an error, since the AbstractFox \"does not follow the contract\" and has no implementation of the method\u001b[0m\u001b[0;34m\u001b[0m\u001b[0;34m\u001b[0m\u001b[0;34m\u001b[0m\u001b[0m\n\u001b[0;32m----> 2\u001b[0;31m \u001b[0mabstract_foxy\u001b[0m \u001b[0;34m=\u001b[0m \u001b[0mAbstractFox\u001b[0m\u001b[0;34m(\u001b[0m\u001b[0;34m)\u001b[0m\u001b[0;34m\u001b[0m\u001b[0;34m\u001b[0m\u001b[0m\n\u001b[0m\u001b[1;32m      3\u001b[0m \u001b[0mabstract_foxy\u001b[0m\u001b[0;34m.\u001b[0m\u001b[0mi_dont_care\u001b[0m\u001b[0;34m(\u001b[0m\u001b[0;34m)\u001b[0m\u001b[0;34m\u001b[0m\u001b[0;34m\u001b[0m\u001b[0m\n",
      "\u001b[0;31mTypeError\u001b[0m: Can't instantiate abstract class AbstractFox with abstract methods make_your_sound"
     ]
    }
   ],
   "source": [
    "# This however will throw an error, since the AbstractFox \"does not follow the contract\" and has no implementation of the method\n",
    "abstract_foxy = AbstractFox()\n",
    "abstract_foxy.i_dont_care()"
   ]
  },
  {
   "cell_type": "markdown",
   "id": "804de451-63bc-4ffd-a564-aa81a01b3b56",
   "metadata": {},
   "source": [
    "## Other random stuff:"
   ]
  },
  {
   "cell_type": "code",
   "execution_count": 20,
   "id": "8a7a8d5c-a2b8-4b25-81b3-f4927ee07109",
   "metadata": {},
   "outputs": [],
   "source": [
    "a_list = [1, 2]\n",
    "\n",
    "a_tuple = (1, 2)\n",
    "\n",
    "a_dict = {'dog': 'hund', \n",
    "         'cat': 'katze'}"
   ]
  },
  {
   "cell_type": "code",
   "execution_count": 21,
   "id": "db2a013f-3c4f-40ac-a817-2a7ee320584e",
   "metadata": {},
   "outputs": [
    {
     "data": {
      "text/plain": [
       "1"
      ]
     },
     "execution_count": 21,
     "metadata": {},
     "output_type": "execute_result"
    }
   ],
   "source": [
    "# You can access elements of a list and a tuple by using an index:\n",
    "a_list[0]"
   ]
  },
  {
   "cell_type": "code",
   "execution_count": 22,
   "id": "941c7094-a79b-442b-a298-1e56bc3bbd01",
   "metadata": {},
   "outputs": [
    {
     "data": {
      "text/plain": [
       "1"
      ]
     },
     "execution_count": 22,
     "metadata": {},
     "output_type": "execute_result"
    }
   ],
   "source": [
    "a_tuple[0]"
   ]
  },
  {
   "cell_type": "code",
   "execution_count": 23,
   "id": "ddab81e7-a014-4e38-b8ed-097c22139c96",
   "metadata": {},
   "outputs": [
    {
     "ename": "KeyError",
     "evalue": "0",
     "output_type": "error",
     "traceback": [
      "\u001b[0;31m---------------------------------------------------------------------------\u001b[0m",
      "\u001b[0;31mKeyError\u001b[0m                                  Traceback (most recent call last)",
      "\u001b[0;32m/tmp/ipykernel_450/418816761.py\u001b[0m in \u001b[0;36m<module>\u001b[0;34m\u001b[0m\n\u001b[1;32m      1\u001b[0m \u001b[0;31m# But this does not work for dictionaries:\u001b[0m\u001b[0;34m\u001b[0m\u001b[0;34m\u001b[0m\u001b[0;34m\u001b[0m\u001b[0m\n\u001b[0;32m----> 2\u001b[0;31m \u001b[0ma_dict\u001b[0m\u001b[0;34m[\u001b[0m\u001b[0;36m0\u001b[0m\u001b[0;34m]\u001b[0m\u001b[0;34m\u001b[0m\u001b[0;34m\u001b[0m\u001b[0m\n\u001b[0m",
      "\u001b[0;31mKeyError\u001b[0m: 0"
     ]
    }
   ],
   "source": [
    "# But this does not work for dictionaries:\n",
    "a_dict[0]"
   ]
  },
  {
   "cell_type": "code",
   "execution_count": 24,
   "id": "ed4a9c2e-eaf8-449c-96e8-74561075782f",
   "metadata": {},
   "outputs": [
    {
     "data": {
      "text/plain": [
       "'hund'"
      ]
     },
     "execution_count": 24,
     "metadata": {},
     "output_type": "execute_result"
    }
   ],
   "source": [
    "# Instead, you have to pass the key to get the respective value:\n",
    "a_dict['dog']"
   ]
  },
  {
   "cell_type": "code",
   "execution_count": 26,
   "id": "7531e871-7069-4ea5-85f2-bc649349cd40",
   "metadata": {},
   "outputs": [
    {
     "name": "stdout",
     "output_type": "stream",
     "text": [
      "First element of the list is now: hund\n",
      "The value stored for key \"dog\" is now: 1\n"
     ]
    }
   ],
   "source": [
    "# Both lists and dictionaries are mutuable, meaning that you can change their elements / values:\n",
    "a_list[0] = 'hund'\n",
    "a_dict['dog'] = 1\n",
    "\n",
    "print(f'First element of the list is now: {a_list[0]}')\n",
    "print(f'The value stored for key \"dog\" is now: {a_dict[\"dog\"]}')"
   ]
  },
  {
   "cell_type": "code",
   "execution_count": 27,
   "id": "78b7b8e6-7f5d-422f-8254-91322fefe1d6",
   "metadata": {},
   "outputs": [
    {
     "ename": "TypeError",
     "evalue": "'tuple' object does not support item assignment",
     "output_type": "error",
     "traceback": [
      "\u001b[0;31m---------------------------------------------------------------------------\u001b[0m",
      "\u001b[0;31mTypeError\u001b[0m                                 Traceback (most recent call last)",
      "\u001b[0;32m/tmp/ipykernel_450/697448123.py\u001b[0m in \u001b[0;36m<module>\u001b[0;34m\u001b[0m\n\u001b[1;32m      1\u001b[0m \u001b[0;31m# This, however, does not apply to tuples, as they are immutuable:\u001b[0m\u001b[0;34m\u001b[0m\u001b[0;34m\u001b[0m\u001b[0;34m\u001b[0m\u001b[0m\n\u001b[1;32m      2\u001b[0m \u001b[0;34m\u001b[0m\u001b[0m\n\u001b[0;32m----> 3\u001b[0;31m \u001b[0ma_tuple\u001b[0m\u001b[0;34m[\u001b[0m\u001b[0;36m0\u001b[0m\u001b[0;34m]\u001b[0m \u001b[0;34m=\u001b[0m \u001b[0;34m'unicorn'\u001b[0m\u001b[0;34m\u001b[0m\u001b[0;34m\u001b[0m\u001b[0m\n\u001b[0m",
      "\u001b[0;31mTypeError\u001b[0m: 'tuple' object does not support item assignment"
     ]
    }
   ],
   "source": [
    "# This, however, does not apply to tuples, as they are immutuable:\n",
    "\n",
    "a_tuple[0] = 'unicorn'"
   ]
  },
  {
   "cell_type": "markdown",
   "id": "e589594f-8f61-46f0-a864-333bfefc74b5",
   "metadata": {},
   "source": [
    "You can also create your own functions outside of classes. In this case, you don´t need to have \"self\" as the first attribute"
   ]
  },
  {
   "cell_type": "code",
   "execution_count": 28,
   "id": "9e0551b1-45b4-4958-ad6a-1c40dc39044b",
   "metadata": {},
   "outputs": [],
   "source": [
    "def return_two_things(a, b):\n",
    "    return a, b"
   ]
  },
  {
   "cell_type": "code",
   "execution_count": 29,
   "id": "d755f57f-a0e4-4f5a-af0f-5e50e2211191",
   "metadata": {},
   "outputs": [
    {
     "name": "stdout",
     "output_type": "stream",
     "text": [
      "(1, 3)\n",
      "<class 'tuple'>\n"
     ]
    }
   ],
   "source": [
    "c = return_two_things(1, 3)\n",
    "\n",
    "# if a function returns multiple things, they are returned as a tuple\n",
    "print(c)\n",
    "print(type(c))"
   ]
  },
  {
   "cell_type": "code",
   "execution_count": 30,
   "id": "9ae74a02-6f0b-42a5-a0ad-db2b8034a4d5",
   "metadata": {},
   "outputs": [
    {
     "name": "stdout",
     "output_type": "stream",
     "text": [
      "[1, 3]\n",
      "<class 'list'>\n"
     ]
    }
   ],
   "source": [
    "# you can easily convert most basic types into each other, for instance here from a tuple to a list\n",
    "c = list(c)\n",
    "\n",
    "print(c)\n",
    "print(type(c))"
   ]
  },
  {
   "cell_type": "code",
   "execution_count": 31,
   "id": "3e05df9d-23d2-4b10-9eb2-f53cc8afbb0a",
   "metadata": {},
   "outputs": [
    {
     "name": "stdout",
     "output_type": "stream",
     "text": [
      "4\n",
      "<class 'int'>\n",
      "5\n",
      "<class 'int'>\n"
     ]
    }
   ],
   "source": [
    "# You can also right away store all returned things in seperate variables:\n",
    "e, f = return_two_things(4, 5)\n",
    "\n",
    "print(e)\n",
    "print(type(e))\n",
    "\n",
    "print(f)\n",
    "print(type(f))"
   ]
  },
  {
   "cell_type": "code",
   "execution_count": null,
   "id": "a61b3be7-8a40-402b-abcc-c861f237d651",
   "metadata": {},
   "outputs": [],
   "source": []
  }
 ],
 "metadata": {
  "kernelspec": {
   "display_name": "Python 3 (ipykernel)",
   "language": "python",
   "name": "python3"
  },
  "language_info": {
   "codemirror_mode": {
    "name": "ipython",
    "version": 3
   },
   "file_extension": ".py",
   "mimetype": "text/x-python",
   "name": "python",
   "nbconvert_exporter": "python",
   "pygments_lexer": "ipython3",
   "version": "3.9.12"
  }
 },
 "nbformat": 4,
 "nbformat_minor": 5
}
