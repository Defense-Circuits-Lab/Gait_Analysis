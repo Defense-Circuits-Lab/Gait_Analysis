{
 "cells": [
  {
   "cell_type": "code",
   "execution_count": 1,
   "id": "47379ef3-6dff-418f-9e32-e03832e0dc2c",
   "metadata": {},
   "outputs": [],
   "source": [
    "import gait3d"
   ]
  },
  {
   "cell_type": "code",
   "execution_count": 2,
   "id": "aec059a1-c524-4cc7-bf4c-f9361b02b292",
   "metadata": {},
   "outputs": [],
   "source": [
    "test_positions = camera_calibration.TestPositionsGroundTruth()"
   ]
  },
  {
   "cell_type": "code",
   "execution_count": 5,
   "id": "f403df05-e3a6-43b2-b3e1-0275fd538b1c",
   "metadata": {},
   "outputs": [],
   "source": [
    "test_positions.add_new_marker_id(marker_id='Schraube1_unten', other_marker_ids_with_distances=[('Schraube1_Mutter', 6), ('maze_corner_open_left', 19)])"
   ]
  },
  {
   "cell_type": "code",
   "execution_count": 6,
   "id": "e991ed2a-e963-493a-b459-e4d1532da09b",
   "metadata": {},
   "outputs": [
    {
     "data": {
      "text/plain": [
       "['maze_corner_open_left',\n",
       " 'maze_corner_open_right',\n",
       " 'maze_corner_closed_right',\n",
       " 'maze_corner_closed_left',\n",
       " 'Schraube1_unten',\n",
       " 'Schraube1_Mutter']"
      ]
     },
     "execution_count": 6,
     "metadata": {},
     "output_type": "execute_result"
    }
   ],
   "source": [
    "test_positions.unique_marker_ids"
   ]
  },
  {
   "cell_type": "code",
   "execution_count": 1,
   "id": "d54a9e4b-d2c6-411b-9b00-0c0418d5cfbd",
   "metadata": {},
   "outputs": [],
   "source": [
    "import numpy as np"
   ]
  },
  {
   "cell_type": "code",
   "execution_count": 2,
   "id": "cbdb87d0-2efe-4343-be18-eb1578a8d3c1",
   "metadata": {},
   "outputs": [],
   "source": [
    "hund = np.asarray([1, 2, 3,4 ])"
   ]
  },
  {
   "cell_type": "code",
   "execution_count": 3,
   "id": "41b25919-6867-4452-8734-6c0c04cfcfca",
   "metadata": {},
   "outputs": [],
   "source": [
    "dogs = []\n",
    "for i in range(5):\n",
    "    dogs.append(hund)"
   ]
  },
  {
   "cell_type": "code",
   "execution_count": 4,
   "id": "707f1408-008f-4d0a-b272-91107637e647",
   "metadata": {},
   "outputs": [],
   "source": [
    "cats = list(hund) * 5"
   ]
  },
  {
   "cell_type": "code",
   "execution_count": 5,
   "id": "434a9374-35f5-4b3b-8a82-b9714dbc1792",
   "metadata": {},
   "outputs": [
    {
     "data": {
      "text/plain": [
       "False"
      ]
     },
     "execution_count": 5,
     "metadata": {},
     "output_type": "execute_result"
    }
   ],
   "source": [
    "cats == dogs"
   ]
  },
  {
   "cell_type": "code",
   "execution_count": 7,
   "id": "802b335f-ab1d-4e3d-a848-506771657666",
   "metadata": {},
   "outputs": [
    {
     "data": {
      "text/plain": [
       "[array([1, 2, 3, 4]),\n",
       " array([1, 2, 3, 4]),\n",
       " array([1, 2, 3, 4]),\n",
       " array([1, 2, 3, 4]),\n",
       " array([1, 2, 3, 4])]"
      ]
     },
     "execution_count": 7,
     "metadata": {},
     "output_type": "execute_result"
    }
   ],
   "source": [
    "dogs"
   ]
  },
  {
   "cell_type": "code",
   "execution_count": 6,
   "id": "9f29d984-acb1-4fbf-8e6b-c49ebd26562c",
   "metadata": {},
   "outputs": [
    {
     "data": {
      "text/plain": [
       "[1, 2, 3, 4, 1, 2, 3, 4, 1, 2, 3, 4, 1, 2, 3, 4, 1, 2, 3, 4]"
      ]
     },
     "execution_count": 6,
     "metadata": {},
     "output_type": "execute_result"
    }
   ],
   "source": [
    "cats"
   ]
  },
  {
   "cell_type": "code",
   "execution_count": 7,
   "id": "9cd740a7-b3af-4c22-9bae-a3e256af91db",
   "metadata": {},
   "outputs": [
    {
     "data": {
      "text/plain": [
       "{'maze_corner_open_left': {'maze_corner_open_right': 4,\n",
       "  'maze_corner_closed_right': 50.15974481593781,\n",
       "  'maze_corner_closed_left': 50,\n",
       "  'Schraube1_unten': 19},\n",
       " 'maze_corner_open_right': {'maze_corner_open_left': 4,\n",
       "  'maze_corner_closed_right': 50,\n",
       "  'maze_corner_closed_left': 50.15974481593781},\n",
       " 'maze_corner_closed_right': {'maze_corner_open_left': 50.15974481593781,\n",
       "  'maze_corner_open_right': 50,\n",
       "  'maze_corner_closed_left': 4},\n",
       " 'maze_corner_closed_left': {'maze_corner_open_left': 50,\n",
       "  'maze_corner_open_right': 50.15974481593781,\n",
       "  'maze_corner_closed_right': 4},\n",
       " 'Schraube1_unten': {'Schraube1_Mutter': 6, 'maze_corner_open_left': 19},\n",
       " 'Schraube1_Mutter': {'Schraube1_unten': 6}}"
      ]
     },
     "execution_count": 7,
     "metadata": {},
     "output_type": "execute_result"
    }
   ],
   "source": [
    "test_positions.marker_ids_with_distances"
   ]
  },
  {
   "cell_type": "code",
   "execution_count": 8,
   "id": "adce32bc-e1ad-4f59-8a81-288fdd9886f3",
   "metadata": {},
   "outputs": [],
   "source": [
    "from pathlib import Path"
   ]
  },
  {
   "cell_type": "code",
   "execution_count": 9,
   "id": "7b64b7ce-df2e-462d-95a7-44f43478b4f6",
   "metadata": {},
   "outputs": [],
   "source": [
    "bottom_cam = camera_calibration.SingleCamDataForAnipose(cam_id = 'bottom', filepath_synchronized_calibration_video = Path('/mnt/c/Users/dsege/Downloads/OneDrive_2022-08-22/'))"
   ]
  },
  {
   "cell_type": "code",
   "execution_count": 10,
   "id": "53954cea-896a-4b83-973a-8182cd16bf85",
   "metadata": {},
   "outputs": [],
   "source": [
    "#add_manual_test_position_marker(self, marker_id: str, x_or_column_idx: int, y_or_row_idx: int, likelihood: float, overwrite: bool=False)"
   ]
  },
  {
   "cell_type": "code",
   "execution_count": 11,
   "id": "474ce496-6a36-46e0-b22a-bd77c9bcf9fc",
   "metadata": {},
   "outputs": [],
   "source": [
    "bottom_cam.add_manual_test_position_marker(marker_id = 'maze_corner_open_left', x_or_column_idx=10, y_or_row_idx=10, likelihood=0.9999)\n",
    "bottom_cam.add_manual_test_position_marker(marker_id = 'maze_corner_open_right', x_or_column_idx=10, y_or_row_idx=50, likelihood=0.9999)\n",
    "bottom_cam.add_manual_test_position_marker(marker_id = 'maze_corner_closed_right', x_or_column_idx=510, y_or_row_idx=50, likelihood=0.9999)\n",
    "bottom_cam.add_manual_test_position_marker(marker_id = 'maze_corner_open_closed', x_or_column_idx=500, y_or_row_idx=10, likelihood=0.9999)"
   ]
  },
  {
   "cell_type": "code",
   "execution_count": 12,
   "id": "64bec002-8832-4b66-b1a8-2e85aaf66bb4",
   "metadata": {},
   "outputs": [
    {
     "data": {
      "text/plain": [
       "{'maze_corner_open_left': {'x': [10], 'y': [10], 'likelihood': [0.9999]},\n",
       " 'maze_corner_open_right': {'x': [10], 'y': [50], 'likelihood': [0.9999]},\n",
       " 'maze_corner_closed_right': {'x': [510], 'y': [50], 'likelihood': [0.9999]},\n",
       " 'maze_corner_open_closed': {'x': [500], 'y': [10], 'likelihood': [0.9999]}}"
      ]
     },
     "execution_count": 12,
     "metadata": {},
     "output_type": "execute_result"
    }
   ],
   "source": [
    "bottom_cam.manual_test_position_marker_coords_pred"
   ]
  },
  {
   "cell_type": "code",
   "execution_count": 13,
   "id": "ae42bd3a-5481-4dc7-b1d7-28de4460adfe",
   "metadata": {},
   "outputs": [],
   "source": [
    "bottom_cam.add_manual_test_position_marker(marker_id = 'maze_corner_open_closed', x_or_column_idx=510, y_or_row_idx=10, likelihood=0.9999, overwrite=True)"
   ]
  },
  {
   "cell_type": "code",
   "execution_count": 14,
   "id": "5a7d13e8-251f-49b8-9b00-7bb593fb09a2",
   "metadata": {},
   "outputs": [
    {
     "data": {
      "text/plain": [
       "{'maze_corner_open_left': {'x': [10], 'y': [10], 'likelihood': [0.9999]},\n",
       " 'maze_corner_open_right': {'x': [10], 'y': [50], 'likelihood': [0.9999]},\n",
       " 'maze_corner_closed_right': {'x': [510], 'y': [50], 'likelihood': [0.9999]},\n",
       " 'maze_corner_open_closed': {'x': [510], 'y': [10], 'likelihood': [0.9999]}}"
      ]
     },
     "execution_count": 14,
     "metadata": {},
     "output_type": "execute_result"
    }
   ],
   "source": [
    "bottom_cam.manual_test_position_marker_coords_pred"
   ]
  },
  {
   "cell_type": "code",
   "execution_count": 15,
   "id": "b4237afa-7bbb-429c-b413-f84aee82f669",
   "metadata": {},
   "outputs": [
    {
     "name": "stdout",
     "output_type": "stream",
     "text": [
      "Your dataframe was successfully saved at: /mnt/c/Users/dsege/Downloads/bottom_manual_test_position_marker_fake.h5.\n",
      "Your \"fake DLC marker perdictions\" were successfully loaded to the SingleCamDataForAnipose object!\n"
     ]
    }
   ],
   "source": [
    "bottom_cam.save_manual_marker_coords_as_fake_dlc_output(output_filepath = Path('/mnt/c/Users/dsege/Downloads/'))"
   ]
  },
  {
   "cell_type": "code",
   "execution_count": 16,
   "id": "cce1bfce-32ad-4524-ad15-84d8d4538784",
   "metadata": {},
   "outputs": [
    {
     "name": "stdout",
     "output_type": "stream",
     "text": [
      "The following marker_ids were missing and added to the dataframe with a likelihood of 0: ['maze_corner_closed_left', 'Schraube1_unten', 'Schraube1_Mutter'].\n",
      "The following marker_ids were deleted from the dataframe, since they were not present in the ground truth: ['maze_corner_open_closed'].\n"
     ]
    }
   ],
   "source": [
    "bottom_cam.validate_test_position_marker_ids(test_positions_ground_truth=test_positions)"
   ]
  },
  {
   "cell_type": "code",
   "execution_count": 17,
   "id": "b3047b5c-140e-405f-a7b2-36cae6da24d1",
   "metadata": {},
   "outputs": [
    {
     "data": {
      "text/html": [
       "<div>\n",
       "<style scoped>\n",
       "    .dataframe tbody tr th:only-of-type {\n",
       "        vertical-align: middle;\n",
       "    }\n",
       "\n",
       "    .dataframe tbody tr th {\n",
       "        vertical-align: top;\n",
       "    }\n",
       "\n",
       "    .dataframe thead tr th {\n",
       "        text-align: left;\n",
       "    }\n",
       "</style>\n",
       "<table border=\"1\" class=\"dataframe\">\n",
       "  <thead>\n",
       "    <tr>\n",
       "      <th>scorer</th>\n",
       "      <th colspan=\"18\" halign=\"left\">manually_annotated_marker_positions</th>\n",
       "    </tr>\n",
       "    <tr>\n",
       "      <th>bodyparts</th>\n",
       "      <th colspan=\"3\" halign=\"left\">maze_corner_open_left</th>\n",
       "      <th colspan=\"3\" halign=\"left\">maze_corner_open_right</th>\n",
       "      <th colspan=\"3\" halign=\"left\">maze_corner_closed_right</th>\n",
       "      <th colspan=\"3\" halign=\"left\">maze_corner_closed_left</th>\n",
       "      <th colspan=\"3\" halign=\"left\">Schraube1_unten</th>\n",
       "      <th colspan=\"3\" halign=\"left\">Schraube1_Mutter</th>\n",
       "    </tr>\n",
       "    <tr>\n",
       "      <th>coords</th>\n",
       "      <th>x</th>\n",
       "      <th>y</th>\n",
       "      <th>likelihood</th>\n",
       "      <th>x</th>\n",
       "      <th>y</th>\n",
       "      <th>likelihood</th>\n",
       "      <th>x</th>\n",
       "      <th>y</th>\n",
       "      <th>likelihood</th>\n",
       "      <th>x</th>\n",
       "      <th>y</th>\n",
       "      <th>likelihood</th>\n",
       "      <th>x</th>\n",
       "      <th>y</th>\n",
       "      <th>likelihood</th>\n",
       "      <th>x</th>\n",
       "      <th>y</th>\n",
       "      <th>likelihood</th>\n",
       "    </tr>\n",
       "  </thead>\n",
       "  <tbody>\n",
       "    <tr>\n",
       "      <th>0</th>\n",
       "      <td>10</td>\n",
       "      <td>10</td>\n",
       "      <td>0.9999</td>\n",
       "      <td>10</td>\n",
       "      <td>50</td>\n",
       "      <td>0.9999</td>\n",
       "      <td>510</td>\n",
       "      <td>50</td>\n",
       "      <td>0.9999</td>\n",
       "      <td>0</td>\n",
       "      <td>0</td>\n",
       "      <td>0</td>\n",
       "      <td>0</td>\n",
       "      <td>0</td>\n",
       "      <td>0</td>\n",
       "      <td>0</td>\n",
       "      <td>0</td>\n",
       "      <td>0</td>\n",
       "    </tr>\n",
       "  </tbody>\n",
       "</table>\n",
       "</div>"
      ],
      "text/plain": [
       "scorer    manually_annotated_marker_positions                 \\\n",
       "bodyparts               maze_corner_open_left                  \n",
       "coords                                      x   y likelihood   \n",
       "0                                          10  10     0.9999   \n",
       "\n",
       "scorer                                                                        \\\n",
       "bodyparts maze_corner_open_right                maze_corner_closed_right       \n",
       "coords                         x   y likelihood                        x   y   \n",
       "0                             10  50     0.9999                      510  50   \n",
       "\n",
       "scorer                                                                         \\\n",
       "bodyparts            maze_corner_closed_left               Schraube1_unten      \n",
       "coords    likelihood                       x  y likelihood               x  y   \n",
       "0             0.9999                       0  0          0               0  0   \n",
       "\n",
       "scorer                                               \n",
       "bodyparts            Schraube1_Mutter                \n",
       "coords    likelihood                x  y likelihood  \n",
       "0                  0                0  0          0  "
      ]
     },
     "execution_count": 17,
     "metadata": {},
     "output_type": "execute_result"
    }
   ],
   "source": [
    "bottom_cam.test_position_markers_df"
   ]
  },
  {
   "cell_type": "code",
   "execution_count": 18,
   "id": "2fb0b46a-7a67-47bc-80f8-57a9f09b95d0",
   "metadata": {},
   "outputs": [],
   "source": [
    " cv2.aruco.Dictionary_get(aruco.DICT_6X6_250)"
   ]
  },
  {
   "cell_type": "code",
   "execution_count": 19,
   "id": "909c3553-9b63-40a7-8a87-6e1b68164eee",
   "metadata": {},
   "outputs": [],
   "source": [
    "from cv2 import aruco"
   ]
  },
  {
   "cell_type": "code",
   "execution_count": 20,
   "id": "ca31d96e-1b3c-471f-963a-71c1331bc233",
   "metadata": {},
   "outputs": [
    {
     "data": {
      "text/plain": [
       "10"
      ]
     },
     "execution_count": 20,
     "metadata": {},
     "output_type": "execute_result"
    }
   ],
   "source": [
    "aruco.DICT_6X6_250"
   ]
  },
  {
   "cell_type": "code",
   "execution_count": 23,
   "id": "2f3b2935-469f-4288-8ff6-cfd7bc6ca9ec",
   "metadata": {},
   "outputs": [
    {
     "data": {
      "text/plain": [
       "True"
      ]
     },
     "execution_count": 23,
     "metadata": {},
     "output_type": "execute_result"
    }
   ],
   "source": [
    "type(aruco.Dictionary_get(aruco.DICT_6X6_250)) == aruco.Dictionary"
   ]
  },
  {
   "cell_type": "code",
   "execution_count": 26,
   "id": "8a958735-2a57-42c2-b98e-3e88c0998f96",
   "metadata": {},
   "outputs": [],
   "source": [
    "use_own_intrinsic_calibration = False"
   ]
  },
  {
   "cell_type": "code",
   "execution_count": 27,
   "id": "447b8696-fb78-44ee-a169-b40874031c41",
   "metadata": {},
   "outputs": [
    {
     "data": {
      "text/plain": [
       "True"
      ]
     },
     "execution_count": 27,
     "metadata": {},
     "output_type": "execute_result"
    }
   ],
   "source": [
    "not use_own_intrinsic_calibration"
   ]
  },
  {
   "cell_type": "code",
   "execution_count": 28,
   "id": "712728dc-6c14-4851-9b04-1e0dd92eab8c",
   "metadata": {},
   "outputs": [
    {
     "name": "stdout",
     "output_type": "stream",
     "text": [
      "True\n"
     ]
    }
   ],
   "source": [
    "print(not use_own_intrinsic_calibration)"
   ]
  },
  {
   "cell_type": "code",
   "execution_count": 1,
   "id": "87ebd0f8-d6f9-4a48-87f4-8fc98a68a02f",
   "metadata": {},
   "outputs": [],
   "source": [
    "import numpy as np"
   ]
  },
  {
   "cell_type": "code",
   "execution_count": null,
   "id": "5e2d8cbb-f86a-43a6-bd7d-50762b0d583c",
   "metadata": {},
   "outputs": [],
   "source": []
  },
  {
   "cell_type": "code",
   "execution_count": 15,
   "id": "a888aeb5-aa9a-4482-bbc0-fb9f0484ac02",
   "metadata": {},
   "outputs": [],
   "source": [
    "ones = np.ones(10)"
   ]
  },
  {
   "cell_type": "code",
   "execution_count": 16,
   "id": "c2e62953-c6db-4796-a24b-a62f942f75cc",
   "metadata": {},
   "outputs": [
    {
     "data": {
      "text/plain": [
       "array([1., 1., 1., 1., 1.])"
      ]
     },
     "execution_count": 16,
     "metadata": {},
     "output_type": "execute_result"
    }
   ],
   "source": [
    "ones[np.linspace(0, 10, 5, endpoint=False, dtype=int)]"
   ]
  },
  {
   "cell_type": "code",
   "execution_count": 17,
   "id": "66af214d-dffe-4008-a69d-490dd887ba86",
   "metadata": {},
   "outputs": [],
   "source": [
    "a = np.linspace(0, 10, 5, endpoint=False, dtype=int)"
   ]
  },
  {
   "cell_type": "code",
   "execution_count": 18,
   "id": "b6eaf3ef-07ac-4e90-a062-790e277bb996",
   "metadata": {},
   "outputs": [
    {
     "name": "stdout",
     "output_type": "stream",
     "text": [
      "0\n",
      "2\n",
      "4\n",
      "6\n",
      "8\n"
     ]
    }
   ],
   "source": [
    "for elem in a:\n",
    "    print(elem)"
   ]
  },
  {
   "cell_type": "code",
   "execution_count": 20,
   "id": "c72d8234-8472-4bc5-9adf-c88d9673496e",
   "metadata": {},
   "outputs": [
    {
     "data": {
      "text/plain": [
       "[0, 2, 4, 6, 8, 0, 2, 4, 6, 8, 0, 2, 4, 6, 8, 0, 2, 4, 6, 8, 0, 2, 4, 6, 8]"
      ]
     },
     "execution_count": 20,
     "metadata": {},
     "output_type": "execute_result"
    }
   ],
   "source": [
    "list(a)*5"
   ]
  },
  {
   "cell_type": "code",
   "execution_count": 24,
   "id": "95f86a64-899d-46e8-be2b-47caed84249d",
   "metadata": {},
   "outputs": [
    {
     "data": {
      "text/plain": [
       "'hund_intrinsic_calibration_results.p'"
      ]
     },
     "execution_count": 24,
     "metadata": {},
     "output_type": "execute_result"
    }
   ],
   "source": [
    "video_filename = 'hund.mpeg'\n",
    "filename = f'{video_filename[:video_filename.rfind(\".\")]}_intrinsic_calibration_results.p'\n",
    "filename"
   ]
  },
  {
   "cell_type": "code",
   "execution_count": 5,
   "id": "c5138dc6-9ada-4ba4-bdee-0b212a7b2fed",
   "metadata": {},
   "outputs": [],
   "source": [
    "a = False\n",
    "b = False"
   ]
  },
  {
   "cell_type": "code",
   "execution_count": 6,
   "id": "c7899e63-f5be-45b8-88d2-1c3e6fb2088b",
   "metadata": {},
   "outputs": [
    {
     "name": "stdout",
     "output_type": "stream",
     "text": [
      "both are false!\n"
     ]
    }
   ],
   "source": [
    "if (not a) & (not b):\n",
    "    print('both are false!')"
   ]
  },
  {
   "cell_type": "code",
   "execution_count": 7,
   "id": "50ef5f92-f1db-45fc-93d7-6a5e72843cfa",
   "metadata": {},
   "outputs": [],
   "source": [
    "hund = {'hund': 8, 'katze': (19, 20)}"
   ]
  },
  {
   "cell_type": "code",
   "execution_count": 10,
   "id": "47cca6ec-9677-43c2-9ede-dd04d55703a0",
   "metadata": {},
   "outputs": [],
   "source": [
    "hund['hund'] = 9\n",
    "hund['katze'] = ('changable', 'it is')"
   ]
  },
  {
   "cell_type": "code",
   "execution_count": 11,
   "id": "fe9db72f-fa2c-4015-b276-9fdb6c712f34",
   "metadata": {},
   "outputs": [
    {
     "data": {
      "text/plain": [
       "{'hund': 9, 'katze': ('changable', 'it is')}"
      ]
     },
     "execution_count": 11,
     "metadata": {},
     "output_type": "execute_result"
    }
   ],
   "source": [
    "hund"
   ]
  },
  {
   "cell_type": "code",
   "execution_count": 14,
   "id": "afd8a90b-fc09-4b81-9f03-0028089d4083",
   "metadata": {},
   "outputs": [],
   "source": [
    "a = False\n",
    "b = False"
   ]
  },
  {
   "cell_type": "code",
   "execution_count": 16,
   "id": "8ed43ede-b97f-4ac8-9a95-4cc5fcf9c665",
   "metadata": {},
   "outputs": [
    {
     "name": "stdout",
     "output_type": "stream",
     "text": [
      "something was true\n"
     ]
    }
   ],
   "source": [
    "if any([hund['hund'] != 10, a, b]):\n",
    "    print('something was true')"
   ]
  },
  {
   "cell_type": "code",
   "execution_count": 2,
   "id": "1c091dd6-1680-4199-b7b0-088ec87a2c84",
   "metadata": {},
   "outputs": [],
   "source": [
    "from cv2 import undistort\n",
    "\n",
    "from gait3d.utils import plot_single_frame_of_video"
   ]
  },
  {
   "cell_type": "code",
   "execution_count": null,
   "id": "b9a8e87d-1d5f-4b31-924c-d189ed594abd",
   "metadata": {},
   "outputs": [],
   "source": []
  },
  {
   "cell_type": "code",
   "execution_count": null,
   "id": "f1745f07-9cf0-43d9-b59d-ba3239709f21",
   "metadata": {},
   "outputs": [],
   "source": []
  },
  {
   "cell_type": "code",
   "execution_count": null,
   "id": "fbe20092-24d3-45a7-a31d-c523dc6cffdf",
   "metadata": {},
   "outputs": [],
   "source": []
  }
 ],
 "metadata": {
  "kernelspec": {
   "display_name": "Python 3 (ipykernel)",
   "language": "python",
   "name": "python3"
  },
  "language_info": {
   "codemirror_mode": {
    "name": "ipython",
    "version": 3
   },
   "file_extension": ".py",
   "mimetype": "text/x-python",
   "name": "python",
   "nbconvert_exporter": "python",
   "pygments_lexer": "ipython3",
   "version": "3.7.13"
  }
 },
 "nbformat": 4,
 "nbformat_minor": 5
}
