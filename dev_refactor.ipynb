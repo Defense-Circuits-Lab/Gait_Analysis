{
 "cells": [
  {
   "cell_type": "code",
   "execution_count": null,
   "id": "ed140e23-e55c-408e-8708-da6e0f1813c5",
   "metadata": {},
   "outputs": [],
   "source": [
    "%matplotlib widget"
   ]
  },
  {
   "cell_type": "code",
   "execution_count": null,
   "id": "46059d64-b8c1-4a1b-abfe-812e30bc1853",
   "metadata": {},
   "outputs": [],
   "source": [
    "from gait3d import utils\n",
    "\n",
    "from pathlib import Path"
   ]
  },
  {
   "cell_type": "code",
   "execution_count": null,
   "id": "54dc81d3-a921-4796-ae26-66aac88f9d64",
   "metadata": {},
   "outputs": [],
   "source": []
  },
  {
   "cell_type": "code",
   "execution_count": null,
   "id": "6981cf62-e8d9-4e8d-892f-c6ba7cffae3b",
   "metadata": {},
   "outputs": [],
   "source": [
    "filepath = Path('/mnt/c/Users/dsege/Downloads/OneDrive_2022-08-22/Setup_Test_220822/in_Bottom_charuco.mp4')"
   ]
  },
  {
   "cell_type": "code",
   "execution_count": null,
   "id": "8d4b2b6e-1238-4395-9cb4-76bee90eb66d",
   "metadata": {},
   "outputs": [],
   "source": [
    "utils.plot_single_frame_of_video(filepath)"
   ]
  },
  {
   "cell_type": "code",
   "execution_count": null,
   "id": "0c301f14-cd05-4782-8e99-040a3622b2eb",
   "metadata": {},
   "outputs": [],
   "source": [
    "manual_test_position_marker_coords_pred = {'hund': {'x': [0], 'y': [12], 'likelihood': [0.999]},\n",
    "                                           'katze': {'x': [123], 'y': [122], 'likelihood': [0.12]}}\n",
    "\n",
    "\n"
   ]
  },
  {
   "cell_type": "code",
   "execution_count": null,
   "id": "5822d0bf-5935-4ed7-85b3-999cdb628ca7",
   "metadata": {},
   "outputs": [],
   "source": [
    "import pandas as pd"
   ]
  },
  {
   "cell_type": "code",
   "execution_count": null,
   "id": "2a85125b-9b1a-4248-9d8c-6cba866bff00",
   "metadata": {},
   "outputs": [],
   "source": [
    "multi_index_column_names = [[], [], []]\n",
    "for marker_id in manual_test_position_marker_coords_pred.keys():\n",
    "    for column_name in (\"x\", \"y\", \"likelihood\"):\n",
    "        multi_index_column_names[0].append(\"ManualAnnotationData\")\n",
    "        multi_index_column_names[1].append(marker_id)\n",
    "        multi_index_column_names[2].append(column_name)\n",
    "multi_index = pd.MultiIndex.from_arrays(multi_index_column_names, names=('scorer', 'bodyparts', 'coords'))\n",
    "\n",
    "\n",
    "df = pd.DataFrame(data = manual_test_position_marker_coords_pred, columns = multi_index)\n"
   ]
  },
  {
   "cell_type": "code",
   "execution_count": null,
   "id": "2cfa020f-3f36-4eec-8694-7857c5af2d97",
   "metadata": {},
   "outputs": [],
   "source": [
    "df"
   ]
  },
  {
   "cell_type": "code",
   "execution_count": null,
   "id": "a43a9cb1-c068-476b-ad73-cf4f9ce5f0fd",
   "metadata": {},
   "outputs": [],
   "source": [
    "\n",
    "for scorer, marker_id, key in df.columns:\n",
    "    df[(scorer, marker_id, key)] = manual_test_position_marker_coords_pred[marker_id][key]"
   ]
  },
  {
   "cell_type": "code",
   "execution_count": null,
   "id": "e999ecd4-05aa-4349-bbb8-aa2bee4e635a",
   "metadata": {},
   "outputs": [],
   "source": [
    "df[column_multi_idx].values = 5"
   ]
  },
  {
   "cell_type": "code",
   "execution_count": null,
   "id": "2965e51e-8663-4a50-af5a-246b5abd8a09",
   "metadata": {},
   "outputs": [],
   "source": [
    "df"
   ]
  },
  {
   "cell_type": "code",
   "execution_count": null,
   "id": "d61c0e35-3ee3-4d07-b9c5-c3bdb594c4d5",
   "metadata": {},
   "outputs": [],
   "source": [
    "df[column_multi_idx]"
   ]
  },
  {
   "cell_type": "code",
   "execution_count": null,
   "id": "71136441-851b-40f9-94b8-5ce0abecfc10",
   "metadata": {},
   "outputs": [],
   "source": [
    "from pathlib import Path"
   ]
  },
  {
   "cell_type": "code",
   "execution_count": null,
   "id": "3e52616b-775a-435b-92af-dec4bfc79a65",
   "metadata": {},
   "outputs": [],
   "source": []
  },
  {
   "cell_type": "code",
   "execution_count": null,
   "id": "345087c1-41a4-43c5-ac57-7ed559cd0976",
   "metadata": {},
   "outputs": [],
   "source": [
    "filepath = Path('/mnt/c/Users/dsege/')"
   ]
  },
  {
   "cell_type": "code",
   "execution_count": null,
   "id": "09947507-ce4b-45db-a136-a94e44b1d573",
   "metadata": {},
   "outputs": [],
   "source": [
    "filepath.name.endswith('.h5')"
   ]
  },
  {
   "cell_type": "code",
   "execution_count": null,
   "id": "f7f442c2-362c-4637-9467-6c3207ff802f",
   "metadata": {},
   "outputs": [],
   "source": [
    "filepath.is_dir()"
   ]
  },
  {
   "cell_type": "code",
   "execution_count": null,
   "id": "72eb1f3e-6cfa-4b46-b87a-3c5b78646838",
   "metadata": {},
   "outputs": [],
   "source": []
  }
 ],
 "metadata": {
  "kernelspec": {
   "display_name": "Python 3 (ipykernel)",
   "language": "python",
   "name": "python3"
  },
  "language_info": {
   "codemirror_mode": {
    "name": "ipython",
    "version": 3
   },
   "file_extension": ".py",
   "mimetype": "text/x-python",
   "name": "python",
   "nbconvert_exporter": "python",
   "pygments_lexer": "ipython3",
   "version": "3.7.13"
  }
 },
 "nbformat": 4,
 "nbformat_minor": 5
}
