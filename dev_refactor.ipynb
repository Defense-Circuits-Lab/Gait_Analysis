{
 "cells": [
  {
   "cell_type": "code",
   "execution_count": 1,
   "id": "47379ef3-6dff-418f-9e32-e03832e0dc2c",
   "metadata": {},
   "outputs": [],
   "source": [
    "from gait3d import camera_calibration"
   ]
  },
  {
   "cell_type": "code",
   "execution_count": 2,
   "id": "aec059a1-c524-4cc7-bf4c-f9361b02b292",
   "metadata": {},
   "outputs": [],
   "source": [
    "test_positions = camera_calibration.TestPositionsGroundTruth()"
   ]
  },
  {
   "cell_type": "code",
   "execution_count": 5,
   "id": "f403df05-e3a6-43b2-b3e1-0275fd538b1c",
   "metadata": {},
   "outputs": [],
   "source": [
    "test_positions.add_new_marker_id(marker_id='Schraube1_unten', other_marker_ids_with_distances=[('Schraube1_Mutter', 6), ('maze_corner_open_left', 19)])"
   ]
  },
  {
   "cell_type": "code",
   "execution_count": 6,
   "id": "e991ed2a-e963-493a-b459-e4d1532da09b",
   "metadata": {},
   "outputs": [
    {
     "data": {
      "text/plain": [
       "['maze_corner_open_left',\n",
       " 'maze_corner_open_right',\n",
       " 'maze_corner_closed_right',\n",
       " 'maze_corner_closed_left',\n",
       " 'Schraube1_unten',\n",
       " 'Schraube1_Mutter']"
      ]
     },
     "execution_count": 6,
     "metadata": {},
     "output_type": "execute_result"
    }
   ],
   "source": [
    "test_positions.unique_marker_ids"
   ]
  },
  {
   "cell_type": "code",
   "execution_count": 7,
   "id": "9cd740a7-b3af-4c22-9bae-a3e256af91db",
   "metadata": {},
   "outputs": [
    {
     "data": {
      "text/plain": [
       "{'maze_corner_open_left': {'maze_corner_open_right': 4,\n",
       "  'maze_corner_closed_right': 50.15974481593781,\n",
       "  'maze_corner_closed_left': 50,\n",
       "  'Schraube1_unten': 19},\n",
       " 'maze_corner_open_right': {'maze_corner_open_left': 4,\n",
       "  'maze_corner_closed_right': 50,\n",
       "  'maze_corner_closed_left': 50.15974481593781},\n",
       " 'maze_corner_closed_right': {'maze_corner_open_left': 50.15974481593781,\n",
       "  'maze_corner_open_right': 50,\n",
       "  'maze_corner_closed_left': 4},\n",
       " 'maze_corner_closed_left': {'maze_corner_open_left': 50,\n",
       "  'maze_corner_open_right': 50.15974481593781,\n",
       "  'maze_corner_closed_right': 4},\n",
       " 'Schraube1_unten': {'Schraube1_Mutter': 6, 'maze_corner_open_left': 19},\n",
       " 'Schraube1_Mutter': {'Schraube1_unten': 6}}"
      ]
     },
     "execution_count": 7,
     "metadata": {},
     "output_type": "execute_result"
    }
   ],
   "source": [
    "test_positions.marker_ids_with_distances"
   ]
  },
  {
   "cell_type": "code",
   "execution_count": 8,
   "id": "adce32bc-e1ad-4f59-8a81-288fdd9886f3",
   "metadata": {},
   "outputs": [],
   "source": [
    "from pathlib import Path"
   ]
  },
  {
   "cell_type": "code",
   "execution_count": 9,
   "id": "7b64b7ce-df2e-462d-95a7-44f43478b4f6",
   "metadata": {},
   "outputs": [],
   "source": [
    "bottom_cam = camera_calibration.SingleCamDataForAnipose(cam_id = 'bottom', filepath_synchronized_calibration_video = Path('/mnt/c/Users/dsege/Downloads/OneDrive_2022-08-22/'))"
   ]
  },
  {
   "cell_type": "code",
   "execution_count": 10,
   "id": "53954cea-896a-4b83-973a-8182cd16bf85",
   "metadata": {},
   "outputs": [],
   "source": [
    "#add_manual_test_position_marker(self, marker_id: str, x_or_column_idx: int, y_or_row_idx: int, likelihood: float, overwrite: bool=False)"
   ]
  },
  {
   "cell_type": "code",
   "execution_count": 11,
   "id": "474ce496-6a36-46e0-b22a-bd77c9bcf9fc",
   "metadata": {},
   "outputs": [],
   "source": [
    "bottom_cam.add_manual_test_position_marker(marker_id = 'maze_corner_open_left', x_or_column_idx=10, y_or_row_idx=10, likelihood=0.9999)\n",
    "bottom_cam.add_manual_test_position_marker(marker_id = 'maze_corner_open_right', x_or_column_idx=10, y_or_row_idx=50, likelihood=0.9999)\n",
    "bottom_cam.add_manual_test_position_marker(marker_id = 'maze_corner_closed_right', x_or_column_idx=510, y_or_row_idx=50, likelihood=0.9999)\n",
    "bottom_cam.add_manual_test_position_marker(marker_id = 'maze_corner_open_closed', x_or_column_idx=500, y_or_row_idx=10, likelihood=0.9999)"
   ]
  },
  {
   "cell_type": "code",
   "execution_count": 12,
   "id": "64bec002-8832-4b66-b1a8-2e85aaf66bb4",
   "metadata": {},
   "outputs": [
    {
     "data": {
      "text/plain": [
       "{'maze_corner_open_left': {'x': [10], 'y': [10], 'likelihood': [0.9999]},\n",
       " 'maze_corner_open_right': {'x': [10], 'y': [50], 'likelihood': [0.9999]},\n",
       " 'maze_corner_closed_right': {'x': [510], 'y': [50], 'likelihood': [0.9999]},\n",
       " 'maze_corner_open_closed': {'x': [500], 'y': [10], 'likelihood': [0.9999]}}"
      ]
     },
     "execution_count": 12,
     "metadata": {},
     "output_type": "execute_result"
    }
   ],
   "source": [
    "bottom_cam.manual_test_position_marker_coords_pred"
   ]
  },
  {
   "cell_type": "code",
   "execution_count": 13,
   "id": "ae42bd3a-5481-4dc7-b1d7-28de4460adfe",
   "metadata": {},
   "outputs": [],
   "source": [
    "bottom_cam.add_manual_test_position_marker(marker_id = 'maze_corner_open_closed', x_or_column_idx=510, y_or_row_idx=10, likelihood=0.9999, overwrite=True)"
   ]
  },
  {
   "cell_type": "code",
   "execution_count": 14,
   "id": "5a7d13e8-251f-49b8-9b00-7bb593fb09a2",
   "metadata": {},
   "outputs": [
    {
     "data": {
      "text/plain": [
       "{'maze_corner_open_left': {'x': [10], 'y': [10], 'likelihood': [0.9999]},\n",
       " 'maze_corner_open_right': {'x': [10], 'y': [50], 'likelihood': [0.9999]},\n",
       " 'maze_corner_closed_right': {'x': [510], 'y': [50], 'likelihood': [0.9999]},\n",
       " 'maze_corner_open_closed': {'x': [510], 'y': [10], 'likelihood': [0.9999]}}"
      ]
     },
     "execution_count": 14,
     "metadata": {},
     "output_type": "execute_result"
    }
   ],
   "source": [
    "bottom_cam.manual_test_position_marker_coords_pred"
   ]
  },
  {
   "cell_type": "code",
   "execution_count": 15,
   "id": "b4237afa-7bbb-429c-b413-f84aee82f669",
   "metadata": {},
   "outputs": [
    {
     "name": "stdout",
     "output_type": "stream",
     "text": [
      "Your dataframe was successfully saved at: /mnt/c/Users/dsege/Downloads/bottom_manual_test_position_marker_fake.h5.\n",
      "Your \"fake DLC marker perdictions\" were successfully loaded to the SingleCamDataForAnipose object!\n"
     ]
    }
   ],
   "source": [
    "bottom_cam.save_manual_marker_coords_as_fake_dlc_output(output_filepath = Path('/mnt/c/Users/dsege/Downloads/'))"
   ]
  },
  {
   "cell_type": "code",
   "execution_count": 16,
   "id": "cce1bfce-32ad-4524-ad15-84d8d4538784",
   "metadata": {},
   "outputs": [
    {
     "name": "stdout",
     "output_type": "stream",
     "text": [
      "The following marker_ids were missing and added to the dataframe with a likelihood of 0: ['maze_corner_closed_left', 'Schraube1_unten', 'Schraube1_Mutter'].\n",
      "The following marker_ids were deleted from the dataframe, since they were not present in the ground truth: ['maze_corner_open_closed'].\n"
     ]
    }
   ],
   "source": [
    "bottom_cam.validate_test_position_marker_ids(test_positions_ground_truth=test_positions)"
   ]
  },
  {
   "cell_type": "code",
   "execution_count": 17,
   "id": "b3047b5c-140e-405f-a7b2-36cae6da24d1",
   "metadata": {},
   "outputs": [
    {
     "data": {
      "text/html": [
       "<div>\n",
       "<style scoped>\n",
       "    .dataframe tbody tr th:only-of-type {\n",
       "        vertical-align: middle;\n",
       "    }\n",
       "\n",
       "    .dataframe tbody tr th {\n",
       "        vertical-align: top;\n",
       "    }\n",
       "\n",
       "    .dataframe thead tr th {\n",
       "        text-align: left;\n",
       "    }\n",
       "</style>\n",
       "<table border=\"1\" class=\"dataframe\">\n",
       "  <thead>\n",
       "    <tr>\n",
       "      <th>scorer</th>\n",
       "      <th colspan=\"18\" halign=\"left\">manually_annotated_marker_positions</th>\n",
       "    </tr>\n",
       "    <tr>\n",
       "      <th>bodyparts</th>\n",
       "      <th colspan=\"3\" halign=\"left\">maze_corner_open_left</th>\n",
       "      <th colspan=\"3\" halign=\"left\">maze_corner_open_right</th>\n",
       "      <th colspan=\"3\" halign=\"left\">maze_corner_closed_right</th>\n",
       "      <th colspan=\"3\" halign=\"left\">maze_corner_closed_left</th>\n",
       "      <th colspan=\"3\" halign=\"left\">Schraube1_unten</th>\n",
       "      <th colspan=\"3\" halign=\"left\">Schraube1_Mutter</th>\n",
       "    </tr>\n",
       "    <tr>\n",
       "      <th>coords</th>\n",
       "      <th>x</th>\n",
       "      <th>y</th>\n",
       "      <th>likelihood</th>\n",
       "      <th>x</th>\n",
       "      <th>y</th>\n",
       "      <th>likelihood</th>\n",
       "      <th>x</th>\n",
       "      <th>y</th>\n",
       "      <th>likelihood</th>\n",
       "      <th>x</th>\n",
       "      <th>y</th>\n",
       "      <th>likelihood</th>\n",
       "      <th>x</th>\n",
       "      <th>y</th>\n",
       "      <th>likelihood</th>\n",
       "      <th>x</th>\n",
       "      <th>y</th>\n",
       "      <th>likelihood</th>\n",
       "    </tr>\n",
       "  </thead>\n",
       "  <tbody>\n",
       "    <tr>\n",
       "      <th>0</th>\n",
       "      <td>10</td>\n",
       "      <td>10</td>\n",
       "      <td>0.9999</td>\n",
       "      <td>10</td>\n",
       "      <td>50</td>\n",
       "      <td>0.9999</td>\n",
       "      <td>510</td>\n",
       "      <td>50</td>\n",
       "      <td>0.9999</td>\n",
       "      <td>0</td>\n",
       "      <td>0</td>\n",
       "      <td>0</td>\n",
       "      <td>0</td>\n",
       "      <td>0</td>\n",
       "      <td>0</td>\n",
       "      <td>0</td>\n",
       "      <td>0</td>\n",
       "      <td>0</td>\n",
       "    </tr>\n",
       "  </tbody>\n",
       "</table>\n",
       "</div>"
      ],
      "text/plain": [
       "scorer    manually_annotated_marker_positions                 \\\n",
       "bodyparts               maze_corner_open_left                  \n",
       "coords                                      x   y likelihood   \n",
       "0                                          10  10     0.9999   \n",
       "\n",
       "scorer                                                                        \\\n",
       "bodyparts maze_corner_open_right                maze_corner_closed_right       \n",
       "coords                         x   y likelihood                        x   y   \n",
       "0                             10  50     0.9999                      510  50   \n",
       "\n",
       "scorer                                                                         \\\n",
       "bodyparts            maze_corner_closed_left               Schraube1_unten      \n",
       "coords    likelihood                       x  y likelihood               x  y   \n",
       "0             0.9999                       0  0          0               0  0   \n",
       "\n",
       "scorer                                               \n",
       "bodyparts            Schraube1_Mutter                \n",
       "coords    likelihood                x  y likelihood  \n",
       "0                  0                0  0          0  "
      ]
     },
     "execution_count": 17,
     "metadata": {},
     "output_type": "execute_result"
    }
   ],
   "source": [
    "bottom_cam.test_position_markers_df"
   ]
  },
  {
   "cell_type": "code",
   "execution_count": null,
   "id": "2fb0b46a-7a67-47bc-80f8-57a9f09b95d0",
   "metadata": {},
   "outputs": [],
   "source": []
  }
 ],
 "metadata": {
  "kernelspec": {
   "display_name": "Python 3 (ipykernel)",
   "language": "python",
   "name": "python3"
  },
  "language_info": {
   "codemirror_mode": {
    "name": "ipython",
    "version": 3
   },
   "file_extension": ".py",
   "mimetype": "text/x-python",
   "name": "python",
   "nbconvert_exporter": "python",
   "pygments_lexer": "ipython3",
   "version": "3.7.13"
  }
 },
 "nbformat": 4,
 "nbformat_minor": 5
}
