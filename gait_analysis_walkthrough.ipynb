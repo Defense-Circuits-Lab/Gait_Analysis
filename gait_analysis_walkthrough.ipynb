{
 "cells": [
  {
   "cell_type": "markdown",
   "id": "ab4289a2-b6d4-4678-ab35-3a49e7c2788b",
   "metadata": {},
   "source": [
    "### Next Steps:\n",
    "## All Dimensions:\n",
    "#### - step detection von elisa, alt.: end_index detection\n",
    "#### - additional parameter (create class parameter?)\n",
    "#### - how to add angles/parameters to steps\n",
    "#### - export single bodyparts as one dataframe for neurokin\n",
    "\n",
    "## 2D:\n",
    "#### - Front Thresholds\n",
    "#### - length of gait event?\n",
    "\n",
    "## 3D:\n",
    "#### - add latest changes in 2D"
   ]
  },
  {
   "cell_type": "code",
   "execution_count": 1,
   "id": "edfa3482-1bdd-40ab-924e-44576efa663d",
   "metadata": {},
   "outputs": [],
   "source": [
    "#from mpl_toolkits.mplot3d import Axes3D\n",
    "#%matplotlib widget"
   ]
  },
  {
   "cell_type": "markdown",
   "id": "cc490b7c-524d-480b-a6b4-35b1860881a1",
   "metadata": {},
   "source": [
    "# Walkthrough 2D"
   ]
  },
  {
   "cell_type": "code",
   "execution_count": null,
   "id": "2e215176-cf67-4d2f-b104-9c6eaaea9936",
   "metadata": {},
   "outputs": [],
   "source": [
    "from gait3d.gaitanalysis import Recording2D\n",
    "from pathlib import Path\n",
    "import matplotlib.pyplot as plt"
   ]
  },
  {
   "cell_type": "code",
   "execution_count": 2,
   "id": "f577fe68-46c5-4818-adae-e53d0bee1fa7",
   "metadata": {},
   "outputs": [
    {
     "ename": "AttributeError",
     "evalue": "'PosixPath' object has no attribute 'endswith'",
     "output_type": "error",
     "traceback": [
      "\u001b[0;31m---------------------------------------------------------------------------\u001b[0m",
      "\u001b[0;31mAttributeError\u001b[0m                            Traceback (most recent call last)",
      "Input \u001b[0;32mIn [2]\u001b[0m, in \u001b[0;36m<cell line: 1>\u001b[0;34m()\u001b[0m\n\u001b[0;32m----> 1\u001b[0m bot \u001b[38;5;241m=\u001b[39m \u001b[43mRecording2D\u001b[49m\u001b[43m(\u001b[49m\u001b[43mfilepath\u001b[49m\u001b[38;5;241;43m=\u001b[39;49m\u001b[43mPath\u001b[49m\u001b[43m(\u001b[49m\u001b[38;5;124;43m\"\u001b[39;49m\u001b[38;5;124;43mtest_data/196_F7-27_220826_OTT_Bottom_synchronizedDLC_resnet152_OT_BottomCam_finalSep20shuffle1_550000filtered.h5\u001b[39;49m\u001b[38;5;124;43m\"\u001b[39;49m\u001b[43m)\u001b[49m\u001b[43m,\u001b[49m\u001b[43m \u001b[49m\u001b[43mrecorded_framerate\u001b[49m\u001b[38;5;241;43m=\u001b[39;49m\u001b[38;5;241;43m30\u001b[39;49m\u001b[43m)\u001b[49m\n\u001b[1;32m      2\u001b[0m bot\u001b[38;5;241m.\u001b[39mmetadata\n",
      "File \u001b[0;32m~/Analysis_B06/gait3d/gaitanalysis.py:40\u001b[0m, in \u001b[0;36mRecording2D.__init__\u001b[0;34m(self, filepath, recorded_framerate)\u001b[0m\n\u001b[1;32m     30\u001b[0m \u001b[38;5;124;03m\"\"\"\u001b[39;00m\n\u001b[1;32m     31\u001b[0m \u001b[38;5;124;03mConstructor for the Recording2D class.\u001b[39;00m\n\u001b[1;32m     32\u001b[0m \u001b[38;5;124;03m\u001b[39;00m\n\u001b[0;32m   (...)\u001b[0m\n\u001b[1;32m     37\u001b[0m \u001b[38;5;124;03m    recorded_framerate(int): fps of the recording\u001b[39;00m\n\u001b[1;32m     38\u001b[0m \u001b[38;5;124;03m\"\"\"\u001b[39;00m\n\u001b[1;32m     39\u001b[0m filename \u001b[38;5;241m=\u001b[39m filepath\u001b[38;5;241m.\u001b[39mname\n\u001b[0;32m---> 40\u001b[0m \u001b[38;5;28mself\u001b[39m\u001b[38;5;241m.\u001b[39mfull_df_from_file \u001b[38;5;241m=\u001b[39m \u001b[38;5;28;43mself\u001b[39;49m\u001b[38;5;241;43m.\u001b[39;49m\u001b[43m_get_df_from_file\u001b[49m\u001b[43m(\u001b[49m\u001b[43mfilepath\u001b[49m\u001b[43m \u001b[49m\u001b[38;5;241;43m=\u001b[39;49m\u001b[43m \u001b[49m\u001b[43mfilepath\u001b[49m\u001b[43m)\u001b[49m\n\u001b[1;32m     41\u001b[0m \u001b[38;5;28mself\u001b[39m\u001b[38;5;241m.\u001b[39mrecorded_framerate \u001b[38;5;241m=\u001b[39m recorded_framerate\n\u001b[1;32m     42\u001b[0m \u001b[38;5;28mself\u001b[39m\u001b[38;5;241m.\u001b[39mmetadata \u001b[38;5;241m=\u001b[39m \u001b[38;5;28mself\u001b[39m\u001b[38;5;241m.\u001b[39m_retrieve_metadata(filepath \u001b[38;5;241m=\u001b[39m filename)\n",
      "File \u001b[0;32m~/Analysis_B06/gait3d/gaitanalysis.py:54\u001b[0m, in \u001b[0;36mRecording2D._get_df_from_file\u001b[0;34m(self, filepath)\u001b[0m\n\u001b[1;32m     45\u001b[0m \u001b[38;5;28;01mdef\u001b[39;00m \u001b[38;5;21m_get_df_from_file\u001b[39m(\u001b[38;5;28mself\u001b[39m, filepath: Path)\u001b[38;5;241m-\u001b[39m\u001b[38;5;241m>\u001b[39mpd\u001b[38;5;241m.\u001b[39mDataFrame:\n\u001b[1;32m     46\u001b[0m     \u001b[38;5;124;03m\"\"\"\u001b[39;00m\n\u001b[1;32m     47\u001b[0m \u001b[38;5;124;03m    Reads the Dataframe from the h5-file and drops irrelevant columns and rows.\u001b[39;00m\n\u001b[1;32m     48\u001b[0m \u001b[38;5;124;03m    \u001b[39;00m\n\u001b[0;32m   (...)\u001b[0m\n\u001b[1;32m     52\u001b[0m \u001b[38;5;124;03m        pandas.DataFrame: the Dataframe containing all bodyparts with x, y-coordinates and likelihood as returned by DLC\u001b[39;00m\n\u001b[1;32m     53\u001b[0m \u001b[38;5;124;03m    \"\"\"\u001b[39;00m\n\u001b[0;32m---> 54\u001b[0m     \u001b[38;5;28;01mif\u001b[39;00m \u001b[43mfilepath\u001b[49m\u001b[38;5;241;43m.\u001b[39;49m\u001b[43mendswith\u001b[49m(\u001b[38;5;124m'\u001b[39m\u001b[38;5;124m.csv\u001b[39m\u001b[38;5;124m'\u001b[39m):\n\u001b[1;32m     55\u001b[0m         df \u001b[38;5;241m=\u001b[39m pd\u001b[38;5;241m.\u001b[39mread_csv(filepath)\n\u001b[1;32m     56\u001b[0m         df \u001b[38;5;241m=\u001b[39m df\u001b[38;5;241m.\u001b[39mdrop(\u001b[38;5;124m'\u001b[39m\u001b[38;5;124mscorer\u001b[39m\u001b[38;5;124m'\u001b[39m, axis\u001b[38;5;241m=\u001b[39m\u001b[38;5;241m1\u001b[39m)\n",
      "\u001b[0;31mAttributeError\u001b[0m: 'PosixPath' object has no attribute 'endswith'"
     ]
    }
   ],
   "source": [
    "bot = Recording2D(filepath=Path(\"test_data/196_F7-27_220826_OTT_Bottom_synchronizedDLC_resnet152_OT_BottomCam_finalSep20shuffle1_550000filtered.h5\"), recorded_framerate=30)\n",
    "bot.metadata"
   ]
  },
  {
   "cell_type": "code",
   "execution_count": 3,
   "id": "004fc546-165f-430c-89bb-70ad4c0a11ac",
   "metadata": {
    "tags": []
   },
   "outputs": [],
   "source": [
    "bot.run(intrinsic_camera_calibration_filepath=\"test_data/intrinsic_camera_calibrations/Bottom_checkerboard_intrinsic_calibration_results.p\", \n",
    "        xy_offset=(136, 452), \n",
    "        video_filepath='test_data/196_F7-27_220826_OTT_Bottom_synchronizedDLC_resnet152_OT_BottomCam_finalSep20shuffle1_550000_filtered_labeled.mp4')\n",
    "#bot.bodyparts['Back'].df.head()"
   ]
  },
  {
   "cell_type": "code",
   "execution_count": 4,
   "id": "ba55270a-065c-4c5f-a050-866a939288e7",
   "metadata": {},
   "outputs": [
    {
     "data": {
      "text/html": [
       "<div>\n",
       "<style scoped>\n",
       "    .dataframe tbody tr th:only-of-type {\n",
       "        vertical-align: middle;\n",
       "    }\n",
       "\n",
       "    .dataframe tbody tr th {\n",
       "        vertical-align: top;\n",
       "    }\n",
       "\n",
       "    .dataframe thead th {\n",
       "        text-align: right;\n",
       "    }\n",
       "</style>\n",
       "<table border=\"1\" class=\"dataframe\">\n",
       "  <thead>\n",
       "    <tr style=\"text-align: right;\">\n",
       "      <th></th>\n",
       "      <th>x</th>\n",
       "      <th>y</th>\n",
       "      <th>likelihood</th>\n",
       "      <th>speed_cm_per_s</th>\n",
       "      <th>rolling_speed_cm_per_s</th>\n",
       "      <th>immobility</th>\n",
       "    </tr>\n",
       "  </thead>\n",
       "  <tbody>\n",
       "    <tr>\n",
       "      <th>0</th>\n",
       "      <td>5.619031</td>\n",
       "      <td>4.285742</td>\n",
       "      <td>0.016219</td>\n",
       "      <td>NaN</td>\n",
       "      <td>NaN</td>\n",
       "      <td>False</td>\n",
       "    </tr>\n",
       "    <tr>\n",
       "      <th>1</th>\n",
       "      <td>5.372964</td>\n",
       "      <td>1.488374</td>\n",
       "      <td>0.016667</td>\n",
       "      <td>84.245070</td>\n",
       "      <td>28.606562</td>\n",
       "      <td>False</td>\n",
       "    </tr>\n",
       "    <tr>\n",
       "      <th>2</th>\n",
       "      <td>5.346844</td>\n",
       "      <td>1.485835</td>\n",
       "      <td>0.009618</td>\n",
       "      <td>0.787308</td>\n",
       "      <td>21.526548</td>\n",
       "      <td>False</td>\n",
       "    </tr>\n",
       "    <tr>\n",
       "      <th>3</th>\n",
       "      <td>5.372964</td>\n",
       "      <td>1.488374</td>\n",
       "      <td>0.010461</td>\n",
       "      <td>0.787308</td>\n",
       "      <td>17.242986</td>\n",
       "      <td>False</td>\n",
       "    </tr>\n",
       "    <tr>\n",
       "      <th>4</th>\n",
       "      <td>5.382476</td>\n",
       "      <td>1.487521</td>\n",
       "      <td>0.007757</td>\n",
       "      <td>0.286507</td>\n",
       "      <td>0.795317</td>\n",
       "      <td>True</td>\n",
       "    </tr>\n",
       "  </tbody>\n",
       "</table>\n",
       "</div>"
      ],
      "text/plain": [
       "          x         y  likelihood  speed_cm_per_s  rolling_speed_cm_per_s  \\\n",
       "0  5.619031  4.285742    0.016219             NaN                     NaN   \n",
       "1  5.372964  1.488374    0.016667       84.245070               28.606562   \n",
       "2  5.346844  1.485835    0.009618        0.787308               21.526548   \n",
       "3  5.372964  1.488374    0.010461        0.787308               17.242986   \n",
       "4  5.382476  1.487521    0.007757        0.286507                0.795317   \n",
       "\n",
       "   immobility  \n",
       "0       False  \n",
       "1       False  \n",
       "2       False  \n",
       "3       False  \n",
       "4        True  "
      ]
     },
     "execution_count": 4,
     "metadata": {},
     "output_type": "execute_result"
    }
   ],
   "source": [
    "bot.bodyparts['Snout'].df.head()"
   ]
  },
  {
   "cell_type": "code",
   "execution_count": 5,
   "id": "fd8f299d-c3b7-45a3-8ced-673e4b151b51",
   "metadata": {},
   "outputs": [
    {
     "data": {
      "text/plain": [
       "over_total_session    0.967119\n",
       "over_gait_events      0.967119\n",
       "Name: HindPawRight, dtype: float64"
      ]
     },
     "execution_count": 5,
     "metadata": {},
     "output_type": "execute_result"
    }
   ],
   "source": [
    "bot.tracking_performance[('HindPawRight')]"
   ]
  },
  {
   "cell_type": "code",
   "execution_count": 6,
   "id": "3ff73f48-779c-48b4-9314-26c954fdd006",
   "metadata": {
    "tags": []
   },
   "outputs": [],
   "source": [
    "bot.get_freezing_bouts()"
   ]
  },
  {
   "cell_type": "code",
   "execution_count": 7,
   "id": "9d5de186-f94f-4c85-96d5-d0cd0f5a24b1",
   "metadata": {
    "tags": []
   },
   "outputs": [],
   "source": [
    "bot.run_gait_analysis()"
   ]
  },
  {
   "cell_type": "code",
   "execution_count": 8,
   "id": "c0a52762-6175-410a-aab0-4d4a851e9afa",
   "metadata": {},
   "outputs": [
    {
     "data": {
      "text/html": [
       "<div>\n",
       "<style scoped>\n",
       "    .dataframe tbody tr th:only-of-type {\n",
       "        vertical-align: middle;\n",
       "    }\n",
       "\n",
       "    .dataframe tbody tr th {\n",
       "        vertical-align: top;\n",
       "    }\n",
       "\n",
       "    .dataframe thead th {\n",
       "        text-align: right;\n",
       "    }\n",
       "</style>\n",
       "<table border=\"1\" class=\"dataframe\">\n",
       "  <thead>\n",
       "    <tr style=\"text-align: right;\">\n",
       "      <th></th>\n",
       "      <th>start_index</th>\n",
       "      <th>facing_towards_open_end</th>\n",
       "      <th>freezing_threshold_reached</th>\n",
       "      <th>duration_in_s</th>\n",
       "      <th>x_position</th>\n",
       "    </tr>\n",
       "  </thead>\n",
       "  <tbody>\n",
       "    <tr>\n",
       "      <th>0</th>\n",
       "      <td>36</td>\n",
       "      <td>False</td>\n",
       "      <td>False</td>\n",
       "      <td>0.033333</td>\n",
       "      <td>4.708766</td>\n",
       "    </tr>\n",
       "    <tr>\n",
       "      <th>1</th>\n",
       "      <td>42</td>\n",
       "      <td>False</td>\n",
       "      <td>True</td>\n",
       "      <td>1.166667</td>\n",
       "      <td>3.183418</td>\n",
       "    </tr>\n",
       "    <tr>\n",
       "      <th>2</th>\n",
       "      <td>179</td>\n",
       "      <td>True</td>\n",
       "      <td>False</td>\n",
       "      <td>0.066667</td>\n",
       "      <td>4.677951</td>\n",
       "    </tr>\n",
       "    <tr>\n",
       "      <th>3</th>\n",
       "      <td>186</td>\n",
       "      <td>True</td>\n",
       "      <td>False</td>\n",
       "      <td>0.100000</td>\n",
       "      <td>4.577312</td>\n",
       "    </tr>\n",
       "    <tr>\n",
       "      <th>4</th>\n",
       "      <td>253</td>\n",
       "      <td>True</td>\n",
       "      <td>False</td>\n",
       "      <td>0.066667</td>\n",
       "      <td>3.819291</td>\n",
       "    </tr>\n",
       "    <tr>\n",
       "      <th>...</th>\n",
       "      <td>...</td>\n",
       "      <td>...</td>\n",
       "      <td>...</td>\n",
       "      <td>...</td>\n",
       "      <td>...</td>\n",
       "    </tr>\n",
       "    <tr>\n",
       "      <th>386</th>\n",
       "      <td>17516</td>\n",
       "      <td>True</td>\n",
       "      <td>False</td>\n",
       "      <td>0.266667</td>\n",
       "      <td>3.214844</td>\n",
       "    </tr>\n",
       "    <tr>\n",
       "      <th>387</th>\n",
       "      <td>17525</td>\n",
       "      <td>True</td>\n",
       "      <td>False</td>\n",
       "      <td>0.233333</td>\n",
       "      <td>3.375911</td>\n",
       "    </tr>\n",
       "    <tr>\n",
       "      <th>388</th>\n",
       "      <td>17534</td>\n",
       "      <td>True</td>\n",
       "      <td>False</td>\n",
       "      <td>0.066667</td>\n",
       "      <td>3.356777</td>\n",
       "    </tr>\n",
       "    <tr>\n",
       "      <th>389</th>\n",
       "      <td>17716</td>\n",
       "      <td>True</td>\n",
       "      <td>False</td>\n",
       "      <td>0.133333</td>\n",
       "      <td>37.555951</td>\n",
       "    </tr>\n",
       "    <tr>\n",
       "      <th>390</th>\n",
       "      <td>17799</td>\n",
       "      <td>True</td>\n",
       "      <td>False</td>\n",
       "      <td>0.066667</td>\n",
       "      <td>31.862217</td>\n",
       "    </tr>\n",
       "  </tbody>\n",
       "</table>\n",
       "<p>391 rows × 5 columns</p>\n",
       "</div>"
      ],
      "text/plain": [
       "     start_index  facing_towards_open_end  freezing_threshold_reached  \\\n",
       "0             36                    False                       False   \n",
       "1             42                    False                        True   \n",
       "2            179                     True                       False   \n",
       "3            186                     True                       False   \n",
       "4            253                     True                       False   \n",
       "..           ...                      ...                         ...   \n",
       "386        17516                     True                       False   \n",
       "387        17525                     True                       False   \n",
       "388        17534                     True                       False   \n",
       "389        17716                     True                       False   \n",
       "390        17799                     True                       False   \n",
       "\n",
       "     duration_in_s  x_position  \n",
       "0         0.033333    4.708766  \n",
       "1         1.166667    3.183418  \n",
       "2         0.066667    4.677951  \n",
       "3         0.100000    4.577312  \n",
       "4         0.066667    3.819291  \n",
       "..             ...         ...  \n",
       "386       0.266667    3.214844  \n",
       "387       0.233333    3.375911  \n",
       "388       0.066667    3.356777  \n",
       "389       0.133333   37.555951  \n",
       "390       0.066667   31.862217  \n",
       "\n",
       "[391 rows x 5 columns]"
      ]
     },
     "execution_count": 8,
     "metadata": {},
     "output_type": "execute_result"
    }
   ],
   "source": [
    "bot.immobility_bout_df"
   ]
  },
  {
   "cell_type": "code",
   "execution_count": null,
   "id": "11a4968b-c8b8-4b64-81d5-1d03ce2321df",
   "metadata": {},
   "outputs": [],
   "source": []
  },
  {
   "cell_type": "code",
   "execution_count": 10,
   "id": "0d30569c-3545-4d9c-8b34-3c102c9b76dc",
   "metadata": {
    "tags": []
   },
   "outputs": [
    {
     "data": {
      "image/png": "[encoded data removed]",
      "text/plain": [
       "<Figure size 640x480 with 1 Axes>"
      ]
     },
     "metadata": {},
     "output_type": "display_data"
    },
    {
     "name": "stdout",
     "output_type": "stream",
     "text": [
      "10\n"
     ]
    }
   ],
   "source": [
    "import matplotlib.pyplot as plt\n",
    "plt.close()\n",
    "fig, ax = plt.subplots()\n",
    "ax.set_aspect('equal')\n",
    "plt.plot([0, 50, 50, 0, 0], [5, 5, 0, 0, 5], alpha=0)\n",
    "\n",
    "i = 0\n",
    "for event in bot.gait_disruption_bouts:\n",
    "    if event.facing_towards_open_end:\n",
    "        if event.duration > 0.2:\n",
    "            plt.vlines(event.x_position, 0, 5, alpha=1)\n",
    "            i += 1\n",
    "plt.show()\n",
    "print(i)\n",
    "#bot.turns_to_closed_after_gait"
   ]
  },
  {
   "cell_type": "code",
   "execution_count": 37,
   "id": "0f0bdb92-5889-4173-b438-8700051c1626",
   "metadata": {
    "tags": []
   },
   "outputs": [
    {
     "data": {
      "application/vnd.jupyter.widget-view+json": {
       "model_id": "eb3d84d6b9ca4d40a42e3bd199a6b9fc",
       "version_major": 2,
       "version_minor": 0
      },
      "image/png": "[encoded data removed]",
      "text/html": [
       "\n",
       "            <div style=\"display: inline-block;\">\n",
       "                <div class=\"jupyter-widgets widget-label\" style=\"text-align: center;\">\n",
       "                    Figure\n",
       "                </div>\n",
       "                <img src='data:image/png;base64,iVBORw0KGgoAAAANSUhEUgAAAoAAAAHgCAYAAAA10dzkAAAAOXRFWHRTb2Z0d2FyZQBNYXRwbG90bGliIHZlcnNpb24zLjUuMiwgaHR0cHM6Ly9tYXRwbG90bGliLm9yZy8qNh9FAAAACXBIWXMAAA9hAAAPYQGoP6dpAAATxUlEQVR4nO3db2zVd73A8c9pu5aJUKcgpVKw+6eOATcrunWRzThtLtFlzpjMxRgS9cFkMyNojLib0Jk5iA+ImrmZRWPUJ+zB/lxv4pLVuJUZgmGsSIPbLgkMOoEhu9I27FIC/d4HXk6ssBu9nNMD+7xeyUl2fr9zmk8+Pet58ystlVJKCQAA0mhq9AAAAEwvAQgAkIwABABIRgACACQjAAEAkhGAAADJCEAAgGQEIABAMgIQACAZAQgAkIwABABIRgACACQjAAEAkhGAAADJCEAAgGQEIABAMgIQACAZAQgAkIwABABIRgACACQjAAEAkhGAAADJCEAAgGQEIABAMgIQACAZAQgAkIwABABIRgACACQjAAEAkhGAAADJCEAAgGQEIABAMgIQACAZAQgAkIwABABIRgACACQjAAEAkhGAAADJCEAAgGQEIABAMgIQACAZAQgAkIwABABIRgACACQjAAEAkhGAAADJCEAAgGQEIABAMgIQACAZAQgAkIwABABIRgACACQjAAEAkhGAAADJCEAAgGQEIABAMgIQACAZAQgAkIwABABIRgACACQjAAEAkhGAAADJCEAAgGQEIABAMgIQACAZAQgAkIwABABIRgACACQjAAEAkhGAAADJCEAAgGQEIABAMgIQACAZAQgAkIwABABIRgACACQjAAEAkhGAAADJCEAAgGQEIABAMgIQACAZAQgAkIwABABIRgACACQjAAEAkhGAAADJCEAAgGQEIABAMgIQACAZAQgAkIwABABIRgACACQjAAEAkhGAAADJCEAAgGQEIABAMgIQACAZAQgAkIwABABIRgACACQjAAEAkhGAAADJCEAAgGQEIABAMgIQACAZAQgAkIwABABIRgACACQjAAEAkhGAAADJCEAAgGQEIABAMgIQACAZAQgAkIwABABIRgACACQjAAEAkhGAAADJCEAAgGQEIABAMgIQACAZAQgAkIwABABIRgACACQjAAEAkhGAAADJCEAAgGQEIABAMgIQACAZAQgAkIwABABIRgACACQjAAEAkhGAAADJCEAAgGQEIABAMgIQACAZAQgAkIwABABIRgACACQjAAEAkhGAAADJCEAAgGQEIABAMgIQACAZAQgAkIwABABIRgACACQjAAEAkhGAAADJCEAAgGQEIABAMgIQACAZAQgAkIwABABIRgACACQjAAEAkhGAAADJCEAAgGQEIABAMgIQACAZAQgAkIwABABIRgACACQjAAEAkhGAAADJCEAAgGQEIABAMgIQACAZAQgAkIwABABIRgACACQjAAEAkhGAAADJCEAAgGQEIABAMgIQACAZAQgAkIwABABIRgACACQjAAEAkhGAAADJCEAAgGQEIABAMgIQACAZAQgAkIwABABIRgACACQjAAEAkhGAAADJCEAAgGQEIABAMgIQACAZAQgAkIwABABIRgACACQjAAEAkhGAAADJCEAAgGQEIABAMgIQACAZAQgAkIwABABIRgACACQjAAEAkhGAAADJCEAAgGQEIABAMgIQACAZAQgAkIwABABIRgACACQjAAEAkhGAAADJpA3A/v7+qFQqU24dHR2NHgsAoO5aGj1AIy1evDh+85vfVO83Nzc3cBoAgOmROgBbWlrO66rf5ORkHDx4MGbNmhWVSqWGkwEA9VJKifHx8ejs7IymppzfDE0dgHv27InOzs5oa2uL66+/Ph588MG4/PLL/+HnHzx4MLq6uuo4IQBQLyMjI7FgwYJGj9EQlVJKafQQjfD000/Hm2++GVdffXW8/vrr8cADD8TLL78cu3fvjve85z3nfM7ExERMTExU74+OjsbChQtjZGQkZs+ePV2jAwDnYWxsLLq6uuLYsWPR3t7e6HEaIm0A/r3jx4/HFVdcEd/85jdj7dq153xMf39/3H///WcdHx0dbXgATk6W2H1wLCIiFnf+dZY/vHYstrzy55gsJUqUqFQq0XXZO6JjVmv825O74uDoyZg9syXe1doUr/7XyTgVEc0R8f7LWuKNExHtlzbH8oWXRaWpEsMjx2L/X05Ea1PEdQvfFVfOnRlP7Tocb56cjH+9Zm48ePu/xIwZLVNmmfzfl1ZTpRKLO2dHU1PlLef923Nnzg//aTT2/vl4vH/OO6KpUjnnxznfPf1fH+ufeex0+WdmOnVqMv5j16GIiLh16fxoabk4vs1R771fiJ/X6fJWXycG//PPUSZLRClRaW6Km66cE83NTTX5f+6MU6cm49//cDD+9Jf/jpuumhNLu94VEVGTz8XkZImdB/4Sj7/4p5g7uy1W33RFtLY2p/5c838bGxuL9vb2C+L9u1EujneEaTBz5sxYsmRJ7Nmz5y0fs27duhgdHa3eRkZGpnFCAIDaSP13AP/WxMREvPTSS7FixYq3fExbW1u0tbVN41QAALWX9grgN77xjRgcHIx9+/bF73//+/jc5z4XY2NjsWrVqkaPBgBQV2mvAL722mtx5513xtGjR2Pu3Llxww03xLZt22LRokWNHg0AoK7SBuDmzZsbPQIAQEOk/RYwAEBWAhAAIBkBCACQjAAEAEhGAAIAJCMAAQCSEYAAAMkIQACAZAQgAEAyAhAAIBkBCACQjAAEAEhGAAIAJCMAAQCSEYAAAMkIQACAZAQgAEAyAhAAIBkBCACQjAAEAEhGAAIAJCMAAQCSEYAAAMkIQACAZAQgAEAyAhAAIBkBCACQjAAEAEhGAAIAJCMAAQCSEYAAAMkIQACAZAQgAEAyAhAAIJn0Afjwww9Hd3d3zJgxI3p6euL5559v9EgAAHWVOgAfe+yxWLNmTdx3330xNDQUK1asiJUrV8aBAwcaPRoAQN2kDsBNmzbFl7/85fjKV74SH/rQh+L73/9+dHV1xSOPPNLo0QAA6iZtAJ48eTJ27NgRfX19U4739fXF1q1bGzQVAED9tTR6gEY5evRonD59OubNmzfl+Lx58+Lw4cPnfM7ExERMTExU74+NjdV1RgCAeqiUUkqjh2iEgwcPxvve977YunVr9Pb2Vo9/97vfjV/+8pfx8ssvn/Wc/v7+uP/++886Pjo6GrNnz67rvABAbYyNjUV7e3vq9++0VwDnzJkTzc3NZ13tO3LkyFlXBc9Yt25drF27tnp/dHQ0Fi5c6EogAFxEzrxvJ70GFhGJA7C1tTV6enpiYGAgbr/99urxgYGBuO222875nLa2tmhra6veP/MC6urqqu+wAEDNjY+PR3t7e6PHaIi0ARgRsXbt2vjiF78Yy5cvj97e3nj00UfjwIEDcdddd/1Dz+/s7IyRkZGYNWtWVCqVms42NjYWXV1dMTIykvby9HSw5+lhz9PDnqeHPU+Peu65lBLj4+PR2dlZ0497MUkdgHfccUe88cYb8Z3vfCcOHToU1157bfz617+ORYsW/UPPb2pqigULFtR1xtmzZ/sCMw3seXrY8/Sw5+lhz9OjXnvOeuXvjNQBGBGxevXqWL16daPHAACYNml/DyAAQFYC8ALV1tYW69evn/JDJ9SePU8Pe54e9jw97Hl62HN9pf09gAAAWbkCCACQjAAEAEhGAAIAJCMAAQCSEYAXoIcffji6u7tjxowZ0dPTE88//3yjR7qobdmyJW699dbo7OyMSqUSTz311JTzpZTo7++Pzs7OuPTSS+NjH/tY7N69uzHDXsQ2bNgQH/7wh2PWrFnx3ve+Nz7zmc/EK6+8MuUxdn3+HnnkkVi6dGn1l+P29vbG008/XT1vx/WxYcOGqFQqsWbNmuoxu66N/v7+qFQqU24dHR3V8/ZcHwLwAvPYY4/FmjVr4r777ouhoaFYsWJFrFy5Mg4cONDo0S5ax48fj2XLlsVDDz10zvPf+973YtOmTfHQQw/F9u3bo6OjIz75yU/G+Pj4NE96cRscHIy77747tm3bFgMDA3Hq1Kno6+uL48ePVx9j1+dvwYIFsXHjxnjhhRfihRdeiI9//ONx2223Vd8Q7bj2tm/fHo8++mgsXbp0ynG7rp3FixfHoUOHqrfh4eHqOXuuk8IF5SMf+Ui56667phz74Ac/WL71rW81aKK3l4goTz75ZPX+5ORk6ejoKBs3bqweO3HiRGlvby8//vGPGzDh28eRI0dKRJTBwcFSil3X02WXXVZ+8pOf2HEdjI+Pl6uuuqoMDAyUm2++udx7772lFK/nWlq/fn1ZtmzZOc/Zc/24AngBOXnyZOzYsSP6+vqmHO/r64utW7c2aKq3t3379sXhw4en7LytrS1uvvlmOz9Po6OjERHx7ne/OyLsuh5Onz4dmzdvjuPHj0dvb68d18Hdd98dn/rUp+ITn/jElON2XVt79uyJzs7O6O7ujs9//vOxd+/eiLDnekr/bwFfSI4ePRqnT5+OefPmTTk+b968OHz4cIOmens7s9dz7Xz//v2NGOltoZQSa9eujY9+9KNx7bXXRoRd19Lw8HD09vbGiRMn4p3vfGc8+eSTcc0111TfEO24NjZv3hwvvvhibN++/axzXs+1c/3118cvfvGLuPrqq+P111+PBx54IG688cbYvXu3PdeRALwAVSqVKfdLKWcdo7bsvLbuueee2LVrV/zud78765xdn78PfOADsXPnzjh27Fg8/vjjsWrVqhgcHKyet+PzNzIyEvfee28888wzMWPGjLd8nF2fv5UrV1b/e8mSJdHb2xtXXHFF/PznP48bbrghIuy5HnwL+AIyZ86caG5uPutq35EjR8760w+1ceYnzey8dr72ta/Fr371q3j22WdjwYIF1eN2XTutra1x5ZVXxvLly2PDhg2xbNmy+MEPfmDHNbRjx444cuRI9PT0REtLS7S0tMTg4GD88Ic/jJaWluo+7br2Zs6cGUuWLIk9e/Z4TdeRALyAtLa2Rk9PTwwMDEw5PjAwEDfeeGODpnp76+7ujo6Ojik7P3nyZAwODtr5P6mUEvfcc0888cQT8dvf/ja6u7unnLfr+imlxMTEhB3X0C233BLDw8Oxc+fO6m358uXxhS98IXbu3BmXX365XdfJxMREvPTSSzF//nyv6Xpq2I+fcE6bN28ul1xySfnpT39a/vjHP5Y1a9aUmTNnlldffbXRo120xsfHy9DQUBkaGioRUTZt2lSGhobK/v37SymlbNy4sbS3t5cnnniiDA8PlzvvvLPMnz+/jI2NNXjyi8tXv/rV0t7eXp577rly6NCh6u3NN9+sPsauz9+6devKli1byr59+8quXbvKt7/97dLU1FSeeeaZUood19Pf/hRwKXZdK1//+tfLc889V/bu3Vu2bdtWPv3pT5dZs2ZV3/fsuT4E4AXoRz/6UVm0aFFpbW0t1113XfXXaPD/8+yzz5aIOOu2atWqUspff83A+vXrS0dHR2lrays33XRTGR4ebuzQF6Fz7Tgiys9+9rPqY+z6/H3pS1+qfn2YO3duueWWW6rxV4od19PfB6Bd18Ydd9xR5s+fXy655JLS2dlZPvvZz5bdu3dXz9tzfVRKKaUx1x4BAGgEfwcQACAZAQgAkIwABABIRgACACQjAAEAkhGAAADJCEAAgGQEIABAMgIQACAZAQgAkIwABABIRgACACQjAAEAkhGAAADJCEAAgGQEIABAMgIQACAZAQgAkIwABABIRgACACQjAAEAkhGAAADJCEAAgGQEIABAMgIQACAZAQgAkIwABABIRgACACQjAAEAkhGAAADJCEAAgGQEIABAMgIQACAZAQgAkIwABABIRgACACQjAAEAkhGAAADJCEAAgGQEIABAMgIQACAZAQgAkIwABABIRgACACQjAAEAkhGAAADJCEAAgGQEIABAMgIQACAZAQgAkIwABABIRgACACQjAAEAkhGAAADJCEAAgGQEIABAMgIQACAZAQgAkIwABABIRgACACQjAAEAkhGAAADJCEAAgGQEIABAMgIQACAZAQgAkIwABABIRgACACQjAAEAkhGAAADJCEAAgGQEIABAMgIQACAZAQgAkIwABABIRgACACQjAAEAkhGAAADJCEAAgGQEIABAMgIQACAZAQgAkIwABABIRgACACQjAAEAkhGAAADJCEAAgGQEIABAMgIQACAZAQgAkIwABABIRgACACQjAAEAkhGAAADJCEAAgGQEIABAMgIQACAZAQgAkIwABABIRgACACQjAAEAkhGAAADJCEAAgGQEIABAMgIQACAZAQgAkIwABABIRgACACQjAAEAkhGAAADJCEAAgGQEIABAMgIQACAZAQgAkIwABABIRgACACQjAAEAkhGAAADJCEAAgGQEIABAMgIQACAZAQgAkIwABABIRgACACQjAAEAkhGAAADJCEAAgGQEIABAMgIQACAZAQgAkIwABABIRgACACQjAAEAkhGAAADJCEAAgGQEIABAMgIQACAZAQgAkIwABABIRgACACQjAAEAkhGAAADJCEAAgGQEIABAMgIQACAZAQgAkIwABABIRgACACQjAAEAkhGAAADJCEAAgGQEIABAMgIQACAZAQgAkIwABABIRgACACQjAAEAkhGAAADJCEAAgGQEIABAMgIQACAZAQgAkIwABABIRgACACQjAAEAkhGAAADJCEAAgGQEIABAMgIQACAZAQgAkIwABABIRgACACQjAAEAkhGAAADJCEAAgGQEIABAMgIQACAZAQgAkIwABABIRgACACQjAAEAkhGAAADJCEAAgGQEIABAMgIQACAZAQgAkIwABABIRgACACQjAAEAkhGAAADJCEAAgGT+Bwl1rsQgmi1EAAAAAElFTkSuQmCC' width=640.0/>\n",
       "            </div>\n",
       "        "
      ],
      "text/plain": [
       "Canvas(toolbar=Toolbar(toolitems=[('Home', 'Reset original view', 'home', 'home'), ('Back', 'Back to previous …"
      ]
     },
     "metadata": {},
     "output_type": "display_data"
    }
   ],
   "source": [
    "plt.close()\n",
    "fig, ax = plt.subplots()\n",
    "ax.set_aspect('equal')\n",
    "plt.plot([0, 50, 50, 0, 0], [5, 5, 0, 0, 5], alpha=0)\n",
    "for bout in bot.gait_disruption_bouts:\n",
    "    plt.vlines(bout.dict['x_position'], 0, 5, alpha=0.2)\n",
    "plt.show()"
   ]
  },
  {
   "cell_type": "code",
   "execution_count": 39,
   "id": "fc445eeb-3f42-4be3-9f89-86082d1e2e38",
   "metadata": {},
   "outputs": [
    {
     "data": {
      "text/plain": [
       "391"
      ]
     },
     "execution_count": 39,
     "metadata": {},
     "output_type": "execute_result"
    }
   ],
   "source": [
    "len(bot.immobility_bouts)"
   ]
  },
  {
   "cell_type": "markdown",
   "id": "3bdfe485-e1a7-4cab-8dca-a237f4865518",
   "metadata": {},
   "source": [
    "### Walkthrough 3D"
   ]
  },
  {
   "cell_type": "code",
   "execution_count": null,
   "id": "e8030052-ab98-4b39-9bb6-c80d62898e62",
   "metadata": {},
   "outputs": [],
   "source": [
    "from gait3d.gaitanalysis import Recording3D"
   ]
  },
  {
   "cell_type": "code",
   "execution_count": null,
   "id": "ebf0cfbd-9641-4b3c-9c21-1c9690713903",
   "metadata": {},
   "outputs": [],
   "source": [
    "rec = Recording3D(filepath = \"196_F7-27_220826_OTT.csv\", recorded_framerate = 30)\n",
    "rec.metadata"
   ]
  },
  {
   "cell_type": "code",
   "execution_count": null,
   "id": "6f3da4c3-4290-4003-b308-5d09c916d169",
   "metadata": {},
   "outputs": [],
   "source": [
    "import numpy as np\n",
    "sum([np.NaN, 3, 6])/3"
   ]
  },
  {
   "cell_type": "code",
   "execution_count": null,
   "id": "2026e0d0-c5a1-4b40-a878-2c9d18f9b8d0",
   "metadata": {},
   "outputs": [],
   "source": [
    "rec.run()\n",
    "rec.bodyparts[\"TailBase\"].df.head()"
   ]
  },
  {
   "cell_type": "code",
   "execution_count": null,
   "id": "5311c9a2-918c-43ef-bfa4-d1e976258a2e",
   "metadata": {},
   "outputs": [],
   "source": [
    "rec.get_freezing_bouts()\n",
    "rec.freezing_bouts"
   ]
  },
  {
   "cell_type": "code",
   "execution_count": null,
   "id": "7783ec44-6cd3-4c7f-933e-f8a24c17d73f",
   "metadata": {},
   "outputs": [],
   "source": [
    "rec.run_gait_analysis()"
   ]
  },
  {
   "cell_type": "code",
   "execution_count": null,
   "id": "04e9aded-49ea-4865-95fa-6706f2ee770f",
   "metadata": {},
   "outputs": [],
   "source": [
    "plt.close()\n",
    "fig, ax = plt.subplots()\n",
    "ax.set_aspect('equal')\n",
    "plt.plot([0, 50, 50, 0, 0], [5, 5, 0, 0, 5], alpha=0)\n",
    "\n",
    "\n",
    "for event in rec.turns_to_closed_after_gait:\n",
    "    #if event.facing_towards_open_end:\n",
    "    plt.vlines(event.x_position, 0, 5, alpha=0.5)\n",
    "plt.show()"
   ]
  },
  {
   "cell_type": "code",
   "execution_count": null,
   "id": "9577beb4-86d8-48ae-b621-8f0795d6e686",
   "metadata": {},
   "outputs": [],
   "source": [
    "rec.tracking_stability[['IliacCrestRight', 'HipRight', 'HindKneeRight', 'BackAngleRight', 'HindPawRight']]"
   ]
  },
  {
   "cell_type": "code",
   "execution_count": null,
   "id": "1af9cab8-6808-4b2d-bbcc-a61bcd7d396c",
   "metadata": {},
   "outputs": [],
   "source": [
    "rec.tracking_stability[['IliacCrestLeft', 'HipLeft', 'HindKneeLeft', 'BackAnkleLeft', 'HindPawLeft']]"
   ]
  },
  {
   "cell_type": "code",
   "execution_count": null,
   "id": "e48b6da2-373e-40b6-9314-ba3fba00db87",
   "metadata": {},
   "outputs": [],
   "source": [
    "rec.tracking_stability[['ShoulderRight', 'ElbowRight', 'WristRight', 'ForePawRight']]"
   ]
  },
  {
   "cell_type": "code",
   "execution_count": null,
   "id": "a82f1795-453c-45a4-83ef-1065f676b00e",
   "metadata": {},
   "outputs": [],
   "source": [
    "rec.tracking_stability[['ShoulderLeft', 'ElbowLeft', 'WristLeft', 'ForePawLeft']]"
   ]
  },
  {
   "cell_type": "code",
   "execution_count": null,
   "id": "c025ac77-2b3b-4053-9b42-4060c76c0c6a",
   "metadata": {},
   "outputs": [],
   "source": []
  },
  {
   "cell_type": "markdown",
   "id": "2c0ec291-e5c7-4aa6-8928-4005ae7ebe9b",
   "metadata": {},
   "source": [
    "# To be implemented"
   ]
  },
  {
   "cell_type": "code",
   "execution_count": null,
   "id": "18a2742f-af83-4a6f-82d7-08d5f0fe7b16",
   "metadata": {},
   "outputs": [],
   "source": []
  },
  {
   "cell_type": "code",
   "execution_count": null,
   "id": "fb9db844-c5ac-476c-b72b-321dc4b07877",
   "metadata": {},
   "outputs": [],
   "source": [
    "# 3D visualization\n",
    "from mpl_toolkits.mplot3d import Axes3D\n",
    "from matplotlib.patches import Rectangle, Polygon, PathPatch\n",
    "import mpl_toolkits.mplot3d.art3d as art3d\n",
    "import matplotlib.path as mpath\n",
    "import matplotlib.patches as mpatches\n",
    "\n",
    "def plot_frames_3d(index, bodyparts, paradigm=None):\n",
    "    plt.close()\n",
    "    scheme = [[\"TailBase\", \"TailQuarterAnt\", \"TaiMiddle\", \"TailQuarterPost\", \"TailEnd\"]]\n",
    "    fig = plt.figure(figsize=(8, 6))\n",
    "    ax = fig.add_subplot(111, projection='3d')\n",
    "    \n",
    "    for bodypart in bodyparts.values():\n",
    "        if bodypart.id not in set(['LED5', 'MazeCornerOpenRight', 'MazeCornerOpenLeft', 'MazeCornerClosedRight', 'MazeCornerClosedLeft']):\n",
    "            if not math.isnan(bodypart.df.loc[index, 'x']):\n",
    "                ax.text(bodypart.df.loc[index, 'x'], bodypart.df.loc[index, 'y'], bodypart.df.loc[index, 'z'], bodypart.id, size = 7)\n",
    "                ax.scatter(bodypart.df.loc[index, 'x'], bodypart.df.loc[index, 'y'], bodypart.df.loc[index, 'z'], s=100, alpha = 1)\n",
    "    connect_skeleton(scheme)\n",
    "    ax.scatter([-25, -25, 55, 55, -25, -25, 55, 55], [-25, 55, 55, -25, -25, 55, 55, -25], [-25, -25, -25, -25, 55, 55, 55, 55], s=100, c='white', alpha=0)\n",
    "    # the line above fixes axes\n",
    "    \n",
    "    if paradigm == 'OTR':\n",
    "        sideright = Rectangle((0, 0), 35, 30, color='red', alpha=0.4)\n",
    "        sideleft = Rectangle((0, 0), 35, 30, color='red', alpha=0.4)\n",
    "        \n",
    "    if paradigm == 'OTT':\n",
    "        sideright = Polygon(np.array([[0, 0], [0, 30], [30, 0]]), closed=True, color='red', alpha=0.4)\n",
    "        sideleft = Polygon(np.array([[0, 0], [0, 30], [30, 0]]), closed=True, color='red', alpha=0.4)\n",
    "    \n",
    "    if paradigm == 'OTE':\n",
    "        Path = mpath.Path\n",
    "        path_data = [\n",
    "        (Path.MOVETO, (0, 0)),\n",
    "        (Path.LINETO, (0, 30)),\n",
    "        #(Path.CURVE3, (1.3, 27)),\n",
    "        (Path.CURVE4, (13, 11.0)),\n",
    "        (Path.CURVE4, (33.8, 2.1)), \n",
    "        (Path.CURVE4, (35, 1)),\n",
    "        (Path.LINETO, (35, 0)),\n",
    "        (Path.LINETO, (0, 0))]\n",
    "        codes, verts = zip(*path_data)\n",
    "        path = mpath.Path(verts, codes)\n",
    "        sideright = mpatches.PathPatch(path, color='red', fill=True, alpha=0.4)\n",
    "        sideleft = mpatches.PathPatch(path, color='red', fill=True, alpha=0.4)\n",
    "    \n",
    "    if paradigm != None:\n",
    "        ax.add_patch(sideright)\n",
    "        art3d.pathpatch_2d_to_3d(sideright, z=0, zdir='y')\n",
    "        ax.add_patch(sideleft)\n",
    "        art3d.pathpatch_2d_to_3d(sideleft, z=5, zdir='y')\n",
    "        \n",
    "        base = Rectangle((0, 0), 50, 5, color='gray', alpha=0.1)\n",
    "        ax.add_patch(base)\n",
    "        art3d.pathpatch_2d_to_3d(base, z=0, zdir='z')\n",
    "        sideback = Rectangle((0, 0), 5, 30, color='gray', alpha=1)\n",
    "        ax.add_patch(sideback)\n",
    "        art3d.pathpatch_2d_to_3d(sideback, z=0, zdir='x')\n",
    "\n",
    "\n",
    "    #https://stackoverflow.com/questions/35355930/matplotlib-figure-to-image-as-a-numpy-array\n",
    "    ax.axis('off')\n",
    "    fig.tight_layout(pad=0)\n",
    "    ax.margins(0)\n",
    "    fig.canvas.draw()\n",
    "    frame = np.frombuffer(fig.canvas.tostring_rgb(), dtype=np.uint8)\n",
    "    frame = frame.reshape(fig.canvas.get_width_height()[::-1] + (3,))\n",
    "\n",
    "    return frame\n",
    "    \n",
    "    \n",
    "def connect_skeleton(scheme):\n",
    "    pass\n",
    "\n",
    "def maze_shape(paradigm: str):\n",
    "    pass"
   ]
  },
  {
   "cell_type": "code",
   "execution_count": null,
   "id": "aae44206-a1be-4a9f-bc96-a6a474fcd33a",
   "metadata": {},
   "outputs": [],
   "source": [
    "a = plot_frames_3d(1, rec.bodyparts, 'OTT')"
   ]
  },
  {
   "cell_type": "code",
   "execution_count": null,
   "id": "cc1086c5-b886-4609-9555-b1ba5aab64e7",
   "metadata": {},
   "outputs": [],
   "source": [
    "video = iio.get_writer('196_F7-27_220826_OTT.mp4', fps = 30)\n",
    "\n",
    "for i in range(5700, 6700):\n",
    "    frame = plot_frames_3d(i, rec.bodyparts, 'OTT')\n",
    "    video.append_data(frame)\n",
    "video.close()"
   ]
  },
  {
   "cell_type": "markdown",
   "id": "e30bfbe4-8979-486e-8909-6c7e1258b423",
   "metadata": {},
   "source": [
    "## Proof undistort points"
   ]
  },
  {
   "cell_type": "code",
   "execution_count": null,
   "id": "5d1b02ca-5e8c-4ca4-86ff-f514a0219a64",
   "metadata": {},
   "outputs": [],
   "source": [
    "import imageio.v3 as iio\n",
    "import cv2\n",
    "import pickle\n"
   ]
  },
  {
   "cell_type": "code",
   "execution_count": null,
   "id": "0db9e092-ad75-4439-aded-6848d514efd8",
   "metadata": {},
   "outputs": [],
   "source": [
    "df = pd.read_hdf(\"196_F7-27_220826_OTT_Bottom_synchronizedDLC_resnet152_OT_BottomCam_finalSep20shuffle1_550000filtered.h5\")\n",
    "df = df.drop('scorer', axis=1)\n",
    "df.columns = df.iloc[0, :]+ '_' + df.iloc[1, :]\n",
    "df = df.drop([0, 1], axis=0)\n",
    "df = df.reset_index()\n",
    "df = df.drop('index', axis=1)\n",
    "df = df.astype(float)"
   ]
  },
  {
   "cell_type": "code",
   "execution_count": null,
   "id": "47fd2b8e-76b6-428c-afaf-1b99b0194c58",
   "metadata": {},
   "outputs": [],
   "source": [
    "def load_intrinsic_camera_calibration(filepath_intrinsic_calibration: Path, xy_offset: Tuple[int, int]) -> None:\n",
    "    with open(filepath_intrinsic_calibration, 'rb') as io:\n",
    "        intrinsic_calibration = pickle.load(io)\n",
    "    adjusted_intrinsic_calibration = intrinsic_calibration.copy()\n",
    "    intrinsic_calibration_video_size = intrinsic_calibration['size']\n",
    "    x_offset, y_offset = xy_offset[0], xy_offset[1]\n",
    "    adjusted_K = intrinsic_calibration['K'].copy()\n",
    "    adjusted_K[0][2] = adjusted_K[0][2] - x_offset\n",
    "    adjusted_K[1][2] = adjusted_K[1][2] - y_offset\n",
    "    return adjusted_K, intrinsic_calibration['D']"
   ]
  },
  {
   "cell_type": "code",
   "execution_count": null,
   "id": "1c743143-eed9-4688-ac17-22b4591c6185",
   "metadata": {},
   "outputs": [],
   "source": [
    "image=iio.imread('/Users/kobel/Downloads/196_F7-27_220826_OTT_Bottom_synchronizedDLC_resnet152_OT_BottomCam_finalSep20shuffle1_550000_filtered_labeled.mp4', index=5700)"
   ]
  },
  {
   "cell_type": "code",
   "execution_count": null,
   "id": "9b95f4f2-33ee-4d61-8a62-5b67eb43ce5f",
   "metadata": {},
   "outputs": [],
   "source": [
    "size = (image.shape[1], image.shape[0])"
   ]
  },
  {
   "cell_type": "code",
   "execution_count": null,
   "id": "2cbe9a4d-cc39-4071-8caa-e16318458a7e",
   "metadata": {
    "tags": []
   },
   "outputs": [],
   "source": [
    "K, D = load_intrinsic_camera_calibration('/Users/kobel/Downloads/OneDrive_3_30/Bottom_checkerboard_intrinsic_calibration_results.p', xy_offset=(136, 452))"
   ]
  },
  {
   "cell_type": "code",
   "execution_count": null,
   "id": "7c4ace37-0c53-4600-bbe9-af671e1db883",
   "metadata": {},
   "outputs": [],
   "source": [
    "dst_list = []\n",
    "for bp in ['Snout', 'TailBase', 'HindPawLeft', 'HindPawRight', 'ForePawLeft', 'ForePawRight', 'WristLeft', 'WristRight', 'TailQuarterAnt', 'TaiMiddle', 'TailQuarterPost', 'TailEnd']:\n",
    "    pt = df[[bp + '_x', bp + '_y']].copy().values\n",
    "    newcameramtx, _ = cv2.getOptimalNewCameraMatrix(K, D, size, 1, size)\n",
    "    dst = cv2.undistortPoints(pt, K, D, None, newcameramtx)\n",
    "    dst = np.squeeze(dst)\n",
    "    dst_list.append(dst)"
   ]
  },
  {
   "cell_type": "code",
   "execution_count": null,
   "id": "62006c2d-040c-4d82-9624-5de34996212d",
   "metadata": {},
   "outputs": [],
   "source": [
    "plt.close()\n",
    "fig, ax = plt.subplots()\n",
    "ax.set_aspect('equal')\n",
    "#plt.imshow(undistort_fisheye_image_for_inspection(image=image, K=K, D=D, size=size))\n",
    "# issue: image is rectified, points are not -> plotting points over image makes no sense\n",
    "for dst in dst_list:\n",
    "    plt.scatter(dst[5700][0], dst[5700][1])\n",
    "plt.show()"
   ]
  },
  {
   "cell_type": "code",
   "execution_count": null,
   "id": "4e5b2453-8b9a-4bb3-addf-74420c1b7f17",
   "metadata": {},
   "outputs": [],
   "source": []
  }
 ],
 "metadata": {
  "kernelspec": {
   "display_name": "Python 3 (ipykernel)",
   "language": "python",
   "name": "python3"
  },
  "language_info": {
   "codemirror_mode": {
    "name": "ipython",
    "version": 3
   },
   "file_extension": ".py",
   "mimetype": "text/x-python",
   "name": "python",
   "nbconvert_exporter": "python",
   "pygments_lexer": "ipython3",
   "version": "3.9.12"
  }
 },
 "nbformat": 4,
 "nbformat_minor": 5
}
