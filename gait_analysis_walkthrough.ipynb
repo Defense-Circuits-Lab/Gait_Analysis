{
 "cells": [
  {
   "cell_type": "markdown",
   "id": "cc490b7c-524d-480b-a6b4-35b1860881a1",
   "metadata": {},
   "source": [
    "# Walkthrough 2D"
   ]
  },
  {
   "cell_type": "code",
   "execution_count": 1,
   "id": "2e215176-cf67-4d2f-b104-9c6eaaea9936",
   "metadata": {},
   "outputs": [],
   "source": [
    "from gait3d.gaitanalysis_top import RecordingTop\n",
    "from pathlib import Path\n",
    "import matplotlib.pyplot as plt"
   ]
  },
  {
   "cell_type": "code",
   "execution_count": 2,
   "id": "d0cc8084-4799-427b-ab05-5a208da06dfc",
   "metadata": {
    "tags": []
   },
   "outputs": [
    {
     "data": {
      "text/plain": [
       "[PosixPath('/Users/kobel/Downloads/DLC_data/206_F2-87_220811_OTEDLC_resnet152_OT_TopCam-finalSep22shuffle1_550000filtered.csv'),\n",
       " PosixPath('/Users/kobel/Downloads/DLC_data/209_F1-91_220811_OTT001DLC_resnet152_OT_TopCam-finalSep22shuffle1_550000filtered.csv'),\n",
       " PosixPath('/Users/kobel/Downloads/DLC_data/195_F8-16_220809_OTT001DLC_resnet152_OT_TopCam-finalSep22shuffle1_550000filtered.csv'),\n",
       " PosixPath('/Users/kobel/Downloads/DLC_data/206_F2-87_220810_OTTDLC_resnet152_OT_TopCam-finalSep22shuffle1_550000filtered.csv'),\n",
       " PosixPath('/Users/kobel/Downloads/DLC_data/195_F8-20_220811_OTR001DLC_resnet152_OT_TopCam-finalSep22shuffle1_550000filtered.csv'),\n",
       " PosixPath('/Users/kobel/Downloads/DLC_data/206_F2-81_220809_OTRDLC_resnet152_OT_TopCam-finalSep22shuffle1_550000filtered.csv'),\n",
       " PosixPath('/Users/kobel/Downloads/DLC_data/206_F2-87_220809_OTRDLC_resnet152_OT_TopCam-finalSep22shuffle1_550000filtered.csv'),\n",
       " PosixPath('/Users/kobel/Downloads/DLC_data/209_F1-92_220811_OTR001DLC_resnet152_OT_TopCam-finalSep22shuffle1_550000filtered.csv'),\n",
       " PosixPath('/Users/kobel/Downloads/DLC_data/195_F8-20_220810_OTE001DLC_resnet152_OT_TopCam-finalSep22shuffle1_550000filtered.csv'),\n",
       " PosixPath('/Users/kobel/Downloads/DLC_data/206_F2-80_220811_OTTDLC_resnet152_OT_TopCam-finalSep22shuffle1_550000filtered.csv'),\n",
       " PosixPath('/Users/kobel/Downloads/DLC_data/195_F8-20_220809_OTT002DLC_resnet152_OT_TopCam-finalSep22shuffle1_550000filtered.csv'),\n",
       " PosixPath('/Users/kobel/Downloads/DLC_data/206_F2-86_220809_OTRDLC_resnet152_OT_TopCam-finalSep22shuffle1_550000filtered.csv'),\n",
       " PosixPath('/Users/kobel/Downloads/DLC_data/209_F1-91_220810_OTR001DLC_resnet152_OT_TopCam-finalSep22shuffle1_550000filtered.csv'),\n",
       " PosixPath('/Users/kobel/Downloads/DLC_data/195_F8-16_220811_OTE001DLC_resnet152_OT_TopCam-finalSep22shuffle1_550000filtered.csv'),\n",
       " PosixPath('/Users/kobel/Downloads/DLC_data/209_F1-91_220809_OTE001DLC_resnet152_OT_TopCam-finalSep22shuffle1_550000filtered.csv'),\n",
       " PosixPath('/Users/kobel/Downloads/DLC_data/206_F2-86_220811_OTEDLC_resnet152_OT_TopCam-finalSep22shuffle1_550000filtered.csv'),\n",
       " PosixPath('/Users/kobel/Downloads/DLC_data/206_F2-80_220809_OTRDLC_resnet152_OT_TopCam-finalSep22shuffle1_550000filtered.csv'),\n",
       " PosixPath('/Users/kobel/Downloads/DLC_data/206_F2-86_220810_OTTDLC_resnet152_OT_TopCam-finalSep22shuffle1_550000filtered.csv'),\n",
       " PosixPath('/Users/kobel/Downloads/DLC_data/206_F1-89_220810_OTTDLC_resnet152_OT_TopCam-finalSep22shuffle1_550000filtered.csv'),\n",
       " PosixPath('/Users/kobel/Downloads/DLC_data/195_F8-16_220810_OTR001DLC_resnet152_OT_TopCam-finalSep22shuffle1_550000filtered.csv'),\n",
       " PosixPath('/Users/kobel/Downloads/DLC_data/206_F1-89_220811_OTRDLC_resnet152_OT_TopCam-finalSep22shuffle1_550000filtered.csv'),\n",
       " PosixPath('/Users/kobel/Downloads/DLC_data/209_F1-92_220809_OTE001DLC_resnet152_OT_TopCam-finalSep22shuffle1_550000filtered.csv'),\n",
       " PosixPath('/Users/kobel/Downloads/DLC_data/209_F1-92_220810_OTT001DLC_resnet152_OT_TopCam-finalSep22shuffle1_550000filtered.csv'),\n",
       " PosixPath('/Users/kobel/Downloads/DLC_data/206_F2-81_220811_OTTDLC_resnet152_OT_TopCam-finalSep22shuffle1_550000filtered.csv'),\n",
       " PosixPath('/Users/kobel/Downloads/DLC_data/206_F1-89_220809_OTEDLC_resnet152_OT_TopCam-finalSep22shuffle1_550000filtered.csv'),\n",
       " PosixPath('/Users/kobel/Downloads/DLC_data/206_F2-81_220810_OTEDLC_resnet152_OT_TopCam-finalSep22shuffle1_550000filtered.csv')]"
      ]
     },
     "execution_count": 2,
     "metadata": {},
     "output_type": "execute_result"
    }
   ],
   "source": [
    "files = [file for file in Path(\"/Users/kobel/Downloads/DLC_data/\").iterdir() if file.name.endswith('filtered.csv')]\n",
    "files"
   ]
  },
  {
   "cell_type": "code",
   "execution_count": 3,
   "id": "f577fe68-46c5-4818-adae-e53d0bee1fa7",
   "metadata": {
    "tags": []
   },
   "outputs": [
    {
     "name": "stdout",
     "output_type": "stream",
     "text": [
      "{'recording_date': '220811', 'animal': '206_F2-87', 'paradigm': 'OTE', 'cam': 'Top'}\n",
      "Normalized using coverage: 0.95 and likelihood: 0.9979999999999991.\n",
      "\n",
      "{'recording_date': '220811', 'animal': '209_F1-91', 'paradigm': 'OTT', 'cam': 'Top'}\n",
      "Normalized using coverage: 0.95 and likelihood: 1.0004999999999988.\n",
      "\n",
      "{'recording_date': '220809', 'animal': '195_F8-16', 'paradigm': 'OTT', 'cam': 'Top'}\n",
      "could not be normalized\n",
      "\n",
      "{'recording_date': '220810', 'animal': '206_F2-87', 'paradigm': 'OTT', 'cam': 'Top'}\n",
      "Normalized using coverage: 0.95 and likelihood: 0.9999999999999989.\n",
      "\n",
      "{'recording_date': '220811', 'animal': '195_F8-20', 'paradigm': 'OTR', 'cam': 'Top'}\n",
      "could not be normalized\n",
      "\n",
      "{'recording_date': '220809', 'animal': '206_F2-81', 'paradigm': 'OTR', 'cam': 'Top'}\n",
      "could not be normalized\n",
      "\n",
      "{'recording_date': '220809', 'animal': '206_F2-87', 'paradigm': 'OTR', 'cam': 'Top'}\n",
      "Normalized using coverage: 0.95 and likelihood: 0.9904999999999999.\n",
      "\n",
      "{'recording_date': '220811', 'animal': '209_F1-92', 'paradigm': 'OTR', 'cam': 'Top'}\n",
      "Normalized using coverage: 0.95 and likelihood: 0.9904999999999999.\n",
      "\n",
      "{'recording_date': '220810', 'animal': '195_F8-20', 'paradigm': 'OTE', 'cam': 'Top'}\n",
      "could not be normalized\n",
      "\n",
      "{'recording_date': '220811', 'animal': '206_F2-80', 'paradigm': 'OTT', 'cam': 'Top'}\n",
      "could not be normalized\n",
      "\n",
      "{'recording_date': '220809', 'animal': '195_F8-20', 'paradigm': 'OTT', 'cam': 'Top'}\n",
      "could not be normalized\n",
      "\n",
      "{'recording_date': '220809', 'animal': '206_F2-86', 'paradigm': 'OTR', 'cam': 'Top'}\n",
      "Normalized using coverage: 0.95 and likelihood: 0.9904999999999999.\n",
      "\n",
      "{'recording_date': '220810', 'animal': '209_F1-91', 'paradigm': 'OTR', 'cam': 'Top'}\n",
      "Normalized using coverage: 0.95 and likelihood: 0.9904999999999999.\n",
      "\n",
      "{'recording_date': '220811', 'animal': '195_F8-16', 'paradigm': 'OTE', 'cam': 'Top'}\n",
      "Normalized using coverage: 0.95 and likelihood: 1.0004999999999988.\n",
      "\n",
      "{'recording_date': '220809', 'animal': '209_F1-91', 'paradigm': 'OTE', 'cam': 'Top'}\n",
      "Normalized using coverage: 0.95 and likelihood: 1.0004999999999988.\n",
      "\n",
      "{'recording_date': '220811', 'animal': '206_F2-86', 'paradigm': 'OTE', 'cam': 'Top'}\n",
      "Normalized using coverage: 0.95 and likelihood: 0.9904999999999999.\n",
      "\n",
      "{'recording_date': '220809', 'animal': '206_F2-80', 'paradigm': 'OTR', 'cam': 'Top'}\n",
      "could not be normalized\n",
      "\n",
      "{'recording_date': '220810', 'animal': '206_F2-86', 'paradigm': 'OTT', 'cam': 'Top'}\n",
      "Normalized using coverage: 0.95 and likelihood: 0.9904999999999999.\n",
      "\n",
      "{'recording_date': '220810', 'animal': '206_F1-89', 'paradigm': 'OTT', 'cam': 'Top'}\n",
      "Normalized using coverage: 0.95 and likelihood: 1.0004999999999988.\n",
      "\n",
      "{'recording_date': '220810', 'animal': '195_F8-16', 'paradigm': 'OTR', 'cam': 'Top'}\n",
      "Normalized using coverage: 0.95 and likelihood: 0.9904999999999999.\n",
      "\n",
      "{'recording_date': '220811', 'animal': '206_F1-89', 'paradigm': 'OTR', 'cam': 'Top'}\n",
      "Normalized using coverage: 0.95 and likelihood: 1.0004999999999988.\n",
      "\n",
      "{'recording_date': '220809', 'animal': '209_F1-92', 'paradigm': 'OTE', 'cam': 'Top'}\n",
      "Normalized using coverage: 0.95 and likelihood: 1.0004999999999988.\n",
      "\n",
      "{'recording_date': '220810', 'animal': '209_F1-92', 'paradigm': 'OTT', 'cam': 'Top'}\n",
      "Normalized using coverage: 0.95 and likelihood: 0.9904999999999999.\n",
      "\n",
      "{'recording_date': '220811', 'animal': '206_F2-81', 'paradigm': 'OTT', 'cam': 'Top'}\n",
      "Normalized using coverage: 0.95 and likelihood: 0.9904999999999999.\n",
      "\n",
      "{'recording_date': '220809', 'animal': '206_F1-89', 'paradigm': 'OTE', 'cam': 'Top'}\n",
      "could not be normalized\n",
      "\n",
      "{'recording_date': '220810', 'animal': '206_F2-81', 'paradigm': 'OTE', 'cam': 'Top'}\n",
      "could not be normalized\n",
      "\n"
     ]
    }
   ],
   "source": [
    "objects = [] \n",
    "for file in files:\n",
    "    try:\n",
    "        obj = RecordingTop(filepath=Path(file), recorded_framerate=30)\n",
    "        print(obj.metadata)\n",
    "        obj.run(intrinsic_camera_calibration_filepath=\"/Users/kobel/Downloads/Checkerboard_Calibration/Top_checkerboard_intrinsic_calibration_results.p\")\n",
    "        obj.get_freezing_bouts()\n",
    "        obj.run_gait_analysis()\n",
    "        obj.export_as_session(save = False)\n",
    "        #print(obj.session_df)\n",
    "        objects.append(obj)    \n",
    "    except OverflowError:\n",
    "        print('could not be normalized\\n')"
   ]
  },
  {
   "cell_type": "code",
   "execution_count": 4,
   "id": "5a1352eb-006f-44a9-ac9c-566a1556b549",
   "metadata": {},
   "outputs": [
    {
     "data": {
      "text/html": [
       "<div>\n",
       "<style scoped>\n",
       "    .dataframe tbody tr th:only-of-type {\n",
       "        vertical-align: middle;\n",
       "    }\n",
       "\n",
       "    .dataframe tbody tr th {\n",
       "        vertical-align: top;\n",
       "    }\n",
       "\n",
       "    .dataframe thead th {\n",
       "        text-align: right;\n",
       "    }\n",
       "</style>\n",
       "<table border=\"1\" class=\"dataframe\">\n",
       "  <thead>\n",
       "    <tr style=\"text-align: right;\">\n",
       "      <th></th>\n",
       "      <th>mean_value</th>\n",
       "      <th>total_count</th>\n",
       "      <th>total_duration</th>\n",
       "      <th>mean_x_position</th>\n",
       "      <th>mean_duration</th>\n",
       "      <th>total_count_facing_open</th>\n",
       "      <th>mean_duration_facing_open</th>\n",
       "      <th>mean_x_position_facing_open</th>\n",
       "    </tr>\n",
       "  </thead>\n",
       "  <tbody>\n",
       "    <tr>\n",
       "      <th>average_speed_cm_per_s</th>\n",
       "      <td>4.384997</td>\n",
       "      <td>NaN</td>\n",
       "      <td>NaN</td>\n",
       "      <td>NaN</td>\n",
       "      <td>NaN</td>\n",
       "      <td>NaN</td>\n",
       "      <td>NaN</td>\n",
       "      <td>NaN</td>\n",
       "    </tr>\n",
       "    <tr>\n",
       "      <th>immobility</th>\n",
       "      <td>NaN</td>\n",
       "      <td>144</td>\n",
       "      <td>100.4</td>\n",
       "      <td>10.709734</td>\n",
       "      <td>0.697222</td>\n",
       "      <td>41</td>\n",
       "      <td>0.64878</td>\n",
       "      <td>19.647721</td>\n",
       "    </tr>\n",
       "    <tr>\n",
       "      <th>gait_disruption</th>\n",
       "      <td>NaN</td>\n",
       "      <td>50</td>\n",
       "      <td>188.3</td>\n",
       "      <td>10.136076</td>\n",
       "      <td>3.766</td>\n",
       "      <td>13</td>\n",
       "      <td>7.407692</td>\n",
       "      <td>20.28939</td>\n",
       "    </tr>\n",
       "    <tr>\n",
       "      <th>freezing</th>\n",
       "      <td>NaN</td>\n",
       "      <td>15</td>\n",
       "      <td>52.366667</td>\n",
       "      <td>9.325053</td>\n",
       "      <td>3.491111</td>\n",
       "      <td>2</td>\n",
       "      <td>5.016667</td>\n",
       "      <td>17.244713</td>\n",
       "    </tr>\n",
       "    <tr>\n",
       "      <th>freezing_of_gait</th>\n",
       "      <td>NaN</td>\n",
       "      <td>3</td>\n",
       "      <td>267.633333</td>\n",
       "      <td>7.080329</td>\n",
       "      <td>89.211111</td>\n",
       "      <td>0</td>\n",
       "      <td>NaN</td>\n",
       "      <td>NaN</td>\n",
       "    </tr>\n",
       "    <tr>\n",
       "      <th>gait</th>\n",
       "      <td>NaN</td>\n",
       "      <td>156</td>\n",
       "      <td>255.133333</td>\n",
       "      <td>13.674771</td>\n",
       "      <td>1.63547</td>\n",
       "      <td>52</td>\n",
       "      <td>1.447436</td>\n",
       "      <td>23.598441</td>\n",
       "    </tr>\n",
       "  </tbody>\n",
       "</table>\n",
       "</div>"
      ],
      "text/plain": [
       "                       mean_value total_count total_duration mean_x_position  \\\n",
       "average_speed_cm_per_s   4.384997         NaN            NaN             NaN   \n",
       "immobility                    NaN         144          100.4       10.709734   \n",
       "gait_disruption               NaN          50          188.3       10.136076   \n",
       "freezing                      NaN          15      52.366667        9.325053   \n",
       "freezing_of_gait              NaN           3     267.633333        7.080329   \n",
       "gait                          NaN         156     255.133333       13.674771   \n",
       "\n",
       "                       mean_duration total_count_facing_open  \\\n",
       "average_speed_cm_per_s           NaN                     NaN   \n",
       "immobility                  0.697222                      41   \n",
       "gait_disruption                3.766                      13   \n",
       "freezing                    3.491111                       2   \n",
       "freezing_of_gait           89.211111                       0   \n",
       "gait                         1.63547                      52   \n",
       "\n",
       "                       mean_duration_facing_open mean_x_position_facing_open  \n",
       "average_speed_cm_per_s                       NaN                         NaN  \n",
       "immobility                               0.64878                   19.647721  \n",
       "gait_disruption                         7.407692                    20.28939  \n",
       "freezing                                5.016667                   17.244713  \n",
       "freezing_of_gait                             NaN                         NaN  \n",
       "gait                                    1.447436                   23.598441  "
      ]
     },
     "execution_count": 4,
     "metadata": {},
     "output_type": "execute_result"
    }
   ],
   "source": [
    "objects[2].session_df"
   ]
  },
  {
   "cell_type": "code",
   "execution_count": 5,
   "id": "ac32dbed-e8e9-48a9-b25e-88aa5505f20a",
   "metadata": {},
   "outputs": [
    {
     "data": {
      "image/png": "[encoded data removed]",
      "text/plain": [
       "<Figure size 640x480 with 1 Axes>"
      ]
     },
     "metadata": {},
     "output_type": "display_data"
    }
   ],
   "source": [
    "parameter = 'immobility'\n",
    "\n",
    "fig, ax = plt.subplots()\n",
    "ax.set_aspect('equal')\n",
    "plt.plot([0, 50, 50, 0, 0], [5, 5, 0, 0, 5], alpha=0)\n",
    "for obj in objects:\n",
    "    try:\n",
    "        plt.vlines(obj.session_df.loc[parameter, 'mean_x_position'], 0, 5)\n",
    "    except:\n",
    "        continue\n",
    "plt.show()"
   ]
  },
  {
   "cell_type": "code",
   "execution_count": 8,
   "id": "0f0bdb92-5889-4173-b438-8700051c1626",
   "metadata": {
    "tags": []
   },
   "outputs": [
    {
     "name": "stdout",
     "output_type": "stream",
     "text": [
      "35\n"
     ]
    },
    {
     "data": {
      "image/png": "[encoded data removed]",
      "text/plain": [
       "<Figure size 640x480 with 1 Axes>"
      ]
     },
     "metadata": {},
     "output_type": "display_data"
    }
   ],
   "source": [
    "plt.close()\n",
    "fig, ax = plt.subplots()\n",
    "ax.set_aspect('equal')\n",
    "plt.plot([0, 50, 50, 0, 0], [5, 5, 0, 0, 5], alpha=0)\n",
    "for bout in objects[0].immobility_bouts.events:\n",
    "    plt.vlines(bout.dict['x_position'], 0, 5, alpha=1)\n",
    "print(len(objects[0].immobility_bouts.events))\n",
    "plt.show()"
   ]
  },
  {
   "cell_type": "code",
   "execution_count": 9,
   "id": "37411d87-058b-432d-aaa1-dace8590dc04",
   "metadata": {},
   "outputs": [
    {
     "name": "stdout",
     "output_type": "stream",
     "text": [
      "Immobility:     duration  x_position  id  facing_towards_open_end\n",
      "0   0.266667   12.437605   0                     True\n",
      "1   0.300000   11.998455   2                     True\n",
      "2   0.300000    7.997018   2                    False\n",
      "3   0.300000    7.316712   3                    False\n",
      "4   0.233333    7.529574   4                    False\n",
      "5   0.333333    7.637265   3                    False\n",
      "6   0.233333    7.343877   6                    False\n",
      "7   0.266667    7.462196   7                    False\n",
      "8   0.300000    7.065127   4                    False\n",
      "9   0.333333    7.003615   5                    False\n",
      "10  0.233333    7.140031  10                    False\n",
      "11  0.300000    7.201494  11                    False\n",
      "12  0.233333    7.179827  12                    False\n",
      "13  0.300000    7.211768  13                    False\n",
      "14  0.300000    7.171010   6                    False\n",
      "15  0.233333    7.051555  15                    False\n",
      "16  0.233333    7.139055  16                    False\n",
      "17  0.233333    7.015923  17                    False\n",
      "18  0.266667    6.997674  18                    False\n",
      "19  0.233333    7.051605   8                    False\n",
      "20  0.233333   11.835562   9                     True\n",
      "21  0.300000    8.012130  10                     True\n",
      "22  0.233333    7.619428  11                     True\n",
      "23  0.233333    7.540530  23                     True\n",
      "24  0.266667    7.128314  24                     True\n",
      "25  0.433333    7.124612  25                     True\n",
      "26  0.266667    7.457048  12                     True\n",
      "27  0.300000    6.911489  14                     True\n",
      "28  0.233333    6.614529  15                     True\n",
      "29  0.233333   40.592076  29                     True\n",
      "30  0.266667   34.202079  17                     True\n",
      "31  0.233333   10.615650  31                    False\n",
      "32  0.333333    7.960060  32                    False\n",
      "33  0.266667    9.763281  33                    False\n",
      "34  5.766667   10.128615  34                    False\n",
      "Freezing: Empty DataFrame\n",
      "Columns: []\n",
      "Index: []\n",
      "GaitDisruption:      duration  x_position  id  facing_towards_open_end\n",
      "0    0.266667   12.437605   0                     True\n",
      "1   49.433333    8.234079   1                     True\n",
      "2    0.300000   11.998455   2                     True\n",
      "3    0.333333    7.637265   3                    False\n",
      "4    0.300000    7.065127   4                    False\n",
      "5    0.333333    7.003615   5                    False\n",
      "6    0.300000    7.171010   6                    False\n",
      "7   48.166667    6.990884   7                    False\n",
      "8    0.233333    7.051605   8                    False\n",
      "9    0.233333   11.835562   9                     True\n",
      "10   0.300000    8.012130  10                     True\n",
      "11   0.233333    7.619428  11                     True\n",
      "12   0.266667    7.457048  12                     True\n",
      "13  13.400000    6.658924  13                     True\n",
      "14   0.300000    6.911489  14                     True\n",
      "15   0.233333    6.614529  15                     True\n",
      "16  40.300000   12.151135  16                     True\n",
      "17   0.266667   34.202079  17                     True\n",
      "FreezinOfGait: Empty DataFrame\n",
      "Columns: []\n",
      "Index: []\n",
      "Gait:      duration  x_position   id  facing_towards_open_end\n",
      "0    0.200000   11.845358    0                    False\n",
      "1    0.200000   12.933862    1                     True\n",
      "2    0.000000   13.146606    2                     True\n",
      "3    0.000000   16.066420    3                     True\n",
      "4    3.566667   11.934879    4                     True\n",
      "..        ...         ...  ...                      ...\n",
      "304  0.866667   10.171901  304                     True\n",
      "305  1.966667    9.929694  305                     True\n",
      "306  0.200000    9.658676  306                     True\n",
      "307  0.000000    9.592378  307                     True\n",
      "308  1.166667    9.191050  308                     True\n",
      "\n",
      "[309 rows x 4 columns]\n"
     ]
    }
   ],
   "source": [
    "obj = objects[0]\n",
    "print('Immobility:', obj.immobility_bouts.df)\n",
    "print('Freezing:', obj.freezing_bouts.df)\n",
    "print('GaitDisruption:', obj.gait_disruption_bouts.df)\n",
    "print('FreezinOfGait:', obj.freezing_of_gait_events.df)\n",
    "print('Gait:', obj.gait_events.df)\n"
   ]
  },
  {
   "cell_type": "code",
   "execution_count": null,
   "id": "2439dcba-381a-4503-873f-c0f6d018a379",
   "metadata": {
    "tags": []
   },
   "outputs": [],
   "source": [
    "for bot in objects:\n",
    "    fig = plt.figure()\n",
    "    for corner in ['MazeCornerOpenLeft', 'MazeCornerOpenRight', 'MazeCornerClosedRight', 'MazeCornerClosedLeft']:\n",
    "        plt.scatter(bot.bodyparts[corner].df['x'], bot.bodyparts[corner].df['y'], alpha = bot.bodyparts[corner].df['likelihood'])\n",
    "    plt.scatter(bot.bodyparts['Snout'].df['x'], bot.bodyparts['Snout'].df['y'], alpha = bot.bodyparts['Snout'].df['likelihood'])\n",
    "    plt.show()"
   ]
  },
  {
   "cell_type": "code",
   "execution_count": null,
   "id": "63877ec1-2acd-46e4-8b11-1a912abdebfd",
   "metadata": {},
   "outputs": [],
   "source": []
  }
 ],
 "metadata": {
  "kernelspec": {
   "display_name": "Python 3 (ipykernel)",
   "language": "python",
   "name": "python3"
  },
  "language_info": {
   "codemirror_mode": {
    "name": "ipython",
    "version": 3
   },
   "file_extension": ".py",
   "mimetype": "text/x-python",
   "name": "python",
   "nbconvert_exporter": "python",
   "pygments_lexer": "ipython3",
   "version": "3.9.12"
  }
 },
 "nbformat": 4,
 "nbformat_minor": 5
}
