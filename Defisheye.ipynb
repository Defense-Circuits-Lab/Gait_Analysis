{
 "cells": [
  {
   "cell_type": "code",
   "execution_count": 1,
   "id": "ee90969b",
   "metadata": {},
   "outputs": [],
   "source": [
    "import cv2\n",
    "import os\n",
    "from os.path import isfile, join\n",
    "import numpy as np\n",
    "from defisheye import Defisheye"
   ]
  },
  {
   "cell_type": "code",
   "execution_count": 2,
   "id": "a42ce418",
   "metadata": {},
   "outputs": [],
   "source": [
    "dtype = 'equalarea'\n",
    "format = 'fullframe'\n",
    "    #xcenter, ycenter\n",
    "    #Zoom oder Zuschnitt??? am besten weglassen\n",
    "fov = 180 #technical multiplier factor\n",
    "pfov = 120\n",
    "\n",
    "PATH = \"C:\\\\Users\\\\kobel\\\\Documents\\\\Medizin\\\\Doktorarbeit\\\\Data\\\\Videos\\\\\"\n",
    "fps = 40"
   ]
  },
  {
   "cell_type": "code",
   "execution_count": 12,
   "id": "5bbc58cc",
   "metadata": {},
   "outputs": [],
   "source": [
    "#video_list = [files for files in os.listdir(PATH) if files.endswith(\".mp4\")]\n",
    "video_list = [files for files in os.listdir(PATH) if files.endswith(\"210_F1-66_220321_OTT.mp4\")]\n",
    "for elem in video_list:\n",
    "    video_path= PATH + elem\n",
    "    name = elem[0:-4]\n",
    "    video_output_path = PATH + name + \"_defisheyed.mp4\"\n",
    "    \n",
    "    video = cv2.VideoCapture(video_path)\n",
    "        \n",
    "    defish_frame_array = []\n",
    "    currentframe = 0\n",
    "    while(currentframe < 5):\n",
    "    #while(True):\n",
    "        ret, frame = video.read()\n",
    "        \n",
    "        if ret:\n",
    "            img_out = f\"{PATH}_{name}_{currentframe}_{dtype}_{format}_{pfov}_{fov}.jpg\"\n",
    "            height_f, width_f, layers_f = frame.shape\n",
    "            radius = min([height_f, width_f])\n",
    "            obj = Defisheye(frame, dtype=dtype, format=format, fov=fov, pfov=pfov, radius=radius)\n",
    "            obj.convert(img_out)\n",
    "            \n",
    "            defish_frame=cv2.imread(img_out)\n",
    "            height, width, layers = defish_frame.shape\n",
    "            size = (width, height)\n",
    "            defish_frame_array.append(defish_frame)\n",
    "            \n",
    "            os.remove(img_out) \n",
    "            currentframe += 1\n",
    "        else:\n",
    "            break\n",
    "           \n",
    "    out = cv2.VideoWriter(video_output_path, cv2.VideoWriter_fourcc(*\"MP4V\"), fps, size)\n",
    "    for i in range(len(defish_frame_array)):\n",
    "        out.write(defish_frame_array[i])\n",
    "        \n",
    "    out.release()"
   ]
  },
  {
   "cell_type": "code",
   "execution_count": null,
   "id": "3289682e",
   "metadata": {},
   "outputs": [],
   "source": []
  }
 ],
 "metadata": {
  "kernelspec": {
   "display_name": "Python 3 (ipykernel)",
   "language": "python",
   "name": "python3"
  },
  "language_info": {
   "codemirror_mode": {
    "name": "ipython",
    "version": 3
   },
   "file_extension": ".py",
   "mimetype": "text/x-python",
   "name": "python",
   "nbconvert_exporter": "python",
   "pygments_lexer": "ipython3",
   "version": "3.9.7"
  }
 },
 "nbformat": 4,
 "nbformat_minor": 5
}
