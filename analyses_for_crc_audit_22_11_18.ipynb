{
 "cells": [
  {
   "cell_type": "code",
   "execution_count": null,
   "id": "6ab4c2d3-51f8-4291-87e4-16165b90524a",
   "metadata": {},
   "outputs": [],
   "source": [
    "from pathlib import Path\n",
    "import pandas as pd\n",
    "import numpy as np\n",
    "import seaborn as sns\n",
    "import pingouin as pg\n",
    "import matplotlib.pyplot as plt\n",
    "\n",
    "from typing import List, Tuple, Dict, Optional, Union"
   ]
  },
  {
   "cell_type": "code",
   "execution_count": null,
   "id": "abca797f-f539-4233-894c-96c3597723fd",
   "metadata": {},
   "outputs": [],
   "source": [
    "def get_only_matching_xlsx_files(dir_path: Path, paradigm_id: str, week_id: Optional[int]=None) -> List[Path]:\n",
    "    filtered_filepaths = []\n",
    "    for filepath in dir_path.iterdir():\n",
    "        if filepath.name.endswith('.xlsx') and (paradigm_id in filepath.name):\n",
    "            if week_id != None:\n",
    "                if f'week-{week_id}.' in filepath.name:\n",
    "                    filtered_filepaths.append(filepath)\n",
    "            else:\n",
    "                filtered_filepaths.append(filepath)\n",
    "    return filtered_filepaths"
   ]
  },
  {
   "cell_type": "code",
   "execution_count": null,
   "id": "b1a197b8-e33c-4aef-bbae-e1e307e8d51f",
   "metadata": {},
   "outputs": [],
   "source": [
    "def get_metadata_from_filename(filepath_session_results: Path, filepath_group_assignment: Path=Path('test_data/group_assignment.xlsx')) -> Dict:\n",
    "    metadata = {}\n",
    "    metadata['line_id'], mouse_id, metadata['paradigm_id'], week_string_with_file_extension = filepath_session_results.name.split('_')\n",
    "    metadata['subject_id'] = f'{metadata[\"line_id\"]}_{mouse_id}'\n",
    "    metadata['week_id'] = week_string_with_file_extension[week_string_with_file_extension.find('-') + 1:week_string_with_file_extension.find('.')]\n",
    "    df_group_assignment = pd.read_excel(filepath_group_assignment)\n",
    "    if metadata['subject_id'] in df_group_assignment['subject_id'].unique():\n",
    "        metadata['group_id'] = df_group_assignment.loc[df_group_assignment['subject_id'] == metadata['subject_id'], 'group_id'].iloc[0]\n",
    "    elif metadata['subject_id'] in df_group_assignment['alternative_subject_id'].unique():\n",
    "        metadata['group_id'] = df_group_assignment.loc[df_group_assignment['alternative_subject_id'] == metadata['subject_id'], 'group_id'].iloc[0]    \n",
    "    else:\n",
    "        metadata['group_id'] = 'unknown'\n",
    "    return metadata"
   ]
  },
  {
   "cell_type": "code",
   "execution_count": null,
   "id": "99a34f7e-4565-450c-a864-2820d75ba32f",
   "metadata": {},
   "outputs": [],
   "source": [
    "def check_data_availability(root_dir_path: Path, all_week_ids: List[int], all_paradigm_ids: List[str]) -> pd.DataFrame:\n",
    "    df = pd.DataFrame({}, index=all_week_ids)\n",
    "    root_dir_path = root_dir_path\n",
    "    for week_id in all_week_ids:\n",
    "        for paradigm_id in all_paradigm_ids:\n",
    "            all_matching_filepaths = get_only_matching_xlsx_files(dir_path = root_dir_path, paradigm_id = paradigm_id, week_id = week_id)\n",
    "            for filepath in all_matching_filepaths:\n",
    "                subject_id = get_metadata_from_filename(filepath)['subject_id']\n",
    "                if f'{subject_id}_{paradigm_id}' not in df.columns:\n",
    "                    df[f'{subject_id}_{paradigm_id}'] = False\n",
    "                df.loc[week_id, f'{subject_id}_{paradigm_id}'] = True\n",
    "    return df"
   ]
  },
  {
   "cell_type": "code",
   "execution_count": null,
   "id": "273bcfff-636f-4eba-8c47-2b53160d537f",
   "metadata": {},
   "outputs": [],
   "source": [
    "def collect_all_available_data(root_dir_path: Path, paradigm_ids: List[str], week_ids: List[str], sheet_name: str) -> pd.DataFrame:\n",
    "    all_recording_results_dfs = []\n",
    "    for week_id in week_ids:\n",
    "        for paradigm_id in paradigm_ids:\n",
    "            tmp_matching_filepaths = get_only_matching_xlsx_files(dir_path = root_dir_path, paradigm_id = paradigm_id, week_id = week_id)\n",
    "            for filepath in tmp_matching_filepaths:\n",
    "                metadata = get_metadata_from_filename(filepath_session_results = filepath)\n",
    "                tmp_xlsx = pd.ExcelFile(filepath)\n",
    "                tmp_df = pd.read_excel(tmp_xlsx, sheet_name = sheet_name, index_col = 0)\n",
    "                for key, value in metadata.items():\n",
    "                    tmp_df[key] = value\n",
    "                all_recording_results_dfs.append(tmp_df)\n",
    "    df = pd.concat(all_recording_results_dfs)\n",
    "    df.reset_index(drop = True, inplace = True)\n",
    "    return df"
   ]
  },
  {
   "cell_type": "code",
   "execution_count": null,
   "id": "08c16ca6-7663-4c19-9692-c87cdbe1cee5",
   "metadata": {},
   "outputs": [],
   "source": [
    "def filter_dataframe(df: pd.DataFrame, filter_criteria: List[Tuple]) -> pd.DataFrame:\n",
    "    # assert all list have equal lenghts\n",
    "    valid_idxs_per_criterion = []\n",
    "    for column_name, comparison_method, reference_value in filter_criteria:\n",
    "        # assert valid key in comparison methods\n",
    "        # assert column name exists\n",
    "        if comparison_method == 'greater':\n",
    "            valid_idxs_per_criterion.append(df.loc[df[column_name] > reference_value].index.values)\n",
    "        elif comparison_method == 'smaller':\n",
    "            valid_idxs_per_criterion.append(df.loc[df[column_name] < reference_value].index.values)\n",
    "        elif comparison_method == 'equal_to':\n",
    "            valid_idxs_per_criterion.append(df.loc[df[column_name] == reference_value].index.values)\n",
    "        elif comparison_method == 'is_in_list':\n",
    "            valid_idxs_per_criterion.append(df.loc[df[column_name].isin(reference_value)].index.values)\n",
    "        elif comparison_method == 'is_nan':\n",
    "            valid_idxs_per_criterion.append(df.loc[df[column_name].isnull()].index.values)\n",
    "    shared_valid_idxs_across_all_criteria = valid_idxs_per_criterion[0]\n",
    "    if len(valid_idxs_per_criterion) > 1:\n",
    "        for i in range(1, len(valid_idxs_per_criterion)):\n",
    "            shared_valid_idxs_across_all_criteria = np.intersect1d(shared_valid_idxs_across_all_criteria, valid_idxs_per_criterion[i])\n",
    "    df_filtered = df.loc[shared_valid_idxs_across_all_criteria, :].copy()\n",
    "    return df_filtered"
   ]
  },
  {
   "cell_type": "code",
   "execution_count": null,
   "id": "f1429139-aac0-4ef2-b72f-dda5f2b04032",
   "metadata": {},
   "outputs": [],
   "source": [
    "def plot(df: pd.DataFrame, x_column: str, y_column: str, plot_type: str='violinplot', hue_column: Optional[str]=None, hide_legend: bool=True):\n",
    "    fig = plt.figure(figsize = (8, 5), facecolor = 'white')\n",
    "    ax = fig.add_subplot(111)\n",
    "    if plot_type == 'violinplot':\n",
    "        sns.violinplot(data = df, x = x_column, y = y_column, hue = hue_column)\n",
    "        if df.shape[0] < 10_000:\n",
    "            sns.stripplot(data = df, x = x_column, y = y_column, hue = hue_column, dodge = True, color = 'black', alpha = 0.3)\n",
    "    elif plot_type == 'stripplot':\n",
    "        sns.stripplot(data = df, x = x_column, y = y_column, hue = hue_column, dodge = True)\n",
    "    ax.legend(loc='center left', bbox_to_anchor=(1, 0.5))\n",
    "    if hide_legend:\n",
    "        ax.get_legend().remove()\n",
    "    plt.show()"
   ]
  },
  {
   "cell_type": "markdown",
   "id": "84a3dee0-effc-4af2-8c6d-d2e25f2b89a5",
   "metadata": {},
   "source": [
    "## Example usage:"
   ]
  },
  {
   "cell_type": "markdown",
   "id": "6f582b7f-f391-4ce5-b055-8049f6f07ff1",
   "metadata": {},
   "source": [
    "### 1) Load all data:\n",
    "\n",
    "This obviously assumes that you were using the \"run_2d_gait_analysis_with_top_cam.ipynb\" notebook and created the corresponding result exports. You will now have to provide the filepath to these Excel files as `root_dir_path` as a Path object (see exmaple below). You can also specify if you´d like to right away filter only for a certain set of weeks or paradigms (you can also just pass a list with a single value for each). Please note that you have to provide the exact name of the respective Excel Tab you are interested in as:  `sheet_name` <br>\n",
    "For instance, if you´d like to inspect the overall session overview, use:"
   ]
  },
  {
   "cell_type": "code",
   "execution_count": null,
   "id": "1ae394a0-8968-465f-a157-0f803d44f139",
   "metadata": {},
   "outputs": [],
   "source": [
    "df = collect_all_available_data(root_dir_path = Path('/mnt/c/Users/dsege/Downloads/DLC_data/22_11_14/analyses/'),\n",
    "                                paradigm_ids = ['OTR', 'OTT', 'OTE'],\n",
    "                                week_ids = [1, 4, 8, 12, 14],\n",
    "                                sheet_name = 'session_overview')\n",
    "df.head()"
   ]
  },
  {
   "cell_type": "markdown",
   "id": "4cd8eb18-bd81-47f4-8af8-611968efff71",
   "metadata": {},
   "source": [
    "### 2) Filter your data (optional):\n",
    "\n",
    "You might want to filter your data to only inspect a specific proportion of it. You can do so quite easily by using the `filter_dataframe()` funtion. <br>\n",
    "For this, you need to specify your filter criteria in a list of tuples, for which each tuple follows this schema:\n",
    "> (column_name, comparison_method, reference_value)\n",
    "\n",
    "So for instance, if you´d like to filter your dataframe by selecting only the data of all freezing bouts, you would add a tuple that specifies that you want all rows from the column \"bout_type\" that have the value \"all_freezing_bouts\": \n",
    "> `('bout_type', 'equal_to', 'all_freezing_bouts')`\n",
    "\n",
    "You can also add more criteria with additional tuples, for instance to filter for specific mouse lines your filter criteria would look like this:\n",
    "> `('line_id', 'is_in_list', ['206', '209'])` \n",
    "\n",
    "Bringing it together, you´d define your filter_criteria in a list of these tuples:"
   ]
  },
  {
   "cell_type": "code",
   "execution_count": null,
   "id": "1dda2788-c7e9-4592-a6a3-eff35c374137",
   "metadata": {},
   "outputs": [],
   "source": [
    "filter_criteria = [('line_id', 'is_in_list', ['206', '209']),\n",
    "                   ('bout_type', 'equal_to', 'all_freezing_bouts')]"
   ]
  },
  {
   "cell_type": "markdown",
   "id": "e8d41f5e-e1bc-4abc-be36-47cfc3f36517",
   "metadata": {},
   "source": [
    "You can add as many tuples (= criteria) you´d like. Currently implemented comparison methods include:\n",
    "- \"greater\": selects only rows in which the values of the column are greater than the reference value\n",
    "- \"smaller\": selects only rows in which the values of the column are smaller than the reference value\n",
    "- \"equal_to\": selects only rows in which the values of the column are equal to the reference value\n",
    "- \"is_in_list\": selects only rows in which the values of the column are matching to an element in the reference value (which has to be a list, in this case)\n",
    "- \"is_nan\": selects only rows in which the values of the column are NaN\n",
    "\n",
    "You can then pass the `filter_criteria` along your dataframe to the `filter_dataframe()` function:"
   ]
  },
  {
   "cell_type": "code",
   "execution_count": null,
   "id": "2fdf591e-4042-4447-8a5b-90906f1efcbf",
   "metadata": {},
   "outputs": [],
   "source": [
    "df_filtered = filter_dataframe(df = df, filter_criteria = filter_criteria)"
   ]
  },
  {
   "cell_type": "markdown",
   "id": "2e0f3de1-b048-4920-aa5b-b08619c94054",
   "metadata": {},
   "source": [
    "### 3) Plotting:\n",
    "\n",
    "Eventually, you can also plot your data, filtering it even more, if you´d like to. When you´re using the `plot()` function, you can specify the following parameters:\n",
    "\n",
    "- df: the datafram you´d like to plot (e.g. your filtered dataframe)\n",
    "- x_column: the column name of the data that should be visualized on the x-axis\n",
    "- y_column: the column name of the data that should be visualized on the y-axis\n",
    "- plot_type: currently only \"violinplot\" and \"stripplot\" are implemented\n",
    "- hue_column (optional): if you´d like to use the data of a column to color-code the plotted, you can specify it here (see example below)\n",
    "- hide_legend (optional): pass along as `False` if you´d like the legend of the plot to be displayed"
   ]
  },
  {
   "cell_type": "code",
   "execution_count": null,
   "id": "fb3322ef-6c03-4a8b-b6b2-e7cbdfc838d6",
   "metadata": {},
   "outputs": [],
   "source": [
    "plot(df = df_filtered, x_column = 'group_id', y_column = 'total_duration', hue_column = 'week_id')"
   ]
  },
  {
   "cell_type": "markdown",
   "id": "bfa32dbf-502f-4f11-966d-02decc2af6a2",
   "metadata": {},
   "source": [
    "# Plots for the internal audit:"
   ]
  },
  {
   "cell_type": "markdown",
   "id": "746013f0-aa9f-4be5-a5bb-640a63b14908",
   "metadata": {},
   "source": [
    "## Session overview analyses (freezing & gait):"
   ]
  },
  {
   "cell_type": "code",
   "execution_count": null,
   "id": "c55f4859-7ee0-497f-a479-802aa03300fb",
   "metadata": {},
   "outputs": [],
   "source": [
    "df_all_data = collect_all_available_data(root_dir_path = Path('/mnt/c/Users/dsege/Downloads/DLC_data/22_11_14/analyses/'),\n",
    "                                                 paradigm_ids = ['OTR', 'OTT', 'OTE'],\n",
    "                                                 week_ids = [1, 4, 8, 12, 14],\n",
    "                                                 sheet_name = 'session_overview')\n",
    "df_only_LC_batch = df_all_data.loc[df_all_data['line_id'].isin(['206', '209'])].copy()\n",
    "df_only_ctrl_of_DAT_batch = df_all_data.loc[(df_all_data['line_id'].isin(['194', '195'])) & (df_all_data['group_id'] == 'ctrl')].copy()\n",
    "\n",
    "df_session_overview = pd.concat([df_only_LC_batch, df_only_ctrl_of_DAT_batch])"
   ]
  },
  {
   "cell_type": "markdown",
   "id": "8a1935eb-a3bd-4c14-becc-38ffa4e86907",
   "metadata": {},
   "source": [
    "### N-numbers:"
   ]
  },
  {
   "cell_type": "code",
   "execution_count": null,
   "id": "7c6dcbed-771a-4e9c-aded-d44d2e857113",
   "metadata": {},
   "outputs": [],
   "source": [
    "n_count_ctrls_w1_through_8 = df_session_overview.loc[(df_session_overview['group_id'] == 'ctrl') &\n",
    "                                                     (df_session_overview['week_id'].isin(['1', '4', '8'])), 'subject_id'].unique().shape[0]\n",
    "\n",
    "n_count_ctrls_w12_and_14 = df_session_overview.loc[(df_session_overview['group_id'] == 'ctrl') &\n",
    "                                                   (df_session_overview['week_id'].isin(['12', '14'])), 'subject_id'].unique().shape[0]\n",
    "\n",
    "\n",
    "n_count_exps_w1_through_8 = df_session_overview.loc[(df_session_overview['group_id'] == 'exp') &\n",
    "                                                    (df_session_overview['week_id'].isin(['1', '4', '8'])), 'subject_id'].unique().shape[0]\n",
    "\n",
    "n_count_exps_wk12_and_14 = df_session_overview.loc[(df_session_overview['group_id'] == 'exp') &\n",
    "                                                   (df_session_overview['week_id'].isin(['12', '14'])), 'subject_id'].unique().shape[0]\n",
    "\n",
    "n_counts = {'ctrl': [n_count_ctrls_w1_through_8, n_count_ctrls_w12_and_14],\n",
    "            'exp': [n_count_exps_w1_through_8, n_count_exps_wk12_and_14]}\n",
    "\n",
    "pd.DataFrame(data = n_counts, index = ['weeks 1, 4, and 8:', 'weeks 12 and 14:'])"
   ]
  },
  {
   "cell_type": "markdown",
   "id": "d9b13088-1fe1-435a-a166-9e69f47c10e4",
   "metadata": {},
   "source": [
    "### Freezing:"
   ]
  },
  {
   "cell_type": "markdown",
   "id": "96a80ece-4357-4278-a5e2-5eb67f716ce5",
   "metadata": {},
   "source": [
    "#### All maze types pooled:"
   ]
  },
  {
   "cell_type": "code",
   "execution_count": null,
   "id": "7ca45822-024a-46c1-a7b8-1af5234d408e",
   "metadata": {},
   "outputs": [],
   "source": [
    "freezing_filter = filter_criteria = [('bout_type', 'equal_to', 'all_freezing_bouts')]\n",
    "df_freezing_overview = filter_dataframe(df = df_session_overview, filter_criteria = freezing_filter)"
   ]
  },
  {
   "cell_type": "code",
   "execution_count": null,
   "id": "86e6b953-f00e-47f4-8113-ec81a6a590b5",
   "metadata": {},
   "outputs": [],
   "source": [
    "fig = plt.figure(figsize=(5, 3), facecolor = 'white')\n",
    "ax = fig.add_subplot(111)\n",
    "sns.pointplot(data = df_freezing_overview, x = 'week_id', y = 'total_duration', hue = 'group_id', hue_order = ['exp', 'ctrl'], \n",
    "              dodge = 0.2, ci = 'sd', err_style = 'bars', capsize = 0.05, scale = 1.25, linewidth = 1.5, palette = ['deeppink', 'plum'], size=20, ax = ax)\n",
    "sns.stripplot(data = df_freezing_overview, x = 'week_id', y = 'total_duration', hue = 'group_id', hue_order = ['exp', 'ctrl'], \n",
    "              dodge = 2, alpha = 0.3, palette = ['deeppink', 'plum'], size=6.5, ax = ax)\n",
    "ax.get_legend().remove()\n",
    "plt.ylim(0, 550)\n",
    "plt.xlabel('weeks post injection', fontsize=12)\n",
    "plt.xticks(fontsize=12)\n",
    "plt.ylabel('total time spent freezing [s]', fontsize=12)\n",
    "plt.yticks(fontsize=12)\n",
    "ax.spines['top'].set_visible(False)\n",
    "ax.spines['right'].set_visible(False)\n",
    "plt.tight_layout()\n",
    "plt.savefig('total_time_spent_freezing.png', dpi=300)\n",
    "plt.show()"
   ]
  },
  {
   "cell_type": "code",
   "execution_count": null,
   "id": "036b4077-c7f6-4aad-831d-7df33077f915",
   "metadata": {},
   "outputs": [],
   "source": [
    "fig = plt.figure(figsize=(5, 3), facecolor = 'white')\n",
    "ax = fig.add_subplot(111)\n",
    "sns.pointplot(data = df_freezing_overview, x = 'week_id', y = 'mean_duration', hue = 'group_id', hue_order = ['exp', 'ctrl'], \n",
    "              dodge = 0.2, ci = 'sd', err_style = 'bars', capsize = 0.05, scale = 1.25, linewidth = 1.5, palette = ['deeppink', 'plum'], size=20, ax = ax)\n",
    "sns.stripplot(data = df_freezing_overview, x = 'week_id', y = 'mean_duration', hue = 'group_id', hue_order = ['exp', 'ctrl'], \n",
    "              dodge = 2, alpha = 0.3, palette = ['deeppink', 'plum'], size=6.5, ax = ax)\n",
    "ax.get_legend().remove()\n",
    "plt.ylim(0.5, 4.75)\n",
    "plt.xlabel('weeks post injection', fontsize=12)\n",
    "plt.xticks(fontsize=12)\n",
    "plt.ylabel('mean duration per\\nfreezing event[s]', fontsize=12)\n",
    "plt.yticks(fontsize=12)\n",
    "ax.spines['top'].set_visible(False)\n",
    "ax.spines['right'].set_visible(False)\n",
    "plt.tight_layout()\n",
    "plt.savefig('mean_duration_freezing_events.png', dpi=300)\n",
    "plt.show()"
   ]
  },
  {
   "cell_type": "markdown",
   "id": "b7fcf974-29a8-4a74-bbbd-b8c3a953d35e",
   "metadata": {},
   "source": [
    "#### Only OTR:"
   ]
  },
  {
   "cell_type": "code",
   "execution_count": null,
   "id": "ae6c1a51-fe19-47c9-948b-01c3535a188d",
   "metadata": {},
   "outputs": [],
   "source": [
    "freezing_filter = filter_criteria = [('bout_type', 'equal_to', 'all_freezing_bouts'),\n",
    "                                     ('paradigm_id', 'equal_to', 'OTR')]\n",
    "df_freezing_overview = filter_dataframe(df = df_session_overview, filter_criteria = freezing_filter)"
   ]
  },
  {
   "cell_type": "code",
   "execution_count": null,
   "id": "6b958788-0bf2-4da7-bf63-baea7ac86628",
   "metadata": {},
   "outputs": [],
   "source": [
    "fig = plt.figure(figsize=(5, 3), facecolor = 'white')\n",
    "ax = fig.add_subplot(111)\n",
    "sns.pointplot(data = df_freezing_overview, x = 'week_id', y = 'total_duration', hue = 'group_id', hue_order = ['exp', 'ctrl'], \n",
    "              dodge = 0.2, ci = 'sd', err_style = 'bars', capsize = 0.05, scale = 1.25, linewidth = 1.5, palette = ['deeppink', 'plum'], size=20, ax = ax)\n",
    "sns.stripplot(data = df_freezing_overview, x = 'week_id', y = 'total_duration', hue = 'group_id', hue_order = ['exp', 'ctrl'], \n",
    "              dodge = 2, alpha = 0.3, palette = ['deeppink', 'plum'], size=6.5, ax = ax)\n",
    "ax.get_legend().remove()\n",
    "plt.ylim(0, 550)\n",
    "plt.xlabel('weeks post injection', fontsize=12)\n",
    "plt.xticks(fontsize=12)\n",
    "plt.ylabel('total time spent freezing [s]', fontsize=12)\n",
    "plt.yticks(fontsize=12)\n",
    "ax.spines['top'].set_visible(False)\n",
    "ax.spines['right'].set_visible(False)\n",
    "plt.tight_layout()\n",
    "plt.savefig('total_time_spent_freezing_OTR.png', dpi=300)\n",
    "plt.show()"
   ]
  },
  {
   "cell_type": "code",
   "execution_count": null,
   "id": "18aa4a34-8e20-4a42-8343-1b996c9732b5",
   "metadata": {},
   "outputs": [],
   "source": [
    "fig = plt.figure(figsize=(5, 3), facecolor = 'white')\n",
    "ax = fig.add_subplot(111)\n",
    "sns.pointplot(data = df_freezing_overview, x = 'week_id', y = 'mean_duration', hue = 'group_id', hue_order = ['exp', 'ctrl'], \n",
    "              dodge = 0.2, ci = 'sd', err_style = 'bars', capsize = 0.05, scale = 1.25, linewidth = 1.5, palette = ['deeppink', 'plum'], size=20, ax = ax)\n",
    "sns.stripplot(data = df_freezing_overview, x = 'week_id', y = 'mean_duration', hue = 'group_id', hue_order = ['exp', 'ctrl'], \n",
    "              dodge = 2, alpha = 0.3, palette = ['deeppink', 'plum'], size=6.5, ax = ax)\n",
    "ax.get_legend().remove()\n",
    "plt.ylim(0.5, 4.75)\n",
    "plt.xlabel('weeks post injection', fontsize=12)\n",
    "plt.xticks(fontsize=12)\n",
    "plt.ylabel('mean duration per\\nfreezing event[s]', fontsize=12)\n",
    "plt.yticks(fontsize=12)\n",
    "ax.spines['top'].set_visible(False)\n",
    "ax.spines['right'].set_visible(False)\n",
    "plt.tight_layout()\n",
    "plt.savefig('mean_duration_freezing_events_OTR.png', dpi=300)\n",
    "plt.show()"
   ]
  },
  {
   "cell_type": "markdown",
   "id": "1bfc4b85-c2b5-4193-8b88-d38a5f01381b",
   "metadata": {},
   "source": [
    "#### Only OTE:"
   ]
  },
  {
   "cell_type": "code",
   "execution_count": null,
   "id": "749fa725-566d-4b9f-a597-ed21d0637a53",
   "metadata": {},
   "outputs": [],
   "source": [
    "freezing_filter = filter_criteria = [('bout_type', 'equal_to', 'all_freezing_bouts'),\n",
    "                                     ('paradigm_id', 'equal_to', 'OTE')]\n",
    "df_freezing_overview = filter_dataframe(df = df_session_overview, filter_criteria = freezing_filter)"
   ]
  },
  {
   "cell_type": "code",
   "execution_count": null,
   "id": "bee07598-a18f-40f8-a051-c7f46d0a1300",
   "metadata": {},
   "outputs": [],
   "source": [
    "fig = plt.figure(figsize=(5, 3), facecolor = 'white')\n",
    "ax = fig.add_subplot(111)\n",
    "sns.pointplot(data = df_freezing_overview, x = 'week_id', y = 'total_duration', hue = 'group_id', hue_order = ['exp', 'ctrl'], \n",
    "              dodge = 0.2, ci = 'sd', err_style = 'bars', capsize = 0.05, scale = 1.25, linewidth = 1.5, palette = ['deeppink', 'plum'], size=20, ax = ax)\n",
    "sns.stripplot(data = df_freezing_overview, x = 'week_id', y = 'total_duration', hue = 'group_id', hue_order = ['exp', 'ctrl'], \n",
    "              dodge = 2, alpha = 0.3, palette = ['deeppink', 'plum'], size=6.5, ax = ax)\n",
    "ax.get_legend().remove()\n",
    "plt.ylim(0, 550)\n",
    "plt.xlabel('weeks post injection', fontsize=12)\n",
    "plt.xticks(fontsize=12)\n",
    "plt.ylabel('total time spent freezing [s]', fontsize=12)\n",
    "plt.yticks(fontsize=12)\n",
    "ax.spines['top'].set_visible(False)\n",
    "ax.spines['right'].set_visible(False)\n",
    "plt.tight_layout()\n",
    "plt.savefig('total_time_spent_freezing_OTE.png', dpi=300)\n",
    "plt.show()"
   ]
  },
  {
   "cell_type": "code",
   "execution_count": null,
   "id": "46f925f9-6655-4634-ab72-5a59801fbae9",
   "metadata": {},
   "outputs": [],
   "source": [
    "fig = plt.figure(figsize=(5, 3), facecolor = 'white')\n",
    "ax = fig.add_subplot(111)\n",
    "sns.pointplot(data = df_freezing_overview, x = 'week_id', y = 'mean_duration', hue = 'group_id', hue_order = ['exp', 'ctrl'], \n",
    "              dodge = 0.2, ci = 'sd', err_style = 'bars', capsize = 0.05, scale = 1.25, linewidth = 1.5, palette = ['deeppink', 'plum'], size=20, ax = ax)\n",
    "sns.stripplot(data = df_freezing_overview, x = 'week_id', y = 'mean_duration', hue = 'group_id', hue_order = ['exp', 'ctrl'], \n",
    "              dodge = 2, alpha = 0.3, palette = ['deeppink', 'plum'], size=6.5, ax = ax)\n",
    "ax.get_legend().remove()\n",
    "plt.ylim(0.5, 4.75)\n",
    "plt.xlabel('weeks post injection', fontsize=12)\n",
    "plt.xticks(fontsize=12)\n",
    "plt.ylabel('mean duration per\\nfreezing event[s]', fontsize=12)\n",
    "plt.yticks(fontsize=12)\n",
    "ax.spines['top'].set_visible(False)\n",
    "ax.spines['right'].set_visible(False)\n",
    "plt.tight_layout()\n",
    "plt.savefig('mean_duration_freezing_events_OTE.png', dpi=300)\n",
    "plt.show()"
   ]
  },
  {
   "cell_type": "markdown",
   "id": "4e5d2ed3-f019-4be1-bccd-5075345cd6e6",
   "metadata": {},
   "source": [
    "#### Only OTT:"
   ]
  },
  {
   "cell_type": "code",
   "execution_count": null,
   "id": "0a32bbf9-f5bf-4152-a98e-0be77a50a235",
   "metadata": {},
   "outputs": [],
   "source": [
    "freezing_filter = filter_criteria = [('bout_type', 'equal_to', 'all_freezing_bouts'),\n",
    "                                     ('paradigm_id', 'equal_to', 'OTT')]\n",
    "df_freezing_overview = filter_dataframe(df = df_session_overview, filter_criteria = freezing_filter)"
   ]
  },
  {
   "cell_type": "code",
   "execution_count": null,
   "id": "7d8c28c5-fab5-430c-af1f-0296d3d97e70",
   "metadata": {},
   "outputs": [],
   "source": [
    "fig = plt.figure(figsize=(5, 3), facecolor = 'white')\n",
    "ax = fig.add_subplot(111)\n",
    "sns.pointplot(data = df_freezing_overview, x = 'week_id', y = 'total_duration', hue = 'group_id', hue_order = ['exp', 'ctrl'], \n",
    "              dodge = 0.2, ci = 'sd', err_style = 'bars', capsize = 0.05, scale = 1.25, linewidth = 1.5, palette = ['deeppink', 'plum'], size=20, ax = ax)\n",
    "sns.stripplot(data = df_freezing_overview, x = 'week_id', y = 'total_duration', hue = 'group_id', hue_order = ['exp', 'ctrl'], \n",
    "              dodge = 2, alpha = 0.3, palette = ['deeppink', 'plum'], size=6.5, ax = ax)\n",
    "ax.get_legend().remove()\n",
    "plt.ylim(0, 550)\n",
    "plt.xlabel('weeks post injection', fontsize=12)\n",
    "plt.xticks(fontsize=12)\n",
    "plt.ylabel('total time spent freezing [s]', fontsize=12)\n",
    "plt.yticks(fontsize=12)\n",
    "ax.spines['top'].set_visible(False)\n",
    "ax.spines['right'].set_visible(False)\n",
    "plt.tight_layout()\n",
    "plt.savefig('total_time_spent_freezing_OTT.png', dpi=300)\n",
    "plt.show()"
   ]
  },
  {
   "cell_type": "code",
   "execution_count": null,
   "id": "6b630255-dfb7-4eb8-a256-4b72b8388f99",
   "metadata": {},
   "outputs": [],
   "source": [
    "fig = plt.figure(figsize=(5, 3), facecolor = 'white')\n",
    "ax = fig.add_subplot(111)\n",
    "sns.pointplot(data = df_freezing_overview, x = 'week_id', y = 'mean_duration', hue = 'group_id', hue_order = ['exp', 'ctrl'], \n",
    "              dodge = 0.2, ci = 'sd', err_style = 'bars', capsize = 0.05, scale = 1.25, linewidth = 1.5, palette = ['deeppink', 'plum'], size=20, ax = ax)\n",
    "sns.stripplot(data = df_freezing_overview, x = 'week_id', y = 'mean_duration', hue = 'group_id', hue_order = ['exp', 'ctrl'], \n",
    "              dodge = 2, alpha = 0.3, palette = ['deeppink', 'plum'], size=6.5, ax = ax)\n",
    "ax.get_legend().remove()\n",
    "plt.ylim(0.5, 4.75)\n",
    "plt.xlabel('weeks post injection', fontsize=12)\n",
    "plt.xticks(fontsize=12)\n",
    "plt.ylabel('mean duration per\\nfreezing event[s]', fontsize=12)\n",
    "plt.yticks(fontsize=12)\n",
    "ax.spines['top'].set_visible(False)\n",
    "ax.spines['right'].set_visible(False)\n",
    "plt.tight_layout()\n",
    "plt.savefig('mean_duration_freezing_events_OTT.png', dpi=300)\n",
    "plt.show()"
   ]
  },
  {
   "cell_type": "markdown",
   "id": "fb4d28d0-0325-4134-a0db-9cb0949b0bf1",
   "metadata": {},
   "source": [
    "### Gait:"
   ]
  },
  {
   "cell_type": "markdown",
   "id": "32f81b7a-9c9c-4e4c-b086-f031ff9d2456",
   "metadata": {},
   "source": [
    "#### All maze types pooled:"
   ]
  },
  {
   "cell_type": "code",
   "execution_count": null,
   "id": "44a7197e-1096-4451-89ba-5158997128d9",
   "metadata": {},
   "outputs": [],
   "source": [
    "gait_filter = filter_criteria = [('bout_type', 'equal_to', 'all_gait_bouts')]\n",
    "df_gait_overview = filter_dataframe(df = df_session_overview, filter_criteria = gait_filter)"
   ]
  },
  {
   "cell_type": "code",
   "execution_count": null,
   "id": "266a8d20-4df5-408e-a37d-9688522b1ab9",
   "metadata": {},
   "outputs": [],
   "source": [
    "fig = plt.figure(figsize=(5, 3), facecolor = 'white')\n",
    "ax = fig.add_subplot(111)\n",
    "sns.pointplot(data = df_gait_overview, x = 'week_id', y = 'total_distance_covered', hue = 'group_id', hue_order = ['exp', 'ctrl'], \n",
    "              dodge = 0.2, ci = 'sd', err_style = 'bars', capsize = 0.05, scale = 1.25, linewidth = 1.5, palette = ['deeppink', 'plum'], size=20, ax = ax)\n",
    "sns.stripplot(data = df_gait_overview, x = 'week_id', y = 'total_distance_covered', hue = 'group_id', hue_order = ['exp', 'ctrl'], \n",
    "              dodge = 2, alpha = 0.3, palette = ['deeppink', 'plum'], size=6.5, ax = ax)\n",
    "ax.get_legend().remove()\n",
    "plt.ylim(0, 2800)\n",
    "plt.xlabel('weeks post injection', fontsize=12)\n",
    "plt.xticks(fontsize=12)\n",
    "plt.ylabel('total distance traveled [cm]', fontsize=12)\n",
    "plt.yticks(fontsize=12)\n",
    "ax.spines['top'].set_visible(False)\n",
    "ax.spines['right'].set_visible(False)\n",
    "plt.tight_layout()\n",
    "plt.savefig('total_gait_distance.png', dpi=300)\n",
    "plt.show()"
   ]
  },
  {
   "cell_type": "code",
   "execution_count": null,
   "id": "d15749f6-29b6-4850-bb98-4fa4d26c9959",
   "metadata": {},
   "outputs": [],
   "source": [
    "fig = plt.figure(figsize=(5, 3), facecolor = 'white')\n",
    "ax = fig.add_subplot(111)\n",
    "sns.pointplot(data = df_gait_overview, x = 'week_id', y = 'mean_distance_covered', hue = 'group_id', hue_order = ['exp', 'ctrl'], \n",
    "              dodge = 0.2, ci = 'sd', err_style = 'bars', capsize = 0.05, scale = 1.25, linewidth = 1.5, palette = ['deeppink', 'plum'], size=20, ax = ax)\n",
    "sns.stripplot(data = df_gait_overview, x = 'week_id', y = 'mean_distance_covered', hue = 'group_id', hue_order = ['exp', 'ctrl'], \n",
    "              dodge = 2, alpha = 0.3, palette = ['deeppink', 'plum'], size=6.5, ax = ax)\n",
    "ax.get_legend().remove()\n",
    "#plt.ylim(0, 1.7)\n",
    "plt.xlabel('weeks post injection', fontsize=12)\n",
    "plt.xticks(fontsize=12)\n",
    "plt.ylabel('mean distance traveled\\nper gait event [cm]', fontsize=12)\n",
    "plt.yticks(fontsize=12)\n",
    "ax.spines['top'].set_visible(False)\n",
    "ax.spines['right'].set_visible(False)\n",
    "plt.tight_layout()\n",
    "plt.savefig('mean_gait_event_distance.png', dpi=300)\n",
    "plt.show()"
   ]
  },
  {
   "cell_type": "markdown",
   "id": "c8155e28-fbd8-475b-a826-515ebeab9525",
   "metadata": {},
   "source": [
    "#### OTR only:"
   ]
  },
  {
   "cell_type": "code",
   "execution_count": null,
   "id": "ede6597e-91a2-495d-be3e-c1170de1962d",
   "metadata": {},
   "outputs": [],
   "source": [
    "gait_filter = filter_criteria = [('bout_type', 'equal_to', 'all_gait_bouts'), \n",
    "                                 ('paradigm_id', 'equal_to', 'OTR')]\n",
    "df_gait_overview = filter_dataframe(df = df_session_overview, filter_criteria = gait_filter)"
   ]
  },
  {
   "cell_type": "code",
   "execution_count": null,
   "id": "d87518e2-2813-42d7-a5e8-15b29c4a4fd5",
   "metadata": {},
   "outputs": [],
   "source": [
    "fig = plt.figure(figsize=(5, 3), facecolor = 'white')\n",
    "ax = fig.add_subplot(111)\n",
    "sns.pointplot(data = df_gait_overview, x = 'week_id', y = 'total_distance_covered', hue = 'group_id', hue_order = ['exp', 'ctrl'], \n",
    "              dodge = 0.2, ci = 'sd', err_style = 'bars', capsize = 0.05, scale = 1.25, linewidth = 1.5, palette = ['deeppink', 'plum'], size=20, ax = ax)\n",
    "sns.stripplot(data = df_gait_overview, x = 'week_id', y = 'total_distance_covered', hue = 'group_id', hue_order = ['exp', 'ctrl'], \n",
    "              dodge = 2, alpha = 0.3, palette = ['deeppink', 'plum'], size=6.5, ax = ax)\n",
    "ax.get_legend().remove()\n",
    "plt.ylim(0, 2800)\n",
    "plt.xlabel('weeks post injection', fontsize=12)\n",
    "plt.xticks(fontsize=12)\n",
    "plt.ylabel('total distance traveled [cm]', fontsize=12)\n",
    "plt.yticks(fontsize=12)\n",
    "ax.spines['top'].set_visible(False)\n",
    "ax.spines['right'].set_visible(False)\n",
    "plt.tight_layout()\n",
    "plt.savefig('total_gait_distance_OTR.png', dpi=300)\n",
    "plt.show()"
   ]
  },
  {
   "cell_type": "code",
   "execution_count": null,
   "id": "0df961c5-0ba5-4049-a4c2-c4cfc69ea6d2",
   "metadata": {},
   "outputs": [],
   "source": [
    "fig = plt.figure(figsize=(5, 3), facecolor = 'white')\n",
    "ax = fig.add_subplot(111)\n",
    "sns.pointplot(data = df_gait_overview, x = 'week_id', y = 'mean_distance_covered', hue = 'group_id', hue_order = ['exp', 'ctrl'], \n",
    "              dodge = 0.2, ci = 'sd', err_style = 'bars', capsize = 0.05, scale = 1.25, linewidth = 1.5, palette = ['deeppink', 'plum'], size=20, ax = ax)\n",
    "sns.stripplot(data = df_gait_overview, x = 'week_id', y = 'mean_distance_covered', hue = 'group_id', hue_order = ['exp', 'ctrl'], \n",
    "              dodge = 2, alpha = 0.3, palette = ['deeppink', 'plum'], size=6.5, ax = ax)\n",
    "ax.get_legend().remove()\n",
    "#plt.ylim(0, 1.7)\n",
    "plt.xlabel('weeks post injection', fontsize=12)\n",
    "plt.xticks(fontsize=12)\n",
    "plt.ylabel('mean distance traveled\\nper gait event [cm]', fontsize=12)\n",
    "plt.yticks(fontsize=12)\n",
    "ax.spines['top'].set_visible(False)\n",
    "ax.spines['right'].set_visible(False)\n",
    "plt.tight_layout()\n",
    "plt.savefig('mean_gait_event_distance_OTR.png', dpi=300)\n",
    "plt.show()"
   ]
  },
  {
   "cell_type": "markdown",
   "id": "f5f18045-a1aa-4167-922b-f057ddc3c18f",
   "metadata": {},
   "source": [
    "#### OTE only:"
   ]
  },
  {
   "cell_type": "code",
   "execution_count": null,
   "id": "6c6aecf6-aa2b-4ad6-a272-925cfc358d65",
   "metadata": {},
   "outputs": [],
   "source": [
    "gait_filter = filter_criteria = [('bout_type', 'equal_to', 'all_gait_bouts'),\n",
    "                                ('paradigm_id', 'equal_to', 'OTE')]\n",
    "df_gait_overview = filter_dataframe(df = df_session_overview, filter_criteria = gait_filter)"
   ]
  },
  {
   "cell_type": "code",
   "execution_count": null,
   "id": "c0ca88ec-337c-4512-abc7-1b197d774545",
   "metadata": {},
   "outputs": [],
   "source": [
    "fig = plt.figure(figsize=(5, 3), facecolor = 'white')\n",
    "ax = fig.add_subplot(111)\n",
    "sns.pointplot(data = df_gait_overview, x = 'week_id', y = 'total_distance_covered', hue = 'group_id', hue_order = ['exp', 'ctrl'], \n",
    "              dodge = 0.2, ci = 'sd', err_style = 'bars', capsize = 0.05, scale = 1.25, linewidth = 1.5, palette = ['deeppink', 'plum'], size=20, ax = ax)\n",
    "sns.stripplot(data = df_gait_overview, x = 'week_id', y = 'total_distance_covered', hue = 'group_id', hue_order = ['exp', 'ctrl'], \n",
    "              dodge = 2, alpha = 0.3, palette = ['deeppink', 'plum'], size=6.5, ax = ax)\n",
    "ax.get_legend().remove()\n",
    "plt.ylim(0, 2800)\n",
    "plt.xlabel('weeks post injection', fontsize=12)\n",
    "plt.xticks(fontsize=12)\n",
    "plt.ylabel('total distance traveled [cm]', fontsize=12)\n",
    "plt.yticks(fontsize=12)\n",
    "ax.spines['top'].set_visible(False)\n",
    "ax.spines['right'].set_visible(False)\n",
    "plt.tight_layout()\n",
    "plt.savefig('total_gait_distance_OTE.png', dpi=300)\n",
    "plt.show()"
   ]
  },
  {
   "cell_type": "code",
   "execution_count": null,
   "id": "cda702bd-81c7-42da-96ce-eecd36c2461f",
   "metadata": {},
   "outputs": [],
   "source": [
    "fig = plt.figure(figsize=(5, 3), facecolor = 'white')\n",
    "ax = fig.add_subplot(111)\n",
    "sns.pointplot(data = df_gait_overview, x = 'week_id', y = 'mean_distance_covered', hue = 'group_id', hue_order = ['exp', 'ctrl'], \n",
    "              dodge = 0.2, ci = 'sd', err_style = 'bars', capsize = 0.05, scale = 1.25, linewidth = 1.5, palette = ['deeppink', 'plum'], size=20, ax = ax)\n",
    "sns.stripplot(data = df_gait_overview, x = 'week_id', y = 'mean_distance_covered', hue = 'group_id', hue_order = ['exp', 'ctrl'], \n",
    "              dodge = 2, alpha = 0.3, palette = ['deeppink', 'plum'], size=6.5, ax = ax)\n",
    "ax.get_legend().remove()\n",
    "#plt.ylim(0, 1.7)\n",
    "plt.xlabel('weeks post injection', fontsize=12)\n",
    "plt.xticks(fontsize=12)\n",
    "plt.ylabel('mean distance traveled\\nper gait event [cm]', fontsize=12)\n",
    "plt.yticks(fontsize=12)\n",
    "ax.spines['top'].set_visible(False)\n",
    "ax.spines['right'].set_visible(False)\n",
    "plt.tight_layout()\n",
    "plt.savefig('mean_gait_event_distance_OTE.png', dpi=300)\n",
    "plt.show()"
   ]
  },
  {
   "cell_type": "markdown",
   "id": "c94821bb-c612-4f61-87d8-efc1bcdb4249",
   "metadata": {},
   "source": [
    "#### Only OTT:"
   ]
  },
  {
   "cell_type": "code",
   "execution_count": null,
   "id": "7b877506-4297-4872-bc65-eac40e9d0e61",
   "metadata": {},
   "outputs": [],
   "source": [
    "gait_filter = filter_criteria = [('bout_type', 'equal_to', 'all_gait_bouts'),\n",
    "                                ('paradigm_id', 'equal_to', 'OTT')]\n",
    "df_gait_overview = filter_dataframe(df = df_session_overview, filter_criteria = gait_filter)"
   ]
  },
  {
   "cell_type": "code",
   "execution_count": null,
   "id": "8989990f-4677-488d-8050-51d352c40103",
   "metadata": {},
   "outputs": [],
   "source": [
    "fig = plt.figure(figsize=(5, 3), facecolor = 'white')\n",
    "ax = fig.add_subplot(111)\n",
    "sns.pointplot(data = df_gait_overview, x = 'week_id', y = 'total_distance_covered', hue = 'group_id', hue_order = ['exp', 'ctrl'], \n",
    "              dodge = 0.2, ci = 'sd', err_style = 'bars', capsize = 0.05, scale = 1.25, linewidth = 1.5, palette = ['deeppink', 'plum'], size=20, ax = ax)\n",
    "sns.stripplot(data = df_gait_overview, x = 'week_id', y = 'total_distance_covered', hue = 'group_id', hue_order = ['exp', 'ctrl'], \n",
    "              dodge = 2, alpha = 0.3, palette = ['deeppink', 'plum'], size=6.5, ax = ax)\n",
    "ax.get_legend().remove()\n",
    "plt.ylim(0, 2800)\n",
    "plt.xlabel('weeks post injection', fontsize=12)\n",
    "plt.xticks(fontsize=12)\n",
    "plt.ylabel('total distance traveled [cm]', fontsize=12)\n",
    "plt.yticks(fontsize=12)\n",
    "ax.spines['top'].set_visible(False)\n",
    "ax.spines['right'].set_visible(False)\n",
    "plt.tight_layout()\n",
    "plt.savefig('total_gait_distance_OTT.png', dpi=300)\n",
    "plt.show()"
   ]
  },
  {
   "cell_type": "code",
   "execution_count": null,
   "id": "b38be747-5ffa-458c-b8b4-15e69fdbeb32",
   "metadata": {},
   "outputs": [],
   "source": [
    "fig = plt.figure(figsize=(5, 3), facecolor = 'white')\n",
    "ax = fig.add_subplot(111)\n",
    "sns.pointplot(data = df_gait_overview, x = 'week_id', y = 'mean_distance_covered', hue = 'group_id', hue_order = ['exp', 'ctrl'], \n",
    "              dodge = 0.2, ci = 'sd', err_style = 'bars', capsize = 0.05, scale = 1.25, linewidth = 1.5, palette = ['deeppink', 'plum'], size=20, ax = ax)\n",
    "sns.stripplot(data = df_gait_overview, x = 'week_id', y = 'mean_distance_covered', hue = 'group_id', hue_order = ['exp', 'ctrl'], \n",
    "              dodge = 2, alpha = 0.3, palette = ['deeppink', 'plum'], size=6.5, ax = ax)\n",
    "ax.get_legend().remove()\n",
    "#plt.ylim(0, 1.7)\n",
    "plt.xlabel('weeks post injection', fontsize=12)\n",
    "plt.xticks(fontsize=12)\n",
    "plt.ylabel('mean distance traveled\\nper gait event [cm]', fontsize=12)\n",
    "plt.yticks(fontsize=12)\n",
    "ax.spines['top'].set_visible(False)\n",
    "ax.spines['right'].set_visible(False)\n",
    "plt.tight_layout()\n",
    "plt.savefig('mean_gait_event_distance_OTT.png', dpi=300)\n",
    "plt.show()"
   ]
  },
  {
   "cell_type": "markdown",
   "id": "4a424ae4-7bad-426d-be90-51f293707842",
   "metadata": {},
   "source": [
    "## Distribution of gait bout end positions per maze type & week, split by groups:"
   ]
  },
  {
   "cell_type": "code",
   "execution_count": null,
   "id": "80472f5f-605e-48a7-8180-5598c74575c3",
   "metadata": {},
   "outputs": [],
   "source": [
    "df_all_gait_data = collect_all_available_data(root_dir_path = Path('/mnt/c/Users/dsege/Downloads/DLC_data/22_11_14/analyses/'),\n",
    "                                                 paradigm_ids = ['OTR', 'OTT', 'OTE'],\n",
    "                                                 week_ids = [1, 4, 8, 12, 14],\n",
    "                                                 sheet_name = 'gait_bouts')\n",
    "df_gait_only_LC_batch = df_all_gait_data.loc[df_all_gait_data['line_id'].isin(['206', '209'])].copy()\n",
    "df_gait_only_ctrl_of_DAT_batch = df_all_gait_data.loc[(df_all_gait_data['line_id'].isin(['194', '195'])) & (df_all_gait_data['group_id'] == 'ctrl')].copy()\n",
    "\n",
    "df_gait_bouts = pd.concat([df_gait_only_LC_batch, df_gait_only_ctrl_of_DAT_batch])"
   ]
  },
  {
   "cell_type": "markdown",
   "id": "ec900f17-81b8-4ee4-a8de-4cad15856444",
   "metadata": {},
   "source": [
    "### OTE:"
   ]
  },
  {
   "cell_type": "code",
   "execution_count": null,
   "id": "47a3c993-8005-4d19-b2e0-d697374a47f5",
   "metadata": {},
   "outputs": [],
   "source": [
    "gait_ote_filter = filter_criteria = [('paradigm_id', 'equal_to', 'OTE'),\n",
    "                                    ('towards_open_at_bout_end', 'equal_to', True)]\n",
    "df_gait_ote = filter_dataframe(df = df_gait_bouts, filter_criteria = gait_ote_filter)"
   ]
  },
  {
   "cell_type": "code",
   "execution_count": null,
   "id": "524a021f-9e94-4ec8-8bd0-a4e015bea6b0",
   "metadata": {},
   "outputs": [],
   "source": [
    "fig = plt.figure(figsize=(5, 7), facecolor='white')\n",
    "ax = fig.add_subplot(111)\n",
    "plt.vlines(x=35, ymin=-0.5, ymax=4.5, color='black', alpha=0.3, linestyle='dashed', linewidth=3)\n",
    "sns.violinplot(data = df_gait_ote, x = 'CenterOfGravity_x_at_bout_end', y = \"week_id\", hue = 'group_id', hue_order = ['exp', 'ctrl'], \n",
    "               split = True, scale = 'count', palette = ['deeppink', 'plum'], inner = None)\n",
    "\n",
    "ax.get_legend().remove()\n",
    "plt.xlim(0, 50)\n",
    "plt.ylabel('weeks post injection', fontsize=16)\n",
    "plt.yticks(fontsize=14)\n",
    "plt.xlabel('distance to closed end at end of gait event [cm]', fontsize=13)\n",
    "plt.xticks(fontsize=14)\n",
    "ax.spines['top'].set_visible(False)\n",
    "ax.spines['right'].set_visible(False)\n",
    "plt.tight_layout()\n",
    "plt.savefig('x_position_at_gait_bout_end_OTE.png', dpi=300)\n",
    "plt.show()"
   ]
  },
  {
   "cell_type": "markdown",
   "id": "d23abaad-a58b-48af-9b55-7e3f93f201e7",
   "metadata": {},
   "source": [
    "### OTT:"
   ]
  },
  {
   "cell_type": "code",
   "execution_count": null,
   "id": "a284399d-19a4-47c0-92dd-0690725fab6c",
   "metadata": {},
   "outputs": [],
   "source": [
    "gait_ott_filter = filter_criteria = [('paradigm_id', 'equal_to', 'OTT'),\n",
    "                                    ('towards_open_at_bout_end', 'equal_to', True)]\n",
    "df_gait_ott = filter_dataframe(df = df_gait_bouts, filter_criteria = gait_ott_filter)"
   ]
  },
  {
   "cell_type": "code",
   "execution_count": null,
   "id": "3f1c9c54-4d99-4c3d-a615-cdf7740f6636",
   "metadata": {},
   "outputs": [],
   "source": [
    "fig = plt.figure(figsize=(5, 7), facecolor='white')\n",
    "ax = fig.add_subplot(111)\n",
    "plt.vlines(x=35, ymin=-0.5, ymax=4.5, color='black', alpha=0.3, linestyle='dashed', linewidth=3)\n",
    "sns.violinplot(data = df_gait_ott, x = 'CenterOfGravity_x_at_bout_end', y = \"week_id\", hue = 'group_id', hue_order = ['exp', 'ctrl'], \n",
    "               split = True, scale = 'count', palette = ['deeppink', 'plum'], inner = None)\n",
    "\n",
    "ax.get_legend().remove()\n",
    "plt.xlim(0, 50)\n",
    "plt.ylabel('weeks post injection', fontsize=16)\n",
    "plt.yticks(fontsize=14)\n",
    "plt.xlabel('distance to closed end at end of gait event [cm]', fontsize=13)\n",
    "plt.xticks(fontsize=14)\n",
    "ax.spines['top'].set_visible(False)\n",
    "ax.spines['right'].set_visible(False)\n",
    "plt.tight_layout()\n",
    "plt.savefig('x_position_at_gait_bout_end_OTT.png', dpi=300)\n",
    "plt.show()"
   ]
  },
  {
   "cell_type": "markdown",
   "id": "134e20b4-c217-4cb2-a749-20282eca2b7e",
   "metadata": {},
   "source": [
    "### OTR:"
   ]
  },
  {
   "cell_type": "code",
   "execution_count": null,
   "id": "a1eb343a-a2f7-4e6c-8bf5-8cca9113f45d",
   "metadata": {},
   "outputs": [],
   "source": [
    "gait_otr_filter = filter_criteria = [('paradigm_id', 'equal_to', 'OTR'),\n",
    "                                    ('towards_open_at_bout_end', 'equal_to', True)]\n",
    "df_gait_otr = filter_dataframe(df = df_gait_bouts, filter_criteria = gait_otr_filter)"
   ]
  },
  {
   "cell_type": "code",
   "execution_count": null,
   "id": "f7ea5ad2-d64e-4ed3-9b99-6cea2a8df2da",
   "metadata": {},
   "outputs": [],
   "source": [
    "fig = plt.figure(figsize=(5, 7), facecolor='white')\n",
    "ax = fig.add_subplot(111)\n",
    "plt.vlines(x=35, ymin=-0.5, ymax=4.5, color='black', alpha=0.3, linestyle='dashed', linewidth=3)\n",
    "sns.violinplot(data = df_gait_otr, x = 'CenterOfGravity_x_at_bout_end', y = \"week_id\", hue = 'group_id', hue_order = ['exp', 'ctrl'], \n",
    "               split = True, scale = 'count', palette = ['deeppink', 'plum'], inner = None)\n",
    "ax.get_legend().remove()\n",
    "plt.xlim(0, 50)\n",
    "plt.ylabel('weeks post injection', fontsize=16)\n",
    "plt.yticks(fontsize=14)\n",
    "plt.xlabel('distance to closed end at end of gait event [cm]', fontsize=13)\n",
    "plt.xticks(fontsize=14)\n",
    "ax.spines['top'].set_visible(False)\n",
    "ax.spines['right'].set_visible(False)\n",
    "plt.tight_layout()\n",
    "plt.savefig('x_position_at_gait_bout_end_OTR.png', dpi=300)\n",
    "plt.show()"
   ]
  },
  {
   "cell_type": "markdown",
   "id": "14539b4a-34a2-4d47-a92a-d07c9ee4f44c",
   "metadata": {},
   "source": [
    "# Explorative analyses:"
   ]
  },
  {
   "cell_type": "markdown",
   "id": "7b7df1bb-76dd-4c20-ab97-ea69b64274fb",
   "metadata": {},
   "source": [
    "## Freezing bouts:"
   ]
  },
  {
   "cell_type": "markdown",
   "id": "99535a0b-95a4-4bd6-8d04-6a084b1585e0",
   "metadata": {},
   "source": [
    "### All paradigms combined:"
   ]
  },
  {
   "cell_type": "code",
   "execution_count": null,
   "id": "fd92ee2d-db2b-4b74-a89d-2931775ca8a4",
   "metadata": {},
   "outputs": [],
   "source": [
    "filter_criteria_freezing = [('line_id', 'is_in_list', ['206', '209']),\n",
    "                           ('bout_type', 'equal_to', 'all_freezing_bouts')]\n",
    "df_freezing_bouts = filter_dataframe(df = df, filter_criteria = filter_criteria_freezing)"
   ]
  },
  {
   "cell_type": "code",
   "execution_count": null,
   "id": "2647e1f1-c5f7-4610-805e-678e80ebabcd",
   "metadata": {},
   "outputs": [],
   "source": [
    "df_freezing_bouts.to_excel('all_freezing_bouts_all_paradigms.xlsx')"
   ]
  },
  {
   "cell_type": "markdown",
   "id": "b340560d-87f4-467c-a7d6-16c7b8247dab",
   "metadata": {},
   "source": [
    "### In OTE:"
   ]
  },
  {
   "cell_type": "code",
   "execution_count": null,
   "id": "2f353eb7-6622-4b30-8a89-c7aa6a4ce203",
   "metadata": {},
   "outputs": [],
   "source": [
    "filter_criteria_freezing = [('paradigm_id', 'equal_to', 'OTE'),\n",
    "                           ('line_id', 'is_in_list', ['206', '209']),\n",
    "                           ('bout_type', 'equal_to', 'all_freezing_bouts')]\n",
    "df_freezing_bouts = filter_dataframe(df = df, filter_criteria = filter_criteria_freezing)"
   ]
  },
  {
   "cell_type": "code",
   "execution_count": null,
   "id": "246b684a-fd7f-403c-bf2e-0a01336f6aa6",
   "metadata": {},
   "outputs": [],
   "source": [
    "plot(df = df_freezing_bouts, x_column = 'group_id', y_column = 'total_bouts_count', plot_type = 'stripplot', hue_column='week_id', hide_legend = False)"
   ]
  },
  {
   "cell_type": "code",
   "execution_count": null,
   "id": "e211f61f-bab9-4b67-b946-204e3fa94903",
   "metadata": {},
   "outputs": [],
   "source": [
    "plot(df = df_freezing_bouts, x_column = 'group_id', y_column = 'total_duration', plot_type = 'stripplot', hue_column='week_id', hide_legend = False)"
   ]
  },
  {
   "cell_type": "markdown",
   "id": "fe28ad50-db7d-464a-94ea-ca7a66dfb77e",
   "metadata": {},
   "source": [
    "### In OTR:"
   ]
  },
  {
   "cell_type": "code",
   "execution_count": null,
   "id": "734c523f-3f0a-4c91-9cdc-106ac307cdb2",
   "metadata": {},
   "outputs": [],
   "source": [
    "filter_criteria_freezing = [('paradigm_id', 'equal_to', 'OTR'),\n",
    "                           ('line_id', 'is_in_list', ['206', '209']),\n",
    "                           ('bout_type', 'equal_to', 'all_freezing_bouts')]\n",
    "df_freezing_bouts = filter_dataframe(df = df, filter_criteria = filter_criteria_freezing)"
   ]
  },
  {
   "cell_type": "code",
   "execution_count": null,
   "id": "3da04ea3-8d24-45e0-9193-a2ea921d91e9",
   "metadata": {},
   "outputs": [],
   "source": [
    "plot(df = df_freezing_bouts, x_column = 'group_id', y_column = 'total_bouts_count', plot_type = 'stripplot', hue_column='week_id', hide_legend = False)"
   ]
  },
  {
   "cell_type": "code",
   "execution_count": null,
   "id": "215f297a-d212-4a6b-a803-3d345b929615",
   "metadata": {},
   "outputs": [],
   "source": [
    "plot(df = df_freezing_bouts, x_column = 'group_id', y_column = 'total_duration', plot_type = 'stripplot', hue_column='week_id', hide_legend = False)"
   ]
  },
  {
   "cell_type": "markdown",
   "id": "e15f0b76-6d28-4a76-8f2d-94299396f31d",
   "metadata": {},
   "source": [
    "### In OTT:"
   ]
  },
  {
   "cell_type": "code",
   "execution_count": null,
   "id": "77c3f27c-ad08-4a1c-a244-7fd1bd6c46c5",
   "metadata": {},
   "outputs": [],
   "source": [
    "filter_criteria_freezing = [('paradigm_id', 'equal_to', 'OTT'),\n",
    "                           ('line_id', 'is_in_list', ['206', '209']),\n",
    "                           ('bout_type', 'equal_to', 'all_freezing_bouts')]\n",
    "df_freezing_bouts = filter_dataframe(df = df, filter_criteria = filter_criteria_freezing)"
   ]
  },
  {
   "cell_type": "code",
   "execution_count": null,
   "id": "5ccaebef-7f3e-4ec3-af79-d3074185e155",
   "metadata": {},
   "outputs": [],
   "source": [
    "plot(df = df_freezing_bouts, x_column = 'group_id', y_column = 'total_bouts_count', plot_type = 'stripplot', hue_column='week_id', hide_legend = False)"
   ]
  },
  {
   "cell_type": "code",
   "execution_count": null,
   "id": "f683270e-5c2b-408b-94a1-c55ed6cf6336",
   "metadata": {},
   "outputs": [],
   "source": [
    "plot(df = df_freezing_bouts, x_column = 'group_id', y_column = 'total_duration', plot_type = 'stripplot', hue_column='week_id', hide_legend = False)"
   ]
  },
  {
   "cell_type": "markdown",
   "id": "c7bcf411-580a-448e-b188-23844c932548",
   "metadata": {},
   "source": [
    "## Gait bouts:"
   ]
  },
  {
   "cell_type": "markdown",
   "id": "efb684da-9f9d-4f6b-95d7-010f1ccf3a57",
   "metadata": {},
   "source": [
    "### All paradigms combined:"
   ]
  },
  {
   "cell_type": "code",
   "execution_count": null,
   "id": "9be52224-a35f-4812-8366-00bd1a5c4866",
   "metadata": {},
   "outputs": [],
   "source": [
    "filter_criteria_gait = [('line_id', 'is_in_list', ['206', '209']),\n",
    "                           ('bout_type', 'equal_to', 'all_gait_bouts')]\n",
    "df_gait_bouts = filter_dataframe(df = df, filter_criteria = filter_criteria_gait)"
   ]
  },
  {
   "cell_type": "code",
   "execution_count": null,
   "id": "204d5fd7-1a22-4e6f-bcd5-faaaf9a8fc74",
   "metadata": {},
   "outputs": [],
   "source": [
    "plot(df = df_gait_bouts, x_column = 'group_id', y_column = 'total_bouts_count', plot_type = 'stripplot', hue_column='week_id', hide_legend = False)"
   ]
  },
  {
   "cell_type": "code",
   "execution_count": null,
   "id": "a03b058d-0ea6-4606-9d57-a6cf0b8f10dc",
   "metadata": {},
   "outputs": [],
   "source": [
    "plot(df = df_gait_bouts, x_column = 'group_id', y_column = 'total_duration', plot_type = 'stripplot', hue_column='week_id', hide_legend = False)"
   ]
  },
  {
   "cell_type": "code",
   "execution_count": null,
   "id": "d8665a8e-f0c5-4714-9317-88ed0c373c26",
   "metadata": {},
   "outputs": [],
   "source": [
    "df_gait_bouts.to_excel('all_gait_bouts_all_paradigms.xlsx')"
   ]
  },
  {
   "cell_type": "markdown",
   "id": "67183810-fe3f-4f75-b6d7-16944f51b0ab",
   "metadata": {},
   "source": [
    "### In OTE:"
   ]
  },
  {
   "cell_type": "code",
   "execution_count": null,
   "id": "cfcc863e-6c54-411a-b4e4-4980d6359628",
   "metadata": {},
   "outputs": [],
   "source": [
    "filter_criteria_gait = [('paradigm_id', 'equal_to', 'OTE'),\n",
    "                           ('line_id', 'is_in_list', ['206', '209']),\n",
    "                           ('bout_type', 'equal_to', 'all_gait_bouts')]\n",
    "df_gait_bouts = filter_dataframe(df = df, filter_criteria = filter_criteria_gait)"
   ]
  },
  {
   "cell_type": "code",
   "execution_count": null,
   "id": "b90dbb1e-6039-46e9-b269-afdc9c02a9ce",
   "metadata": {},
   "outputs": [],
   "source": [
    "plot(df = df_gait_bouts, x_column = 'group_id', y_column = 'total_bouts_count', plot_type = 'stripplot', hue_column='week_id', hide_legend = False)"
   ]
  },
  {
   "cell_type": "code",
   "execution_count": null,
   "id": "522d3022-372a-4e45-87c2-8f160700d43d",
   "metadata": {},
   "outputs": [],
   "source": [
    "plot(df = df_gait_bouts, x_column = 'group_id', y_column = 'total_duration', plot_type = 'stripplot', hue_column='week_id', hide_legend = False)"
   ]
  },
  {
   "cell_type": "markdown",
   "id": "07d8d623-19d6-4589-89fa-50b4f4257163",
   "metadata": {},
   "source": [
    "### In OTR:"
   ]
  },
  {
   "cell_type": "code",
   "execution_count": null,
   "id": "50341dff-7203-454c-9d5f-b720d4208f7f",
   "metadata": {},
   "outputs": [],
   "source": [
    "filter_criteria_gait = [('paradigm_id', 'equal_to', 'OTR'),\n",
    "                           ('line_id', 'is_in_list', ['206', '209']),\n",
    "                           ('bout_type', 'equal_to', 'all_gait_bouts')]\n",
    "df_gait_bouts = filter_dataframe(df = df, filter_criteria = filter_criteria_gait)"
   ]
  },
  {
   "cell_type": "code",
   "execution_count": null,
   "id": "44e492b2-15fe-463f-9030-6fd2d0c58e4a",
   "metadata": {},
   "outputs": [],
   "source": [
    "plot(df = df_gait_bouts, x_column = 'group_id', y_column = 'total_bouts_count', plot_type = 'stripplot', hue_column='week_id', hide_legend = False)"
   ]
  },
  {
   "cell_type": "code",
   "execution_count": null,
   "id": "72e7ca3c-8b7f-4836-9b38-c1754503fb40",
   "metadata": {},
   "outputs": [],
   "source": [
    "plot(df = df_gait_bouts, x_column = 'group_id', y_column = 'total_duration', plot_type = 'stripplot', hue_column='week_id', hide_legend = False)"
   ]
  },
  {
   "cell_type": "markdown",
   "id": "43b3a9a7-b957-4b01-9072-6374a06cb577",
   "metadata": {},
   "source": [
    "### In OTT:"
   ]
  },
  {
   "cell_type": "code",
   "execution_count": null,
   "id": "34efc4fd-40df-43c3-b660-9941570eb22f",
   "metadata": {},
   "outputs": [],
   "source": [
    "filter_criteria_gait = [('paradigm_id', 'equal_to', 'OTT'),\n",
    "                           ('line_id', 'is_in_list', ['206', '209']),\n",
    "                           ('bout_type', 'equal_to', 'all_gait_bouts')]\n",
    "df_gait_bouts = filter_dataframe(df = df, filter_criteria = filter_criteria_gait)"
   ]
  },
  {
   "cell_type": "code",
   "execution_count": null,
   "id": "26124fff-ba33-4031-8da6-20a81c050dbd",
   "metadata": {},
   "outputs": [],
   "source": [
    "plot(df = df_gait_bouts, x_column = 'group_id', y_column = 'total_bouts_count', plot_type = 'stripplot', hue_column='week_id', hide_legend = False)"
   ]
  },
  {
   "cell_type": "code",
   "execution_count": null,
   "id": "40843e5f-25a2-4fdd-a8c4-55fa1d74e0af",
   "metadata": {},
   "outputs": [],
   "source": [
    "plot(df = df_gait_bouts, x_column = 'group_id', y_column = 'total_duration', plot_type = 'stripplot', hue_column='week_id', hide_legend = False)"
   ]
  },
  {
   "cell_type": "markdown",
   "id": "9904cc23-4ccd-419f-b27a-504112f0befd",
   "metadata": {},
   "source": [
    "## Gait disruption bouts"
   ]
  },
  {
   "cell_type": "markdown",
   "id": "81e6af55-fb19-48b8-bb76-61d5aebfefaa",
   "metadata": {},
   "source": [
    "### All paradigms combined:"
   ]
  },
  {
   "cell_type": "code",
   "execution_count": null,
   "id": "45ab7d09-b7da-4c4f-b403-3ea277eae2b1",
   "metadata": {},
   "outputs": [],
   "source": [
    "filter_criteria_gait_disruption = [('line_id', 'is_in_list', ['206', '209']),\n",
    "                                   ('bout_type', 'equal_to', 'all_gait_disruption_bouts')]\n",
    "df_gait_disruption_bouts = filter_dataframe(df = df, filter_criteria = filter_criteria_gait_disruption)"
   ]
  },
  {
   "cell_type": "code",
   "execution_count": null,
   "id": "0e2ef522-bf41-4bc3-b250-2fa1311b6f42",
   "metadata": {},
   "outputs": [],
   "source": [
    "plot(df = df_gait_disruption_bouts, x_column = 'group_id', y_column = 'total_bouts_count', plot_type = 'stripplot', hue_column='week_id', hide_legend = False)"
   ]
  },
  {
   "cell_type": "code",
   "execution_count": null,
   "id": "6d1d96ad-d7ad-4bc6-9552-0f69a8f0de48",
   "metadata": {},
   "outputs": [],
   "source": [
    "plot(df = df_gait_disruption_bouts, x_column = 'group_id', y_column = 'total_duration', plot_type = 'stripplot', hue_column='week_id', hide_legend = False)"
   ]
  },
  {
   "cell_type": "code",
   "execution_count": null,
   "id": "4a8f6a84-c1a8-45e7-94d0-0cead8c3fdb2",
   "metadata": {},
   "outputs": [],
   "source": [
    "plot(df = df_gait_disruption_bouts, x_column = 'group_id', y_column = 'mean_CenterOfGravity_x', plot_type = 'stripplot', hue_column='week_id', hide_legend = False)"
   ]
  },
  {
   "cell_type": "markdown",
   "id": "68049468-4e88-4e2b-832c-8a15c421f824",
   "metadata": {},
   "source": [
    "## Detailed Gait disruption bout analyses"
   ]
  },
  {
   "cell_type": "code",
   "execution_count": null,
   "id": "833a3b37-4ed9-4d9b-926c-077bbfa7b674",
   "metadata": {},
   "outputs": [],
   "source": [
    "df_gt_bouts_only = collect_all_available_data(root_dir_path = Path('/mnt/c/Users/dsege/Downloads/DLC_data/22_11_14/analyses/'),\n",
    "                                                paradigm_ids = ['OTR', 'OTT', 'OTE'],\n",
    "                                                week_ids = [1, 4, 8, 12, 14],\n",
    "                                                sheet_name = 'gait_disruption_bouts')\n",
    "df_gt_bouts_only.head()"
   ]
  },
  {
   "cell_type": "code",
   "execution_count": null,
   "id": "d3a51677-833d-427a-8e4d-61631da3e794",
   "metadata": {},
   "outputs": [],
   "source": [
    "filter_criteria_gait_disruption = [('line_id', 'is_in_list', ['206', '209'])]\n",
    "df_gt_bouts_only_filtered = filter_dataframe(df = df_gt_bouts_only, filter_criteria = filter_criteria_gait_disruption)"
   ]
  },
  {
   "cell_type": "code",
   "execution_count": null,
   "id": "02fcfcc5-2922-4577-b0ce-2b94d0b91e1f",
   "metadata": {},
   "outputs": [],
   "source": [
    "plot(df = df_gt_bouts_only_filtered, x_column = 'group_id', y_column = 'CenterOfGravity_x_at_bout_start', plot_type = 'stripplot', hue_column='paradigm_id', hide_legend = False)"
   ]
  },
  {
   "cell_type": "markdown",
   "id": "41906155-47a1-4b23-a3c1-a17ca2d84411",
   "metadata": {},
   "source": [
    "## Detailed Gait analyses"
   ]
  },
  {
   "cell_type": "code",
   "execution_count": null,
   "id": "ae95a03d-4db4-4aa9-96bf-0605342334cd",
   "metadata": {},
   "outputs": [],
   "source": [
    "df_gait_bouts_only = collect_all_available_data(root_dir_path = Path('/mnt/c/Users/dsege/Downloads/DLC_data/22_11_14/analyses/'),\n",
    "                                                paradigm_ids = ['OTR', 'OTT', 'OTE'],\n",
    "                                                week_ids = [1, 4, 8, 12, 14],\n",
    "                                                sheet_name = 'gait_bouts')\n",
    "df_gait_bouts_only.head()"
   ]
  },
  {
   "cell_type": "markdown",
   "id": "8018eecf-43a0-4ff6-8116-93092a049c40",
   "metadata": {},
   "source": [
    "### OTE only"
   ]
  },
  {
   "cell_type": "code",
   "execution_count": null,
   "id": "16df88be-8424-4dd3-b2c0-e6c4833430d7",
   "metadata": {},
   "outputs": [],
   "source": [
    "filter_criteria_gait = [('line_id', 'is_in_list', ['206', '209']),\n",
    "                                   ('towards_open_at_bout_end', 'equal_to', True),\n",
    "                                   ('paradigm_id', 'equal_to', 'OTE')]\n",
    "df_gait_bouts_only_filtered = filter_dataframe(df = df_gait_bouts_only, filter_criteria = filter_criteria_gait)"
   ]
  },
  {
   "cell_type": "code",
   "execution_count": null,
   "id": "5be40e96-ce51-41ef-a2e8-0943dd922cad",
   "metadata": {},
   "outputs": [],
   "source": [
    "plot(df = df_gait_bouts_only_filtered, x_column = 'group_id', y_column = 'CenterOfGravity_x_at_bout_end', plot_type = 'violinplot', hue_column='week_id', hide_legend = False)"
   ]
  },
  {
   "cell_type": "markdown",
   "id": "3f15adfe-2c54-4c4c-a39f-076f056d13c2",
   "metadata": {},
   "source": [
    "### OTR only"
   ]
  },
  {
   "cell_type": "code",
   "execution_count": null,
   "id": "d37d1d86-bc35-4ecb-96e2-eb30b971c66c",
   "metadata": {},
   "outputs": [],
   "source": [
    "filter_criteria_gait = [('line_id', 'is_in_list', ['206', '209']),\n",
    "                                   ('towards_open_at_bout_end', 'equal_to', True),\n",
    "                                   ('paradigm_id', 'equal_to', 'OTR')]\n",
    "df_gait_bouts_only_filtered = filter_dataframe(df = df_gait_bouts_only, filter_criteria = filter_criteria_gait)"
   ]
  },
  {
   "cell_type": "code",
   "execution_count": null,
   "id": "7db80d59-48e9-4a9d-bc38-5fc010c5c085",
   "metadata": {},
   "outputs": [],
   "source": [
    "plot(df = df_gait_bouts_only_filtered, x_column = 'group_id', y_column = 'CenterOfGravity_x_at_bout_end', plot_type = 'violinplot', hue_column='week_id', hide_legend = False)"
   ]
  },
  {
   "cell_type": "markdown",
   "id": "180729f0-f1e5-48d5-86bb-da73366d1d96",
   "metadata": {},
   "source": [
    "### OTT only"
   ]
  },
  {
   "cell_type": "code",
   "execution_count": null,
   "id": "6c51d49e-aa6c-4732-bb37-cf9a0a6dd45c",
   "metadata": {},
   "outputs": [],
   "source": [
    "filter_criteria_gait = [('line_id', 'is_in_list', ['206', '209']),\n",
    "                                   ('towards_open_at_bout_end', 'equal_to', True),\n",
    "                                   ('paradigm_id', 'equal_to', 'OTT')]\n",
    "df_gait_bouts_only_filtered = filter_dataframe(df = df_gait_bouts_only, filter_criteria = filter_criteria_gait)"
   ]
  },
  {
   "cell_type": "code",
   "execution_count": null,
   "id": "014ac0e2-8ab6-475c-97af-c0752de978b6",
   "metadata": {},
   "outputs": [],
   "source": [
    "plot(df = df_gait_bouts_only_filtered, x_column = 'group_id', y_column = 'CenterOfGravity_x_at_bout_end', plot_type = 'violinplot', hue_column='week_id', hide_legend = False)"
   ]
  },
  {
   "cell_type": "markdown",
   "id": "03efc6f3-764d-4389-b3a2-4756edf3a684",
   "metadata": {},
   "source": [
    "## Detailed immobility analyses"
   ]
  },
  {
   "cell_type": "code",
   "execution_count": null,
   "id": "be993e77-0dbf-47e3-bec1-72e0f7405342",
   "metadata": {},
   "outputs": [],
   "source": [
    "df_immobility_bouts_only = collect_all_available_data(root_dir_path = Path('/mnt/c/Users/dsege/Downloads/DLC_data/22_11_14/analyses/'),\n",
    "                                                paradigm_ids = ['OTR', 'OTT', 'OTE'],\n",
    "                                                week_ids = [1, 4, 8, 12, 14],\n",
    "                                                sheet_name = 'immobility_bouts')\n",
    "df_immobility_bouts_only.head()"
   ]
  },
  {
   "cell_type": "markdown",
   "id": "43d43ef3-70f9-4256-82b1-098db1d5cba7",
   "metadata": {},
   "source": [
    "### OTE only"
   ]
  },
  {
   "cell_type": "code",
   "execution_count": null,
   "id": "f68b929b-ecb4-4bab-acd3-0451af23186f",
   "metadata": {},
   "outputs": [],
   "source": [
    "filter_criteria_immobility = [('line_id', 'is_in_list', ['206', '209']),\n",
    "                                   ('towards_open_at_bout_start', 'equal_to', True),\n",
    "                                   ('paradigm_id', 'equal_to', 'OTE')]\n",
    "df_i_bouts_only_filtered = filter_dataframe(df = df_immobility_bouts_only, filter_criteria = filter_criteria_immobility)"
   ]
  },
  {
   "cell_type": "code",
   "execution_count": null,
   "id": "2c13e0d5-a417-45e2-bec2-79a44d161e21",
   "metadata": {},
   "outputs": [],
   "source": [
    "plot(df = df_i_bouts_only_filtered, x_column = 'group_id', y_column = 'CenterOfGravity_x_at_bout_start', plot_type = 'violinplot', hue_column='week_id', hide_legend = False)"
   ]
  },
  {
   "cell_type": "markdown",
   "id": "1d086b57-f84d-4ae4-861a-3051919c743a",
   "metadata": {},
   "source": [
    "### OTR only"
   ]
  },
  {
   "cell_type": "code",
   "execution_count": null,
   "id": "3d57bba5-c8b9-431d-b6d5-6006cf1cb2a3",
   "metadata": {},
   "outputs": [],
   "source": [
    "filter_criteria_immobility = [('line_id', 'is_in_list', ['206', '209']),\n",
    "                                   ('towards_open_at_bout_start', 'equal_to', True),\n",
    "                                   ('paradigm_id', 'equal_to', 'OTR')]\n",
    "df_i_bouts_only_filtered = filter_dataframe(df = df_immobility_bouts_only, filter_criteria = filter_criteria_immobility)"
   ]
  },
  {
   "cell_type": "code",
   "execution_count": null,
   "id": "9c7a477f-0f8f-4065-a102-6b2f746cfa09",
   "metadata": {},
   "outputs": [],
   "source": [
    "plot(df = df_i_bouts_only_filtered, x_column = 'group_id', y_column = 'CenterOfGravity_x_at_bout_start', plot_type = 'violinplot', hue_column='week_id', hide_legend = False)"
   ]
  },
  {
   "cell_type": "markdown",
   "id": "34783006-80a1-41c4-91a0-d576e332d8c9",
   "metadata": {},
   "source": [
    "### OTT only"
   ]
  },
  {
   "cell_type": "code",
   "execution_count": null,
   "id": "717dff25-397c-4896-80c9-e3097be2e81b",
   "metadata": {},
   "outputs": [],
   "source": [
    "filter_criteria_immobility = [('line_id', 'is_in_list', ['206', '209']),\n",
    "                                   ('towards_open_at_bout_start', 'equal_to', True),\n",
    "                                   ('paradigm_id', 'equal_to', 'OTT')]\n",
    "df_i_bouts_only_filtered = filter_dataframe(df = df_immobility_bouts_only, filter_criteria = filter_criteria_immobility)"
   ]
  },
  {
   "cell_type": "code",
   "execution_count": null,
   "id": "7b30eafb-9c0f-45e3-9868-348db2f8ac36",
   "metadata": {},
   "outputs": [],
   "source": [
    "plot(df = df_i_bouts_only_filtered, x_column = 'group_id', y_column = 'CenterOfGravity_x_at_bout_start', plot_type = 'violinplot', hue_column='week_id', hide_legend = False)"
   ]
  }
 ],
 "metadata": {
  "kernelspec": {
   "display_name": "Python 3 (ipykernel)",
   "language": "python",
   "name": "python3"
  }
 },
 "nbformat": 4,
 "nbformat_minor": 5
}
