{
 "cells": [
  {
   "cell_type": "markdown",
   "id": "53563509",
   "metadata": {},
   "source": [
    "### Import packages (cv2 is necessary)"
   ]
  },
  {
   "cell_type": "code",
   "execution_count": 2,
   "id": "cb651fe3",
   "metadata": {},
   "outputs": [],
   "source": [
    "import cv2\n",
    "import numpy as np\n",
    "import os\n",
    "import imageio"
   ]
  },
  {
   "cell_type": "markdown",
   "id": "eeb081f5",
   "metadata": {},
   "source": [
    "## load frames (for large videos only each 5th frame) in pictures"
   ]
  },
  {
   "cell_type": "code",
   "execution_count": 5,
   "id": "dcce8e71",
   "metadata": {},
   "outputs": [],
   "source": [
    "video = imageio.get_reader(\"checkerboard_bottom_nocrop.mp4\")\n",
    "pictures = [np.asarray(video.get_data(i)) for i in range(video.count_frames()) if i%5 == 0]"
   ]
  },
  {
   "cell_type": "code",
   "execution_count": 4,
   "id": "ce5b60f2",
   "metadata": {},
   "outputs": [
    {
     "data": {
      "text/plain": [
       "5270"
      ]
     },
     "execution_count": 4,
     "metadata": {},
     "output_type": "execute_result"
    }
   ],
   "source": [
    "video.count_frames()"
   ]
  },
  {
   "cell_type": "code",
   "execution_count": 6,
   "id": "1e1608f8",
   "metadata": {},
   "outputs": [
    {
     "data": {
      "text/plain": [
       "1054"
      ]
     },
     "execution_count": 6,
     "metadata": {},
     "output_type": "execute_result"
    }
   ],
   "source": [
    "len(pictures)"
   ]
  },
  {
   "cell_type": "markdown",
   "id": "80b9cbd7",
   "metadata": {},
   "source": [
    "## Define Checkerboard and run calibration"
   ]
  },
  {
   "cell_type": "code",
   "execution_count": 7,
   "id": "43bc2f1a",
   "metadata": {},
   "outputs": [
    {
     "name": "stdout",
     "output_type": "stream",
     "text": [
      "0\n",
      "100\n",
      "200\n",
      "300\n",
      "400\n",
      "500\n",
      "600\n",
      "700\n",
      "800\n",
      "900\n",
      "1000\n",
      "588\n"
     ]
    }
   ],
   "source": [
    "CHECKERBOARD = (5,5)\n",
    "\n",
    "#https://medium.com/@kennethjiang/calibrate-fisheye-lens-using-opencv-333b05afa0b0\n",
    "subpix_criteria = (cv2.TERM_CRITERIA_EPS + cv2.TERM_CRITERIA_MAX_ITER, 30, 0.1)\n",
    "calibration_flags = cv2.fisheye.CALIB_RECOMPUTE_EXTRINSIC + cv2.fisheye.CALIB_CHECK_COND + cv2.fisheye.CALIB_FIX_SKEW\n",
    "objp = np.zeros((1, CHECKERBOARD[0]*CHECKERBOARD[1], 3), np.float32)\n",
    "objp[0,:,:2] = np.mgrid[0:CHECKERBOARD[0], 0:CHECKERBOARD[1]].T.reshape(-1, 2)\n",
    "\n",
    "objpoints = [] # 3d point in real world space\n",
    "imgpoints = [] # 2d points in image plane.\n",
    "\n",
    "### read images and for each image:\n",
    "n = 0\n",
    "for img in pictures:\n",
    "    img_shape = img.shape[:2]\n",
    "\n",
    "    gray = cv2.cvtColor(img,cv2.COLOR_BGR2GRAY)\n",
    "    # Find the chess board corners\n",
    "    ret, corners = cv2.findChessboardCorners(gray, CHECKERBOARD, cv2.CALIB_CB_ADAPTIVE_THRESH+cv2.CALIB_CB_NORMALIZE_IMAGE)\n",
    "    # If found, add object points, image points (after refining them)\n",
    "    if ret == True:\n",
    "        objpoints.append(objp)\n",
    "        cv2.cornerSubPix(gray,corners,(3,3),(-1,-1),subpix_criteria)\n",
    "        imgpoints.append(corners)\n",
    "    if n%100 == 0:\n",
    "        print(n)\n",
    "    n+=1\n",
    "# calculate K & D\n",
    "N_imm = len(objpoints)\n",
    "print(\"\\nnumber of calibration images\", N_imm)\n",
    "K = np.zeros((3, 3))\n",
    "D = np.zeros((4, 1))\n",
    "rvecs = [np.zeros((1, 1, 3), dtype=np.float64) for i in range(N_imm)]\n",
    "tvecs = [np.zeros((1, 1, 3), dtype=np.float64) for i in range(N_imm)]\n",
    "retval, K, D, rvecs, tvecs = cv2.fisheye.calibrate(\n",
    "    objpoints,\n",
    "    imgpoints,\n",
    "    gray.shape[::-1],\n",
    "    K,\n",
    "    D,\n",
    "    rvecs,\n",
    "    tvecs,\n",
    "    calibration_flags,\n",
    "    (cv2.TERM_CRITERIA_EPS+cv2.TERM_CRITERIA_MAX_ITER, 30, 1e-6))\n"
   ]
  },
  {
   "cell_type": "markdown",
   "id": "ede2c88a",
   "metadata": {},
   "source": [
    "## After the calibration is done you can print the camera intrinsics (K, D)"
   ]
  },
  {
   "cell_type": "code",
   "execution_count": 8,
   "id": "19c71ab0",
   "metadata": {},
   "outputs": [
    {
     "name": "stdout",
     "output_type": "stream",
     "text": [
      "[[434.84991261   0.         613.3162952 ]\n",
      " [  0.         426.34362803 454.6980908 ]\n",
      " [  0.           0.           1.        ]] [[-0.05097968]\n",
      " [ 0.07257948]\n",
      " [-0.08195595]\n",
      " [ 0.03209632]]\n"
     ]
    }
   ],
   "source": [
    "print(K, D)"
   ]
  },
  {
   "cell_type": "markdown",
   "id": "36fbd53a",
   "metadata": {},
   "source": [
    "### as well as the extrinsics"
   ]
  },
  {
   "cell_type": "code",
   "execution_count": 2,
   "id": "3843b18c",
   "metadata": {
    "scrolled": false
   },
   "outputs": [
    {
     "ename": "NameError",
     "evalue": "name 'rvecs' is not defined",
     "output_type": "error",
     "traceback": [
      "\u001b[0;31m---------------------------------------------------------------------------\u001b[0m",
      "\u001b[0;31mNameError\u001b[0m                                 Traceback (most recent call last)",
      "Input \u001b[0;32mIn [2]\u001b[0m, in \u001b[0;36m<cell line: 1>\u001b[0;34m()\u001b[0m\n\u001b[0;32m----> 1\u001b[0m \u001b[38;5;28mprint\u001b[39m(\u001b[43mrvecs\u001b[49m)\n\u001b[1;32m      2\u001b[0m \u001b[38;5;28mprint\u001b[39m(tvecs)\n",
      "\u001b[0;31mNameError\u001b[0m: name 'rvecs' is not defined"
     ]
    }
   ],
   "source": [
    "print(rvecs)\n",
    "print(tvecs)\n"
   ]
  },
  {
   "cell_type": "markdown",
   "id": "0f991f7a",
   "metadata": {},
   "source": [
    "## and the root mean square (RMS) re-projection error\n",
    "### -usually it should be between 0.1 and 1.0 pixels in a good calibration.\n",
    "\n",
    "#### The calculation is done by projecting the 3D chessboard points (objectPoints) into the image plane using the final set of calibration parameters (cameraMatrix, distCoeffs, rvecs and tvecs) and comparing the known position of the corners (imagePoints).\n",
    "\n",
    "#### -An RMS error of 1.0 means that, on average, each of these projected points is 1.0 px away from its actual position. The error can be considered as a distance.\n",
    "\n",
    "##### https://stackoverflow.com/questions/29628445/meaning-of-the-retval-return-value-in-cv2-calibratecamera"
   ]
  },
  {
   "cell_type": "code",
   "execution_count": null,
   "id": "6f928e40",
   "metadata": {},
   "outputs": [],
   "source": [
    "print(retval)"
   ]
  }
 ],
 "metadata": {
  "kernelspec": {
   "display_name": "Python 3 (ipykernel)",
   "language": "python",
   "name": "python3"
  },
  "language_info": {
   "codemirror_mode": {
    "name": "ipython",
    "version": 3
   },
   "file_extension": ".py",
   "mimetype": "text/x-python",
   "name": "python",
   "nbconvert_exporter": "python",
   "pygments_lexer": "ipython3",
   "version": "3.9.12"
  }
 },
 "nbformat": 4,
 "nbformat_minor": 5
}
