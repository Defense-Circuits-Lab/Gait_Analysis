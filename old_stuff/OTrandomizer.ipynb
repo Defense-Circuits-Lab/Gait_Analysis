{
 "cells": [
  {
   "cell_type": "code",
   "execution_count": 1,
   "id": "cedfb140-0dcb-4fb1-b59c-faa25543edf6",
   "metadata": {},
   "outputs": [],
   "source": [
    "import random\n",
    "import pandas as pd"
   ]
  },
  {
   "cell_type": "code",
   "execution_count": 2,
   "id": "d46dc29a-d811-459c-9c33-cbb4dff3cba6",
   "metadata": {},
   "outputs": [],
   "source": [
    "class Animal():\n",
    "    def __init__(self, ID, n_recording_weeks):\n",
    "        self.ID = ID\n",
    "        \n",
    "        list_paradigms_nested = []\n",
    "        #add and shuffle number of paradigms\n",
    "        for n in range(n_recording_weeks):\n",
    "            paradigms = [\"OTR\", \"OTT\", \"OTE\"]\n",
    "            random.shuffle(paradigms)\n",
    "            list_paradigms_nested.append(paradigms)\n",
    "        #flatten nested list\n",
    "        list_paradigms = [paradigm for week in list_paradigms_nested for paradigm in week]\n",
    "        #add ID to paradigm\n",
    "        self.list_paradigms_ID = [self.ID + \": \" + paradigm for paradigm in list_paradigms]\n",
    "        \n",
    "        \n",
    "        \n",
    "class Batch():\n",
    "    \n",
    "    def __init__(self, n_recording_weeks):\n",
    "        self.animal_list = []\n",
    "        self.n_recording_weeks = n_recording_weeks\n",
    "        \n",
    "        \n",
    "    def add_animal_to_batch(self, ID):\n",
    "        self.animal_list.append(Animal(ID = ID, n_recording_weeks = self.n_recording_weeks))\n",
    "        \n",
    "        \n",
    "    def shuffle_animal_order(self):\n",
    "        list_with_single_days = []\n",
    "        for n in range(self.n_recording_weeks * 3):\n",
    "            #list that contains all animalIDs and paradigms for a single day\n",
    "            single_day = [animal.list_paradigms_ID[n] for animal in self.animal_list]\n",
    "            #shuffling this list\n",
    "            random.shuffle(single_day)\n",
    "            list_with_single_days.append(single_day)\n",
    "        \n",
    "        #reshaping the list for the dataframe\n",
    "        self.list_sorted_by_position = []\n",
    "        for m in range(len(self.animal_list)):\n",
    "            position_list = []\n",
    "            for n in range(len(list_with_single_days)):\n",
    "                position_list.append(list_with_single_days[n][m])\n",
    "            self.list_sorted_by_position.append(position_list)\n",
    "            \n",
    "            \n",
    "    def _get_index(self):\n",
    "        index = []\n",
    "        for n in range (self.n_recording_weeks):\n",
    "            index.append(\"OT_day1_recording_{}\".format(n+1))\n",
    "            index.append(\"OT_day2_recording_{}\".format(n+1))\n",
    "            index.append(\"OT_day3_recording_{}\".format(n+1))\n",
    "        return index\n",
    "    \n",
    "         \n",
    "    def export_as_excelsheet(self, path):\n",
    "        index = self._get_index()\n",
    "        df = pd.DataFrame(data = self.list_sorted_by_position, columns = index)\n",
    "        df.to_excel(path)\n",
    "        \n",
    "        "
   ]
  },
  {
   "cell_type": "code",
   "execution_count": 3,
   "id": "7be8e25d-53cc-4313-a137-e2c9bd6ce4af",
   "metadata": {},
   "outputs": [],
   "source": [
    "#create batch with argument n_recording_weeks (recordings at week 1, 4, 8, 12, 14 -> n = 5)\n",
    "pd_2 = Batch(n_recording_weeks = 5)"
   ]
  },
  {
   "cell_type": "code",
   "execution_count": null,
   "id": "9f93d878-1b23-4f6b-ba36-69cb69d062e6",
   "metadata": {},
   "outputs": [],
   "source": [
    "#add animals by entering the animal ID to the function\n",
    "pd_2.add_animal_to_batch(\"209 F2-18\")\n",
    "pd_2.add_animal_to_batch(\"209 F2-19\")\n",
    "pd_2.add_animal_to_batch(\"209 F2-24\")\n",
    "pd_2.add_animal_to_batch(\"209 F2-26\")\n",
    "pd_2.add_animal_to_batch(\"209 F2-28\")\n",
    "pd_2.add_animal_to_batch(\"209 F2-32\")\n",
    "pd_2.add_animal_to_batch(\"209 F2-35\")\n",
    "pd_2.add_animal_to_batch(\"209 F2-36\")\n",
    "pd_2.add_animal_to_batch(\"209 F2-38\")\n",
    "pd_2.add_animal_to_batch(\"209 F2-40\")\n",
    "pd_2.add_animal_to_batch(\"209 F2-42\")\n",
    "pd_2.add_animal_to_batch(\"209 F2-43\")\n",
    "pd_2.add_animal_to_batch(\"206 F2-61\")\n",
    "pd_2.add_animal_to_batch(\"206 F2-63\")\n",
    "pd_2.add_animal_to_batch(\"206 F2-64\")"
   ]
  },
  {
   "cell_type": "code",
   "execution_count": null,
   "id": "03768d10-92f1-4adc-a1b9-aa14f24b458a",
   "metadata": {},
   "outputs": [],
   "source": [
    "#shuffles the order of animals on single days\n",
    "pd_2.shuffle_animal_order()"
   ]
  },
  {
   "cell_type": "code",
   "execution_count": null,
   "id": "381115f1-375b-448a-9e65-3415c46fdbb5",
   "metadata": {},
   "outputs": [],
   "source": [
    "#creates the excelsheet in the given path\n",
    "pd_2.export_as_excelsheet(path = \"/Users/kobel/Documents/Medizin/Doktorarbeit/Data/PD2_randomized.xlsx\")"
   ]
  },
  {
   "cell_type": "code",
   "execution_count": null,
   "id": "9de47527-6ad1-476f-a949-83505c898c34",
   "metadata": {},
   "outputs": [],
   "source": []
  }
 ],
 "metadata": {
  "kernelspec": {
   "display_name": "Python 3 (ipykernel)",
   "language": "python",
   "name": "python3"
  },
  "language_info": {
   "codemirror_mode": {
    "name": "ipython",
    "version": 3
   },
   "file_extension": ".py",
   "mimetype": "text/x-python",
   "name": "python",
   "nbconvert_exporter": "python",
   "pygments_lexer": "ipython3",
   "version": "3.9.12"
  }
 },
 "nbformat": 4,
 "nbformat_minor": 5
}
