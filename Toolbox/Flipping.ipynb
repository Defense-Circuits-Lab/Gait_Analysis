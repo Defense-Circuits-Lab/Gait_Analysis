{
 "cells": [
  {
   "cell_type": "markdown",
   "id": "0958fb50",
   "metadata": {},
   "source": [
    "### Flips input videos horizontally if you specify the input_ and output_path and l_videos"
   ]
  },
  {
   "cell_type": "code",
   "execution_count": null,
   "id": "37902327",
   "metadata": {},
   "outputs": [],
   "source": [
    "import imageio\n",
    "import numpy as np\n",
    "import matplotlib.pyplot as plt\n",
    "import os\n",
    "\n",
    "output_path = \"/Users/kobel/Documents/Medizin/Doktorarbeit/Coding/Aniposelib test/Charuco6X4/\"\n",
    "input_path = \"/Users/kobel/Documents/Medizin/Doktorarbeit/Coding/Aniposelib test/Charuco6X4/\"\n",
    "\n",
    "l_videos = [video for video in os.listdir(input_path) if \"Side1\" in video or \"Side2\" in video]"
   ]
  },
  {
   "cell_type": "code",
   "execution_count": 7,
   "id": "df580376",
   "metadata": {
    "scrolled": false
   },
   "outputs": [
    {
     "name": "stdout",
     "output_type": "stream",
     "text": [
      "/Users/kobel/Documents/Medizin/Doktorarbeit/Coding/Aniposelib test/Charuco6X4/Calibration_220809_OTT_CalibrationSide2_6X4_flipped.mp4 is now created!\n",
      "0/12011\n",
      "1000/12011\n",
      "2000/12011\n",
      "3000/12011\n",
      "4000/12011\n",
      "5000/12011\n",
      "6000/12011\n",
      "7000/12011\n",
      "8000/12011\n",
      "9000/12011\n",
      "10000/12011\n",
      "11000/12011\n",
      "12000/12011\n",
      "/Users/kobel/Documents/Medizin/Doktorarbeit/Coding/Aniposelib test/Charuco6X4/Calibration_220809_OTT_CalibrationSide1_6X4_flipped.mp4 is now created!\n",
      "0/12011\n",
      "1000/12011\n",
      "2000/12011\n",
      "3000/12011\n",
      "4000/12011\n",
      "5000/12011\n",
      "6000/12011\n",
      "7000/12011\n",
      "8000/12011\n",
      "9000/12011\n",
      "10000/12011\n",
      "11000/12011\n",
      "12000/12011\n"
     ]
    }
   ],
   "source": [
    "for videofile in l_videos:\n",
    "    \n",
    "    \n",
    "    video = imageio.get_reader(input_path + videofile,  'ffmpeg')\n",
    "    \n",
    "    \n",
    "    outfile = output_path + videofile[:-4] + \"_flipped.mp4\"\n",
    "    print(outfile + \" is now created!\")\n",
    "    \n",
    "    writer = imageio.get_writer(outfile, fps=160, macro_block_size = None)\n",
    "    \n",
    "    for ind in range(0, video.count_frames()):\n",
    "        if ind%1000 == 0:\n",
    "            print(str(ind)+ \"/\" + str(video.count_frames()))\n",
    "        frame = video.get_data(ind)\n",
    "        flipped_frame = np.fliplr(frame)\n",
    "    \n",
    "        writer.append_data(flipped_frame)\n",
    "    \n",
    "    writer.close()\n",
    "    video.close()"
   ]
  },
  {
   "cell_type": "code",
   "execution_count": null,
   "id": "ef55dbff",
   "metadata": {},
   "outputs": [],
   "source": []
  }
 ],
 "metadata": {
  "kernelspec": {
   "display_name": "Python 3 (ipykernel)",
   "language": "python",
   "name": "python3"
  },
  "language_info": {
   "codemirror_mode": {
    "name": "ipython",
    "version": 3
   },
   "file_extension": ".py",
   "mimetype": "text/x-python",
   "name": "python",
   "nbconvert_exporter": "python",
   "pygments_lexer": "ipython3",
   "version": "3.9.12"
  }
 },
 "nbformat": 4,
 "nbformat_minor": 5
}
