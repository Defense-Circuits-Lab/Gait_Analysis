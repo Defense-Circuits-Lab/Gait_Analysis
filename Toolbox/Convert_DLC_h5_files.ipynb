{
 "cells": [
  {
   "cell_type": "markdown",
   "id": "6a0a75f4",
   "metadata": {},
   "source": [
    "### Okay, so this is a long story of a guy, who spent weeks with the following problems. While you're reading and following him on his long and painful way, please don't get depressed!"
   ]
  },
  {
   "cell_type": "markdown",
   "id": "ff18a130",
   "metadata": {},
   "source": [
    "# What's the problem about?\n",
    "#### On the Server (DLC-GPU environment), we have the 2.1.8.1 version of deeplabcut.\n",
    "#### However, if you install Deeplabcut on your private Computer, you have a version, that's usually higher than 2.2.1\n",
    "### So, you think, there is backwards compatibility? HAHAAAHAHHAHAHAHAHAHHAHAH "
   ]
  },
  {
   "cell_type": "markdown",
   "id": "8a3ba99d",
   "metadata": {},
   "source": [
    "###  So, after writing a Github Issue, this is the solution in the first act of the drama.\n",
    "### \"data indices are structured slightly differently since #1584. To avoid storing image paths with OS-specific path separators, we got rid of those and decided to store them as tuples in a pandas' hierarchical MultiIndex. It makes it much easier to move projects across multiple platforms\"\n",
    "### Mention: It makes everything MUCH EASIER!!!\n",
    "##### find the original comment here: https://github.com/DeepLabCut/DeepLabCut/issues/1890\n",
    "#### to be fair, they answered pretty fast and very helpful"
   ]
  },
  {
   "cell_type": "markdown",
   "id": "4e95e6f7",
   "metadata": {},
   "source": []
  },
  {
   "cell_type": "markdown",
   "id": "ece8e0b6",
   "metadata": {},
   "source": [
    "### If you need to convert the version of DLC between Labeling (2.2) and Training (2.1.8.1), run the cell below after entering the project_path and the videolist. It will convert the .h5 file!"
   ]
  },
  {
   "cell_type": "code",
   "execution_count": 16,
   "id": "5629bf63",
   "metadata": {},
   "outputs": [],
   "source": [
    "project_path = \"F:/Konstantin/data/DLC/OT_BottomCam_final-Konstantin-2022-09-20/\"\n",
    "\n",
    "import os\n",
    "import pandas as pd\n",
    "\n",
    "path = project_path + \"labeled-data/\"\n",
    "videol = [video[:-4] for video in os.listdir(project_path + \"videos\")]\n",
    "\n",
    "out_path = path\n",
    "for video in videol:\n",
    "    if os.path.isfile(path + video + \"/CollectedData_Konstantin.h5\"):\n",
    "        df = pd.read_hdf(path + video + \"/CollectedData_Konstantin.h5\")\n",
    "        df.index = [os.path.join(*row) for row in df.index.to_list()]\n",
    "        df.to_hdf(out_path + video + \"/CollectedData_Konstantin.h5\", key='df_with_missing')"
   ]
  },
  {
   "cell_type": "markdown",
   "id": "8f81e53a",
   "metadata": {},
   "source": [
    "### Okay, so here comes Act 2:\n",
    "### You labeled on a Mac? So, you're maybe glad about issue #1584.\n",
    "### But to make everything work, we have to follow some steps. \n",
    "# Step1:\n",
    "### - create a new DLC project on version 2.2 or higher and copy the videos, that you labeled\n",
    "### - copy the folders with the labeled frames and .csv/.h5 files, that are named \"CollectedData_scorer\"\n",
    "### - click on check_labels\n",
    "# Step2:\n",
    "### - create a new DLC project on the server (version 2.1.8.1) and copy the videos\n",
    "### - copy the folder labeled-data from the 2.2 network to the 2.1.8 network folder\n",
    "### - run Act1 on the folder of the 2.1.8.1 network\n",
    "# Step3:\n",
    "### - create training dataset"
   ]
  },
  {
   "cell_type": "code",
   "execution_count": null,
   "id": "7ef7b0c5",
   "metadata": {},
   "outputs": [],
   "source": []
  },
  {
   "cell_type": "markdown",
   "id": "7d104098",
   "metadata": {},
   "source": [
    "# the FINAL part:\n",
    "### collaboration is a great thing.\n",
    "### You don't want to label thousands of frames on your own? You had the brilliant idea to share work?\n",
    "### So, that's what you need to do (in addition to the first two parts), to convert the csv and h5 file to a common scorer:"
   ]
  },
  {
   "cell_type": "markdown",
   "id": "cf703715",
   "metadata": {},
   "source": [
    "#### put in the scorer name and enter yes or no for every video in the project:"
   ]
  },
  {
   "cell_type": "code",
   "execution_count": 1,
   "id": "11756a62",
   "metadata": {},
   "outputs": [
    {
     "name": "stderr",
     "output_type": "stream",
     "text": [
      "C:\\Users\\Kobel_K\\Anaconda\\envs\\DEEPLABCUT\\lib\\site-packages\\statsmodels\\compat\\pandas.py:65: FutureWarning: pandas.Int64Index is deprecated and will be removed from pandas in a future version. Use pandas.Index with the appropriate dtype instead.\n",
      "  from pandas import Int64Index as NumericIndex\n",
      "C:\\Users\\Kobel_K\\Anaconda\\envs\\DEEPLABCUT\\lib\\site-packages\\deeplabcut\\__init__.py:78: UserWarning: \n",
      "        As PyTorch is not installed, unsupervised identity learning will not be available.\n",
      "        Please run `pip install torch`, or ignore this warning.\n",
      "        \n",
      "  warnings.warn(\n"
     ]
    }
   ],
   "source": [
    "import deeplabcut"
   ]
  },
  {
   "cell_type": "code",
   "execution_count": 10,
   "id": "463bf290",
   "metadata": {},
   "outputs": [
    {
     "name": "stdout",
     "output_type": "stream",
     "text": [
      "Do you want to convert the csv file in folder: F:\\Konstantin\\data\\DLC\\OT_Bottom_CPU-Konstantin-2022-09-20\\labeled-data\\195_F8-16_220810_OTR_bottom ?\n",
      "yes/noyes\n",
      "Do you want to convert the csv file in folder: F:\\Konstantin\\data\\DLC\\OT_Bottom_CPU-Konstantin-2022-09-20\\labeled-data\\195_F8-16_220811_OTE_bottom ?\n",
      "yes/noyes\n",
      "Do you want to convert the csv file in folder: F:\\Konstantin\\data\\DLC\\OT_Bottom_CPU-Konstantin-2022-09-20\\labeled-data\\195_F8-20_220811_OTR_bottom ?\n",
      "yes/nono\n",
      "Do you want to convert the csv file in folder: F:\\Konstantin\\data\\DLC\\OT_Bottom_CPU-Konstantin-2022-09-20\\labeled-data\\195_F8-20_220830_OTR_Ground1 ?\n",
      "yes/nono\n",
      "Do you want to convert the csv file in folder: F:\\Konstantin\\data\\DLC\\OT_Bottom_CPU-Konstantin-2022-09-20\\labeled-data\\195_F8-20_220830_OTR_Ground2 ?\n",
      "yes/nono\n",
      "Do you want to convert the csv file in folder: F:\\Konstantin\\data\\DLC\\OT_Bottom_CPU-Konstantin-2022-09-20\\labeled-data\\195_F8-20_220831_OTT_Ground1 ?\n",
      "yes/nono\n",
      "Do you want to convert the csv file in folder: F:\\Konstantin\\data\\DLC\\OT_Bottom_CPU-Konstantin-2022-09-20\\labeled-data\\195_F8-20_220831_OTT_Ground2 ?\n",
      "yes/nono\n",
      "Do you want to convert the csv file in folder: F:\\Konstantin\\data\\DLC\\OT_Bottom_CPU-Konstantin-2022-09-20\\labeled-data\\195_F8-20_220901_OTE_Ground1 ?\n",
      "yes/nono\n",
      "Do you want to convert the csv file in folder: F:\\Konstantin\\data\\DLC\\OT_Bottom_CPU-Konstantin-2022-09-20\\labeled-data\\195_F8-20_220901_OTE_Ground2 ?\n",
      "yes/nono\n",
      "Do you want to convert the csv file in folder: F:\\Konstantin\\data\\DLC\\OT_Bottom_CPU-Konstantin-2022-09-20\\labeled-data\\196_F7-19_220727_OTE_bottom ?\n",
      "yes/nono\n",
      "Do you want to convert the csv file in folder: F:\\Konstantin\\data\\DLC\\OT_Bottom_CPU-Konstantin-2022-09-20\\labeled-data\\196_F7-27_220728_OTE_bottom ?\n",
      "yes/nono\n",
      "Do you want to convert the csv file in folder: F:\\Konstantin\\data\\DLC\\OT_Bottom_CPU-Konstantin-2022-09-20\\labeled-data\\196_F7-27_220825_OTR_Ground1 ?\n",
      "yes/nono\n",
      "Do you want to convert the csv file in folder: F:\\Konstantin\\data\\DLC\\OT_Bottom_CPU-Konstantin-2022-09-20\\labeled-data\\196_F7-27_220825_OTR_Ground2 ?\n",
      "yes/nono\n",
      "Do you want to convert the csv file in folder: F:\\Konstantin\\data\\DLC\\OT_Bottom_CPU-Konstantin-2022-09-20\\labeled-data\\206_F1-58_220729_OTE_bottom ?\n",
      "yes/nono\n",
      "Do you want to convert the csv file in folder: F:\\Konstantin\\data\\DLC\\OT_Bottom_CPU-Konstantin-2022-09-20\\labeled-data\\206_F1-58_220824_OTE_Ground1 ?\n",
      "yes/nono\n",
      "Do you want to convert the csv file in folder: F:\\Konstantin\\data\\DLC\\OT_Bottom_CPU-Konstantin-2022-09-20\\labeled-data\\206_F1-58_220824_OTE_Ground2 ?\n",
      "yes/nono\n"
     ]
    }
   ],
   "source": [
    "scorer = \"Konstantin\"\n",
    "config_file = \"F:/Konstantin/data/DLC/OT_Bottom_CPU-Konstantin-2022-09-20/config.yaml\"\n",
    "deeplabcut.convertcsv2h5(config=config_file, userfeedback=True, scorer = scorer)"
   ]
  },
  {
   "cell_type": "code",
   "execution_count": null,
   "id": "a630ef77",
   "metadata": {
    "collapsed": true
   },
   "outputs": [],
   "source": []
  }
 ],
 "metadata": {
  "kernelspec": {
   "display_name": "Python 3 (ipykernel)",
   "language": "python",
   "name": "python3"
  },
  "language_info": {
   "codemirror_mode": {
    "name": "ipython",
    "version": 3
   },
   "file_extension": ".py",
   "mimetype": "text/x-python",
   "name": "python",
   "nbconvert_exporter": "python",
   "pygments_lexer": "ipython3",
   "version": "3.8.13"
  }
 },
 "nbformat": 4,
 "nbformat_minor": 5
}
