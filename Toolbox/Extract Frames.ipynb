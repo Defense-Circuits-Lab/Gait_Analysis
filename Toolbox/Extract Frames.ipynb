{
 "cells": [
  {
   "cell_type": "markdown",
   "id": "a7558c35",
   "metadata": {},
   "source": [
    "### A Method to extract single frames from video using cv2"
   ]
  },
  {
   "cell_type": "code",
   "execution_count": null,
   "id": "e6de98b5",
   "metadata": {},
   "outputs": [],
   "source": [
    "import cv2\n",
    "vidcap = cv2.VideoCapture('/Users/kobel/Documents/Medizin/Doktorarbeit/Coding/Aniposelib test/220719_test01_bottom_fisheye.mp4')\n",
    "success,image = vidcap.read()\n",
    "count = 0\n",
    "while success:\n",
    "    path = \"/Users/kobel/Documents/Medizin/Doktorarbeit/Coding/Aniposelib test/Frames\" + str(count) + \".jpg\"\n",
    "    cv2.imwrite(path, image)     # save frame as JPEG file      \n",
    "    success,image = vidcap.read()\n",
    "    count += 1"
   ]
  },
  {
   "cell_type": "code",
   "execution_count": null,
   "id": "80d5858f",
   "metadata": {},
   "outputs": [],
   "source": []
  }
 ],
 "metadata": {
  "kernelspec": {
   "display_name": "Python 3 (ipykernel)",
   "language": "python",
   "name": "python3"
  },
  "language_info": {
   "codemirror_mode": {
    "name": "ipython",
    "version": 3
   },
   "file_extension": ".py",
   "mimetype": "text/x-python",
   "name": "python",
   "nbconvert_exporter": "python",
   "pygments_lexer": "ipython3",
   "version": "3.9.12"
  }
 },
 "nbformat": 4,
 "nbformat_minor": 5
}
