{
 "cells": [
  {
   "cell_type": "code",
   "execution_count": null,
   "metadata": {},
   "outputs": [],
   "source": [
    "#| hide\n",
    "from gait_analysis.core import *"
   ]
  },
  {
   "cell_type": "markdown",
   "metadata": {},
   "source": [
    "# gait analysis\n",
    "\n",
    "> Code for gait analysis in the project [B06](https://sfb-retune.de/projects/b06/) within the [CRC Retune](https://sfb-retune.de/)"
   ]
  },
  {
   "cell_type": "markdown",
   "metadata": {},
   "source": [
    "[![PyPI Latest Release](https://img.shields.io/pypi/v/gait-analysis.svg)](https://pypi.org/project/gait-analysis/)\n",
    "[![Conda Latest Release](https://anaconda.org/dennis_segebarth/gait_analysis/badges/version.svg)](https://anaconda.org/Dennis_Segebarth/gait_analysis)\n",
    "[![License](https://img.shields.io/pypi/l/gait_analysis.svg)](https://github.com/Defense-Circuits-Lab/Gait_Analysis/blob/main/LICENSE)\n",
    "[![Code style: black](https://img.shields.io/badge/code%20style-black-000000.svg)](https://github.com/psf/black)\n",
    "\n",
    "\n",
    "This package is currently being developed and subsequent updates will be published in this repository, following the principles of open development. Major achievments will be tagged in the [GitHub releases](https://github.com/Defense-Circuits-Lab/Gait_Analysis/releases). This project uses [nbdev](https://nbdev.fast.ai/) to develop, test, document, and publish its source code."
   ]
  },
  {
   "cell_type": "markdown",
   "metadata": {},
   "source": [
    "## Project status"
   ]
  },
  {
   "cell_type": "markdown",
   "metadata": {},
   "source": [
    "The main goal of this project is to foster gait analysis of rodents using 3D tracking data as input. However, the project is still in a very initial state and the current implementation focuses solely on a very customized analysis of 2D tracking data. Future versions will gradually increase the implemented analysis methods and their generalizability."
   ]
  },
  {
   "cell_type": "markdown",
   "metadata": {},
   "source": [
    "## Install"
   ]
  },
  {
   "cell_type": "markdown",
   "metadata": {},
   "source": [
    "So far only tested for Linux (Ubuntu 20.04.5)."
   ]
  },
  {
   "cell_type": "markdown",
   "metadata": {},
   "source": [
    "### conda:"
   ]
  },
  {
   "cell_type": "markdown",
   "metadata": {},
   "source": [
    "```sh\n",
    "conda install -c dennis_segebarth gait_analysis\n",
    "```"
   ]
  },
  {
   "cell_type": "markdown",
   "metadata": {},
   "source": [
    "### pip:"
   ]
  },
  {
   "cell_type": "markdown",
   "metadata": {},
   "source": [
    "```sh\n",
    "pip install gait_analysis\n",
    "```"
   ]
  }
 ],
 "metadata": {
  "kernelspec": {
   "display_name": "Python 3 (ipykernel)",
   "language": "python",
   "name": "python3"
  }
 },
 "nbformat": 4,
 "nbformat_minor": 4
}
