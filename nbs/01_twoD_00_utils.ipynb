{
 "cells": [
  {
   "cell_type": "markdown",
   "metadata": {},
   "source": [
    "# utility functions for two dimensional gait analyses\n",
    "\n",
    "> Basic functions used throughout the 2D module and/or that foster the use of this module"
   ]
  },
  {
   "cell_type": "code",
   "execution_count": null,
   "metadata": {},
   "outputs": [],
   "source": [
    "#| default_exp twoD/utils"
   ]
  },
  {
   "cell_type": "code",
   "execution_count": null,
   "metadata": {},
   "outputs": [],
   "source": [
    "#| hide\n",
    "from nbdev.showdoc import *"
   ]
  },
  {
   "cell_type": "code",
   "execution_count": null,
   "metadata": {},
   "outputs": [],
   "source": [
    "from gait_analysis.twoD.topcam import Tracked2DRecording"
   ]
  },
  {
   "cell_type": "code",
   "execution_count": null,
   "metadata": {},
   "outputs": [],
   "source": [
    "#| export\n",
    "\n",
    "def process_all_dlc_tracking_h5s_with_default_settings(in_dir_path: Path, # path to the input directory which contains all DLC tracking data results\n",
    "                                                       week_id: int, # number of weeks post injection\n",
    "                                                       out_dir_path: Path # path to the output directory where all processed results will be saved\n",
    "                                                      ) -> None:\n",
    "    filepaths_dlc_trackings = []\n",
    "    for filepath in in_dir_path.iterdir():\n",
    "        if filepath.name.endswith('.h5'):\n",
    "            if 'filtered' not in filepath.name:\n",
    "                filepaths_dlc_trackings.append(filepath)\n",
    "    for filepath in tqdm(filepaths_dlc_trackings):\n",
    "        recording = Tracked2DRecording(filepath = filepath, week_id = week_id)\n",
    "        if recording.df_successfully_loaded:\n",
    "            recording.preprocess()\n",
    "            if recording.logs['coverage_critical_markers'] >= recording.logs['coverage_threshold']: \n",
    "                recording.run_behavioral_analyses()\n",
    "                recording.export_results(out_dir_path = out_dir_path)\n",
    "                recording.inspect_processing()"
   ]
  },
  {
   "cell_type": "code",
   "execution_count": null,
   "metadata": {},
   "outputs": [],
   "source": [
    "#| hide\n",
    "import nbdev; nbdev.nbdev_export()"
   ]
  }
 ],
 "metadata": {
  "kernelspec": {
   "display_name": "Python 3 (ipykernel)",
   "language": "python",
   "name": "python3"
  }
 },
 "nbformat": 4,
 "nbformat_minor": 4
}
