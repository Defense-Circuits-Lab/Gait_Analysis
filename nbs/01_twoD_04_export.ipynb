{
 "cells": [
  {
   "cell_type": "markdown",
   "metadata": {},
   "source": [
    "# Export results of 2D gait analysis\n",
    "\n",
    "> Functions specifically related to exporting the analysis results of 2D recordings"
   ]
  },
  {
   "cell_type": "code",
   "execution_count": null,
   "metadata": {},
   "outputs": [],
   "source": [
    "#| default_exp twoD/export"
   ]
  },
  {
   "cell_type": "code",
   "execution_count": null,
   "metadata": {},
   "outputs": [],
   "source": [
    "#| hide\n",
    "from nbdev.showdoc import *"
   ]
  },
  {
   "cell_type": "code",
   "execution_count": null,
   "metadata": {},
   "outputs": [],
   "source": [
    "#| export\n",
    "\n",
    "from typing import List, Tuple, Dict, Optional\n",
    "from pathlib import Path\n",
    "import pandas as pd\n",
    "import numpy as np"
   ]
  },
  {
   "cell_type": "code",
   "execution_count": null,
   "metadata": {},
   "outputs": [],
   "source": [
    "#| export\n",
    "\n",
    "def export_immobility_related_bouts(df: pd.DataFrame, event_type: str, framerate: float) -> pd.DataFrame:\n",
    "    results_per_event = {'bout_id': [],\n",
    "                        'duration': [],\n",
    "                        'CenterOfGravity_x_at_bout_start': [],\n",
    "                        'towards_open_at_bout_start': [],\n",
    "                        'distance_covered_cm': [], \n",
    "                        'start_time': [],\n",
    "                        'end_time': []}\n",
    "    results_per_event['bout_id'] = get_all_bout_ids(df = df, event_type = event_type)\n",
    "    if len(results_per_event['bout_id']) >= 1:\n",
    "        results_per_event['duration'] = get_bout_duration_per_bout_id(df = df, event_type = event_type, event_ids = results_per_event['bout_id'])\n",
    "        x_positions_center_of_gravity_at_interval_borders = get_column_values_at_event_borders(df = df,\n",
    "                                                                                                event_type = event_type,\n",
    "                                                                                                event_ids = results_per_event['bout_id'],\n",
    "                                                                                                column_name = 'CenterOfGravity_x')\n",
    "        results_per_event['CenterOfGravity_x_at_bout_start'] = x_positions_center_of_gravity_at_interval_borders[:, 0]\n",
    "        direction_towards_open_at_interval_borders = get_column_values_at_event_borders(df = df,\n",
    "                                                                                        event_type = event_type,\n",
    "                                                                                        event_ids = results_per_event['bout_id'],\n",
    "                                                                                        column_name = 'facing_towards_open_end')\n",
    "        results_per_event['towards_open_at_bout_start'] = direction_towards_open_at_interval_borders[:, 0]\n",
    "        results_per_event['distance_covered_cm'] = get_distance_covered_per_event(df = df, \n",
    "                                                                                   event_type = event_type,\n",
    "                                                                                   event_ids = results_per_event['bout_id'],\n",
    "                                                                                   marker_id = 'CenterOfGravity')\n",
    "        bout_start_and_end_time = get_interval_start_and_end_time_per_event(df = df,\n",
    "                                                                            event_type = event_type,\n",
    "                                                                            event_ids = results_per_event['bout_id'],\n",
    "                                                                            framerate = framerate)\n",
    "        results_per_event['start_time'] = bout_start_and_end_time[:, 0]\n",
    "        results_per_event['end_time'] = bout_start_and_end_time[:, 1]\n",
    "    return pd.DataFrame(data = results_per_event)"
   ]
  },
  {
   "cell_type": "code",
   "execution_count": null,
   "metadata": {},
   "outputs": [],
   "source": [
    "#| export\n",
    "\n",
    "def get_all_bout_ids(df: pd.DataFrame, event_type: str) -> np.ndarray:\n",
    "    return df[f'{event_type}_id'].dropna().unique()"
   ]
  },
  {
   "cell_type": "code",
   "execution_count": null,
   "metadata": {},
   "outputs": [],
   "source": [
    "#| export\n",
    "\n",
    "def get_bout_duration_per_bout_id(df: pd.DataFrame, event_type: str, event_ids: List[float]) -> List[float]:\n",
    "    durations = []\n",
    "    for event_id in event_ids:\n",
    "        durations.append(df.loc[df[f'{event_type}_id'] == event_id, f'{event_type}_duration'].iloc[0])\n",
    "    return durations"
   ]
  },
  {
   "cell_type": "code",
   "execution_count": null,
   "metadata": {},
   "outputs": [],
   "source": [
    "#| export\n",
    "\n",
    "def get_column_values_at_event_borders(df: pd.DataFrame, event_type: str, event_ids: List[float], column_name: str) -> np.ndarray:\n",
    "    values_at_interval_borders = []\n",
    "    for event_id in event_ids:\n",
    "        start_value = df.loc[df[f'{event_type}_id'] == event_id, column_name].iloc[0]\n",
    "        end_value = df.loc[df[f'{event_type}_id'] == event_id, column_name].iloc[-1]\n",
    "        values_at_interval_borders.append((start_value, end_value))\n",
    "    return np.asarray(values_at_interval_borders)"
   ]
  },
  {
   "cell_type": "code",
   "execution_count": null,
   "metadata": {},
   "outputs": [],
   "source": [
    "#| export\n",
    "\n",
    "def get_distance_covered_per_event(df: pd.DataFrame, event_type: str, event_ids: List[float], marker_id: str) -> List[float]:\n",
    "    distances_per_event = []\n",
    "    for event_id in event_ids:\n",
    "        df_tmp = df.loc[df[f'{event_type}_id'] == event_id].copy()\n",
    "        distances_per_event.append(((df_tmp[f'{marker_id}_x'].diff()**2 + df_tmp[f'{marker_id}_y'].diff()**2)**0.5).cumsum().iloc[-1])\n",
    "    return distances_per_event"
   ]
  },
  {
   "cell_type": "code",
   "execution_count": null,
   "metadata": {},
   "outputs": [],
   "source": [
    "#| export\n",
    "\n",
    "def get_interval_start_and_end_time_per_event(df: pd.DataFrame, event_type: str, event_ids: List[float], framerate: float) -> np.ndarray:\n",
    "    interval_border_idxs = []\n",
    "    for event_id in event_ids:\n",
    "        start_time, end_time = df.loc[df[f'{event_type}_id'] == event_id].index.values[[0, -1]]*framerate\n",
    "        interval_border_idxs.append((start_time, end_time))\n",
    "    return np.asarray(interval_border_idxs)"
   ]
  },
  {
   "cell_type": "code",
   "execution_count": null,
   "metadata": {},
   "outputs": [],
   "source": [
    "#| export\n",
    "\n",
    "def export_gait_related_bouts(df: pd.DataFrame, event_type: str, framerate: float) -> pd.DataFrame:\n",
    "    # ToDo: very similar to \"export_immobility_related_bouts\" - can they be combined to one generalized version?\n",
    "    results_per_event = {'bout_id': [],\n",
    "                        'duration': [],\n",
    "                        'CenterOfGravity_x_at_bout_end': [],\n",
    "                        'towards_open_at_bout_end': [],\n",
    "                        'distance_covered_cm': [], \n",
    "                        'start_time': [],\n",
    "                        'end_time': []}\n",
    "    results_per_event['bout_id'] = get_all_bout_ids(df = df, event_type = event_type)\n",
    "    if len(results_per_event['bout_id']) >= 1:\n",
    "        results_per_event['duration'] = get_bout_duration_per_bout_id(df = df, event_type = event_type, event_ids = results_per_event['bout_id'])\n",
    "        x_positions_center_of_gravity_at_interval_borders = get_column_values_at_event_borders(df = df,\n",
    "                                                                                                event_type = event_type,\n",
    "                                                                                                event_ids = results_per_event['bout_id'],\n",
    "                                                                                                column_name = 'CenterOfGravity_x')\n",
    "        results_per_event['CenterOfGravity_x_at_bout_end'] = x_positions_center_of_gravity_at_interval_borders[:, 1]\n",
    "        direction_towards_open_at_interval_borders = get_column_values_at_event_borders(df = df,\n",
    "                                                                                        event_type = event_type,\n",
    "                                                                                        event_ids = results_per_event['bout_id'],\n",
    "                                                                                        column_name = 'facing_towards_open_end')\n",
    "        results_per_event['towards_open_at_bout_end'] = direction_towards_open_at_interval_borders[:, 1]\n",
    "        results_per_event['distance_covered_cm'] = get_distance_covered_per_event(df = df, \n",
    "                                                                                   event_type = event_type,\n",
    "                                                                                   event_ids = results_per_event['bout_id'],\n",
    "                                                                                   marker_id = 'CenterOfGravity')\n",
    "        bout_start_and_end_time = get_interval_start_and_end_time_per_event(df = df, event_type = event_type, event_ids = results_per_event['bout_id'], framerate = framerate)\n",
    "        results_per_event['start_time'] = bout_start_and_end_time[:, 0]\n",
    "        results_per_event['end_time'] = bout_start_and_end_time[:, 1]\n",
    "    return pd.DataFrame(data = results_per_event)"
   ]
  },
  {
   "cell_type": "code",
   "execution_count": null,
   "metadata": {},
   "outputs": [],
   "source": [
    "#| export\n",
    "\n",
    "def create_session_overview_df(dfs_to_export_with_individual_bout_dfs: Dict[str, pd.DataFrame]) -> pd.DataFrame:\n",
    "    session_overview = {'bout_type': [],\n",
    "                        'total_bouts_count': [],\n",
    "                        'total_duration': [],\n",
    "                        'total_distance_covered': [],\n",
    "                        'mean_duration': [],\n",
    "                        'mean_distance_covered': [],\n",
    "                        'mean_CenterOfGravity_x': []}\n",
    "    for tab_name, df in dfs_to_export_with_individual_bout_dfs.items():\n",
    "        bout_ids_split_depending_on_direction = get_bout_id_splits_depending_on_direction(df = df)\n",
    "        for split_id, relevant_bout_ids in bout_ids_split_depending_on_direction.items():\n",
    "            session_overview = add_results_to_session_overview(session_overview = session_overview, \n",
    "                                                                 df = df, \n",
    "                                                                 event_type = tab_name, \n",
    "                                                                 event_prefix = split_id, \n",
    "                                                                 bout_ids = relevant_bout_ids)\n",
    "    return pd.DataFrame(data = session_overview)"
   ]
  },
  {
   "cell_type": "code",
   "execution_count": null,
   "metadata": {},
   "outputs": [],
   "source": [
    "#| export\n",
    "\n",
    "def get_bout_id_splits_depending_on_direction(df: pd.DataFrame) -> Dict[str, List[float]]:\n",
    "    towards_open_column_name = get_column_name_from_substring(all_columns = list(df.columns), substring = 'towards_open')\n",
    "    bout_ids_split_by_direction = {'all': list(df['bout_id'].unique()),\n",
    "                                   'towards_open': list(df.loc[df[towards_open_column_name] == True, 'bout_id'].unique()),\n",
    "                                   'towards_closed': list(df.loc[df[towards_open_column_name] != True, 'bout_id'].unique())}\n",
    "    return bout_ids_split_by_direction                                                                                   "
   ]
  },
  {
   "cell_type": "code",
   "execution_count": null,
   "metadata": {},
   "outputs": [],
   "source": [
    "#| export\n",
    "\n",
    "def get_column_name_from_substring(all_columns: List[str], substring: str) -> str:\n",
    "    matching_column_names = [column_name for column_name in all_columns if substring in column_name]\n",
    "    assert len(matching_column_names) == 1, \\\n",
    "            f'There should be exactly one match for {substring} - however, {len(matching_column_names)} were found: [{matching_column_names}].'\n",
    "    return matching_column_names[0]"
   ]
  },
  {
   "cell_type": "code",
   "execution_count": null,
   "metadata": {},
   "outputs": [],
   "source": [
    "#| export\n",
    "\n",
    "def add_results_to_session_overview(session_overview: Dict, df: pd.DataFrame, event_type: str, event_prefix: str, bout_ids: List[float]) -> Dict:\n",
    "    session_overview['bout_type'].append(f'{event_prefix}_{event_type}')\n",
    "    if len(bout_ids) > 0:\n",
    "        session_overview['total_bouts_count'].append(len(bout_ids))\n",
    "        session_overview['total_duration'].append(df.loc[df['bout_id'].isin(bout_ids), 'duration'].cumsum().iloc[-1])\n",
    "        session_overview['total_distance_covered'].append(df.loc[df['bout_id'].isin(bout_ids), 'distance_covered_cm'].cumsum().iloc[-1])\n",
    "        session_overview['mean_duration'].append(df.loc[df['bout_id'].isin(bout_ids), 'duration'].mean())\n",
    "        session_overview['mean_distance_covered'].append(df.loc[df['bout_id'].isin(bout_ids), 'distance_covered_cm'].mean())\n",
    "        center_of_gravity_x_column_name = get_column_name_from_substring(all_columns = list(df.columns), substring = 'CenterOfGravity_x')\n",
    "        session_overview['mean_CenterOfGravity_x'].append(df.loc[df['bout_id'].isin(bout_ids), center_of_gravity_x_column_name].mean())\n",
    "    else:\n",
    "        session_overview['total_bouts_count'].append(0)\n",
    "        session_overview['total_duration'].append(0)\n",
    "        session_overview['total_distance_covered'].append(0)\n",
    "        session_overview['mean_duration'].append(np.nan)\n",
    "        session_overview['mean_distance_covered'].append(np.nan)\n",
    "        session_overview['mean_CenterOfGravity_x'].append(np.nan)            \n",
    "    return session_overview"
   ]
  },
  {
   "cell_type": "code",
   "execution_count": null,
   "metadata": {},
   "outputs": [],
   "source": [
    "#| export\n",
    "\n",
    "def create_parameter_settings_df(logs: Dict) -> pd.DataFrame:\n",
    "    logged_settings = {'parameter': [], 'specified_value': []}\n",
    "    for parameter, value in logs.items():\n",
    "        logged_settings['parameter'].append(parameter)\n",
    "        logged_settings['specified_value'].append(value)\n",
    "    return pd.DataFrame(data = logged_settings)"
   ]
  },
  {
   "cell_type": "code",
   "execution_count": null,
   "metadata": {},
   "outputs": [],
   "source": [
    "#| export\n",
    "\n",
    "def write_xlsx_file_to_disk(base_output_filepath: Path, dfs_to_export: Dict[str, pd.DataFrame]) -> None:\n",
    "    writer = pd.ExcelWriter(f'{base_output_filepath}.xlsx', engine='xlsxwriter')\n",
    "    for tab_name, df in dfs_to_export.items():\n",
    "        df.to_excel(writer, sheet_name = tab_name)\n",
    "    writer.save()"
   ]
  },
  {
   "cell_type": "code",
   "execution_count": null,
   "metadata": {},
   "outputs": [],
   "source": [
    "#| hide\n",
    "import nbdev; nbdev.nbdev_export()"
   ]
  }
 ],
 "metadata": {
  "kernelspec": {
   "display_name": "Python 3 (ipykernel)",
   "language": "python",
   "name": "python3"
  }
 },
 "nbformat": 4,
 "nbformat_minor": 4
}
