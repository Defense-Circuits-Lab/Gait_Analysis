{
 "cells": [
  {
   "cell_type": "markdown",
   "metadata": {},
   "source": [
    "# twoD/detect\n",
    "\n",
    "> Functions specifically related to event detection of 2D recordings"
   ]
  },
  {
   "cell_type": "code",
   "execution_count": null,
   "metadata": {},
   "outputs": [],
   "source": [
    "#| default_exp twoD/detect"
   ]
  },
  {
   "cell_type": "code",
   "execution_count": null,
   "metadata": {},
   "outputs": [],
   "source": [
    "#| hide\n",
    "from nbdev.showdoc import *"
   ]
  },
  {
   "cell_type": "code",
   "execution_count": null,
   "metadata": {},
   "outputs": [],
   "source": [
    "#| export\n",
    "\n",
    "from typing import List, Tuple, Dict, Optional\n",
    "from pathlib import Path\n",
    "import pandas as pd\n",
    "import numpy as np\n",
    "\n",
    "from gait_analysis.core import EventBout\n",
    "from gait_analysis import twoD"
   ]
  },
  {
   "cell_type": "code",
   "execution_count": null,
   "metadata": {},
   "outputs": [],
   "source": [
    "#| export\n",
    "\n",
    "def create_behavior_df(normalized_df: pd.DataFrame, bodyparts_to_include: List[str]) -> pd.DataFrame:\n",
    "    column_names = twoD.utils.get_column_names(df = normalized_df,\n",
    "                                               column_identifiers = ['x', 'y', 'likelihood'],\n",
    "                                               marker_ids = bodyparts_to_include)\n",
    "    return normalized_df[column_names].copy()"
   ]
  },
  {
   "cell_type": "code",
   "execution_count": null,
   "metadata": {},
   "outputs": [],
   "source": [
    "#| export\n",
    "\n",
    "def add_orientation_to_behavior_df(behavior_df: pd.DataFrame,\n",
    "                                   all_bodyparts: Dict,\n",
    "                                   bodyparts_for_direction_front_to_back: List[str]) -> pd.DataFrame:\n",
    "    assert len(bodyparts_for_direction_front_to_back) ==2, '\"bodyparts_for_direction_front_to_back\" must be a list of exact 2 marker_ids!'\n",
    "    front_marker_id = bodyparts_for_direction_front_to_back[0]\n",
    "    back_marker_id = bodyparts_for_direction_front_to_back[1]\n",
    "    behavior_df.loc[all_bodyparts[front_marker_id].df['x'] > all_bodyparts[back_marker_id].df['x'], 'facing_towards_open_end'] = True\n",
    "    return behavior_df"
   ]
  },
  {
   "cell_type": "code",
   "execution_count": null,
   "metadata": {},
   "outputs": [],
   "source": [
    "#| export\n",
    "\n",
    "def add_immobility_based_on_several_bodyparts_to_behavior_df(behavior_df: pd.DataFrame,\n",
    "                                                             all_bodyparts: Dict,\n",
    "                                                             bodyparts_critical_for_freezing: List[str]) -> pd.DataFrame:\n",
    "    \n",
    "    # ToDo: Shares some code witht he \"filter_dataframe\" function, can it be reused here?\n",
    "    #       However, here we iterate through several dfs and use the shared indices across \n",
    "    #       These dataframes, so the behavior is different and adaptations would be required.\n",
    "    valid_idxs_per_marker_id = []\n",
    "    for bodypart_id in bodyparts_critical_for_freezing:\n",
    "        tmp_df = all_bodyparts[bodypart_id].df.copy()\n",
    "        valid_idxs_per_marker_id.append(tmp_df.loc[tmp_df['immobility'] == True].index.values)\n",
    "    shared_valid_idxs_for_all_markers = valid_idxs_per_marker_id[0]\n",
    "    if len(valid_idxs_per_marker_id) > 1:\n",
    "        for next_set_of_valid_idxs in valid_idxs_per_marker_id[1:]:\n",
    "            shared_valid_idxs_for_all_markers = np.intersect1d(shared_valid_idxs_for_all_markers, next_set_of_valid_idxs)\n",
    "    behavior_df.loc[shared_valid_idxs_for_all_markers, 'immobility'] = True\n",
    "    return behavior_df"
   ]
  },
  {
   "cell_type": "code",
   "execution_count": null,
   "metadata": {},
   "outputs": [],
   "source": [
    "#| export\n",
    "\n",
    "def get_immobility_related_events(behavior_df: pd.DataFrame, fps: float, min_interval_duration: float, event_type: str) -> List[EventBout]:\n",
    "    all_immobility_idxs = np.where(behavior_df['immobility'].values == True)[0]\n",
    "    immobility_interval_border_idxs = twoD.utils.get_interval_border_idxs(all_matching_idxs = all_immobility_idxs,\n",
    "                                                              framerate = 1/fps,\n",
    "                                                              min_interval_duration = min_interval_duration)\n",
    "    immobility_related_events = create_event_objects(interval_border_idxs = immobility_interval_border_idxs, fps = fps, event_type = event_type)\n",
    "    return immobility_related_events   "
   ]
  },
  {
   "cell_type": "code",
   "execution_count": null,
   "metadata": {},
   "outputs": [],
   "source": [
    "#| export\n",
    "\n",
    "def create_event_objects(interval_border_idxs: List[Tuple[int, int]], fps: int, event_type: str) -> List[EventBout]:\n",
    "    events = []\n",
    "    event_id = 0\n",
    "    for start_idx, end_idx in interval_border_idxs:\n",
    "        single_event = EventBout(event_id = event_id, start_idx = start_idx, end_idx = end_idx, fps = fps, event_type = event_type)\n",
    "        events.append(single_event)\n",
    "        event_id += 1\n",
    "    return events  "
   ]
  },
  {
   "cell_type": "code",
   "execution_count": null,
   "metadata": {},
   "outputs": [],
   "source": [
    "#| export\n",
    "\n",
    "def add_event_bouts_to_behavior_df(behavior_df: pd.DataFrame, event_type: str, events: List[EventBout]) -> pd.DataFrame:\n",
    "    assert event_type not in list(behavior_df.columns), f'{event_type} was already a column in self.behavior_df!'\n",
    "    behavior_df[event_type] = np.nan\n",
    "    behavior_df[f'{event_type}_id'] = np.nan\n",
    "    behavior_df[f'{event_type}_duration'] = np.nan\n",
    "    if len(events) > 0:\n",
    "        for event_bout in events:\n",
    "            assert event_bout.event_type == event_type, f'Event types didn´t match! Expected {event_type} but found {event_bout.event_type}.'\n",
    "            behavior_df.iloc[event_bout.start_idx : event_bout.end_idx + 1, -3] = True\n",
    "            behavior_df.iloc[event_bout.start_idx : event_bout.end_idx + 1, -2] = event_bout.id\n",
    "            behavior_df.iloc[event_bout.start_idx : event_bout.end_idx + 1, -1] = event_bout.duration\n",
    "    return behavior_df"
   ]
  },
  {
   "cell_type": "code",
   "execution_count": null,
   "metadata": {},
   "outputs": [],
   "source": [
    "#| export\n",
    "\n",
    "def get_gait_events(all_bodyparts: Dict, fps: int, gait_min_rolling_speed: float, gait_min_duration: float) -> List[EventBout]:\n",
    "    idxs_with_sufficient_speed = np.where(all_bodyparts['CenterOfGravity'].df['rolling_speed_cm_per_s'].values >= gait_min_rolling_speed)[0]\n",
    "    gait_interval_border_idxs = twoD.utils.get_interval_border_idxs(all_matching_idxs = idxs_with_sufficient_speed,\n",
    "                                                        framerate = 1/fps,\n",
    "                                                        min_interval_duration = gait_min_duration)\n",
    "    gait_events = create_event_objects(interval_border_idxs = gait_interval_border_idxs, fps = fps, event_type = 'gait_bout')\n",
    "    return gait_events"
   ]
  },
  {
   "cell_type": "code",
   "execution_count": null,
   "metadata": {},
   "outputs": [],
   "source": [
    "#| export\n",
    "\n",
    "def get_gait_disruption_events(behavior_df: pd.DataFrame, fps: int, gait_events: List[EventBout], gait_disruption_max_time_to_immobility: float) -> List[EventBout]:\n",
    "    n_frames_max_distance = int(gait_disruption_max_time_to_immobility * fps)\n",
    "    gait_disruption_interval_border_idxs = []\n",
    "    for gait_bout in gait_events:\n",
    "        end_idx = gait_bout.end_idx\n",
    "        unique_immobility_bout_values = behavior_df.loc[end_idx : end_idx + n_frames_max_distance + 1, 'immobility_bout'].unique()\n",
    "        if True in unique_immobility_bout_values:\n",
    "            closest_immobility_bout_id = behavior_df.loc[end_idx : end_idx + n_frames_max_distance + 1, 'immobility_bout_id'].dropna().unique().min()\n",
    "            immobility_interval_border_idxs = get_interval_border_idxs_from_event_type_and_id(behavior_df = behavior_df,\n",
    "                                                                                              event_type = 'immobility_bout',\n",
    "                                                                                              event_id = closest_immobility_bout_id)\n",
    "            gait_disruption_interval_border_idxs.append(immobility_interval_border_idxs)\n",
    "    gait_disruption_events = create_event_objects(interval_border_idxs = gait_disruption_interval_border_idxs, fps = fps, event_type = 'gait_disruption_bout')\n",
    "    return gait_disruption_events"
   ]
  },
  {
   "cell_type": "code",
   "execution_count": null,
   "metadata": {},
   "outputs": [],
   "source": [
    "#| export\n",
    "\n",
    "def get_interval_border_idxs_from_event_type_and_id(behavior_df: pd.DataFrame, event_type: str, event_id: int) -> Tuple[int, int]:\n",
    "    interval_idxs = behavior_df.loc[behavior_df[f'{event_type}_id'] == event_id].index.values\n",
    "    return interval_idxs[0], interval_idxs[-1]"
   ]
  },
  {
   "cell_type": "code",
   "execution_count": null,
   "metadata": {},
   "outputs": [],
   "source": [
    "#| hide\n",
    "import nbdev; nbdev.nbdev_export()"
   ]
  }
 ],
 "metadata": {
  "kernelspec": {
   "display_name": "Python 3 (ipykernel)",
   "language": "python",
   "name": "python3"
  }
 },
 "nbformat": 4,
 "nbformat_minor": 4
}
