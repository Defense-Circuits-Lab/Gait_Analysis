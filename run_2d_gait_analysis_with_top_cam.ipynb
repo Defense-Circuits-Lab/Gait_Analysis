{
 "cells": [
  {
   "cell_type": "code",
   "execution_count": null,
   "id": "f543bb2d-ee48-4181-9bdd-9b6ce29df217",
   "metadata": {},
   "outputs": [],
   "source": [
    "from gait3d.gaitanalysis_with_top_cam import RecordingTop\n",
    "\n",
    "from pathlib import Path\n",
    "import matplotlib.pyplot as plt"
   ]
  },
  {
   "cell_type": "code",
   "execution_count": null,
   "id": "6c3ccfc9-2cdb-4a59-81ca-2b73f8d1e0e5",
   "metadata": {},
   "outputs": [],
   "source": [
    "input_dir = Path('/mnt/c/Users/dsege/Downloads/DLC_data/DLC_data/')\n",
    "week_id = 1\n",
    "verbose = True\n",
    "show_plots = True\n",
    "out_dir_path = Path('/mnt/c/Users/dsege/Downloads/DLC_data/analyzed_files/')"
   ]
  },
  {
   "cell_type": "code",
   "execution_count": null,
   "id": "bfed30e9-4455-4331-bfb4-8772654cf98f",
   "metadata": {},
   "outputs": [],
   "source": [
    "files = [file for file in input_dir.iterdir() if file.name.endswith('filtered.csv')] # change to not end with filtered!\n",
    "for file in files:\n",
    "    recording = RecordingTop(filepath = Path(file), week_id = week_id)\n",
    "    recording.preprocess()\n",
    "    if recording.logs['coverage_critical_markers'] >= recording.logs['coverage_threshold']: \n",
    "        recording.run_behavioral_analyses()\n",
    "        recording.export_results(out_dir_path = out_dir_path)\n",
    "        if verbose:\n",
    "            print(f'Done with analysis of file: {file.name}:')\n",
    "            print(f'... coverage of \"CenterOfGravity\" was at: {round(recording.logs[\"coverage_CenterOfGravity\"]*100, 2)}%')\n",
    "            print(f'... total gait disruption bouts detected: {recording.behavior_df[\"gait_disruption_bout_id\"].unique().shape[0]}')\n",
    "        if show_plots:\n",
    "            fig = plt.figure()\n",
    "            for corner_marker_id in ['MazeCornerClosedRight', 'MazeCornerClosedLeft', 'MazeCornerOpenRight', 'MazeCornerOpenLeft']:\n",
    "                x, y = recording.logs[f'normalized_{corner_marker_id}_coords']\n",
    "                plt.scatter(x, y, label = corner_marker_id)\n",
    "            plt.scatter(recording.bodyparts['CenterOfGravity'].df['x'], recording.bodyparts['CenterOfGravity'].df['y'], alpha = 0.1)\n",
    "            plt.plot([0, 0, 50, 50, 0], [0, 4, 4, 0, 0], c = 'black')\n",
    "            plt.show()\n",
    "    else:\n",
    "        if verbose:\n",
    "            print(f'Insufficient tracking coverage for: {file.name}. Continuing with next.')"
   ]
  }
 ],
 "metadata": {
  "kernelspec": {
   "display_name": "Python 3 (ipykernel)",
   "language": "python",
   "name": "python3"
  }
 },
 "nbformat": 4,
 "nbformat_minor": 5
}
