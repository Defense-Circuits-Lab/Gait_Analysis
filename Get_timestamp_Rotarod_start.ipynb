{
 "cells": [
  {
   "cell_type": "markdown",
   "id": "2e412681",
   "metadata": {},
   "source": [
    "### Download OmniPlex and MAP Offline SDK Bundle from https://plexon.com/software-downloads/#software-downloads-SDKs"
   ]
  },
  {
   "cell_type": "markdown",
   "id": "991c58b2",
   "metadata": {},
   "source": [
    "### In the directory, where you also have bin and pypl2, open this notebook"
   ]
  },
  {
   "cell_type": "code",
   "execution_count": 39,
   "id": "90f02f57",
   "metadata": {},
   "outputs": [],
   "source": [
    "from pypl2 import pl2_info, pl2_events"
   ]
  },
  {
   "cell_type": "code",
   "execution_count": 27,
   "id": "98a53365",
   "metadata": {},
   "outputs": [
    {
     "data": {
      "text/plain": [
       "(event_info(channel=5, name='EVT05', n=1),)"
      ]
     },
     "execution_count": 27,
     "metadata": {},
     "output_type": "execute_result"
    }
   ],
   "source": [
    "pl2_info('061022_Rotarod_test_ON_EVT05_001.pl2')[1]"
   ]
  },
  {
   "cell_type": "code",
   "execution_count": 31,
   "id": "b3a04c1d",
   "metadata": {},
   "outputs": [
    {
     "data": {
      "text/plain": [
       "PL2DigitalEvents(n=1, timestamps=(4.394375,), values=(1,))"
      ]
     },
     "execution_count": 31,
     "metadata": {},
     "output_type": "execute_result"
    }
   ],
   "source": [
    "pl2_events('061022_Rotarod_test_ON_EVT05_001.pl2', 'EVT05')"
   ]
  },
  {
   "cell_type": "code",
   "execution_count": 36,
   "id": "61170471",
   "metadata": {},
   "outputs": [],
   "source": [
    "start_in_s = pl2_events('061022_Rotarod_test_ON_EVT05_001.pl2', 'EVT05')[1][0]"
   ]
  },
  {
   "cell_type": "code",
   "execution_count": 38,
   "id": "bfb65da7",
   "metadata": {},
   "outputs": [
    {
     "data": {
      "text/plain": [
       "4.394375"
      ]
     },
     "execution_count": 38,
     "metadata": {},
     "output_type": "execute_result"
    }
   ],
   "source": [
    "start_in_s"
   ]
  },
  {
   "cell_type": "code",
   "execution_count": null,
   "id": "b871c4e0",
   "metadata": {},
   "outputs": [],
   "source": []
  }
 ],
 "metadata": {
  "kernelspec": {
   "display_name": "Python 3 (ipykernel)",
   "language": "python",
   "name": "python3"
  },
  "language_info": {
   "codemirror_mode": {
    "name": "ipython",
    "version": 3
   },
   "file_extension": ".py",
   "mimetype": "text/x-python",
   "name": "python",
   "nbconvert_exporter": "python",
   "pygments_lexer": "ipython3",
   "version": "3.9.12"
  }
 },
 "nbformat": 4,
 "nbformat_minor": 5
}
